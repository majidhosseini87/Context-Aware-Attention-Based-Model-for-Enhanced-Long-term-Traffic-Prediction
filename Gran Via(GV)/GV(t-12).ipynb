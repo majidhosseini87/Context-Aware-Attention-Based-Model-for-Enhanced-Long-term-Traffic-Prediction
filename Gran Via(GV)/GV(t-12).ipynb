{
 "cells": [
  {
   "cell_type": "markdown",
   "id": "c69cb93b",
   "metadata": {},
   "source": [
    "### Import required libraries"
   ]
  },
  {
   "cell_type": "code",
   "execution_count": 1,
   "id": "0c2d189d-98be-4cd2-8b9e-3f6708ebb27c",
   "metadata": {},
   "outputs": [],
   "source": [
    "import tensorflow as tf\n",
    "\n",
    "# print(\"Num GPUs Available: \", tf.config.list_physical_devices('GPU'))"
   ]
  },
  {
   "cell_type": "code",
   "execution_count": 2,
   "id": "52cf218c",
   "metadata": {},
   "outputs": [
    {
     "name": "stdout",
     "output_type": "stream",
     "text": [
      "Requirement already satisfied: netron in c:\\users\\majid\\anaconda3\\envs\\oldestlearning\\lib\\site-packages (7.7.0)\n"
     ]
    }
   ],
   "source": [
    "import pandas as pd\n",
    "import numpy as np\n",
    "import matplotlib.pyplot as plt \n",
    "from numpy import array\n",
    "from tensorflow.keras.models import Sequential, Model\n",
    "from tensorflow.keras.layers import LSTM, GRU\n",
    "from tensorflow.keras.layers import Bidirectional\n",
    "from tensorflow.keras.layers import Dense, Input\n",
    "from tensorflow.keras.layers import Flatten\n",
    "from tensorflow.keras.layers import TimeDistributed\n",
    "from tensorflow.keras.layers import Dropout, Softmax\n",
    "from tensorflow.keras.layers import Conv1D\n",
    "from tensorflow.keras.layers import MaxPooling1D, AveragePooling1D\n",
    "from sklearn.preprocessing import LabelEncoder\n",
    "from sklearn.preprocessing import MinMaxScaler\n",
    "from numpy import array\n",
    "from sklearn.model_selection import train_test_split\n",
    "from sklearn.metrics import mean_absolute_error as MAE\n",
    "# from sklearn.metrics import root_mean_squared_error as RMSE\n",
    "import random\n",
    "from sklearn.metrics import accuracy_score\n",
    "from sklearn.metrics import confusion_matrix\n",
    "!pip install netron\n",
    "import netron\n",
    "from random import randint"
   ]
  },
  {
   "cell_type": "markdown",
   "id": "6dbc9dff",
   "metadata": {},
   "source": [
    "First of all, we define this function which split a given sequence into multiple samples where each sample has a specified number of time steps and a specifieded number of outputs."
   ]
  },
  {
   "cell_type": "code",
   "execution_count": 3,
   "id": "fd8cb216",
   "metadata": {},
   "outputs": [],
   "source": [
    "def split_sequences(sequences, n_steps_in, n_steps_out):\n",
    "\tX, y = list(), list()\n",
    "\tfor i in range(len(sequences)):\n",
    "\t\t# find the end of this pattern\n",
    "\t\tend_ix = i + n_steps_in\n",
    "\t\tout_end_ix = end_ix + n_steps_out-1\n",
    "\t\t# check if we are beyond the dataset\n",
    "\t\tif out_end_ix > len(sequences):\n",
    "\t\t\tbreak\n",
    "\t\t# gather input and output parts of the pattern\n",
    "\t\tseq_x, seq_y = sequences[i:end_ix, :-1], sequences[end_ix-1:out_end_ix, -1]\n",
    "\t\tX.append(seq_x)\n",
    "\t\ty.append(seq_y)\n",
    "\treturn array(X), array(y)"
   ]
  },
  {
   "cell_type": "markdown",
   "id": "d52b9133",
   "metadata": {},
   "source": [
    "## Data preprocessing"
   ]
  },
  {
   "cell_type": "markdown",
   "id": "8795a8c9",
   "metadata": {},
   "source": [
    "We import data and remove the index. "
   ]
  },
  {
   "cell_type": "code",
   "execution_count": 4,
   "id": "16b38763",
   "metadata": {},
   "outputs": [
    {
     "name": "stdout",
     "output_type": "stream",
     "text": [
      "       var1(t-12)  var2(t-12)  var3(t-12)  var4(t-12)  var5(t-12)  var6(t-12)  \\\n",
      "0           107.0         954       513.0        76.0         0.0        36.0   \n",
      "1           137.0         949       718.0        76.0         0.0        36.0   \n",
      "2           163.0         761       800.0        76.0         0.0        36.0   \n",
      "3           189.0         555       711.0        76.0         0.0        36.0   \n",
      "4           115.0         514       576.0        76.0         0.0        36.0   \n",
      "...           ...         ...         ...         ...         ...         ...   \n",
      "31374        55.0         393       279.0       218.0         0.0       170.0   \n",
      "31375        75.0         474       275.0       218.0         0.0       170.0   \n",
      "31376        75.0         555       375.0       218.0         0.0       170.0   \n",
      "31377       104.0         777       446.0       218.0         0.0       170.0   \n",
      "31378       129.0        1060       623.0       218.0         0.0       170.0   \n",
      "\n",
      "       var7(t-12) var8(t-12)  obj  \n",
      "0           116.0    festivo  362  \n",
      "1           116.0    festivo  387  \n",
      "2           116.0    festivo  391  \n",
      "3           116.0    festivo  406  \n",
      "4           116.0    festivo  520  \n",
      "...           ...        ...  ...  \n",
      "31374       265.0     sábado  789  \n",
      "31375       265.0     sábado  884  \n",
      "31376       265.0     sábado  875  \n",
      "31377       265.0     sábado  793  \n",
      "31378       265.0     sábado  716  \n",
      "\n",
      "[31379 rows x 9 columns]\n",
      "0        2018-01-01 13:00:00\n",
      "1        2018-01-01 14:00:00\n",
      "2        2018-01-01 15:00:00\n",
      "3        2018-01-01 16:00:00\n",
      "4        2018-01-01 17:00:00\n",
      "                ...         \n",
      "31374    2021-07-31 19:00:00\n",
      "31375    2021-07-31 20:00:00\n",
      "31376    2021-07-31 21:00:00\n",
      "31377    2021-07-31 22:00:00\n",
      "31378    2021-07-31 23:00:00\n",
      "Name: clave, Length: 31379, dtype: object\n"
     ]
    }
   ],
   "source": [
    "data=pd.read_csv('../../Datasets/GV(t-12).csv')\n",
    "index = data['clave']\n",
    "data=data.drop(['clave'], axis=1)\n",
    "print(data)\n",
    "print(index)"
   ]
  },
  {
   "cell_type": "markdown",
   "id": "38adc20a",
   "metadata": {},
   "source": [
    "We encode the categorical variable 'type of day'."
   ]
  },
  {
   "cell_type": "code",
   "execution_count": 5,
   "id": "0d72d3ae",
   "metadata": {},
   "outputs": [],
   "source": [
    "encoder = LabelEncoder()\n",
    "data[data.columns[7]] = encoder.fit_transform(data[data.columns[7]])\n"
   ]
  },
  {
   "cell_type": "markdown",
   "id": "0a148c96",
   "metadata": {},
   "source": [
    "We add the variable 'hour'. "
   ]
  },
  {
   "cell_type": "code",
   "execution_count": 6,
   "id": "add8bd5d",
   "metadata": {},
   "outputs": [
    {
     "data": {
      "text/html": [
       "<div>\n",
       "<style scoped>\n",
       "    .dataframe tbody tr th:only-of-type {\n",
       "        vertical-align: middle;\n",
       "    }\n",
       "\n",
       "    .dataframe tbody tr th {\n",
       "        vertical-align: top;\n",
       "    }\n",
       "\n",
       "    .dataframe thead th {\n",
       "        text-align: right;\n",
       "    }\n",
       "</style>\n",
       "<table border=\"1\" class=\"dataframe\">\n",
       "  <thead>\n",
       "    <tr style=\"text-align: right;\">\n",
       "      <th></th>\n",
       "      <th>var1(t-12)</th>\n",
       "      <th>var2(t-12)</th>\n",
       "      <th>var3(t-12)</th>\n",
       "      <th>var4(t-12)</th>\n",
       "      <th>var5(t-12)</th>\n",
       "      <th>var6(t-12)</th>\n",
       "      <th>var7(t-12)</th>\n",
       "      <th>var8(t-12)</th>\n",
       "      <th>hour</th>\n",
       "      <th>obj</th>\n",
       "    </tr>\n",
       "  </thead>\n",
       "  <tbody>\n",
       "    <tr>\n",
       "      <th>0</th>\n",
       "      <td>107.0</td>\n",
       "      <td>954</td>\n",
       "      <td>513.0</td>\n",
       "      <td>76.0</td>\n",
       "      <td>0.0</td>\n",
       "      <td>36.0</td>\n",
       "      <td>116.0</td>\n",
       "      <td>1</td>\n",
       "      <td>13</td>\n",
       "      <td>362</td>\n",
       "    </tr>\n",
       "    <tr>\n",
       "      <th>1</th>\n",
       "      <td>137.0</td>\n",
       "      <td>949</td>\n",
       "      <td>718.0</td>\n",
       "      <td>76.0</td>\n",
       "      <td>0.0</td>\n",
       "      <td>36.0</td>\n",
       "      <td>116.0</td>\n",
       "      <td>1</td>\n",
       "      <td>14</td>\n",
       "      <td>387</td>\n",
       "    </tr>\n",
       "    <tr>\n",
       "      <th>2</th>\n",
       "      <td>163.0</td>\n",
       "      <td>761</td>\n",
       "      <td>800.0</td>\n",
       "      <td>76.0</td>\n",
       "      <td>0.0</td>\n",
       "      <td>36.0</td>\n",
       "      <td>116.0</td>\n",
       "      <td>1</td>\n",
       "      <td>15</td>\n",
       "      <td>391</td>\n",
       "    </tr>\n",
       "    <tr>\n",
       "      <th>3</th>\n",
       "      <td>189.0</td>\n",
       "      <td>555</td>\n",
       "      <td>711.0</td>\n",
       "      <td>76.0</td>\n",
       "      <td>0.0</td>\n",
       "      <td>36.0</td>\n",
       "      <td>116.0</td>\n",
       "      <td>1</td>\n",
       "      <td>16</td>\n",
       "      <td>406</td>\n",
       "    </tr>\n",
       "    <tr>\n",
       "      <th>4</th>\n",
       "      <td>115.0</td>\n",
       "      <td>514</td>\n",
       "      <td>576.0</td>\n",
       "      <td>76.0</td>\n",
       "      <td>0.0</td>\n",
       "      <td>36.0</td>\n",
       "      <td>116.0</td>\n",
       "      <td>1</td>\n",
       "      <td>17</td>\n",
       "      <td>520</td>\n",
       "    </tr>\n",
       "    <tr>\n",
       "      <th>...</th>\n",
       "      <td>...</td>\n",
       "      <td>...</td>\n",
       "      <td>...</td>\n",
       "      <td>...</td>\n",
       "      <td>...</td>\n",
       "      <td>...</td>\n",
       "      <td>...</td>\n",
       "      <td>...</td>\n",
       "      <td>...</td>\n",
       "      <td>...</td>\n",
       "    </tr>\n",
       "    <tr>\n",
       "      <th>31374</th>\n",
       "      <td>55.0</td>\n",
       "      <td>393</td>\n",
       "      <td>279.0</td>\n",
       "      <td>218.0</td>\n",
       "      <td>0.0</td>\n",
       "      <td>170.0</td>\n",
       "      <td>265.0</td>\n",
       "      <td>3</td>\n",
       "      <td>19</td>\n",
       "      <td>789</td>\n",
       "    </tr>\n",
       "    <tr>\n",
       "      <th>31375</th>\n",
       "      <td>75.0</td>\n",
       "      <td>474</td>\n",
       "      <td>275.0</td>\n",
       "      <td>218.0</td>\n",
       "      <td>0.0</td>\n",
       "      <td>170.0</td>\n",
       "      <td>265.0</td>\n",
       "      <td>3</td>\n",
       "      <td>20</td>\n",
       "      <td>884</td>\n",
       "    </tr>\n",
       "    <tr>\n",
       "      <th>31376</th>\n",
       "      <td>75.0</td>\n",
       "      <td>555</td>\n",
       "      <td>375.0</td>\n",
       "      <td>218.0</td>\n",
       "      <td>0.0</td>\n",
       "      <td>170.0</td>\n",
       "      <td>265.0</td>\n",
       "      <td>3</td>\n",
       "      <td>21</td>\n",
       "      <td>875</td>\n",
       "    </tr>\n",
       "    <tr>\n",
       "      <th>31377</th>\n",
       "      <td>104.0</td>\n",
       "      <td>777</td>\n",
       "      <td>446.0</td>\n",
       "      <td>218.0</td>\n",
       "      <td>0.0</td>\n",
       "      <td>170.0</td>\n",
       "      <td>265.0</td>\n",
       "      <td>3</td>\n",
       "      <td>22</td>\n",
       "      <td>793</td>\n",
       "    </tr>\n",
       "    <tr>\n",
       "      <th>31378</th>\n",
       "      <td>129.0</td>\n",
       "      <td>1060</td>\n",
       "      <td>623.0</td>\n",
       "      <td>218.0</td>\n",
       "      <td>0.0</td>\n",
       "      <td>170.0</td>\n",
       "      <td>265.0</td>\n",
       "      <td>3</td>\n",
       "      <td>23</td>\n",
       "      <td>716</td>\n",
       "    </tr>\n",
       "  </tbody>\n",
       "</table>\n",
       "<p>31379 rows × 10 columns</p>\n",
       "</div>"
      ],
      "text/plain": [
       "       var1(t-12)  var2(t-12)  var3(t-12)  var4(t-12)  var5(t-12)  var6(t-12)  \\\n",
       "0           107.0         954       513.0        76.0         0.0        36.0   \n",
       "1           137.0         949       718.0        76.0         0.0        36.0   \n",
       "2           163.0         761       800.0        76.0         0.0        36.0   \n",
       "3           189.0         555       711.0        76.0         0.0        36.0   \n",
       "4           115.0         514       576.0        76.0         0.0        36.0   \n",
       "...           ...         ...         ...         ...         ...         ...   \n",
       "31374        55.0         393       279.0       218.0         0.0       170.0   \n",
       "31375        75.0         474       275.0       218.0         0.0       170.0   \n",
       "31376        75.0         555       375.0       218.0         0.0       170.0   \n",
       "31377       104.0         777       446.0       218.0         0.0       170.0   \n",
       "31378       129.0        1060       623.0       218.0         0.0       170.0   \n",
       "\n",
       "       var7(t-12)  var8(t-12)  hour  obj  \n",
       "0           116.0           1    13  362  \n",
       "1           116.0           1    14  387  \n",
       "2           116.0           1    15  391  \n",
       "3           116.0           1    16  406  \n",
       "4           116.0           1    17  520  \n",
       "...           ...         ...   ...  ...  \n",
       "31374       265.0           3    19  789  \n",
       "31375       265.0           3    20  884  \n",
       "31376       265.0           3    21  875  \n",
       "31377       265.0           3    22  793  \n",
       "31378       265.0           3    23  716  \n",
       "\n",
       "[31379 rows x 10 columns]"
      ]
     },
     "execution_count": 6,
     "metadata": {},
     "output_type": "execute_result"
    }
   ],
   "source": [
    "a1=list(range(13,24))\n",
    "a2=list(range(0,24))*1306\n",
    "a3=list(range(0,24))\n",
    "a4=a1+a2+a3\n",
    "data['hour'] = a4\n",
    "data = data.reindex(columns=[data.columns[0],data.columns[1],data.columns[2],data.columns[3],data.columns[4],\n",
    "                             data.columns[5],data.columns[6],data.columns[7],'hour','obj'])\n",
    "data"
   ]
  },
  {
   "cell_type": "markdown",
   "id": "954e93b9",
   "metadata": {},
   "source": [
    "We normalise all input variables. "
   ]
  },
  {
   "cell_type": "code",
   "execution_count": 7,
   "id": "65f8df7e",
   "metadata": {},
   "outputs": [],
   "source": [
    "scaler = MinMaxScaler(feature_range=(0, 1))\n",
    "data[data.columns.difference(['obj'])] = scaler.fit_transform(data[data.columns.difference(['obj'])])"
   ]
  },
  {
   "cell_type": "markdown",
   "id": "9363230c",
   "metadata": {},
   "source": [
    "We apply the previously defined function. We split the original sequence data. Each sample has six time steps as predictor variables (from timestep t-15 to timestep t-12) and one target variable (timestep t). "
   ]
  },
  {
   "cell_type": "code",
   "execution_count": 8,
   "id": "6f6e2681",
   "metadata": {},
   "outputs": [
    {
     "name": "stdout",
     "output_type": "stream",
     "text": [
      "(31376, 4, 9)\n",
      "(31376, 1)\n"
     ]
    }
   ],
   "source": [
    "data1=data.values\n",
    "X, y = split_sequences(data1,4,1)\n",
    "print(X.shape)\n",
    "print(y.shape)"
   ]
  },
  {
   "cell_type": "markdown",
   "id": "c5bae631",
   "metadata": {},
   "source": [
    "## Data analyse"
   ]
  },
  {
   "cell_type": "markdown",
   "id": "1bd47ac5",
   "metadata": {},
   "source": [
    "We make a simple statistical analysis of the target variable. "
   ]
  },
  {
   "cell_type": "code",
   "execution_count": 9,
   "id": "13c6a1fb",
   "metadata": {},
   "outputs": [
    {
     "data": {
      "text/plain": [
       "count    31379.000000\n",
       "mean       637.722776\n",
       "std        390.158392\n",
       "min          0.000000\n",
       "25%        296.000000\n",
       "50%        721.000000\n",
       "75%        929.000000\n",
       "max       2975.000000\n",
       "Name: obj, dtype: float64"
      ]
     },
     "execution_count": 9,
     "metadata": {},
     "output_type": "execute_result"
    }
   ],
   "source": [
    "dataplot = data\n",
    "dataplot['obj'].describe()"
   ]
  },
  {
   "cell_type": "markdown",
   "id": "caff81d0",
   "metadata": {},
   "source": [
    "We plot linechart of the evolution of traffic flow in the first week of 2018 (first available data). "
   ]
  },
  {
   "cell_type": "code",
   "execution_count": 10,
   "id": "778710c6",
   "metadata": {},
   "outputs": [
    {
     "data": {
      "image/png": "[encoded data removed]",
      "text/plain": [
       "<Figure size 640x480 with 1 Axes>"
      ]
     },
     "metadata": {},
     "output_type": "display_data"
    }
   ],
   "source": [
    "plt.plot(list(dataplot['obj'][0:24*7]),\n",
    "        label=index, linewidth=3)\n",
    "plt.title('First week of 2018. Arturo Soria Station')\n",
    "plt.ylabel('Hourly traffic flow')\n",
    "plt.show()"
   ]
  },
  {
   "cell_type": "markdown",
   "id": "4458ab4e",
   "metadata": {},
   "source": [
    "## Model development. "
   ]
  },
  {
   "cell_type": "markdown",
   "id": "08723d86",
   "metadata": {},
   "source": [
    "We reshape our data to have the structure required by the neural network. "
   ]
  },
  {
   "cell_type": "code",
   "execution_count": 11,
   "id": "420d1847",
   "metadata": {},
   "outputs": [],
   "source": [
    "X = X.reshape((X.shape[0], X.shape[1], X.shape[2])).astype('float32')\n"
   ]
  },
  {
   "cell_type": "markdown",
   "id": "ad0849d0",
   "metadata": {},
   "source": [
    "We divide randomly our data in the train and test sets. "
   ]
  },
  {
   "cell_type": "code",
   "execution_count": 12,
   "id": "eb984b95",
   "metadata": {},
   "outputs": [],
   "source": [
    "X_train, X_test, y_train, y_test = train_test_split(\n",
    "X, y, test_size=0.33, random_state=42)"
   ]
  },
  {
   "cell_type": "markdown",
   "id": "95522ffc",
   "metadata": {},
   "source": [
    "We develop our model by using keras and tensorflow. First, we apply a convolutional neural network with 256 kernels which is followed by a max pooling. Then, we flatten data. \n",
    "\n",
    "Subsequently, we use the flatten data as input in the Bidirectional long short term memory network, with 500 units. It is followed by a dropout layer and, finally, we apply a dense layer to obtain the required prediction. "
   ]
  },
  {
   "cell_type": "code",
   "execution_count": 13,
   "id": "f0a6e714",
   "metadata": {},
   "outputs": [
    {
     "name": "stdout",
     "output_type": "stream",
     "text": [
      "Model: \"model\"\n",
      "__________________________________________________________________________________________________\n",
      " Layer (type)                   Output Shape         Param #     Connected to                     \n",
      "==================================================================================================\n",
      " input_1 (InputLayer)           [(None, 4, 9, 1)]    0           []                               \n",
      "                                                                                                  \n",
      " time_distributed (TimeDistribu  (None, 4, 8, 256)   768         ['input_1[0][0]']                \n",
      " ted)                                                                                             \n",
      "                                                                                                  \n",
      " time_distributed_1 (TimeDistri  (None, 4, 4, 256)   0           ['time_distributed[0][0]']       \n",
      " buted)                                                                                           \n",
      "                                                                                                  \n",
      " time_distributed_2 (TimeDistri  (None, 4, 1024)     0           ['time_distributed_1[0][0]']     \n",
      " buted)                                                                                           \n",
      "                                                                                                  \n",
      " gru (GRU)                      (None, 4, 500)       2289000     ['time_distributed_2[0][0]']     \n",
      "                                                                                                  \n",
      " dense (Dense)                  (None, 4, 1000)      501000      ['gru[0][0]']                    \n",
      "                                                                                                  \n",
      " dense_1 (Dense)                (None, 4, 1000)      1001000     ['dense[0][0]']                  \n",
      "                                                                                                  \n",
      " softmax (Softmax)              (None, 4, 1000)      0           ['dense_1[0][0]']                \n",
      "                                                                                                  \n",
      " tf.math.multiply (TFOpLambda)  (None, 4, 1000)      0           ['dense_1[0][0]',                \n",
      "                                                                  'softmax[0][0]']                \n",
      "                                                                                                  \n",
      " average_pooling1d (AveragePool  (None, 1, 1000)     0           ['tf.math.multiply[0][0]']       \n",
      " ing1D)                                                                                           \n",
      "                                                                                                  \n",
      " reshape (Reshape)              (None, 1000)         0           ['average_pooling1d[0][0]']      \n",
      "                                                                                                  \n",
      " dense_2 (Dense)                (None, 1)            1001        ['reshape[0][0]']                \n",
      "                                                                                                  \n",
      "==================================================================================================\n",
      "Total params: 3,792,769\n",
      "Trainable params: 3,792,769\n",
      "Non-trainable params: 0\n",
      "__________________________________________________________________________________________________\n"
     ]
    }
   ],
   "source": [
    "# Define your input shape\n",
    "input_shape = (4, 9, 1)\n",
    "\n",
    "# Create the input layer\n",
    "input_layer = Input(shape=input_shape)\n",
    "\n",
    "# Apply Conv1D with soft attention\n",
    "conv_layer = TimeDistributed(Conv1D(filters=256, kernel_size=2, activation='relu'))(input_layer)\n",
    "\n",
    "# Apply MaxPooling1D\n",
    "pooling_layer = TimeDistributed(MaxPooling1D(pool_size=2, padding='same'))(conv_layer)\n",
    "\n",
    "# Flatten the output\n",
    "flatten_layer = TimeDistributed(Flatten())(pooling_layer)\n",
    "\n",
    "# Bidirectional GRU layer\n",
    "gru_layer = GRU(500, activation='relu', return_sequences=True)(flatten_layer)\n",
    "\n",
    "# dropout_layer = Dropout(0.5)(gru_layer)\n",
    "# Dense layers\n",
    "denselayer1 = Dense(1000)(gru_layer)\n",
    "denselayer2 = Dense(1000)(denselayer1)\n",
    "\n",
    "# Apply soft attention mechanism\n",
    "attention_weights = Softmax(axis=1)(denselayer2)\n",
    "attended_output = denselayer2 * attention_weights\n",
    "\n",
    "# Apply AveragePooling1D\n",
    "pooled_output = AveragePooling1D(pool_size=4)(attended_output)\n",
    "\n",
    "# Reshape the pooled tensor to (None, 1000)\n",
    "reshaped_output = tf.keras.layers.Reshape(target_shape=(1000,))(pooled_output)\n",
    "\n",
    "# Output layer\n",
    "output_layer = Dense(1)(reshaped_output)\n",
    "\n",
    "# Compile the model\n",
    "model_with_attention = tf.keras.Model(inputs=input_layer, outputs=output_layer)\n",
    "model_with_attention.compile(optimizer='adam', loss='mae')\n",
    "\n",
    "# Summary of the modified model\n",
    "model_with_attention.summary()\n",
    "\n"
   ]
  },
  {
   "cell_type": "code",
   "execution_count": 14,
   "id": "bd867a10-8bc8-466d-9be2-e34a7de2f5cd",
   "metadata": {},
   "outputs": [],
   "source": [
    "# model3.summary()"
   ]
  },
  {
   "cell_type": "code",
   "execution_count": 15,
   "id": "7c4c19ab-196e-4345-a7fb-8fe6d1431c70",
   "metadata": {},
   "outputs": [
    {
     "name": "stdout",
     "output_type": "stream",
     "text": [
      "(21021, 1)\n"
     ]
    }
   ],
   "source": [
    "print(y_train.shape)"
   ]
  },
  {
   "cell_type": "markdown",
   "id": "e07e6b25",
   "metadata": {},
   "source": [
    "We provide a graphical representation of the model by using Netron. Reader can deeply analyse each layer of the model. "
   ]
  },
  {
   "cell_type": "code",
   "execution_count": 16,
   "id": "f999d515",
   "metadata": {
    "scrolled": true
   },
   "outputs": [],
   "source": [
    "\n",
    "# model_with_attention.save('model_with_attention.keras')\n",
    "# netron.start('model_with_attention.h5')"
   ]
  },
  {
   "cell_type": "markdown",
   "id": "6ce5e668",
   "metadata": {},
   "source": [
    "We train the model."
   ]
  },
  {
   "cell_type": "code",
   "execution_count": 17,
   "id": "84c63f1c",
   "metadata": {
    "scrolled": false
   },
   "outputs": [
    {
     "name": "stdout",
     "output_type": "stream",
     "text": [
      "Epoch 1/100\n",
      "657/657 [==============================] - 18s 27ms/step - loss: 283.5471 - val_loss: 244.3537\n",
      "Epoch 2/100\n",
      "657/657 [==============================] - 18s 27ms/step - loss: 213.1575 - val_loss: 201.4615\n",
      "Epoch 3/100\n",
      "657/657 [==============================] - 17s 27ms/step - loss: 199.5844 - val_loss: 189.5608\n",
      "Epoch 4/100\n",
      "657/657 [==============================] - 18s 27ms/step - loss: 191.4943 - val_loss: 188.0507\n",
      "Epoch 5/100\n",
      "657/657 [==============================] - 18s 27ms/step - loss: 183.7542 - val_loss: 182.1438\n",
      "Epoch 6/100\n",
      "657/657 [==============================] - 18s 27ms/step - loss: 176.1642 - val_loss: 170.9524\n",
      "Epoch 7/100\n",
      "657/657 [==============================] - 17s 27ms/step - loss: 170.7719 - val_loss: 168.3680\n",
      "Epoch 8/100\n",
      "657/657 [==============================] - 18s 27ms/step - loss: 165.0843 - val_loss: 164.5309\n",
      "Epoch 9/100\n",
      "657/657 [==============================] - 18s 27ms/step - loss: 162.4001 - val_loss: 162.2611\n",
      "Epoch 10/100\n",
      "657/657 [==============================] - 18s 27ms/step - loss: 158.6515 - val_loss: 160.2309\n",
      "Epoch 11/100\n",
      "657/657 [==============================] - 18s 27ms/step - loss: 155.1317 - val_loss: 155.7234\n",
      "Epoch 12/100\n",
      "657/657 [==============================] - 18s 27ms/step - loss: 152.3561 - val_loss: 147.6612\n",
      "Epoch 13/100\n",
      "657/657 [==============================] - 18s 27ms/step - loss: 150.2648 - val_loss: 149.7638\n",
      "Epoch 14/100\n",
      "657/657 [==============================] - 18s 27ms/step - loss: 147.1101 - val_loss: 153.8008\n",
      "Epoch 15/100\n",
      "657/657 [==============================] - 18s 27ms/step - loss: 146.3249 - val_loss: 158.9976\n",
      "Epoch 16/100\n",
      "657/657 [==============================] - 18s 27ms/step - loss: 143.9138 - val_loss: 148.3301\n",
      "Epoch 17/100\n",
      "657/657 [==============================] - 18s 27ms/step - loss: 140.7283 - val_loss: 136.3418\n",
      "Epoch 18/100\n",
      "657/657 [==============================] - 18s 27ms/step - loss: 140.5358 - val_loss: 135.3006\n",
      "Epoch 19/100\n",
      "657/657 [==============================] - 18s 27ms/step - loss: 137.2081 - val_loss: 144.6732\n",
      "Epoch 20/100\n",
      "657/657 [==============================] - 18s 27ms/step - loss: 135.3857 - val_loss: 133.8796\n",
      "Epoch 21/100\n",
      "657/657 [==============================] - 18s 27ms/step - loss: 133.6892 - val_loss: 135.4530\n",
      "Epoch 22/100\n",
      "657/657 [==============================] - 18s 27ms/step - loss: 130.1051 - val_loss: 135.5116\n",
      "Epoch 23/100\n",
      "657/657 [==============================] - 18s 27ms/step - loss: 129.5237 - val_loss: 138.1261\n",
      "Epoch 24/100\n",
      "657/657 [==============================] - 18s 27ms/step - loss: 128.5762 - val_loss: 129.3582\n",
      "Epoch 25/100\n",
      "657/657 [==============================] - 18s 27ms/step - loss: 127.5214 - val_loss: 126.9292\n",
      "Epoch 26/100\n",
      "657/657 [==============================] - 18s 27ms/step - loss: 126.4137 - val_loss: 127.9778\n",
      "Epoch 27/100\n",
      "657/657 [==============================] - 18s 27ms/step - loss: 122.8093 - val_loss: 126.5277\n",
      "Epoch 28/100\n",
      "657/657 [==============================] - 18s 27ms/step - loss: 123.5981 - val_loss: 130.8910\n",
      "Epoch 29/100\n",
      "657/657 [==============================] - 18s 27ms/step - loss: 121.0486 - val_loss: 122.2249\n",
      "Epoch 30/100\n",
      "657/657 [==============================] - 18s 27ms/step - loss: 119.3939 - val_loss: 128.8538\n",
      "Epoch 31/100\n",
      "657/657 [==============================] - 18s 27ms/step - loss: 117.7675 - val_loss: 129.0569\n",
      "Epoch 32/100\n",
      "657/657 [==============================] - 18s 27ms/step - loss: 118.3841 - val_loss: 126.6828\n",
      "Epoch 33/100\n",
      "657/657 [==============================] - 18s 27ms/step - loss: 115.4756 - val_loss: 120.9588\n",
      "Epoch 34/100\n",
      "657/657 [==============================] - 18s 27ms/step - loss: 114.4452 - val_loss: 122.7869\n",
      "Epoch 35/100\n",
      "657/657 [==============================] - 18s 27ms/step - loss: 113.9840 - val_loss: 125.0328\n",
      "Epoch 36/100\n",
      "657/657 [==============================] - 18s 27ms/step - loss: 113.1653 - val_loss: 125.1857\n",
      "Epoch 37/100\n",
      "657/657 [==============================] - 18s 27ms/step - loss: 111.4518 - val_loss: 118.1400\n",
      "Epoch 38/100\n",
      "657/657 [==============================] - 18s 27ms/step - loss: 110.0602 - val_loss: 119.6277\n",
      "Epoch 39/100\n",
      "657/657 [==============================] - 18s 27ms/step - loss: 109.6160 - val_loss: 120.0169\n",
      "Epoch 40/100\n",
      "657/657 [==============================] - 18s 27ms/step - loss: 108.4612 - val_loss: 115.9951\n",
      "Epoch 41/100\n",
      "657/657 [==============================] - 18s 27ms/step - loss: 107.7007 - val_loss: 117.3069\n",
      "Epoch 42/100\n",
      "657/657 [==============================] - 18s 27ms/step - loss: 107.2124 - val_loss: 118.4830\n",
      "Epoch 43/100\n",
      "657/657 [==============================] - 18s 27ms/step - loss: 106.0173 - val_loss: 116.6126\n",
      "Epoch 44/100\n",
      "657/657 [==============================] - 18s 28ms/step - loss: 105.1935 - val_loss: 118.1334\n",
      "Epoch 45/100\n",
      "657/657 [==============================] - 18s 27ms/step - loss: 104.6040 - val_loss: 117.5411\n",
      "Epoch 46/100\n",
      "657/657 [==============================] - 18s 27ms/step - loss: 103.5443 - val_loss: 117.9269\n",
      "Epoch 47/100\n",
      "657/657 [==============================] - 18s 27ms/step - loss: 103.4514 - val_loss: 112.5152\n",
      "Epoch 48/100\n",
      "657/657 [==============================] - 18s 27ms/step - loss: 100.8868 - val_loss: 113.9081\n",
      "Epoch 49/100\n",
      "657/657 [==============================] - 18s 28ms/step - loss: 100.8862 - val_loss: 112.7757\n",
      "Epoch 50/100\n",
      "657/657 [==============================] - 18s 27ms/step - loss: 100.7109 - val_loss: 116.1026\n",
      "Epoch 51/100\n",
      "657/657 [==============================] - 18s 27ms/step - loss: 98.9568 - val_loss: 116.1422\n",
      "Epoch 52/100\n",
      "657/657 [==============================] - 18s 27ms/step - loss: 99.5321 - val_loss: 115.4060\n",
      "Epoch 53/100\n",
      "657/657 [==============================] - 18s 27ms/step - loss: 97.9557 - val_loss: 113.5061\n",
      "Epoch 54/100\n",
      "657/657 [==============================] - 18s 27ms/step - loss: 96.5146 - val_loss: 114.6776\n",
      "Epoch 55/100\n",
      "657/657 [==============================] - 18s 27ms/step - loss: 96.9549 - val_loss: 114.7855\n",
      "Epoch 56/100\n",
      "657/657 [==============================] - 18s 27ms/step - loss: 95.3836 - val_loss: 112.8348\n",
      "Epoch 57/100\n",
      "657/657 [==============================] - 18s 27ms/step - loss: 94.6364 - val_loss: 120.3077\n",
      "Epoch 58/100\n",
      "657/657 [==============================] - 17s 27ms/step - loss: 93.2400 - val_loss: 111.0990\n",
      "Epoch 59/100\n",
      "657/657 [==============================] - 18s 27ms/step - loss: 93.8466 - val_loss: 110.3895\n",
      "Epoch 60/100\n",
      "657/657 [==============================] - 18s 27ms/step - loss: 93.2966 - val_loss: 114.0647\n",
      "Epoch 61/100\n",
      "657/657 [==============================] - 18s 27ms/step - loss: 91.4200 - val_loss: 110.4742\n",
      "Epoch 62/100\n",
      "657/657 [==============================] - 18s 27ms/step - loss: 90.7999 - val_loss: 113.7950\n",
      "Epoch 63/100\n",
      "657/657 [==============================] - 18s 27ms/step - loss: 90.8874 - val_loss: 109.5099\n",
      "Epoch 64/100\n",
      "657/657 [==============================] - 18s 27ms/step - loss: 89.8258 - val_loss: 112.4070\n",
      "Epoch 65/100\n",
      "657/657 [==============================] - 18s 27ms/step - loss: 88.7965 - val_loss: 110.1152\n",
      "Epoch 66/100\n",
      "657/657 [==============================] - 18s 27ms/step - loss: 89.1430 - val_loss: 111.8642\n",
      "Epoch 67/100\n",
      "657/657 [==============================] - 18s 27ms/step - loss: 87.6572 - val_loss: 110.2943\n",
      "Epoch 68/100\n",
      "657/657 [==============================] - 17s 27ms/step - loss: 87.6549 - val_loss: 108.9824\n",
      "Epoch 69/100\n",
      "657/657 [==============================] - 18s 27ms/step - loss: 87.2966 - val_loss: 111.5704\n",
      "Epoch 70/100\n",
      "657/657 [==============================] - 18s 27ms/step - loss: 85.9412 - val_loss: 109.3711\n",
      "Epoch 71/100\n",
      "657/657 [==============================] - 18s 27ms/step - loss: 85.6493 - val_loss: 108.4152\n",
      "Epoch 72/100\n",
      "657/657 [==============================] - 18s 27ms/step - loss: 84.2644 - val_loss: 107.5131\n",
      "Epoch 73/100\n",
      "657/657 [==============================] - 18s 27ms/step - loss: 84.6448 - val_loss: 106.9035\n",
      "Epoch 74/100\n",
      "657/657 [==============================] - 17s 27ms/step - loss: 83.7803 - val_loss: 108.6251\n",
      "Epoch 75/100\n",
      "657/657 [==============================] - 18s 27ms/step - loss: 83.1000 - val_loss: 108.0889\n",
      "Epoch 76/100\n",
      "657/657 [==============================] - 17s 27ms/step - loss: 82.0789 - val_loss: 109.4162\n",
      "Epoch 77/100\n"
     ]
    },
    {
     "name": "stdout",
     "output_type": "stream",
     "text": [
      "657/657 [==============================] - 18s 27ms/step - loss: 81.7620 - val_loss: 106.9605\n",
      "Epoch 78/100\n",
      "657/657 [==============================] - 17s 27ms/step - loss: 80.7810 - val_loss: 106.2233\n",
      "Epoch 79/100\n",
      "657/657 [==============================] - 17s 27ms/step - loss: 81.3463 - val_loss: 106.2582\n",
      "Epoch 80/100\n",
      "657/657 [==============================] - 17s 27ms/step - loss: 79.8067 - val_loss: 106.3905\n",
      "Epoch 81/100\n",
      "657/657 [==============================] - 18s 27ms/step - loss: 79.1137 - val_loss: 107.1522\n",
      "Epoch 82/100\n",
      "657/657 [==============================] - 18s 27ms/step - loss: 79.5173 - val_loss: 108.8947\n",
      "Epoch 83/100\n",
      "657/657 [==============================] - 18s 27ms/step - loss: 78.5760 - val_loss: 108.4897\n",
      "Epoch 84/100\n",
      "657/657 [==============================] - 18s 27ms/step - loss: 77.8165 - val_loss: 105.8133\n",
      "Epoch 85/100\n",
      "657/657 [==============================] - 18s 27ms/step - loss: 77.1703 - val_loss: 107.1038\n",
      "Epoch 86/100\n",
      "657/657 [==============================] - 18s 27ms/step - loss: 76.9678 - val_loss: 107.5250\n",
      "Epoch 87/100\n",
      "657/657 [==============================] - 18s 28ms/step - loss: 76.2009 - val_loss: 107.8305\n",
      "Epoch 88/100\n",
      "657/657 [==============================] - 18s 27ms/step - loss: 76.2655 - val_loss: 109.5891\n",
      "Epoch 89/100\n",
      "657/657 [==============================] - 18s 27ms/step - loss: 75.2828 - val_loss: 105.2042\n",
      "Epoch 90/100\n",
      "657/657 [==============================] - 18s 27ms/step - loss: 74.5220 - val_loss: 105.5598\n",
      "Epoch 91/100\n",
      "657/657 [==============================] - 18s 28ms/step - loss: 74.4274 - val_loss: 106.0265\n",
      "Epoch 92/100\n",
      "657/657 [==============================] - 18s 28ms/step - loss: 73.7183 - val_loss: 106.9162\n",
      "Epoch 93/100\n",
      "657/657 [==============================] - 18s 28ms/step - loss: 72.4394 - val_loss: 106.1405\n",
      "Epoch 94/100\n",
      "657/657 [==============================] - 18s 28ms/step - loss: 72.8758 - val_loss: 107.5325\n",
      "Epoch 95/100\n",
      "657/657 [==============================] - 18s 28ms/step - loss: 72.0503 - val_loss: 107.9321\n",
      "Epoch 96/100\n",
      "657/657 [==============================] - 18s 27ms/step - loss: 72.0064 - val_loss: 105.1047\n",
      "Epoch 97/100\n",
      "657/657 [==============================] - 18s 28ms/step - loss: 70.8916 - val_loss: 107.2904\n",
      "Epoch 98/100\n",
      "657/657 [==============================] - 18s 28ms/step - loss: 70.7666 - val_loss: 107.1083\n",
      "Epoch 99/100\n",
      "657/657 [==============================] - 18s 28ms/step - loss: 69.9890 - val_loss: 108.0299\n",
      "Epoch 100/100\n",
      "657/657 [==============================] - 18s 27ms/step - loss: 69.8984 - val_loss: 105.5862\n",
      "Wall time: 29min 32s\n"
     ]
    }
   ],
   "source": [
    "%%time\n",
    "\n",
    "history3=model_with_attention.fit(X_train,y_train,epochs=100,batch_size = 32, shuffle=True,validation_data=(X_test,y_test))"
   ]
  },
  {
   "cell_type": "code",
   "execution_count": 18,
   "id": "abba0b87-9118-4cc6-9653-6de20c9a1872",
   "metadata": {},
   "outputs": [],
   "source": [
    "# import keras\n",
    "# tf.keras.s(model_with_attention, 'model_with_attention_AS2(t-12).keras')\n",
    "model_with_attention.save('model_with_attention_GV(t-12).keras')\n",
    "\n",
    "train_loss_pd = pd.DataFrame(history3.history['loss'])\n",
    "val_loss_pd = pd.DataFrame(history3.history['loss'])\n",
    "train_loss_pd.to_csv('train_loss_GV(t-12)')\n",
    "val_loss_pd.to_csv('val_loss_GV(t-12)')"
   ]
  },
  {
   "cell_type": "code",
   "execution_count": 19,
   "id": "6a350564",
   "metadata": {},
   "outputs": [
    {
     "data": {
      "text/plain": [
       "{'loss': [283.5470886230469,\n",
       "  213.15748596191406,\n",
       "  199.5843963623047,\n",
       "  191.4943084716797,\n",
       "  183.75424194335938,\n",
       "  176.16415405273438,\n",
       "  170.77188110351562,\n",
       "  165.08433532714844,\n",
       "  162.4001007080078,\n",
       "  158.65150451660156,\n",
       "  155.13168334960938,\n",
       "  152.35614013671875,\n",
       "  150.26480102539062,\n",
       "  147.1100616455078,\n",
       "  146.32489013671875,\n",
       "  143.91380310058594,\n",
       "  140.72825622558594,\n",
       "  140.53578186035156,\n",
       "  137.2080841064453,\n",
       "  135.38572692871094,\n",
       "  133.68923950195312,\n",
       "  130.1051483154297,\n",
       "  129.52366638183594,\n",
       "  128.576171875,\n",
       "  127.5213623046875,\n",
       "  126.4137191772461,\n",
       "  122.80933380126953,\n",
       "  123.59806823730469,\n",
       "  121.04859161376953,\n",
       "  119.39388275146484,\n",
       "  117.76750946044922,\n",
       "  118.38412475585938,\n",
       "  115.47561645507812,\n",
       "  114.44517517089844,\n",
       "  113.9840316772461,\n",
       "  113.16529083251953,\n",
       "  111.45181274414062,\n",
       "  110.0601577758789,\n",
       "  109.61600494384766,\n",
       "  108.46119689941406,\n",
       "  107.70071411132812,\n",
       "  107.2123794555664,\n",
       "  106.01728057861328,\n",
       "  105.19351196289062,\n",
       "  104.60404968261719,\n",
       "  103.54430389404297,\n",
       "  103.45137023925781,\n",
       "  100.88684844970703,\n",
       "  100.88618469238281,\n",
       "  100.71092987060547,\n",
       "  98.95683288574219,\n",
       "  99.53208923339844,\n",
       "  97.95574188232422,\n",
       "  96.51461029052734,\n",
       "  96.95491790771484,\n",
       "  95.38362884521484,\n",
       "  94.63643646240234,\n",
       "  93.23999786376953,\n",
       "  93.84662628173828,\n",
       "  93.29659271240234,\n",
       "  91.41998291015625,\n",
       "  90.79991149902344,\n",
       "  90.88735961914062,\n",
       "  89.82579803466797,\n",
       "  88.79653930664062,\n",
       "  89.14298248291016,\n",
       "  87.6572036743164,\n",
       "  87.65489196777344,\n",
       "  87.29662322998047,\n",
       "  85.941162109375,\n",
       "  85.64932250976562,\n",
       "  84.26436614990234,\n",
       "  84.644775390625,\n",
       "  83.78025817871094,\n",
       "  83.10002136230469,\n",
       "  82.07891082763672,\n",
       "  81.76195526123047,\n",
       "  80.7809829711914,\n",
       "  81.3462905883789,\n",
       "  79.80672454833984,\n",
       "  79.1137466430664,\n",
       "  79.51726531982422,\n",
       "  78.57598114013672,\n",
       "  77.8165054321289,\n",
       "  77.1702651977539,\n",
       "  76.96781158447266,\n",
       "  76.20093536376953,\n",
       "  76.26546478271484,\n",
       "  75.28280639648438,\n",
       "  74.52203369140625,\n",
       "  74.4273910522461,\n",
       "  73.71831512451172,\n",
       "  72.43944549560547,\n",
       "  72.87576293945312,\n",
       "  72.05032348632812,\n",
       "  72.00643920898438,\n",
       "  70.89156341552734,\n",
       "  70.76656341552734,\n",
       "  69.98902893066406,\n",
       "  69.89839172363281],\n",
       " 'val_loss': [244.3537139892578,\n",
       "  201.46148681640625,\n",
       "  189.56077575683594,\n",
       "  188.0507049560547,\n",
       "  182.14381408691406,\n",
       "  170.9524383544922,\n",
       "  168.36798095703125,\n",
       "  164.5308837890625,\n",
       "  162.26112365722656,\n",
       "  160.23085021972656,\n",
       "  155.72341918945312,\n",
       "  147.6612091064453,\n",
       "  149.76380920410156,\n",
       "  153.80084228515625,\n",
       "  158.99758911132812,\n",
       "  148.330078125,\n",
       "  136.34182739257812,\n",
       "  135.30059814453125,\n",
       "  144.67324829101562,\n",
       "  133.879638671875,\n",
       "  135.45301818847656,\n",
       "  135.51158142089844,\n",
       "  138.12612915039062,\n",
       "  129.358154296875,\n",
       "  126.92923736572266,\n",
       "  127.97779846191406,\n",
       "  126.52765655517578,\n",
       "  130.89096069335938,\n",
       "  122.22493743896484,\n",
       "  128.85382080078125,\n",
       "  129.05690002441406,\n",
       "  126.68282318115234,\n",
       "  120.95880889892578,\n",
       "  122.78694915771484,\n",
       "  125.03275299072266,\n",
       "  125.18568420410156,\n",
       "  118.1399917602539,\n",
       "  119.62769317626953,\n",
       "  120.0169448852539,\n",
       "  115.99508666992188,\n",
       "  117.3069076538086,\n",
       "  118.48300170898438,\n",
       "  116.61257934570312,\n",
       "  118.13336181640625,\n",
       "  117.54109191894531,\n",
       "  117.9268569946289,\n",
       "  112.51518249511719,\n",
       "  113.90806579589844,\n",
       "  112.77574920654297,\n",
       "  116.1025619506836,\n",
       "  116.14218139648438,\n",
       "  115.40599060058594,\n",
       "  113.50609588623047,\n",
       "  114.67755889892578,\n",
       "  114.78546905517578,\n",
       "  112.83476257324219,\n",
       "  120.3077392578125,\n",
       "  111.0989761352539,\n",
       "  110.38951110839844,\n",
       "  114.06474304199219,\n",
       "  110.47415161132812,\n",
       "  113.79500579833984,\n",
       "  109.50994873046875,\n",
       "  112.40699005126953,\n",
       "  110.11517333984375,\n",
       "  111.86417388916016,\n",
       "  110.29426574707031,\n",
       "  108.98239135742188,\n",
       "  111.57040405273438,\n",
       "  109.37108612060547,\n",
       "  108.4151840209961,\n",
       "  107.51309967041016,\n",
       "  106.9034652709961,\n",
       "  108.62506866455078,\n",
       "  108.08892822265625,\n",
       "  109.41617584228516,\n",
       "  106.96051788330078,\n",
       "  106.22327423095703,\n",
       "  106.25821685791016,\n",
       "  106.39051055908203,\n",
       "  107.15223693847656,\n",
       "  108.89472198486328,\n",
       "  108.48970031738281,\n",
       "  105.8132553100586,\n",
       "  107.10381317138672,\n",
       "  107.52496337890625,\n",
       "  107.8305435180664,\n",
       "  109.5891342163086,\n",
       "  105.2042236328125,\n",
       "  105.559814453125,\n",
       "  106.02651977539062,\n",
       "  106.91617584228516,\n",
       "  106.14047241210938,\n",
       "  107.532470703125,\n",
       "  107.93206024169922,\n",
       "  105.10470581054688,\n",
       "  107.29043579101562,\n",
       "  107.10830688476562,\n",
       "  108.02989959716797,\n",
       "  105.58618927001953]}"
      ]
     },
     "execution_count": 19,
     "metadata": {},
     "output_type": "execute_result"
    }
   ],
   "source": [
    "# print(history3.items())\n",
    "history3.history"
   ]
  },
  {
   "cell_type": "code",
   "execution_count": 20,
   "id": "b3eaaafe",
   "metadata": {},
   "outputs": [
    {
     "data": {
      "text/plain": [
       "<matplotlib.legend.Legend at 0x29668213488>"
      ]
     },
     "execution_count": 20,
     "metadata": {},
     "output_type": "execute_result"
    },
    {
     "data": {
      "image/png": "[encoded data removed]",
      "text/plain": [
       "<Figure size 1000x500 with 1 Axes>"
      ]
     },
     "metadata": {},
     "output_type": "display_data"
    }
   ],
   "source": [
    "plt.figure(figsize=(10, 5))\n",
    "plt.plot(train_loss_pd, label='train')\n",
    "plt.plot(val_loss_pd, label='val')\n",
    "plt.legend()"
   ]
  },
  {
   "cell_type": "markdown",
   "id": "9c54db72",
   "metadata": {},
   "source": [
    "## Model evaluation"
   ]
  },
  {
   "cell_type": "markdown",
   "id": "b2ea78bf",
   "metadata": {},
   "source": [
    "We define this function, which will be useful to evaluate the model."
   ]
  },
  {
   "cell_type": "code",
   "execution_count": 21,
   "id": "8c0e5a3b",
   "metadata": {},
   "outputs": [],
   "source": [
    "def flatten(t):\n",
    "    return [item for sublist in t for item in sublist]"
   ]
  },
  {
   "cell_type": "markdown",
   "id": "e9674031",
   "metadata": {},
   "source": [
    "We evaluate the model by using the first metric (mean absolute error). "
   ]
  },
  {
   "cell_type": "code",
   "execution_count": 22,
   "id": "5ecf3c33",
   "metadata": {},
   "outputs": [
    {
     "name": "stdout",
     "output_type": "stream",
     "text": [
      "324/324 [==============================] - 3s 9ms/step\n",
      "(10355, 1)\n",
      "10355\n",
      "(10355, 1)\n",
      "10355\n",
      "105.58620863431955\n"
     ]
    }
   ],
   "source": [
    "from sklearn.metrics import mean_absolute_error \n",
    "# from sklearn.metrics import root_mean_squared_error \n",
    "\n",
    "pred = model_with_attention.predict(X_test)\n",
    "print(pred.shape)\n",
    "print(len(flatten(pred)))\n",
    "print(y_test.shape)\n",
    "print(len(flatten(y_test)))\n",
    "\n",
    "MAE = mean_absolute_error(flatten(pred),flatten(y_test))\n",
    "print(MAE)\n",
    "# RMSE = root_mean_squared_error(flatten(pred),flatten(y_test))\n",
    "# print(RMSE)"
   ]
  },
  {
   "cell_type": "markdown",
   "id": "12982dd9",
   "metadata": {},
   "source": [
    "We will evaluate the model with the second metric (accuracy). For this, we divide target variable in three categories: first, data between percentil 0 and 15; second, data between percentil 15 and 85 and thrid, data between percentil 85 and 100. "
   ]
  },
  {
   "cell_type": "code",
   "execution_count": 23,
   "id": "10369faa-d540-4ccd-a24b-4fe206c3d53f",
   "metadata": {},
   "outputs": [
    {
     "name": "stdout",
     "output_type": "stream",
     "text": [
      "324/324 [==============================] - 3s 8ms/step\n",
      "[[261.82043 ]\n",
      " [569.70984 ]\n",
      " [ 18.415894]\n",
      " ...\n",
      " [823.6943  ]\n",
      " [621.7452  ]\n",
      " [704.45825 ]]\n"
     ]
    }
   ],
   "source": [
    "pred = model_with_attention.predict(X_test)\n",
    "print(pred)"
   ]
  },
  {
   "cell_type": "code",
   "execution_count": 24,
   "id": "17ad32ac-3aff-4ecf-b8b9-e496b63f9301",
   "metadata": {},
   "outputs": [
    {
     "data": {
      "text/plain": [
       "array([[225.],\n",
       "       [475.],\n",
       "       [  0.],\n",
       "       ...,\n",
       "       [884.],\n",
       "       [655.],\n",
       "       [504.]])"
      ]
     },
     "execution_count": 24,
     "metadata": {},
     "output_type": "execute_result"
    }
   ],
   "source": [
    "y_test"
   ]
  },
  {
   "cell_type": "code",
   "execution_count": 25,
   "id": "d944ccff",
   "metadata": {},
   "outputs": [],
   "source": [
    "obj = list(data['obj'].values)"
   ]
  },
  {
   "cell_type": "code",
   "execution_count": 26,
   "id": "36466028-ed5d-423b-ac17-9ad0b8463604",
   "metadata": {},
   "outputs": [
    {
     "data": {
      "text/plain": [
       "dtype('float32')"
      ]
     },
     "execution_count": 26,
     "metadata": {},
     "output_type": "execute_result"
    }
   ],
   "source": [
    "pred.dtype == np.float64\n",
    "pred.dtype"
   ]
  },
  {
   "cell_type": "code",
   "execution_count": 27,
   "id": "58982b45",
   "metadata": {},
   "outputs": [
    {
     "name": "stdout",
     "output_type": "stream",
     "text": [
      "0\n",
      "146.0\n",
      "993.0\n",
      "2975\n"
     ]
    }
   ],
   "source": [
    "print(np.quantile(obj, 0))\n",
    "print(np.quantile(obj, 0.15))\n",
    "print(np.quantile(obj, 0.85))\n",
    "print(np.quantile(obj, 1))"
   ]
  },
  {
   "cell_type": "markdown",
   "id": "d555df61",
   "metadata": {},
   "source": [
    "We add and substract a small value in extreme values in order to avoid issues. We also transform the predictions lower than 0 in 0. "
   ]
  },
  {
   "cell_type": "code",
   "execution_count": 28,
   "id": "649392d4",
   "metadata": {},
   "outputs": [],
   "source": [
    "bins = [np.quantile(obj, 0)-0.001,np.quantile(obj, 0.15),np.quantile(obj, 0.85),np.quantile(obj, 1)+0.001]\n",
    "names = ['a','b','c']\n",
    "for i in range(len(pred)):\n",
    "    if pred[i]<0:\n",
    "        pred[i] = 0\n",
    "pred2=pd.cut(flatten(pred), bins, labels = names)\n",
    "ytest2=pd.cut(flatten(y_test), bins, labels = names)"
   ]
  },
  {
   "cell_type": "markdown",
   "id": "bfff6821",
   "metadata": {},
   "source": [
    "We obtain the accuracy metric and the confusion matrix corresponding. "
   ]
  },
  {
   "cell_type": "code",
   "execution_count": 29,
   "id": "fbde0271",
   "metadata": {},
   "outputs": [
    {
     "name": "stdout",
     "output_type": "stream",
     "text": [
      "0.8349589570255915\n",
      "[[1166  348   16]\n",
      " [ 190 6768  302]\n",
      " [   1  852  712]]\n"
     ]
    }
   ],
   "source": [
    "print(accuracy_score(ytest2,pred2))\n",
    "print(confusion_matrix(ytest2,pred2))"
   ]
  },
  {
   "cell_type": "markdown",
   "id": "d58c8161",
   "metadata": {},
   "source": [
    "###  Plotting the actual and predicted values. "
   ]
  },
  {
   "cell_type": "markdown",
   "id": "1692014e",
   "metadata": {},
   "source": [
    "We selelct randomly an observation of the entire dataset and we will analyse the 100 successive observations. We plot\n",
    "the actual and the predicted values of these observations. "
   ]
  },
  {
   "cell_type": "code",
   "execution_count": 30,
   "id": "5711b77d",
   "metadata": {},
   "outputs": [
    {
     "data": {
      "text/plain": [
       "array([[[0.16534653, 0.22098133, 0.3042017 , ..., 0.21287128,\n",
       "         0.6666667 , 0.3478261 ],\n",
       "        [0.14455445, 0.18399854, 0.29882354, ..., 0.21287128,\n",
       "         0.6666667 , 0.39130434],\n",
       "        [0.19108911, 0.15470524, 0.31865546, ..., 0.21287128,\n",
       "         0.6666667 , 0.4347826 ],\n",
       "        [0.15742575, 0.14445259, 0.2742857 , ..., 0.21287128,\n",
       "         0.6666667 , 0.47826087]],\n",
       "\n",
       "       [[0.14455445, 0.18399854, 0.29882354, ..., 0.21287128,\n",
       "         0.6666667 , 0.39130434],\n",
       "        [0.19108911, 0.15470524, 0.31865546, ..., 0.21287128,\n",
       "         0.6666667 , 0.4347826 ],\n",
       "        [0.15742575, 0.14445259, 0.2742857 , ..., 0.21287128,\n",
       "         0.6666667 , 0.47826087],\n",
       "        [0.21683168, 0.13218601, 0.24168067, ..., 0.22029702,\n",
       "         0.6666667 , 0.5217391 ]],\n",
       "\n",
       "       [[0.19108911, 0.15470524, 0.31865546, ..., 0.21287128,\n",
       "         0.6666667 , 0.4347826 ],\n",
       "        [0.15742575, 0.14445259, 0.2742857 , ..., 0.21287128,\n",
       "         0.6666667 , 0.47826087],\n",
       "        [0.21683168, 0.13218601, 0.24168067, ..., 0.22029702,\n",
       "         0.6666667 , 0.5217391 ],\n",
       "        [0.16237624, 0.09428781, 0.21512605, ..., 0.22029702,\n",
       "         0.6666667 , 0.5652174 ]],\n",
       "\n",
       "       ...,\n",
       "\n",
       "       [[0.18811882, 0.15195899, 0.2860504 , ..., 0.31683168,\n",
       "         0.6666667 , 0.39130434],\n",
       "        [0.15247525, 0.12504578, 0.25243697, ..., 0.31683168,\n",
       "         0.6666667 , 0.4347826 ],\n",
       "        [0.13960396, 0.09849872, 0.25882354, ..., 0.31683168,\n",
       "         0.6666667 , 0.47826087],\n",
       "        [0.13465346, 0.07799341, 0.20470588, ..., 0.3019802 ,\n",
       "         0.6666667 , 0.5217391 ]],\n",
       "\n",
       "       [[0.15247525, 0.12504578, 0.25243697, ..., 0.31683168,\n",
       "         0.6666667 , 0.4347826 ],\n",
       "        [0.13960396, 0.09849872, 0.25882354, ..., 0.31683168,\n",
       "         0.6666667 , 0.47826087],\n",
       "        [0.13465346, 0.07799341, 0.20470588, ..., 0.3019802 ,\n",
       "         0.6666667 , 0.5217391 ],\n",
       "        [0.08019802, 0.03972904, 0.1277311 , ..., 0.3019802 ,\n",
       "         0.6666667 , 0.5652174 ]],\n",
       "\n",
       "       [[0.13960396, 0.09849872, 0.25882354, ..., 0.31683168,\n",
       "         0.6666667 , 0.47826087],\n",
       "        [0.13465346, 0.07799341, 0.20470588, ..., 0.3019802 ,\n",
       "         0.6666667 , 0.5217391 ],\n",
       "        [0.08019802, 0.03972904, 0.1277311 , ..., 0.3019802 ,\n",
       "         0.6666667 , 0.5652174 ],\n",
       "        [0.07821782, 0.03020871, 0.09142857, ..., 0.3019802 ,\n",
       "         0.6666667 , 0.6086956 ]]], dtype=float32)"
      ]
     },
     "execution_count": 30,
     "metadata": {},
     "output_type": "execute_result"
    }
   ],
   "source": [
    "np.random.seed(23)\n",
    "rand = np.random.randint(0, 3000)\n",
    "rand\n",
    "\n",
    "# rand = randint(0, 30000, ran=1234)\n",
    "# rand\n",
    "X[rand:rand+100]"
   ]
  },
  {
   "cell_type": "code",
   "execution_count": 31,
   "id": "9dda491d",
   "metadata": {},
   "outputs": [
    {
     "name": "stdout",
     "output_type": "stream",
     "text": [
      "4/4 [==============================] - 0s 9ms/step\n"
     ]
    },
    {
     "data": {
      "image/png": "[encoded data removed]",
      "text/plain": [
       "<Figure size 640x480 with 1 Axes>"
      ]
     },
     "metadata": {},
     "output_type": "display_data"
    }
   ],
   "source": [
    "plt.plot(flatten(y[rand:rand+100]), label = \"Actual values\")\n",
    "plt.plot(flatten(model_with_attention.predict(X[rand:rand+100])), label = \"Predicted values\")\n",
    "plt.legend()\n",
    "plt.ylabel('Hourly traffic flow')\n",
    "plt.show()"
   ]
  },
  {
   "cell_type": "code",
   "execution_count": 34,
   "id": "7f389e46",
   "metadata": {},
   "outputs": [],
   "source": [
    "import math\n",
    "\n",
    "def calculate_rmse(actual_values, predicted_values):\n",
    "    \"\"\"\n",
    "    Calculates the Root Mean Square Error (RMSE) given actual and predicted values.\n",
    "    :param actual_values: List of actual observed values.\n",
    "    :param predicted_values: List of predicted values.\n",
    "    :return: RMSE value.\n",
    "    \"\"\"\n",
    "    if len(actual_values) != len(predicted_values):\n",
    "        raise ValueError(\"Lists must have the same length.\")\n",
    "\n",
    "    squared_errors = [(actual - predicted) ** 2 for actual, predicted in zip(actual_values, predicted_values)]\n",
    "    mean_squared_error = sum(squared_errors) / len(actual_values)\n",
    "    rmse = math.sqrt(mean_squared_error)\n",
    "    return rmse\n",
    "\n",
    "\n",
    "RMSE = calculate_rmse(flatten(pred),flatten(y_test))"
   ]
  },
  {
   "cell_type": "code",
   "execution_count": 35,
   "id": "d7165438-ca40-44b0-ada6-d9202c7d8948",
   "metadata": {},
   "outputs": [
    {
     "name": "stdout",
     "output_type": "stream",
     "text": [
      "MAE:  105.58620863431955\n",
      "RMSE:  180.9889002584357\n",
      "Accuracy:  0.8349589570255915\n",
      "confusion matrix:\n",
      "  [[1166  348   16]\n",
      " [ 190 6768  302]\n",
      " [   1  852  712]]\n"
     ]
    }
   ],
   "source": [
    "print(\"MAE: \", MAE)\n",
    "print(\"RMSE: \", RMSE)\n",
    "print(\"Accuracy: \", accuracy_score(ytest2,pred2))\n",
    "\n",
    "print(\"confusion matrix:\\n \", confusion_matrix(ytest2,pred2))"
   ]
  },
  {
   "cell_type": "code",
   "execution_count": 38,
   "id": "72cecc1b",
   "metadata": {},
   "outputs": [
    {
     "data": {
      "text/plain": [
       "['b', 'b', 'a', 'b', 'b', ..., 'c', 'b', 'b', 'b', 'b']\n",
       "Length: 10355\n",
       "Categories (3, object): ['a' < 'b' < 'c']"
      ]
     },
     "execution_count": 38,
     "metadata": {},
     "output_type": "execute_result"
    }
   ],
   "source": [
    "ytest2"
   ]
  },
  {
   "cell_type": "code",
   "execution_count": null,
   "id": "b771ad06",
   "metadata": {},
   "outputs": [],
   "source": []
  }
 ],
 "metadata": {
  "kernelspec": {
   "display_name": "Python 3 (ipykernel)",
   "language": "python",
   "name": "python3"
  },
  "language_info": {
   "codemirror_mode": {
    "name": "ipython",
    "version": 3
   },
   "file_extension": ".py",
   "mimetype": "text/x-python",
   "name": "python",
   "nbconvert_exporter": "python",
   "pygments_lexer": "ipython3",
   "version": "3.7.16"
  }
 },
 "nbformat": 4,
 "nbformat_minor": 5
}
