{
 "cells": [
  {
   "cell_type": "markdown",
   "id": "c69cb93b",
   "metadata": {},
   "source": [
    "### Import required libraries"
   ]
  },
  {
   "cell_type": "code",
   "execution_count": 1,
   "id": "0c2d189d-98be-4cd2-8b9e-3f6708ebb27c",
   "metadata": {},
   "outputs": [],
   "source": [
    "import tensorflow as tf\n",
    "\n",
    "# print(\"Num GPUs Available: \", tf.config.list_physical_devices('GPU'))"
   ]
  },
  {
   "cell_type": "code",
   "execution_count": 2,
   "id": "52cf218c",
   "metadata": {},
   "outputs": [
    {
     "name": "stdout",
     "output_type": "stream",
     "text": [
      "Requirement already satisfied: netron in c:\\users\\majid\\anaconda3\\lib\\site-packages (7.7.0)\n"
     ]
    }
   ],
   "source": [
    "import pandas as pd\n",
    "import numpy as np\n",
    "import matplotlib.pyplot as plt \n",
    "from numpy import array\n",
    "from tensorflow.keras.models import Sequential, Model\n",
    "from tensorflow.keras.layers import LSTM, GRU\n",
    "from tensorflow.keras.layers import Bidirectional\n",
    "from tensorflow.keras.layers import Dense, Input\n",
    "from tensorflow.keras.layers import Flatten\n",
    "from tensorflow.keras.layers import TimeDistributed\n",
    "from tensorflow.keras.layers import Dropout, Softmax\n",
    "from tensorflow.keras.layers import Conv1D\n",
    "from tensorflow.keras.layers import MaxPooling1D, AveragePooling1D\n",
    "from sklearn.preprocessing import LabelEncoder\n",
    "from sklearn.preprocessing import MinMaxScaler\n",
    "from numpy import array\n",
    "from sklearn.model_selection import train_test_split\n",
    "from sklearn.metrics import mean_absolute_error as MAE\n",
    "# from sklearn.metrics import root_mean_squared_error as RMSE\n",
    "import random\n",
    "from sklearn.metrics import accuracy_score\n",
    "from sklearn.metrics import confusion_matrix\n",
    "!pip install netron\n",
    "import netron\n",
    "from random import randint"
   ]
  },
  {
   "cell_type": "markdown",
   "id": "6dbc9dff",
   "metadata": {},
   "source": [
    "First of all, we define this function which split a given sequence into multiple samples where each sample has a specified number of time steps and a specifieded number of outputs."
   ]
  },
  {
   "cell_type": "code",
   "execution_count": 3,
   "id": "fd8cb216",
   "metadata": {},
   "outputs": [],
   "source": [
    "def split_sequences(sequences, n_steps_in, n_steps_out):\n",
    "\tX, y = list(), list()\n",
    "\tfor i in range(len(sequences)):\n",
    "\t\t# find the end of this pattern\n",
    "\t\tend_ix = i + n_steps_in\n",
    "\t\tout_end_ix = end_ix + n_steps_out-1\n",
    "\t\t# check if we are beyond the dataset\n",
    "\t\tif out_end_ix > len(sequences):\n",
    "\t\t\tbreak\n",
    "\t\t# gather input and output parts of the pattern\n",
    "\t\tseq_x, seq_y = sequences[i:end_ix, :-1], sequences[end_ix-1:out_end_ix, -1]\n",
    "\t\tX.append(seq_x)\n",
    "\t\ty.append(seq_y)\n",
    "\treturn array(X), array(y)"
   ]
  },
  {
   "cell_type": "markdown",
   "id": "d52b9133",
   "metadata": {},
   "source": [
    "## Data preprocessing"
   ]
  },
  {
   "cell_type": "markdown",
   "id": "8795a8c9",
   "metadata": {},
   "source": [
    "We import data and remove the index. "
   ]
  },
  {
   "cell_type": "code",
   "execution_count": 4,
   "id": "16b38763",
   "metadata": {},
   "outputs": [
    {
     "name": "stdout",
     "output_type": "stream",
     "text": [
      "       var1(t-48)  var2(t-48)  var3(t-48)  var4(t-48)  var5(t-48)  var6(t-48)  \\\n",
      "0           107.0         954       513.0        76.0         0.0        36.0   \n",
      "1           137.0         949       718.0        76.0         0.0        36.0   \n",
      "2           163.0         761       800.0        76.0         0.0        36.0   \n",
      "3           189.0         555       711.0        76.0         0.0        36.0   \n",
      "4           115.0         514       576.0        76.0         0.0        36.0   \n",
      "...           ...         ...         ...         ...         ...         ...   \n",
      "31338       202.0        1561       880.0       288.0         0.0       220.0   \n",
      "31339       183.0        1678       878.0       288.0         0.0       220.0   \n",
      "31340       212.0        1723       940.0       288.0         0.0       220.0   \n",
      "31341       164.0        1526       854.0       288.0         0.0       220.0   \n",
      "31342       176.0        1194       769.0       288.0         0.0       220.0   \n",
      "\n",
      "       var7(t-48) var8(t-48)  obj  \n",
      "0           116.0    festivo  266  \n",
      "1           116.0    festivo  251  \n",
      "2           116.0    festivo  244  \n",
      "3           116.0    festivo  292  \n",
      "4           116.0    festivo  718  \n",
      "...           ...        ...  ...  \n",
      "31338       357.0  laborable  789  \n",
      "31339       357.0  laborable  884  \n",
      "31340       357.0  laborable  875  \n",
      "31341       357.0  laborable  793  \n",
      "31342       357.0  laborable  716  \n",
      "\n",
      "[31343 rows x 9 columns]\n",
      "0        2018-01-03 01:00:00\n",
      "1        2018-01-03 02:00:00\n",
      "2        2018-01-03 03:00:00\n",
      "3        2018-01-03 04:00:00\n",
      "4        2018-01-03 05:00:00\n",
      "                ...         \n",
      "31338    2021-07-31 19:00:00\n",
      "31339    2021-07-31 20:00:00\n",
      "31340    2021-07-31 21:00:00\n",
      "31341    2021-07-31 22:00:00\n",
      "31342    2021-07-31 23:00:00\n",
      "Name: clave, Length: 31343, dtype: object\n"
     ]
    }
   ],
   "source": [
    "data=pd.read_csv('../../Datasets/GV(t-48).csv')\n",
    "index = data['clave']\n",
    "data=data.drop(['clave'], axis=1)\n",
    "print(data)\n",
    "print(index)"
   ]
  },
  {
   "cell_type": "markdown",
   "id": "38adc20a",
   "metadata": {},
   "source": [
    "We encode the categorical variable 'type of day'."
   ]
  },
  {
   "cell_type": "code",
   "execution_count": 5,
   "id": "0d72d3ae",
   "metadata": {},
   "outputs": [],
   "source": [
    "encoder = LabelEncoder()\n",
    "data[data.columns[7]] = encoder.fit_transform(data[data.columns[7]])\n"
   ]
  },
  {
   "cell_type": "markdown",
   "id": "0a148c96",
   "metadata": {},
   "source": [
    "We add the variable 'hour'. "
   ]
  },
  {
   "cell_type": "code",
   "execution_count": 6,
   "id": "add8bd5d",
   "metadata": {},
   "outputs": [
    {
     "data": {
      "text/html": [
       "<div>\n",
       "<style scoped>\n",
       "    .dataframe tbody tr th:only-of-type {\n",
       "        vertical-align: middle;\n",
       "    }\n",
       "\n",
       "    .dataframe tbody tr th {\n",
       "        vertical-align: top;\n",
       "    }\n",
       "\n",
       "    .dataframe thead th {\n",
       "        text-align: right;\n",
       "    }\n",
       "</style>\n",
       "<table border=\"1\" class=\"dataframe\">\n",
       "  <thead>\n",
       "    <tr style=\"text-align: right;\">\n",
       "      <th></th>\n",
       "      <th>var1(t-48)</th>\n",
       "      <th>var2(t-48)</th>\n",
       "      <th>var3(t-48)</th>\n",
       "      <th>var4(t-48)</th>\n",
       "      <th>var5(t-48)</th>\n",
       "      <th>var6(t-48)</th>\n",
       "      <th>var7(t-48)</th>\n",
       "      <th>var8(t-48)</th>\n",
       "      <th>hour</th>\n",
       "      <th>obj</th>\n",
       "    </tr>\n",
       "  </thead>\n",
       "  <tbody>\n",
       "    <tr>\n",
       "      <th>0</th>\n",
       "      <td>107.0</td>\n",
       "      <td>954</td>\n",
       "      <td>513.0</td>\n",
       "      <td>76.0</td>\n",
       "      <td>0.0</td>\n",
       "      <td>36.0</td>\n",
       "      <td>116.0</td>\n",
       "      <td>1</td>\n",
       "      <td>1</td>\n",
       "      <td>266</td>\n",
       "    </tr>\n",
       "    <tr>\n",
       "      <th>1</th>\n",
       "      <td>137.0</td>\n",
       "      <td>949</td>\n",
       "      <td>718.0</td>\n",
       "      <td>76.0</td>\n",
       "      <td>0.0</td>\n",
       "      <td>36.0</td>\n",
       "      <td>116.0</td>\n",
       "      <td>1</td>\n",
       "      <td>2</td>\n",
       "      <td>251</td>\n",
       "    </tr>\n",
       "    <tr>\n",
       "      <th>2</th>\n",
       "      <td>163.0</td>\n",
       "      <td>761</td>\n",
       "      <td>800.0</td>\n",
       "      <td>76.0</td>\n",
       "      <td>0.0</td>\n",
       "      <td>36.0</td>\n",
       "      <td>116.0</td>\n",
       "      <td>1</td>\n",
       "      <td>3</td>\n",
       "      <td>244</td>\n",
       "    </tr>\n",
       "    <tr>\n",
       "      <th>3</th>\n",
       "      <td>189.0</td>\n",
       "      <td>555</td>\n",
       "      <td>711.0</td>\n",
       "      <td>76.0</td>\n",
       "      <td>0.0</td>\n",
       "      <td>36.0</td>\n",
       "      <td>116.0</td>\n",
       "      <td>1</td>\n",
       "      <td>4</td>\n",
       "      <td>292</td>\n",
       "    </tr>\n",
       "    <tr>\n",
       "      <th>4</th>\n",
       "      <td>115.0</td>\n",
       "      <td>514</td>\n",
       "      <td>576.0</td>\n",
       "      <td>76.0</td>\n",
       "      <td>0.0</td>\n",
       "      <td>36.0</td>\n",
       "      <td>116.0</td>\n",
       "      <td>1</td>\n",
       "      <td>5</td>\n",
       "      <td>718</td>\n",
       "    </tr>\n",
       "    <tr>\n",
       "      <th>...</th>\n",
       "      <td>...</td>\n",
       "      <td>...</td>\n",
       "      <td>...</td>\n",
       "      <td>...</td>\n",
       "      <td>...</td>\n",
       "      <td>...</td>\n",
       "      <td>...</td>\n",
       "      <td>...</td>\n",
       "      <td>...</td>\n",
       "      <td>...</td>\n",
       "    </tr>\n",
       "    <tr>\n",
       "      <th>31338</th>\n",
       "      <td>202.0</td>\n",
       "      <td>1561</td>\n",
       "      <td>880.0</td>\n",
       "      <td>288.0</td>\n",
       "      <td>0.0</td>\n",
       "      <td>220.0</td>\n",
       "      <td>357.0</td>\n",
       "      <td>2</td>\n",
       "      <td>19</td>\n",
       "      <td>789</td>\n",
       "    </tr>\n",
       "    <tr>\n",
       "      <th>31339</th>\n",
       "      <td>183.0</td>\n",
       "      <td>1678</td>\n",
       "      <td>878.0</td>\n",
       "      <td>288.0</td>\n",
       "      <td>0.0</td>\n",
       "      <td>220.0</td>\n",
       "      <td>357.0</td>\n",
       "      <td>2</td>\n",
       "      <td>20</td>\n",
       "      <td>884</td>\n",
       "    </tr>\n",
       "    <tr>\n",
       "      <th>31340</th>\n",
       "      <td>212.0</td>\n",
       "      <td>1723</td>\n",
       "      <td>940.0</td>\n",
       "      <td>288.0</td>\n",
       "      <td>0.0</td>\n",
       "      <td>220.0</td>\n",
       "      <td>357.0</td>\n",
       "      <td>2</td>\n",
       "      <td>21</td>\n",
       "      <td>875</td>\n",
       "    </tr>\n",
       "    <tr>\n",
       "      <th>31341</th>\n",
       "      <td>164.0</td>\n",
       "      <td>1526</td>\n",
       "      <td>854.0</td>\n",
       "      <td>288.0</td>\n",
       "      <td>0.0</td>\n",
       "      <td>220.0</td>\n",
       "      <td>357.0</td>\n",
       "      <td>2</td>\n",
       "      <td>22</td>\n",
       "      <td>793</td>\n",
       "    </tr>\n",
       "    <tr>\n",
       "      <th>31342</th>\n",
       "      <td>176.0</td>\n",
       "      <td>1194</td>\n",
       "      <td>769.0</td>\n",
       "      <td>288.0</td>\n",
       "      <td>0.0</td>\n",
       "      <td>220.0</td>\n",
       "      <td>357.0</td>\n",
       "      <td>2</td>\n",
       "      <td>23</td>\n",
       "      <td>716</td>\n",
       "    </tr>\n",
       "  </tbody>\n",
       "</table>\n",
       "<p>31343 rows × 10 columns</p>\n",
       "</div>"
      ],
      "text/plain": [
       "       var1(t-48)  var2(t-48)  var3(t-48)  var4(t-48)  var5(t-48)  var6(t-48)  \\\n",
       "0           107.0         954       513.0        76.0         0.0        36.0   \n",
       "1           137.0         949       718.0        76.0         0.0        36.0   \n",
       "2           163.0         761       800.0        76.0         0.0        36.0   \n",
       "3           189.0         555       711.0        76.0         0.0        36.0   \n",
       "4           115.0         514       576.0        76.0         0.0        36.0   \n",
       "...           ...         ...         ...         ...         ...         ...   \n",
       "31338       202.0        1561       880.0       288.0         0.0       220.0   \n",
       "31339       183.0        1678       878.0       288.0         0.0       220.0   \n",
       "31340       212.0        1723       940.0       288.0         0.0       220.0   \n",
       "31341       164.0        1526       854.0       288.0         0.0       220.0   \n",
       "31342       176.0        1194       769.0       288.0         0.0       220.0   \n",
       "\n",
       "       var7(t-48)  var8(t-48)  hour  obj  \n",
       "0           116.0           1     1  266  \n",
       "1           116.0           1     2  251  \n",
       "2           116.0           1     3  244  \n",
       "3           116.0           1     4  292  \n",
       "4           116.0           1     5  718  \n",
       "...           ...         ...   ...  ...  \n",
       "31338       357.0           2    19  789  \n",
       "31339       357.0           2    20  884  \n",
       "31340       357.0           2    21  875  \n",
       "31341       357.0           2    22  793  \n",
       "31342       357.0           2    23  716  \n",
       "\n",
       "[31343 rows x 10 columns]"
      ]
     },
     "execution_count": 6,
     "metadata": {},
     "output_type": "execute_result"
    }
   ],
   "source": [
    "a1=list(range(1,24))\n",
    "a2=list(range(0,24))*1304\n",
    "a3=list(range(0,24))\n",
    "a4=a1+a2+a3\n",
    "data['hour'] = a4\n",
    "data = data.reindex(columns=[data.columns[0],data.columns[1],data.columns[2],data.columns[3],data.columns[4],\n",
    "                             data.columns[5],data.columns[6],data.columns[7],'hour','obj'])\n",
    "data"
   ]
  },
  {
   "cell_type": "markdown",
   "id": "954e93b9",
   "metadata": {},
   "source": [
    "We normalise all input variables. "
   ]
  },
  {
   "cell_type": "code",
   "execution_count": 7,
   "id": "65f8df7e",
   "metadata": {},
   "outputs": [],
   "source": [
    "scaler = MinMaxScaler(feature_range=(0, 1))\n",
    "data[data.columns.difference(['obj'])] = scaler.fit_transform(data[data.columns.difference(['obj'])])"
   ]
  },
  {
   "cell_type": "markdown",
   "id": "9363230c",
   "metadata": {},
   "source": [
    "We apply the previously defined function. We split the original sequence data. Each sample has six time steps as predictor variables (from timestep t-15 to timestep t-12) and one target variable (timestep t). "
   ]
  },
  {
   "cell_type": "code",
   "execution_count": 8,
   "id": "6f6e2681",
   "metadata": {},
   "outputs": [
    {
     "name": "stdout",
     "output_type": "stream",
     "text": [
      "(31340, 4, 9)\n",
      "(31340, 1)\n"
     ]
    }
   ],
   "source": [
    "data1=data.values\n",
    "X, y = split_sequences(data1,4,1)\n",
    "print(X.shape)\n",
    "print(y.shape)"
   ]
  },
  {
   "cell_type": "markdown",
   "id": "c5bae631",
   "metadata": {},
   "source": [
    "## Data analyse"
   ]
  },
  {
   "cell_type": "markdown",
   "id": "1bd47ac5",
   "metadata": {},
   "source": [
    "We make a simple statistical analysis of the target variable. "
   ]
  },
  {
   "cell_type": "code",
   "execution_count": 9,
   "id": "13c6a1fb",
   "metadata": {},
   "outputs": [
    {
     "data": {
      "text/plain": [
       "count    31343.000000\n",
       "mean       637.712567\n",
       "std        390.200188\n",
       "min          0.000000\n",
       "25%        296.000000\n",
       "50%        721.000000\n",
       "75%        929.000000\n",
       "max       2975.000000\n",
       "Name: obj, dtype: float64"
      ]
     },
     "execution_count": 9,
     "metadata": {},
     "output_type": "execute_result"
    }
   ],
   "source": [
    "dataplot = data\n",
    "dataplot['obj'].describe()"
   ]
  },
  {
   "cell_type": "markdown",
   "id": "caff81d0",
   "metadata": {},
   "source": [
    "We plot linechart of the evolution of traffic flow in the first week of 2018 (first available data). "
   ]
  },
  {
   "cell_type": "code",
   "execution_count": 10,
   "id": "778710c6",
   "metadata": {},
   "outputs": [
    {
     "data": {
      "image/png": "[encoded data removed]",
      "text/plain": [
       "<Figure size 640x480 with 1 Axes>"
      ]
     },
     "metadata": {},
     "output_type": "display_data"
    }
   ],
   "source": [
    "plt.plot(list(dataplot['obj'][0:24*7]),\n",
    "        label=index, linewidth=3)\n",
    "plt.title('First week of 2018. Arturo Soria Station')\n",
    "plt.ylabel('Hourly traffic flow')\n",
    "plt.show()"
   ]
  },
  {
   "cell_type": "markdown",
   "id": "4458ab4e",
   "metadata": {},
   "source": [
    "## Model development. "
   ]
  },
  {
   "cell_type": "markdown",
   "id": "08723d86",
   "metadata": {},
   "source": [
    "We reshape our data to have the structure required by the neural network. "
   ]
  },
  {
   "cell_type": "code",
   "execution_count": 11,
   "id": "420d1847",
   "metadata": {},
   "outputs": [],
   "source": [
    "X = X.reshape((X.shape[0], X.shape[1], X.shape[2])).astype('float32')\n"
   ]
  },
  {
   "cell_type": "markdown",
   "id": "ad0849d0",
   "metadata": {},
   "source": [
    "We divide randomly our data in the train and test sets. "
   ]
  },
  {
   "cell_type": "code",
   "execution_count": 12,
   "id": "eb984b95",
   "metadata": {},
   "outputs": [],
   "source": [
    "X_train, X_test, y_train, y_test = train_test_split(\n",
    "X, y, test_size=0.33, random_state=42)"
   ]
  },
  {
   "cell_type": "markdown",
   "id": "95522ffc",
   "metadata": {},
   "source": [
    "We develop our model by using keras and tensorflow. First, we apply a convolutional neural network with 256 kernels which is followed by a max pooling. Then, we flatten data. \n",
    "\n",
    "Subsequently, we use the flatten data as input in the Bidirectional long short term memory network, with 500 units. It is followed by a dropout layer and, finally, we apply a dense layer to obtain the required prediction. "
   ]
  },
  {
   "cell_type": "code",
   "execution_count": 13,
   "id": "f0a6e714",
   "metadata": {},
   "outputs": [
    {
     "data": {
      "text/html": [
       "<pre style=\"white-space:pre;overflow-x:auto;line-height:normal;font-family:Menlo,'DejaVu Sans Mono',consolas,'Courier New',monospace\"><span style=\"font-weight: bold\">Model: \"functional_1\"</span>\n",
       "</pre>\n"
      ],
      "text/plain": [
       "\u001b[1mModel: \"functional_1\"\u001b[0m\n"
      ]
     },
     "metadata": {},
     "output_type": "display_data"
    },
    {
     "data": {
      "text/html": [
       "<pre style=\"white-space:pre;overflow-x:auto;line-height:normal;font-family:Menlo,'DejaVu Sans Mono',consolas,'Courier New',monospace\">┏━━━━━━━━━━━━━━━━━━━━━━━━━━━━━━━┳━━━━━━━━━━━━━━━━━━━━━━━━━━━┳━━━━━━━━━━━━━━━━━┳━━━━━━━━━━━━━━━━━━━━━━━━━━━━┓\n",
       "┃<span style=\"font-weight: bold\"> Layer (type)                  </span>┃<span style=\"font-weight: bold\"> Output Shape              </span>┃<span style=\"font-weight: bold\">         Param # </span>┃<span style=\"font-weight: bold\"> Connected to               </span>┃\n",
       "┡━━━━━━━━━━━━━━━━━━━━━━━━━━━━━━━╇━━━━━━━━━━━━━━━━━━━━━━━━━━━╇━━━━━━━━━━━━━━━━━╇━━━━━━━━━━━━━━━━━━━━━━━━━━━━┩\n",
       "│ input_layer (<span style=\"color: #0087ff; text-decoration-color: #0087ff\">InputLayer</span>)      │ (<span style=\"color: #00d7ff; text-decoration-color: #00d7ff\">None</span>, <span style=\"color: #00af00; text-decoration-color: #00af00\">4</span>, <span style=\"color: #00af00; text-decoration-color: #00af00\">9</span>, <span style=\"color: #00af00; text-decoration-color: #00af00\">1</span>)           │               <span style=\"color: #00af00; text-decoration-color: #00af00\">0</span> │ -                          │\n",
       "├───────────────────────────────┼───────────────────────────┼─────────────────┼────────────────────────────┤\n",
       "│ time_distributed              │ (<span style=\"color: #00d7ff; text-decoration-color: #00d7ff\">None</span>, <span style=\"color: #00af00; text-decoration-color: #00af00\">4</span>, <span style=\"color: #00af00; text-decoration-color: #00af00\">8</span>, <span style=\"color: #00af00; text-decoration-color: #00af00\">256</span>)         │             <span style=\"color: #00af00; text-decoration-color: #00af00\">768</span> │ input_layer[<span style=\"color: #00af00; text-decoration-color: #00af00\">0</span>][<span style=\"color: #00af00; text-decoration-color: #00af00\">0</span>]          │\n",
       "│ (<span style=\"color: #0087ff; text-decoration-color: #0087ff\">TimeDistributed</span>)             │                           │                 │                            │\n",
       "├───────────────────────────────┼───────────────────────────┼─────────────────┼────────────────────────────┤\n",
       "│ time_distributed_1            │ (<span style=\"color: #00d7ff; text-decoration-color: #00d7ff\">None</span>, <span style=\"color: #00af00; text-decoration-color: #00af00\">4</span>, <span style=\"color: #00af00; text-decoration-color: #00af00\">4</span>, <span style=\"color: #00af00; text-decoration-color: #00af00\">256</span>)         │               <span style=\"color: #00af00; text-decoration-color: #00af00\">0</span> │ time_distributed[<span style=\"color: #00af00; text-decoration-color: #00af00\">0</span>][<span style=\"color: #00af00; text-decoration-color: #00af00\">0</span>]     │\n",
       "│ (<span style=\"color: #0087ff; text-decoration-color: #0087ff\">TimeDistributed</span>)             │                           │                 │                            │\n",
       "├───────────────────────────────┼───────────────────────────┼─────────────────┼────────────────────────────┤\n",
       "│ time_distributed_2            │ (<span style=\"color: #00d7ff; text-decoration-color: #00d7ff\">None</span>, <span style=\"color: #00af00; text-decoration-color: #00af00\">4</span>, <span style=\"color: #00af00; text-decoration-color: #00af00\">1024</span>)           │               <span style=\"color: #00af00; text-decoration-color: #00af00\">0</span> │ time_distributed_1[<span style=\"color: #00af00; text-decoration-color: #00af00\">0</span>][<span style=\"color: #00af00; text-decoration-color: #00af00\">0</span>]   │\n",
       "│ (<span style=\"color: #0087ff; text-decoration-color: #0087ff\">TimeDistributed</span>)             │                           │                 │                            │\n",
       "├───────────────────────────────┼───────────────────────────┼─────────────────┼────────────────────────────┤\n",
       "│ gru (<span style=\"color: #0087ff; text-decoration-color: #0087ff\">GRU</span>)                     │ (<span style=\"color: #00d7ff; text-decoration-color: #00d7ff\">None</span>, <span style=\"color: #00af00; text-decoration-color: #00af00\">4</span>, <span style=\"color: #00af00; text-decoration-color: #00af00\">500</span>)            │       <span style=\"color: #00af00; text-decoration-color: #00af00\">2,289,000</span> │ time_distributed_2[<span style=\"color: #00af00; text-decoration-color: #00af00\">0</span>][<span style=\"color: #00af00; text-decoration-color: #00af00\">0</span>]   │\n",
       "├───────────────────────────────┼───────────────────────────┼─────────────────┼────────────────────────────┤\n",
       "│ dense (<span style=\"color: #0087ff; text-decoration-color: #0087ff\">Dense</span>)                 │ (<span style=\"color: #00d7ff; text-decoration-color: #00d7ff\">None</span>, <span style=\"color: #00af00; text-decoration-color: #00af00\">4</span>, <span style=\"color: #00af00; text-decoration-color: #00af00\">1000</span>)           │         <span style=\"color: #00af00; text-decoration-color: #00af00\">501,000</span> │ gru[<span style=\"color: #00af00; text-decoration-color: #00af00\">0</span>][<span style=\"color: #00af00; text-decoration-color: #00af00\">0</span>]                  │\n",
       "├───────────────────────────────┼───────────────────────────┼─────────────────┼────────────────────────────┤\n",
       "│ dense_1 (<span style=\"color: #0087ff; text-decoration-color: #0087ff\">Dense</span>)               │ (<span style=\"color: #00d7ff; text-decoration-color: #00d7ff\">None</span>, <span style=\"color: #00af00; text-decoration-color: #00af00\">4</span>, <span style=\"color: #00af00; text-decoration-color: #00af00\">1000</span>)           │       <span style=\"color: #00af00; text-decoration-color: #00af00\">1,001,000</span> │ dense[<span style=\"color: #00af00; text-decoration-color: #00af00\">0</span>][<span style=\"color: #00af00; text-decoration-color: #00af00\">0</span>]                │\n",
       "├───────────────────────────────┼───────────────────────────┼─────────────────┼────────────────────────────┤\n",
       "│ softmax (<span style=\"color: #0087ff; text-decoration-color: #0087ff\">Softmax</span>)             │ (<span style=\"color: #00d7ff; text-decoration-color: #00d7ff\">None</span>, <span style=\"color: #00af00; text-decoration-color: #00af00\">4</span>, <span style=\"color: #00af00; text-decoration-color: #00af00\">1000</span>)           │               <span style=\"color: #00af00; text-decoration-color: #00af00\">0</span> │ dense_1[<span style=\"color: #00af00; text-decoration-color: #00af00\">0</span>][<span style=\"color: #00af00; text-decoration-color: #00af00\">0</span>]              │\n",
       "├───────────────────────────────┼───────────────────────────┼─────────────────┼────────────────────────────┤\n",
       "│ multiply (<span style=\"color: #0087ff; text-decoration-color: #0087ff\">Multiply</span>)           │ (<span style=\"color: #00d7ff; text-decoration-color: #00d7ff\">None</span>, <span style=\"color: #00af00; text-decoration-color: #00af00\">4</span>, <span style=\"color: #00af00; text-decoration-color: #00af00\">1000</span>)           │               <span style=\"color: #00af00; text-decoration-color: #00af00\">0</span> │ dense_1[<span style=\"color: #00af00; text-decoration-color: #00af00\">0</span>][<span style=\"color: #00af00; text-decoration-color: #00af00\">0</span>],             │\n",
       "│                               │                           │                 │ softmax[<span style=\"color: #00af00; text-decoration-color: #00af00\">0</span>][<span style=\"color: #00af00; text-decoration-color: #00af00\">0</span>]              │\n",
       "├───────────────────────────────┼───────────────────────────┼─────────────────┼────────────────────────────┤\n",
       "│ average_pooling1d             │ (<span style=\"color: #00d7ff; text-decoration-color: #00d7ff\">None</span>, <span style=\"color: #00af00; text-decoration-color: #00af00\">1</span>, <span style=\"color: #00af00; text-decoration-color: #00af00\">1000</span>)           │               <span style=\"color: #00af00; text-decoration-color: #00af00\">0</span> │ multiply[<span style=\"color: #00af00; text-decoration-color: #00af00\">0</span>][<span style=\"color: #00af00; text-decoration-color: #00af00\">0</span>]             │\n",
       "│ (<span style=\"color: #0087ff; text-decoration-color: #0087ff\">AveragePooling1D</span>)            │                           │                 │                            │\n",
       "├───────────────────────────────┼───────────────────────────┼─────────────────┼────────────────────────────┤\n",
       "│ reshape (<span style=\"color: #0087ff; text-decoration-color: #0087ff\">Reshape</span>)             │ (<span style=\"color: #00d7ff; text-decoration-color: #00d7ff\">None</span>, <span style=\"color: #00af00; text-decoration-color: #00af00\">1000</span>)              │               <span style=\"color: #00af00; text-decoration-color: #00af00\">0</span> │ average_pooling1d[<span style=\"color: #00af00; text-decoration-color: #00af00\">0</span>][<span style=\"color: #00af00; text-decoration-color: #00af00\">0</span>]    │\n",
       "├───────────────────────────────┼───────────────────────────┼─────────────────┼────────────────────────────┤\n",
       "│ dense_2 (<span style=\"color: #0087ff; text-decoration-color: #0087ff\">Dense</span>)               │ (<span style=\"color: #00d7ff; text-decoration-color: #00d7ff\">None</span>, <span style=\"color: #00af00; text-decoration-color: #00af00\">1</span>)                 │           <span style=\"color: #00af00; text-decoration-color: #00af00\">1,001</span> │ reshape[<span style=\"color: #00af00; text-decoration-color: #00af00\">0</span>][<span style=\"color: #00af00; text-decoration-color: #00af00\">0</span>]              │\n",
       "└───────────────────────────────┴───────────────────────────┴─────────────────┴────────────────────────────┘\n",
       "</pre>\n"
      ],
      "text/plain": [
       "┏━━━━━━━━━━━━━━━━━━━━━━━━━━━━━━━┳━━━━━━━━━━━━━━━━━━━━━━━━━━━┳━━━━━━━━━━━━━━━━━┳━━━━━━━━━━━━━━━━━━━━━━━━━━━━┓\n",
       "┃\u001b[1m \u001b[0m\u001b[1mLayer (type)                 \u001b[0m\u001b[1m \u001b[0m┃\u001b[1m \u001b[0m\u001b[1mOutput Shape             \u001b[0m\u001b[1m \u001b[0m┃\u001b[1m \u001b[0m\u001b[1m        Param #\u001b[0m\u001b[1m \u001b[0m┃\u001b[1m \u001b[0m\u001b[1mConnected to              \u001b[0m\u001b[1m \u001b[0m┃\n",
       "┡━━━━━━━━━━━━━━━━━━━━━━━━━━━━━━━╇━━━━━━━━━━━━━━━━━━━━━━━━━━━╇━━━━━━━━━━━━━━━━━╇━━━━━━━━━━━━━━━━━━━━━━━━━━━━┩\n",
       "│ input_layer (\u001b[38;5;33mInputLayer\u001b[0m)      │ (\u001b[38;5;45mNone\u001b[0m, \u001b[38;5;34m4\u001b[0m, \u001b[38;5;34m9\u001b[0m, \u001b[38;5;34m1\u001b[0m)           │               \u001b[38;5;34m0\u001b[0m │ -                          │\n",
       "├───────────────────────────────┼───────────────────────────┼─────────────────┼────────────────────────────┤\n",
       "│ time_distributed              │ (\u001b[38;5;45mNone\u001b[0m, \u001b[38;5;34m4\u001b[0m, \u001b[38;5;34m8\u001b[0m, \u001b[38;5;34m256\u001b[0m)         │             \u001b[38;5;34m768\u001b[0m │ input_layer[\u001b[38;5;34m0\u001b[0m][\u001b[38;5;34m0\u001b[0m]          │\n",
       "│ (\u001b[38;5;33mTimeDistributed\u001b[0m)             │                           │                 │                            │\n",
       "├───────────────────────────────┼───────────────────────────┼─────────────────┼────────────────────────────┤\n",
       "│ time_distributed_1            │ (\u001b[38;5;45mNone\u001b[0m, \u001b[38;5;34m4\u001b[0m, \u001b[38;5;34m4\u001b[0m, \u001b[38;5;34m256\u001b[0m)         │               \u001b[38;5;34m0\u001b[0m │ time_distributed[\u001b[38;5;34m0\u001b[0m][\u001b[38;5;34m0\u001b[0m]     │\n",
       "│ (\u001b[38;5;33mTimeDistributed\u001b[0m)             │                           │                 │                            │\n",
       "├───────────────────────────────┼───────────────────────────┼─────────────────┼────────────────────────────┤\n",
       "│ time_distributed_2            │ (\u001b[38;5;45mNone\u001b[0m, \u001b[38;5;34m4\u001b[0m, \u001b[38;5;34m1024\u001b[0m)           │               \u001b[38;5;34m0\u001b[0m │ time_distributed_1[\u001b[38;5;34m0\u001b[0m][\u001b[38;5;34m0\u001b[0m]   │\n",
       "│ (\u001b[38;5;33mTimeDistributed\u001b[0m)             │                           │                 │                            │\n",
       "├───────────────────────────────┼───────────────────────────┼─────────────────┼────────────────────────────┤\n",
       "│ gru (\u001b[38;5;33mGRU\u001b[0m)                     │ (\u001b[38;5;45mNone\u001b[0m, \u001b[38;5;34m4\u001b[0m, \u001b[38;5;34m500\u001b[0m)            │       \u001b[38;5;34m2,289,000\u001b[0m │ time_distributed_2[\u001b[38;5;34m0\u001b[0m][\u001b[38;5;34m0\u001b[0m]   │\n",
       "├───────────────────────────────┼───────────────────────────┼─────────────────┼────────────────────────────┤\n",
       "│ dense (\u001b[38;5;33mDense\u001b[0m)                 │ (\u001b[38;5;45mNone\u001b[0m, \u001b[38;5;34m4\u001b[0m, \u001b[38;5;34m1000\u001b[0m)           │         \u001b[38;5;34m501,000\u001b[0m │ gru[\u001b[38;5;34m0\u001b[0m][\u001b[38;5;34m0\u001b[0m]                  │\n",
       "├───────────────────────────────┼───────────────────────────┼─────────────────┼────────────────────────────┤\n",
       "│ dense_1 (\u001b[38;5;33mDense\u001b[0m)               │ (\u001b[38;5;45mNone\u001b[0m, \u001b[38;5;34m4\u001b[0m, \u001b[38;5;34m1000\u001b[0m)           │       \u001b[38;5;34m1,001,000\u001b[0m │ dense[\u001b[38;5;34m0\u001b[0m][\u001b[38;5;34m0\u001b[0m]                │\n",
       "├───────────────────────────────┼───────────────────────────┼─────────────────┼────────────────────────────┤\n",
       "│ softmax (\u001b[38;5;33mSoftmax\u001b[0m)             │ (\u001b[38;5;45mNone\u001b[0m, \u001b[38;5;34m4\u001b[0m, \u001b[38;5;34m1000\u001b[0m)           │               \u001b[38;5;34m0\u001b[0m │ dense_1[\u001b[38;5;34m0\u001b[0m][\u001b[38;5;34m0\u001b[0m]              │\n",
       "├───────────────────────────────┼───────────────────────────┼─────────────────┼────────────────────────────┤\n",
       "│ multiply (\u001b[38;5;33mMultiply\u001b[0m)           │ (\u001b[38;5;45mNone\u001b[0m, \u001b[38;5;34m4\u001b[0m, \u001b[38;5;34m1000\u001b[0m)           │               \u001b[38;5;34m0\u001b[0m │ dense_1[\u001b[38;5;34m0\u001b[0m][\u001b[38;5;34m0\u001b[0m],             │\n",
       "│                               │                           │                 │ softmax[\u001b[38;5;34m0\u001b[0m][\u001b[38;5;34m0\u001b[0m]              │\n",
       "├───────────────────────────────┼───────────────────────────┼─────────────────┼────────────────────────────┤\n",
       "│ average_pooling1d             │ (\u001b[38;5;45mNone\u001b[0m, \u001b[38;5;34m1\u001b[0m, \u001b[38;5;34m1000\u001b[0m)           │               \u001b[38;5;34m0\u001b[0m │ multiply[\u001b[38;5;34m0\u001b[0m][\u001b[38;5;34m0\u001b[0m]             │\n",
       "│ (\u001b[38;5;33mAveragePooling1D\u001b[0m)            │                           │                 │                            │\n",
       "├───────────────────────────────┼───────────────────────────┼─────────────────┼────────────────────────────┤\n",
       "│ reshape (\u001b[38;5;33mReshape\u001b[0m)             │ (\u001b[38;5;45mNone\u001b[0m, \u001b[38;5;34m1000\u001b[0m)              │               \u001b[38;5;34m0\u001b[0m │ average_pooling1d[\u001b[38;5;34m0\u001b[0m][\u001b[38;5;34m0\u001b[0m]    │\n",
       "├───────────────────────────────┼───────────────────────────┼─────────────────┼────────────────────────────┤\n",
       "│ dense_2 (\u001b[38;5;33mDense\u001b[0m)               │ (\u001b[38;5;45mNone\u001b[0m, \u001b[38;5;34m1\u001b[0m)                 │           \u001b[38;5;34m1,001\u001b[0m │ reshape[\u001b[38;5;34m0\u001b[0m][\u001b[38;5;34m0\u001b[0m]              │\n",
       "└───────────────────────────────┴───────────────────────────┴─────────────────┴────────────────────────────┘\n"
      ]
     },
     "metadata": {},
     "output_type": "display_data"
    },
    {
     "data": {
      "text/html": [
       "<pre style=\"white-space:pre;overflow-x:auto;line-height:normal;font-family:Menlo,'DejaVu Sans Mono',consolas,'Courier New',monospace\"><span style=\"font-weight: bold\"> Total params: </span><span style=\"color: #00af00; text-decoration-color: #00af00\">3,792,769</span> (14.47 MB)\n",
       "</pre>\n"
      ],
      "text/plain": [
       "\u001b[1m Total params: \u001b[0m\u001b[38;5;34m3,792,769\u001b[0m (14.47 MB)\n"
      ]
     },
     "metadata": {},
     "output_type": "display_data"
    },
    {
     "data": {
      "text/html": [
       "<pre style=\"white-space:pre;overflow-x:auto;line-height:normal;font-family:Menlo,'DejaVu Sans Mono',consolas,'Courier New',monospace\"><span style=\"font-weight: bold\"> Trainable params: </span><span style=\"color: #00af00; text-decoration-color: #00af00\">3,792,769</span> (14.47 MB)\n",
       "</pre>\n"
      ],
      "text/plain": [
       "\u001b[1m Trainable params: \u001b[0m\u001b[38;5;34m3,792,769\u001b[0m (14.47 MB)\n"
      ]
     },
     "metadata": {},
     "output_type": "display_data"
    },
    {
     "data": {
      "text/html": [
       "<pre style=\"white-space:pre;overflow-x:auto;line-height:normal;font-family:Menlo,'DejaVu Sans Mono',consolas,'Courier New',monospace\"><span style=\"font-weight: bold\"> Non-trainable params: </span><span style=\"color: #00af00; text-decoration-color: #00af00\">0</span> (0.00 B)\n",
       "</pre>\n"
      ],
      "text/plain": [
       "\u001b[1m Non-trainable params: \u001b[0m\u001b[38;5;34m0\u001b[0m (0.00 B)\n"
      ]
     },
     "metadata": {},
     "output_type": "display_data"
    }
   ],
   "source": [
    "# Define your input shape\n",
    "input_shape = (4, 9, 1)\n",
    "\n",
    "# Create the input layer\n",
    "input_layer = Input(shape=input_shape)\n",
    "\n",
    "# Apply Conv1D with soft attention\n",
    "conv_layer = TimeDistributed(Conv1D(filters=256, kernel_size=2, activation='relu'))(input_layer)\n",
    "\n",
    "# Apply MaxPooling1D\n",
    "pooling_layer = TimeDistributed(MaxPooling1D(pool_size=2, padding='same'))(conv_layer)\n",
    "\n",
    "# Flatten the output\n",
    "flatten_layer = TimeDistributed(Flatten())(pooling_layer)\n",
    "\n",
    "# Bidirectional GRU layer\n",
    "gru_layer = GRU(500, activation='relu', return_sequences=True)(flatten_layer)\n",
    "\n",
    "# dropout_layer = Dropout(0.5)(gru_layer)\n",
    "# Dense layers\n",
    "denselayer1 = Dense(1000)(gru_layer)\n",
    "denselayer2 = Dense(1000)(denselayer1)\n",
    "\n",
    "# Apply soft attention mechanism\n",
    "attention_weights = Softmax(axis=1)(denselayer2)\n",
    "attended_output = denselayer2 * attention_weights\n",
    "\n",
    "# Apply AveragePooling1D\n",
    "pooled_output = AveragePooling1D(pool_size=4)(attended_output)\n",
    "\n",
    "# Reshape the pooled tensor to (None, 1000)\n",
    "reshaped_output = tf.keras.layers.Reshape(target_shape=(1000,))(pooled_output)\n",
    "\n",
    "# Output layer\n",
    "output_layer = Dense(1)(reshaped_output)\n",
    "\n",
    "# Compile the model\n",
    "model_with_attention = tf.keras.Model(inputs=input_layer, outputs=output_layer)\n",
    "model_with_attention.compile(optimizer='adam', loss='mae')\n",
    "\n",
    "# Summary of the modified model\n",
    "model_with_attention.summary()\n",
    "\n"
   ]
  },
  {
   "cell_type": "code",
   "execution_count": 14,
   "id": "bd867a10-8bc8-466d-9be2-e34a7de2f5cd",
   "metadata": {},
   "outputs": [],
   "source": [
    "# model3.summary()"
   ]
  },
  {
   "cell_type": "code",
   "execution_count": 15,
   "id": "7c4c19ab-196e-4345-a7fb-8fe6d1431c70",
   "metadata": {},
   "outputs": [
    {
     "name": "stdout",
     "output_type": "stream",
     "text": [
      "(20997, 1)\n"
     ]
    }
   ],
   "source": [
    "print(y_train.shape)"
   ]
  },
  {
   "cell_type": "markdown",
   "id": "e07e6b25",
   "metadata": {},
   "source": [
    "We provide a graphical representation of the model by using Netron. Reader can deeply analyse each layer of the model. "
   ]
  },
  {
   "cell_type": "code",
   "execution_count": 16,
   "id": "f999d515",
   "metadata": {
    "scrolled": true
   },
   "outputs": [],
   "source": [
    "\n",
    "# model_with_attention.save('model_with_attention.keras')\n",
    "# netron.start('model_with_attention.h5')"
   ]
  },
  {
   "cell_type": "markdown",
   "id": "6ce5e668",
   "metadata": {},
   "source": [
    "We train the model."
   ]
  },
  {
   "cell_type": "code",
   "execution_count": 17,
   "id": "84c63f1c",
   "metadata": {},
   "outputs": [
    {
     "name": "stdout",
     "output_type": "stream",
     "text": [
      "Epoch 1/100\n",
      "\u001b[1m657/657\u001b[0m \u001b[32m━━━━━━━━━━━━━━━━━━━━\u001b[0m\u001b[37m\u001b[0m \u001b[1m63s\u001b[0m 75ms/step - loss: 334.9924 - val_loss: 240.7392\n",
      "Epoch 2/100\n",
      "\u001b[1m657/657\u001b[0m \u001b[32m━━━━━━━━━━━━━━━━━━━━\u001b[0m\u001b[37m\u001b[0m \u001b[1m48s\u001b[0m 73ms/step - loss: 233.5800 - val_loss: 221.9416\n",
      "Epoch 3/100\n",
      "\u001b[1m657/657\u001b[0m \u001b[32m━━━━━━━━━━━━━━━━━━━━\u001b[0m\u001b[37m\u001b[0m \u001b[1m47s\u001b[0m 72ms/step - loss: 221.5986 - val_loss: 219.5939\n",
      "Epoch 4/100\n",
      "\u001b[1m657/657\u001b[0m \u001b[32m━━━━━━━━━━━━━━━━━━━━\u001b[0m\u001b[37m\u001b[0m \u001b[1m47s\u001b[0m 72ms/step - loss: 215.0665 - val_loss: 218.3803\n",
      "Epoch 5/100\n",
      "\u001b[1m657/657\u001b[0m \u001b[32m━━━━━━━━━━━━━━━━━━━━\u001b[0m\u001b[37m\u001b[0m \u001b[1m48s\u001b[0m 73ms/step - loss: 207.5962 - val_loss: 198.2065\n",
      "Epoch 6/100\n",
      "\u001b[1m657/657\u001b[0m \u001b[32m━━━━━━━━━━━━━━━━━━━━\u001b[0m\u001b[37m\u001b[0m \u001b[1m48s\u001b[0m 73ms/step - loss: 204.1905 - val_loss: 197.6727\n",
      "Epoch 7/100\n",
      "\u001b[1m657/657\u001b[0m \u001b[32m━━━━━━━━━━━━━━━━━━━━\u001b[0m\u001b[37m\u001b[0m \u001b[1m48s\u001b[0m 73ms/step - loss: 198.0268 - val_loss: 191.4813\n",
      "Epoch 8/100\n",
      "\u001b[1m657/657\u001b[0m \u001b[32m━━━━━━━━━━━━━━━━━━━━\u001b[0m\u001b[37m\u001b[0m \u001b[1m48s\u001b[0m 73ms/step - loss: 194.3501 - val_loss: 192.4720\n",
      "Epoch 9/100\n",
      "\u001b[1m657/657\u001b[0m \u001b[32m━━━━━━━━━━━━━━━━━━━━\u001b[0m\u001b[37m\u001b[0m \u001b[1m48s\u001b[0m 73ms/step - loss: 190.0746 - val_loss: 185.5039\n",
      "Epoch 10/100\n",
      "\u001b[1m657/657\u001b[0m \u001b[32m━━━━━━━━━━━━━━━━━━━━\u001b[0m\u001b[37m\u001b[0m \u001b[1m48s\u001b[0m 73ms/step - loss: 185.7244 - val_loss: 190.8318\n",
      "Epoch 11/100\n",
      "\u001b[1m657/657\u001b[0m \u001b[32m━━━━━━━━━━━━━━━━━━━━\u001b[0m\u001b[37m\u001b[0m \u001b[1m48s\u001b[0m 73ms/step - loss: 186.1354 - val_loss: 180.0699\n",
      "Epoch 12/100\n",
      "\u001b[1m657/657\u001b[0m \u001b[32m━━━━━━━━━━━━━━━━━━━━\u001b[0m\u001b[37m\u001b[0m \u001b[1m48s\u001b[0m 73ms/step - loss: 182.6471 - val_loss: 183.4733\n",
      "Epoch 13/100\n",
      "\u001b[1m657/657\u001b[0m \u001b[32m━━━━━━━━━━━━━━━━━━━━\u001b[0m\u001b[37m\u001b[0m \u001b[1m48s\u001b[0m 73ms/step - loss: 181.3722 - val_loss: 178.5695\n",
      "Epoch 14/100\n",
      "\u001b[1m657/657\u001b[0m \u001b[32m━━━━━━━━━━━━━━━━━━━━\u001b[0m\u001b[37m\u001b[0m \u001b[1m48s\u001b[0m 73ms/step - loss: 180.8627 - val_loss: 179.9391\n",
      "Epoch 15/100\n",
      "\u001b[1m657/657\u001b[0m \u001b[32m━━━━━━━━━━━━━━━━━━━━\u001b[0m\u001b[37m\u001b[0m \u001b[1m48s\u001b[0m 72ms/step - loss: 182.3584 - val_loss: 184.5596\n",
      "Epoch 16/100\n",
      "\u001b[1m657/657\u001b[0m \u001b[32m━━━━━━━━━━━━━━━━━━━━\u001b[0m\u001b[37m\u001b[0m \u001b[1m47s\u001b[0m 72ms/step - loss: 179.5498 - val_loss: 180.2326\n",
      "Epoch 17/100\n",
      "\u001b[1m657/657\u001b[0m \u001b[32m━━━━━━━━━━━━━━━━━━━━\u001b[0m\u001b[37m\u001b[0m \u001b[1m47s\u001b[0m 71ms/step - loss: 177.2024 - val_loss: 179.0316\n",
      "Epoch 18/100\n",
      "\u001b[1m657/657\u001b[0m \u001b[32m━━━━━━━━━━━━━━━━━━━━\u001b[0m\u001b[37m\u001b[0m \u001b[1m47s\u001b[0m 71ms/step - loss: 175.0514 - val_loss: 175.8325\n",
      "Epoch 19/100\n",
      "\u001b[1m657/657\u001b[0m \u001b[32m━━━━━━━━━━━━━━━━━━━━\u001b[0m\u001b[37m\u001b[0m \u001b[1m47s\u001b[0m 72ms/step - loss: 176.7559 - val_loss: 176.3321\n",
      "Epoch 20/100\n",
      "\u001b[1m657/657\u001b[0m \u001b[32m━━━━━━━━━━━━━━━━━━━━\u001b[0m\u001b[37m\u001b[0m \u001b[1m47s\u001b[0m 72ms/step - loss: 172.9382 - val_loss: 175.4524\n",
      "Epoch 21/100\n",
      "\u001b[1m657/657\u001b[0m \u001b[32m━━━━━━━━━━━━━━━━━━━━\u001b[0m\u001b[37m\u001b[0m \u001b[1m47s\u001b[0m 71ms/step - loss: 171.7081 - val_loss: 173.4931\n",
      "Epoch 22/100\n",
      "\u001b[1m657/657\u001b[0m \u001b[32m━━━━━━━━━━━━━━━━━━━━\u001b[0m\u001b[37m\u001b[0m \u001b[1m47s\u001b[0m 72ms/step - loss: 172.0970 - val_loss: 172.2694\n",
      "Epoch 23/100\n",
      "\u001b[1m657/657\u001b[0m \u001b[32m━━━━━━━━━━━━━━━━━━━━\u001b[0m\u001b[37m\u001b[0m \u001b[1m47s\u001b[0m 72ms/step - loss: 167.2220 - val_loss: 175.7324\n",
      "Epoch 24/100\n",
      "\u001b[1m657/657\u001b[0m \u001b[32m━━━━━━━━━━━━━━━━━━━━\u001b[0m\u001b[37m\u001b[0m \u001b[1m35s\u001b[0m 54ms/step - loss: 168.4229 - val_loss: 177.7863\n",
      "Epoch 25/100\n",
      "\u001b[1m657/657\u001b[0m \u001b[32m━━━━━━━━━━━━━━━━━━━━\u001b[0m\u001b[37m\u001b[0m \u001b[1m29s\u001b[0m 44ms/step - loss: 169.0960 - val_loss: 168.3964\n",
      "Epoch 26/100\n",
      "\u001b[1m657/657\u001b[0m \u001b[32m━━━━━━━━━━━━━━━━━━━━\u001b[0m\u001b[37m\u001b[0m \u001b[1m28s\u001b[0m 42ms/step - loss: 163.1285 - val_loss: 172.7379\n",
      "Epoch 27/100\n",
      "\u001b[1m657/657\u001b[0m \u001b[32m━━━━━━━━━━━━━━━━━━━━\u001b[0m\u001b[37m\u001b[0m \u001b[1m28s\u001b[0m 42ms/step - loss: 166.6711 - val_loss: 168.1588\n",
      "Epoch 28/100\n",
      "\u001b[1m657/657\u001b[0m \u001b[32m━━━━━━━━━━━━━━━━━━━━\u001b[0m\u001b[37m\u001b[0m \u001b[1m28s\u001b[0m 42ms/step - loss: 165.3529 - val_loss: 169.2309\n",
      "Epoch 29/100\n",
      "\u001b[1m657/657\u001b[0m \u001b[32m━━━━━━━━━━━━━━━━━━━━\u001b[0m\u001b[37m\u001b[0m \u001b[1m28s\u001b[0m 42ms/step - loss: 164.8087 - val_loss: 168.4976\n",
      "Epoch 30/100\n",
      "\u001b[1m657/657\u001b[0m \u001b[32m━━━━━━━━━━━━━━━━━━━━\u001b[0m\u001b[37m\u001b[0m \u001b[1m28s\u001b[0m 42ms/step - loss: 162.6896 - val_loss: 167.9015\n",
      "Epoch 31/100\n",
      "\u001b[1m657/657\u001b[0m \u001b[32m━━━━━━━━━━━━━━━━━━━━\u001b[0m\u001b[37m\u001b[0m \u001b[1m28s\u001b[0m 42ms/step - loss: 159.0899 - val_loss: 170.0079\n",
      "Epoch 32/100\n",
      "\u001b[1m657/657\u001b[0m \u001b[32m━━━━━━━━━━━━━━━━━━━━\u001b[0m\u001b[37m\u001b[0m \u001b[1m28s\u001b[0m 42ms/step - loss: 158.7370 - val_loss: 172.3561\n",
      "Epoch 33/100\n",
      "\u001b[1m657/657\u001b[0m \u001b[32m━━━━━━━━━━━━━━━━━━━━\u001b[0m\u001b[37m\u001b[0m \u001b[1m28s\u001b[0m 42ms/step - loss: 155.7447 - val_loss: 163.2740\n",
      "Epoch 34/100\n",
      "\u001b[1m657/657\u001b[0m \u001b[32m━━━━━━━━━━━━━━━━━━━━\u001b[0m\u001b[37m\u001b[0m \u001b[1m28s\u001b[0m 42ms/step - loss: 159.4340 - val_loss: 173.4419\n",
      "Epoch 35/100\n",
      "\u001b[1m657/657\u001b[0m \u001b[32m━━━━━━━━━━━━━━━━━━━━\u001b[0m\u001b[37m\u001b[0m \u001b[1m28s\u001b[0m 42ms/step - loss: 159.9434 - val_loss: 164.3207\n",
      "Epoch 36/100\n",
      "\u001b[1m657/657\u001b[0m \u001b[32m━━━━━━━━━━━━━━━━━━━━\u001b[0m\u001b[37m\u001b[0m \u001b[1m28s\u001b[0m 42ms/step - loss: 160.5710 - val_loss: 165.8428\n",
      "Epoch 37/100\n",
      "\u001b[1m657/657\u001b[0m \u001b[32m━━━━━━━━━━━━━━━━━━━━\u001b[0m\u001b[37m\u001b[0m \u001b[1m28s\u001b[0m 42ms/step - loss: 155.6846 - val_loss: 169.2786\n",
      "Epoch 38/100\n",
      "\u001b[1m657/657\u001b[0m \u001b[32m━━━━━━━━━━━━━━━━━━━━\u001b[0m\u001b[37m\u001b[0m \u001b[1m28s\u001b[0m 42ms/step - loss: 152.9732 - val_loss: 162.3188\n",
      "Epoch 39/100\n",
      "\u001b[1m657/657\u001b[0m \u001b[32m━━━━━━━━━━━━━━━━━━━━\u001b[0m\u001b[37m\u001b[0m \u001b[1m41s\u001b[0m 42ms/step - loss: 150.4524 - val_loss: 160.8841\n",
      "Epoch 40/100\n",
      "\u001b[1m657/657\u001b[0m \u001b[32m━━━━━━━━━━━━━━━━━━━━\u001b[0m\u001b[37m\u001b[0m \u001b[1m28s\u001b[0m 42ms/step - loss: 152.2645 - val_loss: 161.2215\n",
      "Epoch 41/100\n",
      "\u001b[1m657/657\u001b[0m \u001b[32m━━━━━━━━━━━━━━━━━━━━\u001b[0m\u001b[37m\u001b[0m \u001b[1m28s\u001b[0m 42ms/step - loss: 151.1627 - val_loss: 160.0748\n",
      "Epoch 42/100\n",
      "\u001b[1m657/657\u001b[0m \u001b[32m━━━━━━━━━━━━━━━━━━━━\u001b[0m\u001b[37m\u001b[0m \u001b[1m28s\u001b[0m 42ms/step - loss: 151.2922 - val_loss: 162.4100\n",
      "Epoch 43/100\n",
      "\u001b[1m657/657\u001b[0m \u001b[32m━━━━━━━━━━━━━━━━━━━━\u001b[0m\u001b[37m\u001b[0m \u001b[1m28s\u001b[0m 42ms/step - loss: 150.0528 - val_loss: 159.6579\n",
      "Epoch 44/100\n",
      "\u001b[1m657/657\u001b[0m \u001b[32m━━━━━━━━━━━━━━━━━━━━\u001b[0m\u001b[37m\u001b[0m \u001b[1m41s\u001b[0m 42ms/step - loss: 148.0550 - val_loss: 158.5829\n",
      "Epoch 45/100\n",
      "\u001b[1m657/657\u001b[0m \u001b[32m━━━━━━━━━━━━━━━━━━━━\u001b[0m\u001b[37m\u001b[0m \u001b[1m28s\u001b[0m 42ms/step - loss: 147.3262 - val_loss: 157.2471\n",
      "Epoch 46/100\n",
      "\u001b[1m657/657\u001b[0m \u001b[32m━━━━━━━━━━━━━━━━━━━━\u001b[0m\u001b[37m\u001b[0m \u001b[1m28s\u001b[0m 42ms/step - loss: 144.0786 - val_loss: 158.7348\n",
      "Epoch 47/100\n",
      "\u001b[1m657/657\u001b[0m \u001b[32m━━━━━━━━━━━━━━━━━━━━\u001b[0m\u001b[37m\u001b[0m \u001b[1m28s\u001b[0m 42ms/step - loss: 143.0087 - val_loss: 159.2980\n",
      "Epoch 48/100\n",
      "\u001b[1m657/657\u001b[0m \u001b[32m━━━━━━━━━━━━━━━━━━━━\u001b[0m\u001b[37m\u001b[0m \u001b[1m28s\u001b[0m 42ms/step - loss: 144.6351 - val_loss: 157.1407\n",
      "Epoch 49/100\n",
      "\u001b[1m657/657\u001b[0m \u001b[32m━━━━━━━━━━━━━━━━━━━━\u001b[0m\u001b[37m\u001b[0m \u001b[1m28s\u001b[0m 42ms/step - loss: 144.4216 - val_loss: 161.3411\n",
      "Epoch 50/100\n",
      "\u001b[1m657/657\u001b[0m \u001b[32m━━━━━━━━━━━━━━━━━━━━\u001b[0m\u001b[37m\u001b[0m \u001b[1m28s\u001b[0m 42ms/step - loss: 143.2189 - val_loss: 158.9754\n",
      "Epoch 51/100\n",
      "\u001b[1m657/657\u001b[0m \u001b[32m━━━━━━━━━━━━━━━━━━━━\u001b[0m\u001b[37m\u001b[0m \u001b[1m28s\u001b[0m 42ms/step - loss: 142.4125 - val_loss: 154.4111\n",
      "Epoch 52/100\n",
      "\u001b[1m657/657\u001b[0m \u001b[32m━━━━━━━━━━━━━━━━━━━━\u001b[0m\u001b[37m\u001b[0m \u001b[1m28s\u001b[0m 42ms/step - loss: 139.7255 - val_loss: 155.4296\n",
      "Epoch 53/100\n",
      "\u001b[1m657/657\u001b[0m \u001b[32m━━━━━━━━━━━━━━━━━━━━\u001b[0m\u001b[37m\u001b[0m \u001b[1m28s\u001b[0m 42ms/step - loss: 140.7042 - val_loss: 153.7654\n",
      "Epoch 54/100\n",
      "\u001b[1m657/657\u001b[0m \u001b[32m━━━━━━━━━━━━━━━━━━━━\u001b[0m\u001b[37m\u001b[0m \u001b[1m28s\u001b[0m 42ms/step - loss: 138.9734 - val_loss: 156.5225\n",
      "Epoch 55/100\n",
      "\u001b[1m657/657\u001b[0m \u001b[32m━━━━━━━━━━━━━━━━━━━━\u001b[0m\u001b[37m\u001b[0m \u001b[1m28s\u001b[0m 42ms/step - loss: 135.3491 - val_loss: 154.7990\n",
      "Epoch 56/100\n",
      "\u001b[1m657/657\u001b[0m \u001b[32m━━━━━━━━━━━━━━━━━━━━\u001b[0m\u001b[37m\u001b[0m \u001b[1m28s\u001b[0m 42ms/step - loss: 134.9395 - val_loss: 157.7837\n",
      "Epoch 57/100\n",
      "\u001b[1m657/657\u001b[0m \u001b[32m━━━━━━━━━━━━━━━━━━━━\u001b[0m\u001b[37m\u001b[0m \u001b[1m28s\u001b[0m 42ms/step - loss: 135.9715 - val_loss: 155.5974\n",
      "Epoch 58/100\n",
      "\u001b[1m657/657\u001b[0m \u001b[32m━━━━━━━━━━━━━━━━━━━━\u001b[0m\u001b[37m\u001b[0m \u001b[1m28s\u001b[0m 42ms/step - loss: 136.0281 - val_loss: 151.7452\n",
      "Epoch 59/100\n",
      "\u001b[1m657/657\u001b[0m \u001b[32m━━━━━━━━━━━━━━━━━━━━\u001b[0m\u001b[37m\u001b[0m \u001b[1m28s\u001b[0m 42ms/step - loss: 136.6858 - val_loss: 153.1089\n",
      "Epoch 60/100\n",
      "\u001b[1m657/657\u001b[0m \u001b[32m━━━━━━━━━━━━━━━━━━━━\u001b[0m\u001b[37m\u001b[0m \u001b[1m28s\u001b[0m 42ms/step - loss: 133.6918 - val_loss: 152.2401\n",
      "Epoch 61/100\n",
      "\u001b[1m657/657\u001b[0m \u001b[32m━━━━━━━━━━━━━━━━━━━━\u001b[0m\u001b[37m\u001b[0m \u001b[1m28s\u001b[0m 42ms/step - loss: 132.7793 - val_loss: 158.4989\n",
      "Epoch 62/100\n",
      "\u001b[1m657/657\u001b[0m \u001b[32m━━━━━━━━━━━━━━━━━━━━\u001b[0m\u001b[37m\u001b[0m \u001b[1m28s\u001b[0m 42ms/step - loss: 132.3295 - val_loss: 153.6698\n",
      "Epoch 63/100\n",
      "\u001b[1m657/657\u001b[0m \u001b[32m━━━━━━━━━━━━━━━━━━━━\u001b[0m\u001b[37m\u001b[0m \u001b[1m28s\u001b[0m 42ms/step - loss: 133.0132 - val_loss: 154.8025\n",
      "Epoch 64/100\n",
      "\u001b[1m657/657\u001b[0m \u001b[32m━━━━━━━━━━━━━━━━━━━━\u001b[0m\u001b[37m\u001b[0m \u001b[1m28s\u001b[0m 42ms/step - loss: 133.2599 - val_loss: 153.1904\n",
      "Epoch 65/100\n",
      "\u001b[1m657/657\u001b[0m \u001b[32m━━━━━━━━━━━━━━━━━━━━\u001b[0m\u001b[37m\u001b[0m \u001b[1m28s\u001b[0m 42ms/step - loss: 129.7377 - val_loss: 150.5228\n",
      "Epoch 66/100\n",
      "\u001b[1m657/657\u001b[0m \u001b[32m━━━━━━━━━━━━━━━━━━━━\u001b[0m\u001b[37m\u001b[0m \u001b[1m28s\u001b[0m 42ms/step - loss: 129.3842 - val_loss: 152.8124\n",
      "Epoch 67/100\n",
      "\u001b[1m657/657\u001b[0m \u001b[32m━━━━━━━━━━━━━━━━━━━━\u001b[0m\u001b[37m\u001b[0m \u001b[1m28s\u001b[0m 42ms/step - loss: 133.6632 - val_loss: 151.9346\n",
      "Epoch 68/100\n",
      "\u001b[1m657/657\u001b[0m \u001b[32m━━━━━━━━━━━━━━━━━━━━\u001b[0m\u001b[37m\u001b[0m \u001b[1m28s\u001b[0m 42ms/step - loss: 127.3054 - val_loss: 153.7440\n",
      "Epoch 69/100\n",
      "\u001b[1m657/657\u001b[0m \u001b[32m━━━━━━━━━━━━━━━━━━━━\u001b[0m\u001b[37m\u001b[0m \u001b[1m28s\u001b[0m 42ms/step - loss: 126.1108 - val_loss: 153.9202\n",
      "Epoch 70/100\n",
      "\u001b[1m657/657\u001b[0m \u001b[32m━━━━━━━━━━━━━━━━━━━━\u001b[0m\u001b[37m\u001b[0m \u001b[1m28s\u001b[0m 42ms/step - loss: 127.1326 - val_loss: 151.2418\n",
      "Epoch 71/100\n",
      "\u001b[1m657/657\u001b[0m \u001b[32m━━━━━━━━━━━━━━━━━━━━\u001b[0m\u001b[37m\u001b[0m \u001b[1m41s\u001b[0m 42ms/step - loss: 126.6254 - val_loss: 147.5166\n",
      "Epoch 72/100\n",
      "\u001b[1m657/657\u001b[0m \u001b[32m━━━━━━━━━━━━━━━━━━━━\u001b[0m\u001b[37m\u001b[0m \u001b[1m28s\u001b[0m 42ms/step - loss: 126.3262 - val_loss: 148.5479\n",
      "Epoch 73/100\n",
      "\u001b[1m657/657\u001b[0m \u001b[32m━━━━━━━━━━━━━━━━━━━━\u001b[0m\u001b[37m\u001b[0m \u001b[1m28s\u001b[0m 42ms/step - loss: 124.2350 - val_loss: 153.4529\n",
      "Epoch 74/100\n",
      "\u001b[1m657/657\u001b[0m \u001b[32m━━━━━━━━━━━━━━━━━━━━\u001b[0m\u001b[37m\u001b[0m \u001b[1m28s\u001b[0m 42ms/step - loss: 121.7654 - val_loss: 152.0021\n",
      "Epoch 75/100\n",
      "\u001b[1m657/657\u001b[0m \u001b[32m━━━━━━━━━━━━━━━━━━━━\u001b[0m\u001b[37m\u001b[0m \u001b[1m28s\u001b[0m 42ms/step - loss: 124.8072 - val_loss: 150.3839\n",
      "Epoch 76/100\n",
      "\u001b[1m657/657\u001b[0m \u001b[32m━━━━━━━━━━━━━━━━━━━━\u001b[0m\u001b[37m\u001b[0m \u001b[1m28s\u001b[0m 42ms/step - loss: 121.9065 - val_loss: 148.0080\n",
      "Epoch 77/100\n",
      "\u001b[1m657/657\u001b[0m \u001b[32m━━━━━━━━━━━━━━━━━━━━\u001b[0m\u001b[37m\u001b[0m \u001b[1m28s\u001b[0m 42ms/step - loss: 121.5621 - val_loss: 147.6332\n",
      "Epoch 78/100\n",
      "\u001b[1m657/657\u001b[0m \u001b[32m━━━━━━━━━━━━━━━━━━━━\u001b[0m\u001b[37m\u001b[0m \u001b[1m28s\u001b[0m 42ms/step - loss: 121.2232 - val_loss: 155.8483\n",
      "Epoch 79/100\n",
      "\u001b[1m657/657\u001b[0m \u001b[32m━━━━━━━━━━━━━━━━━━━━\u001b[0m\u001b[37m\u001b[0m \u001b[1m28s\u001b[0m 42ms/step - loss: 121.3489 - val_loss: 146.8822\n",
      "Epoch 80/100\n",
      "\u001b[1m657/657\u001b[0m \u001b[32m━━━━━━━━━━━━━━━━━━━━\u001b[0m\u001b[37m\u001b[0m \u001b[1m28s\u001b[0m 42ms/step - loss: 121.5067 - val_loss: 149.2418\n",
      "Epoch 81/100\n",
      "\u001b[1m657/657\u001b[0m \u001b[32m━━━━━━━━━━━━━━━━━━━━\u001b[0m\u001b[37m\u001b[0m \u001b[1m28s\u001b[0m 42ms/step - loss: 119.3633 - val_loss: 152.4380\n",
      "Epoch 82/100\n",
      "\u001b[1m657/657\u001b[0m \u001b[32m━━━━━━━━━━━━━━━━━━━━\u001b[0m\u001b[37m\u001b[0m \u001b[1m28s\u001b[0m 42ms/step - loss: 117.2471 - val_loss: 149.0491\n",
      "Epoch 83/100\n",
      "\u001b[1m657/657\u001b[0m \u001b[32m━━━━━━━━━━━━━━━━━━━━\u001b[0m\u001b[37m\u001b[0m \u001b[1m28s\u001b[0m 42ms/step - loss: 117.8689 - val_loss: 150.2051\n",
      "Epoch 84/100\n",
      "\u001b[1m657/657\u001b[0m \u001b[32m━━━━━━━━━━━━━━━━━━━━\u001b[0m\u001b[37m\u001b[0m \u001b[1m28s\u001b[0m 42ms/step - loss: 118.5034 - val_loss: 151.4211\n",
      "Epoch 85/100\n",
      "\u001b[1m657/657\u001b[0m \u001b[32m━━━━━━━━━━━━━━━━━━━━\u001b[0m\u001b[37m\u001b[0m \u001b[1m28s\u001b[0m 42ms/step - loss: 115.0546 - val_loss: 149.0003\n",
      "Epoch 86/100\n",
      "\u001b[1m657/657\u001b[0m \u001b[32m━━━━━━━━━━━━━━━━━━━━\u001b[0m\u001b[37m\u001b[0m \u001b[1m28s\u001b[0m 42ms/step - loss: 116.6275 - val_loss: 147.4162\n",
      "Epoch 87/100\n",
      "\u001b[1m657/657\u001b[0m \u001b[32m━━━━━━━━━━━━━━━━━━━━\u001b[0m\u001b[37m\u001b[0m \u001b[1m28s\u001b[0m 42ms/step - loss: 114.4482 - val_loss: 144.6073\n",
      "Epoch 88/100\n",
      "\u001b[1m657/657\u001b[0m \u001b[32m━━━━━━━━━━━━━━━━━━━━\u001b[0m\u001b[37m\u001b[0m \u001b[1m28s\u001b[0m 42ms/step - loss: 112.7182 - val_loss: 147.8485\n",
      "Epoch 89/100\n",
      "\u001b[1m657/657\u001b[0m \u001b[32m━━━━━━━━━━━━━━━━━━━━\u001b[0m\u001b[37m\u001b[0m \u001b[1m28s\u001b[0m 42ms/step - loss: 114.5717 - val_loss: 147.7762\n",
      "Epoch 90/100\n",
      "\u001b[1m657/657\u001b[0m \u001b[32m━━━━━━━━━━━━━━━━━━━━\u001b[0m\u001b[37m\u001b[0m \u001b[1m28s\u001b[0m 42ms/step - loss: 111.2339 - val_loss: 149.0543\n",
      "Epoch 91/100\n",
      "\u001b[1m657/657\u001b[0m \u001b[32m━━━━━━━━━━━━━━━━━━━━\u001b[0m\u001b[37m\u001b[0m \u001b[1m28s\u001b[0m 42ms/step - loss: 112.6748 - val_loss: 147.5994\n",
      "Epoch 92/100\n",
      "\u001b[1m657/657\u001b[0m \u001b[32m━━━━━━━━━━━━━━━━━━━━\u001b[0m\u001b[37m\u001b[0m \u001b[1m28s\u001b[0m 42ms/step - loss: 111.6059 - val_loss: 146.0629\n",
      "Epoch 93/100\n",
      "\u001b[1m657/657\u001b[0m \u001b[32m━━━━━━━━━━━━━━━━━━━━\u001b[0m\u001b[37m\u001b[0m \u001b[1m28s\u001b[0m 43ms/step - loss: 110.7856 - val_loss: 143.9907\n",
      "Epoch 94/100\n",
      "\u001b[1m657/657\u001b[0m \u001b[32m━━━━━━━━━━━━━━━━━━━━\u001b[0m\u001b[37m\u001b[0m \u001b[1m28s\u001b[0m 43ms/step - loss: 109.9628 - val_loss: 144.4300\n",
      "Epoch 95/100\n",
      "\u001b[1m657/657\u001b[0m \u001b[32m━━━━━━━━━━━━━━━━━━━━\u001b[0m\u001b[37m\u001b[0m \u001b[1m28s\u001b[0m 42ms/step - loss: 111.0899 - val_loss: 146.9962\n",
      "Epoch 96/100\n",
      "\u001b[1m657/657\u001b[0m \u001b[32m━━━━━━━━━━━━━━━━━━━━\u001b[0m\u001b[37m\u001b[0m \u001b[1m28s\u001b[0m 42ms/step - loss: 108.2002 - val_loss: 144.6209\n",
      "Epoch 97/100\n",
      "\u001b[1m657/657\u001b[0m \u001b[32m━━━━━━━━━━━━━━━━━━━━\u001b[0m\u001b[37m\u001b[0m \u001b[1m28s\u001b[0m 42ms/step - loss: 107.2504 - val_loss: 144.5448\n",
      "Epoch 98/100\n",
      "\u001b[1m657/657\u001b[0m \u001b[32m━━━━━━━━━━━━━━━━━━━━\u001b[0m\u001b[37m\u001b[0m \u001b[1m28s\u001b[0m 42ms/step - loss: 106.6634 - val_loss: 143.7886\n",
      "Epoch 99/100\n",
      "\u001b[1m657/657\u001b[0m \u001b[32m━━━━━━━━━━━━━━━━━━━━\u001b[0m\u001b[37m\u001b[0m \u001b[1m42s\u001b[0m 43ms/step - loss: 106.8905 - val_loss: 146.2443\n",
      "Epoch 100/100\n",
      "\u001b[1m657/657\u001b[0m \u001b[32m━━━━━━━━━━━━━━━━━━━━\u001b[0m\u001b[37m\u001b[0m \u001b[1m28s\u001b[0m 43ms/step - loss: 105.2960 - val_loss: 144.5513\n",
      "CPU times: total: 2h 2min 21s\n",
      "Wall time: 55min 3s\n"
     ]
    }
   ],
   "source": [
    "%%time\n",
    "\n",
    "history3=model_with_attention.fit(X_train,y_train,epochs=100,batch_size = 32, shuffle=True,validation_data=(X_test,y_test))"
   ]
  },
  {
   "cell_type": "code",
   "execution_count": 18,
   "id": "abba0b87-9118-4cc6-9653-6de20c9a1872",
   "metadata": {},
   "outputs": [],
   "source": [
    "# import keras\n",
    "# tf.keras.s(model_with_attention, 'model_with_attention_AS2(t-12).keras')\n",
    "model_with_attention.save('model_with_attention_GV(t-48).keras')\n",
    "\n",
    "train_loss_pd = pd.DataFrame(history3.history['loss'])\n",
    "val_loss_pd = pd.DataFrame(history3.history['loss'])\n",
    "train_loss_pd.to_csv('train_loss_GV(t-48)')\n",
    "val_loss_pd.to_csv('val_loss_GV(t-48)')"
   ]
  },
  {
   "cell_type": "code",
   "execution_count": 19,
   "id": "6a350564",
   "metadata": {},
   "outputs": [
    {
     "data": {
      "text/plain": [
       "{'loss': [278.86077880859375,\n",
       "  227.9344482421875,\n",
       "  217.92098999023438,\n",
       "  212.0745849609375,\n",
       "  206.71556091308594,\n",
       "  201.1007080078125,\n",
       "  195.8808135986328,\n",
       "  193.1204376220703,\n",
       "  191.17713928222656,\n",
       "  186.50457763671875,\n",
       "  184.84840393066406,\n",
       "  182.9669189453125,\n",
       "  181.23184204101562,\n",
       "  180.24630737304688,\n",
       "  178.86154174804688,\n",
       "  178.45140075683594,\n",
       "  176.54598999023438,\n",
       "  175.3620147705078,\n",
       "  174.5762939453125,\n",
       "  172.4945068359375,\n",
       "  171.60165405273438,\n",
       "  170.8004608154297,\n",
       "  169.18923950195312,\n",
       "  168.91787719726562,\n",
       "  167.8538360595703,\n",
       "  165.82080078125,\n",
       "  164.92269897460938,\n",
       "  165.0467071533203,\n",
       "  163.7932586669922,\n",
       "  161.8261260986328,\n",
       "  160.974609375,\n",
       "  159.69642639160156,\n",
       "  158.66311645507812,\n",
       "  158.4132080078125,\n",
       "  158.0789031982422,\n",
       "  156.40469360351562,\n",
       "  155.9365692138672,\n",
       "  154.52182006835938,\n",
       "  153.64842224121094,\n",
       "  152.7764892578125,\n",
       "  151.07156372070312,\n",
       "  150.5302276611328,\n",
       "  149.3758087158203,\n",
       "  147.65414428710938,\n",
       "  147.43368530273438,\n",
       "  146.6592559814453,\n",
       "  145.6009979248047,\n",
       "  144.34912109375,\n",
       "  142.6341094970703,\n",
       "  142.59619140625,\n",
       "  141.4204559326172,\n",
       "  141.0614776611328,\n",
       "  140.36207580566406,\n",
       "  139.33316040039062,\n",
       "  137.9488067626953,\n",
       "  137.40464782714844,\n",
       "  137.2169189453125,\n",
       "  135.9758758544922,\n",
       "  135.15298461914062,\n",
       "  134.09780883789062,\n",
       "  133.36849975585938,\n",
       "  133.29904174804688,\n",
       "  132.5623321533203,\n",
       "  132.19004821777344,\n",
       "  130.68482971191406,\n",
       "  130.68862915039062,\n",
       "  130.1331329345703,\n",
       "  128.204833984375,\n",
       "  127.68486785888672,\n",
       "  128.08912658691406,\n",
       "  126.30935668945312,\n",
       "  125.90576171875,\n",
       "  124.97502136230469,\n",
       "  124.63880920410156,\n",
       "  123.98948669433594,\n",
       "  122.8241195678711,\n",
       "  122.3558349609375,\n",
       "  121.72663879394531,\n",
       "  121.26868438720703,\n",
       "  120.35536193847656,\n",
       "  119.78073120117188,\n",
       "  118.81637573242188,\n",
       "  118.08563995361328,\n",
       "  117.5535888671875,\n",
       "  117.04139709472656,\n",
       "  116.44048309326172,\n",
       "  115.25822448730469,\n",
       "  114.41777038574219,\n",
       "  113.54264068603516,\n",
       "  113.5548324584961,\n",
       "  112.33966827392578,\n",
       "  112.59838104248047,\n",
       "  110.40852355957031,\n",
       "  110.95684051513672,\n",
       "  110.60924530029297,\n",
       "  109.95603942871094,\n",
       "  108.29753112792969,\n",
       "  107.2493667602539,\n",
       "  107.80751037597656,\n",
       "  106.37747192382812],\n",
       " 'val_loss': [240.73916625976562,\n",
       "  221.9416046142578,\n",
       "  219.5939483642578,\n",
       "  218.38031005859375,\n",
       "  198.20648193359375,\n",
       "  197.67266845703125,\n",
       "  191.4813232421875,\n",
       "  192.47195434570312,\n",
       "  185.50392150878906,\n",
       "  190.83177185058594,\n",
       "  180.06988525390625,\n",
       "  183.4732666015625,\n",
       "  178.56954956054688,\n",
       "  179.9391326904297,\n",
       "  184.5596466064453,\n",
       "  180.23263549804688,\n",
       "  179.0315704345703,\n",
       "  175.83245849609375,\n",
       "  176.33212280273438,\n",
       "  175.4524383544922,\n",
       "  173.49307250976562,\n",
       "  172.26943969726562,\n",
       "  175.7323760986328,\n",
       "  177.7863006591797,\n",
       "  168.3964080810547,\n",
       "  172.73794555664062,\n",
       "  168.15878295898438,\n",
       "  169.2309112548828,\n",
       "  168.49761962890625,\n",
       "  167.9015350341797,\n",
       "  170.00787353515625,\n",
       "  172.3560791015625,\n",
       "  163.2739715576172,\n",
       "  173.44186401367188,\n",
       "  164.32069396972656,\n",
       "  165.8427734375,\n",
       "  169.27859497070312,\n",
       "  162.31881713867188,\n",
       "  160.88414001464844,\n",
       "  161.22154235839844,\n",
       "  160.07481384277344,\n",
       "  162.4099884033203,\n",
       "  159.65789794921875,\n",
       "  158.58291625976562,\n",
       "  157.24705505371094,\n",
       "  158.73484802246094,\n",
       "  159.2979736328125,\n",
       "  157.14073181152344,\n",
       "  161.34112548828125,\n",
       "  158.97535705566406,\n",
       "  154.41107177734375,\n",
       "  155.42958068847656,\n",
       "  153.76541137695312,\n",
       "  156.52249145507812,\n",
       "  154.79896545410156,\n",
       "  157.78367614746094,\n",
       "  155.59744262695312,\n",
       "  151.74517822265625,\n",
       "  153.10890197753906,\n",
       "  152.24008178710938,\n",
       "  158.4989013671875,\n",
       "  153.66976928710938,\n",
       "  154.80247497558594,\n",
       "  153.1904296875,\n",
       "  150.5227813720703,\n",
       "  152.81243896484375,\n",
       "  151.9346466064453,\n",
       "  153.74404907226562,\n",
       "  153.92018127441406,\n",
       "  151.2417755126953,\n",
       "  147.5166473388672,\n",
       "  148.54791259765625,\n",
       "  153.4529266357422,\n",
       "  152.0020751953125,\n",
       "  150.38388061523438,\n",
       "  148.00804138183594,\n",
       "  147.6332244873047,\n",
       "  155.84829711914062,\n",
       "  146.8821563720703,\n",
       "  149.2417755126953,\n",
       "  152.43800354003906,\n",
       "  149.049072265625,\n",
       "  150.20510864257812,\n",
       "  151.4210968017578,\n",
       "  149.00027465820312,\n",
       "  147.41615295410156,\n",
       "  144.6072998046875,\n",
       "  147.84849548339844,\n",
       "  147.77615356445312,\n",
       "  149.05429077148438,\n",
       "  147.599365234375,\n",
       "  146.06289672851562,\n",
       "  143.99069213867188,\n",
       "  144.42996215820312,\n",
       "  146.99615478515625,\n",
       "  144.6208953857422,\n",
       "  144.54481506347656,\n",
       "  143.78858947753906,\n",
       "  146.2443084716797,\n",
       "  144.55133056640625]}"
      ]
     },
     "execution_count": 19,
     "metadata": {},
     "output_type": "execute_result"
    }
   ],
   "source": [
    "# print(history3.items())\n",
    "history3.history"
   ]
  },
  {
   "cell_type": "code",
   "execution_count": 20,
   "id": "b3eaaafe",
   "metadata": {},
   "outputs": [
    {
     "data": {
      "text/plain": [
       "<matplotlib.legend.Legend at 0x26328a84750>"
      ]
     },
     "execution_count": 20,
     "metadata": {},
     "output_type": "execute_result"
    },
    {
     "data": {
      "image/png": "[encoded data removed]",
      "text/plain": [
       "<Figure size 1000x500 with 1 Axes>"
      ]
     },
     "metadata": {},
     "output_type": "display_data"
    }
   ],
   "source": [
    "plt.figure(figsize=(10, 5))\n",
    "plt.plot(train_loss_pd, label='train')\n",
    "plt.plot(val_loss_pd, label='val')\n",
    "plt.legend()"
   ]
  },
  {
   "cell_type": "markdown",
   "id": "9c54db72",
   "metadata": {},
   "source": [
    "## Model evaluation"
   ]
  },
  {
   "cell_type": "markdown",
   "id": "b2ea78bf",
   "metadata": {},
   "source": [
    "We define this function, which will be useful to evaluate the model."
   ]
  },
  {
   "cell_type": "code",
   "execution_count": 21,
   "id": "8c0e5a3b",
   "metadata": {},
   "outputs": [],
   "source": [
    "def flatten(t):\n",
    "    return [item for sublist in t for item in sublist]"
   ]
  },
  {
   "cell_type": "markdown",
   "id": "e9674031",
   "metadata": {},
   "source": [
    "We evaluate the model by using the first metric (mean absolute error). "
   ]
  },
  {
   "cell_type": "code",
   "execution_count": 22,
   "id": "5ecf3c33",
   "metadata": {},
   "outputs": [
    {
     "name": "stdout",
     "output_type": "stream",
     "text": [
      "\u001b[1m324/324\u001b[0m \u001b[32m━━━━━━━━━━━━━━━━━━━━\u001b[0m\u001b[37m\u001b[0m \u001b[1m4s\u001b[0m 10ms/step\n",
      "(10343, 1)\n",
      "10343\n",
      "(10343, 1)\n",
      "10343\n",
      "144.55131163826928\n"
     ]
    }
   ],
   "source": [
    "from sklearn.metrics import mean_absolute_error \n",
    "# from sklearn.metrics import root_mean_squared_error \n",
    "\n",
    "pred = model_with_attention.predict(X_test)\n",
    "print(pred.shape)\n",
    "print(len(flatten(pred)))\n",
    "print(y_test.shape)\n",
    "print(len(flatten(y_test)))\n",
    "\n",
    "MAE = mean_absolute_error(flatten(pred),flatten(y_test))\n",
    "print(MAE)\n",
    "# RMSE = root_mean_squared_error(flatten(pred),flatten(y_test))\n",
    "# print(RMSE)"
   ]
  },
  {
   "cell_type": "markdown",
   "id": "12982dd9",
   "metadata": {},
   "source": [
    "We will evaluate the model with the second metric (accuracy). For this, we divide target variable in three categories: first, data between percentil 0 and 15; second, data between percentil 15 and 85 and thrid, data between percentil 85 and 100. "
   ]
  },
  {
   "cell_type": "code",
   "execution_count": 23,
   "id": "10369faa-d540-4ccd-a24b-4fe206c3d53f",
   "metadata": {},
   "outputs": [
    {
     "name": "stdout",
     "output_type": "stream",
     "text": [
      "\u001b[1m324/324\u001b[0m \u001b[32m━━━━━━━━━━━━━━━━━━━━\u001b[0m\u001b[37m\u001b[0m \u001b[1m3s\u001b[0m 8ms/step\n",
      "[[242.06622]\n",
      " [911.04596]\n",
      " [207.15277]\n",
      " ...\n",
      " [968.48346]\n",
      " [468.57956]\n",
      " [166.54358]]\n"
     ]
    }
   ],
   "source": [
    "pred = model_with_attention.predict(X_test)\n",
    "print(pred)"
   ]
  },
  {
   "cell_type": "code",
   "execution_count": 24,
   "id": "17ad32ac-3aff-4ecf-b8b9-e496b63f9301",
   "metadata": {},
   "outputs": [
    {
     "data": {
      "text/plain": [
       "array([[ 249.],\n",
       "       [ 803.],\n",
       "       [   0.],\n",
       "       ...,\n",
       "       [1029.],\n",
       "       [ 460.],\n",
       "       [ 262.]])"
      ]
     },
     "execution_count": 24,
     "metadata": {},
     "output_type": "execute_result"
    }
   ],
   "source": [
    "y_test"
   ]
  },
  {
   "cell_type": "code",
   "execution_count": 25,
   "id": "d944ccff",
   "metadata": {},
   "outputs": [],
   "source": [
    "obj = list(data['obj'].values)"
   ]
  },
  {
   "cell_type": "code",
   "execution_count": 26,
   "id": "36466028-ed5d-423b-ac17-9ad0b8463604",
   "metadata": {},
   "outputs": [
    {
     "data": {
      "text/plain": [
       "dtype('float32')"
      ]
     },
     "execution_count": 26,
     "metadata": {},
     "output_type": "execute_result"
    }
   ],
   "source": [
    "pred.dtype == np.float64\n",
    "pred.dtype"
   ]
  },
  {
   "cell_type": "code",
   "execution_count": 27,
   "id": "58982b45",
   "metadata": {},
   "outputs": [
    {
     "name": "stdout",
     "output_type": "stream",
     "text": [
      "0\n",
      "146.0\n",
      "993.0\n",
      "2975\n"
     ]
    }
   ],
   "source": [
    "print(np.quantile(obj, 0))\n",
    "print(np.quantile(obj, 0.15))\n",
    "print(np.quantile(obj, 0.85))\n",
    "print(np.quantile(obj, 1))"
   ]
  },
  {
   "cell_type": "markdown",
   "id": "d555df61",
   "metadata": {},
   "source": [
    "We add and substract a small value in extreme values in order to avoid issues. We also transform the predictions lower than 0 in 0. "
   ]
  },
  {
   "cell_type": "code",
   "execution_count": 28,
   "id": "649392d4",
   "metadata": {},
   "outputs": [],
   "source": [
    "bins = [np.quantile(obj, 0)-0.001,np.quantile(obj, 0.15),np.quantile(obj, 0.85),np.quantile(obj, 1)+0.001]\n",
    "names = ['a','b','c']\n",
    "for i in range(len(pred)):\n",
    "    if pred[i]<0:\n",
    "        pred[i] = 0\n",
    "pred2=pd.cut(flatten(pred), bins, labels = names)\n",
    "ytest2=pd.cut(flatten(y_test), bins, labels = names)"
   ]
  },
  {
   "cell_type": "markdown",
   "id": "bfff6821",
   "metadata": {},
   "source": [
    "We obtain the accuracy metric and the confusion matrix corresponding. "
   ]
  },
  {
   "cell_type": "code",
   "execution_count": 29,
   "id": "fbde0271",
   "metadata": {},
   "outputs": [
    {
     "name": "stdout",
     "output_type": "stream",
     "text": [
      "0.7939669341583679\n",
      "[[ 946  553   43]\n",
      " [ 221 6579  427]\n",
      " [  11  876  687]]\n"
     ]
    }
   ],
   "source": [
    "print(accuracy_score(ytest2,pred2))\n",
    "print(confusion_matrix(ytest2,pred2))"
   ]
  },
  {
   "cell_type": "markdown",
   "id": "d58c8161",
   "metadata": {},
   "source": [
    "###  Plotting the actual and predicted values. "
   ]
  },
  {
   "cell_type": "markdown",
   "id": "1692014e",
   "metadata": {},
   "source": [
    "We selelct randomly an observation of the entire dataset and we will analyse the 100 successive observations. We plot\n",
    "the actual and the predicted values of these observations. "
   ]
  },
  {
   "cell_type": "code",
   "execution_count": 30,
   "id": "5711b77d",
   "metadata": {},
   "outputs": [
    {
     "data": {
      "text/plain": [
       "array([[[0.16534653, 0.22098133, 0.3042017 , ..., 0.21287128,\n",
       "         0.6666667 , 0.8695652 ],\n",
       "        [0.14455445, 0.18399854, 0.29882354, ..., 0.21287128,\n",
       "         0.6666667 , 0.9130435 ],\n",
       "        [0.19108911, 0.15470524, 0.31865546, ..., 0.21287128,\n",
       "         0.6666667 , 0.95652175],\n",
       "        [0.15742575, 0.14445259, 0.2742857 , ..., 0.21287128,\n",
       "         0.6666667 , 1.        ]],\n",
       "\n",
       "       [[0.14455445, 0.18399854, 0.29882354, ..., 0.21287128,\n",
       "         0.6666667 , 0.9130435 ],\n",
       "        [0.19108911, 0.15470524, 0.31865546, ..., 0.21287128,\n",
       "         0.6666667 , 0.95652175],\n",
       "        [0.15742575, 0.14445259, 0.2742857 , ..., 0.21287128,\n",
       "         0.6666667 , 1.        ],\n",
       "        [0.21683168, 0.13218601, 0.24168067, ..., 0.22029702,\n",
       "         0.6666667 , 0.        ]],\n",
       "\n",
       "       [[0.19108911, 0.15470524, 0.31865546, ..., 0.21287128,\n",
       "         0.6666667 , 0.95652175],\n",
       "        [0.15742575, 0.14445259, 0.2742857 , ..., 0.21287128,\n",
       "         0.6666667 , 1.        ],\n",
       "        [0.21683168, 0.13218601, 0.24168067, ..., 0.22029702,\n",
       "         0.6666667 , 0.        ],\n",
       "        [0.16237624, 0.09428781, 0.21512605, ..., 0.22029702,\n",
       "         0.6666667 , 0.04347826]],\n",
       "\n",
       "       ...,\n",
       "\n",
       "       [[0.18811882, 0.15195899, 0.2860504 , ..., 0.31683168,\n",
       "         0.6666667 , 0.9130435 ],\n",
       "        [0.15247525, 0.12504578, 0.25243697, ..., 0.31683168,\n",
       "         0.6666667 , 0.95652175],\n",
       "        [0.13960396, 0.09849872, 0.25882354, ..., 0.31683168,\n",
       "         0.6666667 , 1.        ],\n",
       "        [0.13465346, 0.07799341, 0.20470588, ..., 0.3019802 ,\n",
       "         0.6666667 , 0.        ]],\n",
       "\n",
       "       [[0.15247525, 0.12504578, 0.25243697, ..., 0.31683168,\n",
       "         0.6666667 , 0.95652175],\n",
       "        [0.13960396, 0.09849872, 0.25882354, ..., 0.31683168,\n",
       "         0.6666667 , 1.        ],\n",
       "        [0.13465346, 0.07799341, 0.20470588, ..., 0.3019802 ,\n",
       "         0.6666667 , 0.        ],\n",
       "        [0.08019802, 0.03972904, 0.1277311 , ..., 0.3019802 ,\n",
       "         0.6666667 , 0.04347826]],\n",
       "\n",
       "       [[0.13960396, 0.09849872, 0.25882354, ..., 0.31683168,\n",
       "         0.6666667 , 1.        ],\n",
       "        [0.13465346, 0.07799341, 0.20470588, ..., 0.3019802 ,\n",
       "         0.6666667 , 0.        ],\n",
       "        [0.08019802, 0.03972904, 0.1277311 , ..., 0.3019802 ,\n",
       "         0.6666667 , 0.04347826],\n",
       "        [0.07821782, 0.03020871, 0.09142857, ..., 0.3019802 ,\n",
       "         0.6666667 , 0.08695652]]], dtype=float32)"
      ]
     },
     "execution_count": 30,
     "metadata": {},
     "output_type": "execute_result"
    }
   ],
   "source": [
    "np.random.seed(23)\n",
    "rand = np.random.randint(0, 3000)\n",
    "rand\n",
    "\n",
    "# rand = randint(0, 30000, ran=1234)\n",
    "# rand\n",
    "X[rand:rand+100]"
   ]
  },
  {
   "cell_type": "code",
   "execution_count": 31,
   "id": "9dda491d",
   "metadata": {},
   "outputs": [
    {
     "name": "stdout",
     "output_type": "stream",
     "text": [
      "\u001b[1m4/4\u001b[0m \u001b[32m━━━━━━━━━━━━━━━━━━━━\u001b[0m\u001b[37m\u001b[0m \u001b[1m0s\u001b[0m 7ms/step \n"
     ]
    },
    {
     "data": {
      "image/png": "[encoded data removed]",
      "text/plain": [
       "<Figure size 640x480 with 1 Axes>"
      ]
     },
     "metadata": {},
     "output_type": "display_data"
    }
   ],
   "source": [
    "plt.plot(flatten(y[rand:rand+100]), label = \"Actual values\")\n",
    "plt.plot(flatten(model_with_attention.predict(X[rand:rand+100])), label = \"Predicted values\")\n",
    "plt.legend()\n",
    "plt.ylabel('Hourly traffic flow')\n",
    "plt.show()"
   ]
  },
  {
   "cell_type": "code",
   "execution_count": 32,
   "id": "7f389e46",
   "metadata": {},
   "outputs": [],
   "source": [
    "import math\n",
    "\n",
    "def calculate_rmse(actual_values, predicted_values):\n",
    "    \"\"\"\n",
    "    Calculates the Root Mean Square Error (RMSE) given actual and predicted values.\n",
    "    :param actual_values: List of actual observed values.\n",
    "    :param predicted_values: List of predicted values.\n",
    "    :return: RMSE value.\n",
    "    \"\"\"\n",
    "    if len(actual_values) != len(predicted_values):\n",
    "        raise ValueError(\"Lists must have the same length.\")\n",
    "\n",
    "    squared_errors = [(actual - predicted) ** 2 for actual, predicted in zip(actual_values, predicted_values)]\n",
    "    mean_squared_error = sum(squared_errors) / len(actual_values)\n",
    "    rmse = math.sqrt(mean_squared_error)\n",
    "    return rmse\n",
    "\n",
    "\n",
    "RMSE = calculate_rmse(flatten(pred),flatten(y_test))"
   ]
  },
  {
   "cell_type": "code",
   "execution_count": 33,
   "id": "d7165438-ca40-44b0-ada6-d9202c7d8948",
   "metadata": {},
   "outputs": [
    {
     "name": "stdout",
     "output_type": "stream",
     "text": [
      "MAE:  144.55131163826928\n",
      "RMSE:  251.21055604820904\n",
      "Accuracy:  0.7939669341583679\n",
      "confusion matrix:\n",
      "  [[ 946  553   43]\n",
      " [ 221 6579  427]\n",
      " [  11  876  687]]\n"
     ]
    }
   ],
   "source": [
    "print(\"MAE: \", MAE)\n",
    "print(\"RMSE: \", RMSE)\n",
    "print(\"Accuracy: \", accuracy_score(ytest2,pred2))\n",
    "\n",
    "print(\"confusion matrix:\\n \", confusion_matrix(ytest2,pred2))"
   ]
  }
 ],
 "metadata": {
  "kernelspec": {
   "display_name": "Python 3 (ipykernel)",
   "language": "python",
   "name": "python3"
  },
  "language_info": {
   "codemirror_mode": {
    "name": "ipython",
    "version": 3
   },
   "file_extension": ".py",
   "mimetype": "text/x-python",
   "name": "python",
   "nbconvert_exporter": "python",
   "pygments_lexer": "ipython3",
   "version": "3.11.7"
  }
 },
 "nbformat": 4,
 "nbformat_minor": 5
}
