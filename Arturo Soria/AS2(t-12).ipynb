{
 "cells": [
  {
   "cell_type": "code",
   "execution_count": 14,
   "id": "036f4d97-0ddf-4dec-b3c0-5f9940e99ca3",
   "metadata": {},
   "outputs": [],
   "source": [
    "# data1=pd.read_csv('../../Datasets/AS2(t-12).csv')\n",
    "# index1 = data1['clave']\n",
    "# data1=data1.drop(['clave'], axis=1)\n",
    "\n",
    "# data2=pd.read_csv('../../Datasets/AS2(t-24).csv')\n",
    "# index2 = data2['clave']\n",
    "# data2=data2.drop(['clave'], axis=1)\n",
    "\n",
    "# data3=pd.read_csv('../../Datasets/AS2(t-48).csv')\n",
    "# index3 = data3['clave']\n",
    "# data3=data3.drop(['clave'], axis=1)\n",
    "\n",
    "# data4=pd.read_csv('../../Datasets/AS2(t-72).csv')\n",
    "# index4 = data4['clave']\n",
    "# data4=data4.drop(['clave'], axis=1)"
   ]
  },
  {
   "cell_type": "code",
   "execution_count": 15,
   "id": "1ccf5c9e-be92-4e96-9c8e-7af84eabd87e",
   "metadata": {},
   "outputs": [
    {
     "name": "stdout",
     "output_type": "stream",
     "text": [
      "data1 (31379, 9)\n",
      "data2 (31367, 9)\n",
      "data3 (31343, 9)\n",
      "data4 (31319, 9)\n"
     ]
    }
   ],
   "source": [
    "# print('data1', data1.shape)\n",
    "# print('data2', data2.shape)\n",
    "# print('data3', data3.shape)\n",
    "# print('data4', data4.shape)"
   ]
  },
  {
   "cell_type": "code",
   "execution_count": 16,
   "id": "c35aabde-2504-4cce-986e-859ff106c335",
   "metadata": {},
   "outputs": [
    {
     "data": {
      "text/plain": [
       "0        2018-01-01 13:00:00\n",
       "1        2018-01-01 14:00:00\n",
       "2        2018-01-01 15:00:00\n",
       "3        2018-01-01 16:00:00\n",
       "4        2018-01-01 17:00:00\n",
       "                ...         \n",
       "31374    2021-07-31 19:00:00\n",
       "31375    2021-07-31 20:00:00\n",
       "31376    2021-07-31 21:00:00\n",
       "31377    2021-07-31 22:00:00\n",
       "31378    2021-07-31 23:00:00\n",
       "Name: clave, Length: 31379, dtype: object"
      ]
     },
     "execution_count": 16,
     "metadata": {},
     "output_type": "execute_result"
    }
   ],
   "source": [
    "index1"
   ]
  },
  {
   "cell_type": "markdown",
   "id": "c69cb93b",
   "metadata": {},
   "source": [
    "### Import required libraries"
   ]
  },
  {
   "cell_type": "code",
   "execution_count": 1,
   "id": "0c2d189d-98be-4cd2-8b9e-3f6708ebb27c",
   "metadata": {},
   "outputs": [],
   "source": [
    "import tensorflow as tf\n",
    "\n",
    "# print(\"Num GPUs Available: \", tf.config.list_physical_devices('GPU'))"
   ]
  },
  {
   "cell_type": "code",
   "execution_count": 6,
   "id": "52cf218c",
   "metadata": {},
   "outputs": [],
   "source": [
    "import pandas as pd\n",
    "import numpy as np\n",
    "import matplotlib.pyplot as plt \n",
    "from numpy import array\n",
    "from tensorflow.keras.models import Sequential\n",
    "from tensorflow.keras.layers import LSTM, GRU\n",
    "from tensorflow.keras.layers import Bidirectional\n",
    "from tensorflow.keras.layers import Dense\n",
    "from tensorflow.keras.layers import Flatten\n",
    "from tensorflow.keras.layers import TimeDistributed\n",
    "from tensorflow.keras.layers import Dropout\n",
    "from tensorflow.keras.layers import Conv1D\n",
    "from tensorflow.keras.layers import MaxPooling1D\n",
    "from sklearn.preprocessing import LabelEncoder\n",
    "from sklearn.preprocessing import MinMaxScaler\n",
    "from numpy import array\n",
    "from sklearn.model_selection import train_test_split\n",
    "from sklearn.metrics import mean_absolute_error as MAE\n",
    "# from sklearn.metrics import root_mean_squared_error as RMSE\n",
    "import random\n",
    "from sklearn.metrics import accuracy_score\n",
    "from sklearn.metrics import confusion_matrix\n",
    "# !pip install netron\n",
    "# import netron\n",
    "from random import randint"
   ]
  },
  {
   "cell_type": "markdown",
   "id": "6dbc9dff",
   "metadata": {},
   "source": [
    "First of all, we define this function which split a given sequence into multiple samples where each sample has a specified number of time steps and a specifieded number of outputs."
   ]
  },
  {
   "cell_type": "code",
   "execution_count": 7,
   "id": "fd8cb216",
   "metadata": {},
   "outputs": [],
   "source": [
    "def split_sequences(sequences, n_steps_in, n_steps_out):\n",
    "\tX, y = list(), list()\n",
    "\tfor i in range(len(sequences)):\n",
    "\t\t# find the end of this pattern\n",
    "\t\tend_ix = i + n_steps_in\n",
    "\t\tout_end_ix = end_ix + n_steps_out-1\n",
    "\t\t# check if we are beyond the dataset\n",
    "\t\tif out_end_ix > len(sequences):\n",
    "\t\t\tbreak\n",
    "\t\t# gather input and output parts of the pattern\n",
    "\t\tseq_x, seq_y = sequences[i:end_ix, :-1], sequences[end_ix-1:out_end_ix, -1]\n",
    "\t\tX.append(seq_x)\n",
    "\t\ty.append(seq_y)\n",
    "\treturn array(X), array(y)"
   ]
  },
  {
   "cell_type": "markdown",
   "id": "d52b9133",
   "metadata": {},
   "source": [
    "## Data preprocessing"
   ]
  },
  {
   "cell_type": "markdown",
   "id": "8795a8c9",
   "metadata": {},
   "source": [
    "We import data and remove the index. "
   ]
  },
  {
   "cell_type": "code",
   "execution_count": 8,
   "id": "16b38763",
   "metadata": {},
   "outputs": [
    {
     "name": "stdout",
     "output_type": "stream",
     "text": [
      "       var1(t-12)  var2(t-12)  var3(t-12)  var4(t-12)  var5(t-12)  var6(t-12)  \\\n",
      "0             799      1442.0       658.0        76.0         0.0        36.0   \n",
      "1             894       903.0       458.0        76.0         0.0        36.0   \n",
      "2             760       397.0       190.0        76.0         0.0        36.0   \n",
      "3             669       312.0       147.0        76.0         0.0        36.0   \n",
      "4             665       299.0       124.0        76.0         0.0        36.0   \n",
      "...           ...         ...         ...         ...         ...         ...   \n",
      "31374         261       260.0       114.0       218.0         0.0       170.0   \n",
      "31375         395       420.0       170.0       218.0         0.0       170.0   \n",
      "31376         459       590.0       228.0       218.0         0.0       170.0   \n",
      "31377         631       696.0       305.0       218.0         0.0       170.0   \n",
      "31378         743       852.0       353.0       218.0         0.0       170.0   \n",
      "\n",
      "       var7(t-12) var8(t-12)  obj  \n",
      "0           116.0    festivo  468  \n",
      "1           116.0    festivo  201  \n",
      "2           116.0    festivo  243  \n",
      "3           116.0    festivo  349  \n",
      "4           116.0    festivo  430  \n",
      "...           ...        ...  ...  \n",
      "31374       265.0     sábado  347  \n",
      "31375       265.0     sábado  311  \n",
      "31376       265.0     sábado  216  \n",
      "31377       265.0     sábado  182  \n",
      "31378       265.0     sábado  164  \n",
      "\n",
      "[31379 rows x 9 columns]\n",
      "0        2018-01-01 13:00:00\n",
      "1        2018-01-01 14:00:00\n",
      "2        2018-01-01 15:00:00\n",
      "3        2018-01-01 16:00:00\n",
      "4        2018-01-01 17:00:00\n",
      "                ...         \n",
      "31374    2021-07-31 19:00:00\n",
      "31375    2021-07-31 20:00:00\n",
      "31376    2021-07-31 21:00:00\n",
      "31377    2021-07-31 22:00:00\n",
      "31378    2021-07-31 23:00:00\n",
      "Name: clave, Length: 31379, dtype: object\n"
     ]
    }
   ],
   "source": [
    "data=pd.read_csv('../../Datasets/AS2(t-12).csv')\n",
    "index = data['clave']\n",
    "data=data.drop(['clave'], axis=1)\n",
    "print(data)\n",
    "print(index)"
   ]
  },
  {
   "cell_type": "code",
   "execution_count": 9,
   "id": "ca43db00-8ab7-439b-8c62-6e1c7aa9bb68",
   "metadata": {},
   "outputs": [
    {
     "data": {
      "text/plain": [
       "(31379, 9)"
      ]
     },
     "execution_count": 9,
     "metadata": {},
     "output_type": "execute_result"
    }
   ],
   "source": [
    "data.shape"
   ]
  },
  {
   "cell_type": "markdown",
   "id": "38adc20a",
   "metadata": {},
   "source": [
    "We encode the categorical variable 'type of day'."
   ]
  },
  {
   "cell_type": "code",
   "execution_count": 10,
   "id": "0d72d3ae",
   "metadata": {},
   "outputs": [],
   "source": [
    "encoder = LabelEncoder()\n",
    "data[data.columns[7]] = encoder.fit_transform(data[data.columns[7]])\n"
   ]
  },
  {
   "cell_type": "markdown",
   "id": "0a148c96",
   "metadata": {},
   "source": [
    "We add the variable 'hour'. "
   ]
  },
  {
   "cell_type": "code",
   "execution_count": 11,
   "id": "add8bd5d",
   "metadata": {},
   "outputs": [
    {
     "data": {
      "text/html": [
       "<div>\n",
       "<style scoped>\n",
       "    .dataframe tbody tr th:only-of-type {\n",
       "        vertical-align: middle;\n",
       "    }\n",
       "\n",
       "    .dataframe tbody tr th {\n",
       "        vertical-align: top;\n",
       "    }\n",
       "\n",
       "    .dataframe thead th {\n",
       "        text-align: right;\n",
       "    }\n",
       "</style>\n",
       "<table border=\"1\" class=\"dataframe\">\n",
       "  <thead>\n",
       "    <tr style=\"text-align: right;\">\n",
       "      <th></th>\n",
       "      <th>var1(t-12)</th>\n",
       "      <th>var2(t-12)</th>\n",
       "      <th>var3(t-12)</th>\n",
       "      <th>var4(t-12)</th>\n",
       "      <th>var5(t-12)</th>\n",
       "      <th>var6(t-12)</th>\n",
       "      <th>var7(t-12)</th>\n",
       "      <th>var8(t-12)</th>\n",
       "      <th>hour</th>\n",
       "      <th>obj</th>\n",
       "    </tr>\n",
       "  </thead>\n",
       "  <tbody>\n",
       "    <tr>\n",
       "      <th>0</th>\n",
       "      <td>799</td>\n",
       "      <td>1442.0</td>\n",
       "      <td>658.0</td>\n",
       "      <td>76.0</td>\n",
       "      <td>0.0</td>\n",
       "      <td>36.0</td>\n",
       "      <td>116.0</td>\n",
       "      <td>1</td>\n",
       "      <td>13</td>\n",
       "      <td>468</td>\n",
       "    </tr>\n",
       "    <tr>\n",
       "      <th>1</th>\n",
       "      <td>894</td>\n",
       "      <td>903.0</td>\n",
       "      <td>458.0</td>\n",
       "      <td>76.0</td>\n",
       "      <td>0.0</td>\n",
       "      <td>36.0</td>\n",
       "      <td>116.0</td>\n",
       "      <td>1</td>\n",
       "      <td>14</td>\n",
       "      <td>201</td>\n",
       "    </tr>\n",
       "    <tr>\n",
       "      <th>2</th>\n",
       "      <td>760</td>\n",
       "      <td>397.0</td>\n",
       "      <td>190.0</td>\n",
       "      <td>76.0</td>\n",
       "      <td>0.0</td>\n",
       "      <td>36.0</td>\n",
       "      <td>116.0</td>\n",
       "      <td>1</td>\n",
       "      <td>15</td>\n",
       "      <td>243</td>\n",
       "    </tr>\n",
       "    <tr>\n",
       "      <th>3</th>\n",
       "      <td>669</td>\n",
       "      <td>312.0</td>\n",
       "      <td>147.0</td>\n",
       "      <td>76.0</td>\n",
       "      <td>0.0</td>\n",
       "      <td>36.0</td>\n",
       "      <td>116.0</td>\n",
       "      <td>1</td>\n",
       "      <td>16</td>\n",
       "      <td>349</td>\n",
       "    </tr>\n",
       "    <tr>\n",
       "      <th>4</th>\n",
       "      <td>665</td>\n",
       "      <td>299.0</td>\n",
       "      <td>124.0</td>\n",
       "      <td>76.0</td>\n",
       "      <td>0.0</td>\n",
       "      <td>36.0</td>\n",
       "      <td>116.0</td>\n",
       "      <td>1</td>\n",
       "      <td>17</td>\n",
       "      <td>430</td>\n",
       "    </tr>\n",
       "    <tr>\n",
       "      <th>...</th>\n",
       "      <td>...</td>\n",
       "      <td>...</td>\n",
       "      <td>...</td>\n",
       "      <td>...</td>\n",
       "      <td>...</td>\n",
       "      <td>...</td>\n",
       "      <td>...</td>\n",
       "      <td>...</td>\n",
       "      <td>...</td>\n",
       "      <td>...</td>\n",
       "    </tr>\n",
       "    <tr>\n",
       "      <th>31374</th>\n",
       "      <td>261</td>\n",
       "      <td>260.0</td>\n",
       "      <td>114.0</td>\n",
       "      <td>218.0</td>\n",
       "      <td>0.0</td>\n",
       "      <td>170.0</td>\n",
       "      <td>265.0</td>\n",
       "      <td>3</td>\n",
       "      <td>19</td>\n",
       "      <td>347</td>\n",
       "    </tr>\n",
       "    <tr>\n",
       "      <th>31375</th>\n",
       "      <td>395</td>\n",
       "      <td>420.0</td>\n",
       "      <td>170.0</td>\n",
       "      <td>218.0</td>\n",
       "      <td>0.0</td>\n",
       "      <td>170.0</td>\n",
       "      <td>265.0</td>\n",
       "      <td>3</td>\n",
       "      <td>20</td>\n",
       "      <td>311</td>\n",
       "    </tr>\n",
       "    <tr>\n",
       "      <th>31376</th>\n",
       "      <td>459</td>\n",
       "      <td>590.0</td>\n",
       "      <td>228.0</td>\n",
       "      <td>218.0</td>\n",
       "      <td>0.0</td>\n",
       "      <td>170.0</td>\n",
       "      <td>265.0</td>\n",
       "      <td>3</td>\n",
       "      <td>21</td>\n",
       "      <td>216</td>\n",
       "    </tr>\n",
       "    <tr>\n",
       "      <th>31377</th>\n",
       "      <td>631</td>\n",
       "      <td>696.0</td>\n",
       "      <td>305.0</td>\n",
       "      <td>218.0</td>\n",
       "      <td>0.0</td>\n",
       "      <td>170.0</td>\n",
       "      <td>265.0</td>\n",
       "      <td>3</td>\n",
       "      <td>22</td>\n",
       "      <td>182</td>\n",
       "    </tr>\n",
       "    <tr>\n",
       "      <th>31378</th>\n",
       "      <td>743</td>\n",
       "      <td>852.0</td>\n",
       "      <td>353.0</td>\n",
       "      <td>218.0</td>\n",
       "      <td>0.0</td>\n",
       "      <td>170.0</td>\n",
       "      <td>265.0</td>\n",
       "      <td>3</td>\n",
       "      <td>23</td>\n",
       "      <td>164</td>\n",
       "    </tr>\n",
       "  </tbody>\n",
       "</table>\n",
       "<p>31379 rows × 10 columns</p>\n",
       "</div>"
      ],
      "text/plain": [
       "       var1(t-12)  var2(t-12)  var3(t-12)  var4(t-12)  var5(t-12)  var6(t-12)  \\\n",
       "0             799      1442.0       658.0        76.0         0.0        36.0   \n",
       "1             894       903.0       458.0        76.0         0.0        36.0   \n",
       "2             760       397.0       190.0        76.0         0.0        36.0   \n",
       "3             669       312.0       147.0        76.0         0.0        36.0   \n",
       "4             665       299.0       124.0        76.0         0.0        36.0   \n",
       "...           ...         ...         ...         ...         ...         ...   \n",
       "31374         261       260.0       114.0       218.0         0.0       170.0   \n",
       "31375         395       420.0       170.0       218.0         0.0       170.0   \n",
       "31376         459       590.0       228.0       218.0         0.0       170.0   \n",
       "31377         631       696.0       305.0       218.0         0.0       170.0   \n",
       "31378         743       852.0       353.0       218.0         0.0       170.0   \n",
       "\n",
       "       var7(t-12)  var8(t-12)  hour  obj  \n",
       "0           116.0           1    13  468  \n",
       "1           116.0           1    14  201  \n",
       "2           116.0           1    15  243  \n",
       "3           116.0           1    16  349  \n",
       "4           116.0           1    17  430  \n",
       "...           ...         ...   ...  ...  \n",
       "31374       265.0           3    19  347  \n",
       "31375       265.0           3    20  311  \n",
       "31376       265.0           3    21  216  \n",
       "31377       265.0           3    22  182  \n",
       "31378       265.0           3    23  164  \n",
       "\n",
       "[31379 rows x 10 columns]"
      ]
     },
     "execution_count": 11,
     "metadata": {},
     "output_type": "execute_result"
    }
   ],
   "source": [
    "a1=list(range(13,24))\n",
    "a2=list(range(0,24))*1306\n",
    "a3=list(range(0,24))\n",
    "a4=a1+a2+a3\n",
    "data['hour'] = a4\n",
    "data = data.reindex(columns=[data.columns[0],data.columns[1],data.columns[2],data.columns[3],data.columns[4],\n",
    "                             data.columns[5],data.columns[6],data.columns[7],'hour','obj'])\n",
    "data"
   ]
  },
  {
   "cell_type": "markdown",
   "id": "954e93b9",
   "metadata": {},
   "source": [
    "We normalise all input variables. "
   ]
  },
  {
   "cell_type": "code",
   "execution_count": 12,
   "id": "65f8df7e",
   "metadata": {},
   "outputs": [],
   "source": [
    "scaler = MinMaxScaler(feature_range=(0, 1))\n",
    "data[data.columns.difference(['obj'])] = scaler.fit_transform(data[data.columns.difference(['obj'])])"
   ]
  },
  {
   "cell_type": "markdown",
   "id": "9363230c",
   "metadata": {},
   "source": [
    "We apply the previously defined function. We split the original sequence data. Each sample has six time steps as predictor variables (from timestep t-15 to timestep t-12) and one target variable (timestep t). "
   ]
  },
  {
   "cell_type": "code",
   "execution_count": 13,
   "id": "6f6e2681",
   "metadata": {},
   "outputs": [
    {
     "name": "stdout",
     "output_type": "stream",
     "text": [
      "(31376, 4, 9)\n",
      "(31376, 1)\n"
     ]
    }
   ],
   "source": [
    "data1=data.values\n",
    "X, y = split_sequences(data1,4,1)\n",
    "print(X.shape)\n",
    "print(y.shape)"
   ]
  },
  {
   "cell_type": "markdown",
   "id": "c5bae631",
   "metadata": {},
   "source": [
    "## Data analyse"
   ]
  },
  {
   "cell_type": "markdown",
   "id": "1bd47ac5",
   "metadata": {},
   "source": [
    "We make a simple statistical analysis of the target variable. "
   ]
  },
  {
   "cell_type": "code",
   "execution_count": 14,
   "id": "13c6a1fb",
   "metadata": {},
   "outputs": [
    {
     "data": {
      "text/plain": [
       "count    31379.000000\n",
       "mean       434.569712\n",
       "std        349.978099\n",
       "min          0.000000\n",
       "25%        106.000000\n",
       "50%        371.000000\n",
       "75%        738.000000\n",
       "max       2888.000000\n",
       "Name: obj, dtype: float64"
      ]
     },
     "execution_count": 14,
     "metadata": {},
     "output_type": "execute_result"
    }
   ],
   "source": [
    "dataplot = data\n",
    "dataplot['obj'].describe()"
   ]
  },
  {
   "cell_type": "markdown",
   "id": "caff81d0",
   "metadata": {},
   "source": [
    "We plot linechart of the evolution of traffic flow in the first week of 2018 (first available data). "
   ]
  },
  {
   "cell_type": "code",
   "execution_count": 15,
   "id": "778710c6",
   "metadata": {},
   "outputs": [
    {
     "data": {
      "image/png": "[encoded data removed]",
      "text/plain": [
       "<Figure size 640x480 with 1 Axes>"
      ]
     },
     "metadata": {},
     "output_type": "display_data"
    }
   ],
   "source": [
    "plt.plot(list(dataplot['obj'][0:24*7]),\n",
    "        label=index, linewidth=3)\n",
    "plt.title('First week of 2018. Arturo Soria Station')\n",
    "plt.ylabel('Hourly traffic flow')\n",
    "plt.show()"
   ]
  },
  {
   "cell_type": "markdown",
   "id": "4458ab4e",
   "metadata": {},
   "source": [
    "## Model development. "
   ]
  },
  {
   "cell_type": "markdown",
   "id": "08723d86",
   "metadata": {},
   "source": [
    "We reshape our data to have the structure required by the neural network. "
   ]
  },
  {
   "cell_type": "code",
   "execution_count": 16,
   "id": "420d1847",
   "metadata": {},
   "outputs": [],
   "source": [
    "X = X.reshape((X.shape[0], X.shape[1], X.shape[2])).astype('float32')\n"
   ]
  },
  {
   "cell_type": "markdown",
   "id": "ad0849d0",
   "metadata": {},
   "source": [
    "We divide randomly our data in the train and test sets. "
   ]
  },
  {
   "cell_type": "code",
   "execution_count": 17,
   "id": "eb984b95",
   "metadata": {},
   "outputs": [],
   "source": [
    "X_train, X_test, y_train, y_test = train_test_split(\n",
    "X, y, test_size=0.33, random_state=42)"
   ]
  },
  {
   "cell_type": "markdown",
   "id": "95522ffc",
   "metadata": {},
   "source": [
    "We develop our model by using keras and tensorflow. First, we apply a convolutional neural network with 256 kernels which is followed by a max pooling. Then, we flatten data. \n",
    "\n",
    "Subsequently, we use the flatten data as input in the Bidirectional long short term memory network, with 500 units. It is followed by a dropout layer and, finally, we apply a dense layer to obtain the required prediction. "
   ]
  },
  {
   "cell_type": "code",
   "execution_count": 19,
   "id": "f0a6e714",
   "metadata": {},
   "outputs": [
    {
     "name": "stdout",
     "output_type": "stream",
     "text": [
      "Model: \"model_1\"\n",
      "__________________________________________________________________________________________________\n",
      " Layer (type)                   Output Shape         Param #     Connected to                     \n",
      "==================================================================================================\n",
      " input_2 (InputLayer)           [(None, 4, 9, 1)]    0           []                               \n",
      "                                                                                                  \n",
      " time_distributed_3 (TimeDistri  (None, 4, 8, 256)   768         ['input_2[0][0]']                \n",
      " buted)                                                                                           \n",
      "                                                                                                  \n",
      " time_distributed_4 (TimeDistri  (None, 4, 4, 256)   0           ['time_distributed_3[0][0]']     \n",
      " buted)                                                                                           \n",
      "                                                                                                  \n",
      " time_distributed_5 (TimeDistri  (None, 4, 1024)     0           ['time_distributed_4[0][0]']     \n",
      " buted)                                                                                           \n",
      "                                                                                                  \n",
      " gru_1 (GRU)                    (None, 4, 500)       2289000     ['time_distributed_5[0][0]']     \n",
      "                                                                                                  \n",
      " dense_3 (Dense)                (None, 4, 1000)      501000      ['gru_1[0][0]']                  \n",
      "                                                                                                  \n",
      " dense_4 (Dense)                (None, 4, 1000)      1001000     ['dense_3[0][0]']                \n",
      "                                                                                                  \n",
      " softmax_1 (Softmax)            (None, 4, 1000)      0           ['dense_4[0][0]']                \n",
      "                                                                                                  \n",
      " tf.math.multiply_1 (TFOpLambda  (None, 4, 1000)     0           ['dense_4[0][0]',                \n",
      " )                                                                'softmax_1[0][0]']              \n",
      "                                                                                                  \n",
      " average_pooling1d_1 (AveragePo  (None, 1, 1000)     0           ['tf.math.multiply_1[0][0]']     \n",
      " oling1D)                                                                                         \n",
      "                                                                                                  \n",
      " reshape_1 (Reshape)            (None, 1000)         0           ['average_pooling1d_1[0][0]']    \n",
      "                                                                                                  \n",
      " dense_5 (Dense)                (None, 1)            1001        ['reshape_1[0][0]']              \n",
      "                                                                                                  \n",
      "==================================================================================================\n",
      "Total params: 3,792,769\n",
      "Trainable params: 3,792,769\n",
      "Non-trainable params: 0\n",
      "__________________________________________________________________________________________________\n"
     ]
    }
   ],
   "source": [
    "from keras.layers import Input, Layer, Conv1D, MaxPooling1D, Flatten, Bidirectional, GRU\n",
    "from keras.layers import Dropout, Dense, Softmax, AveragePooling1D, Reshape\n",
    "from keras.models import Model\n",
    "\n",
    "\n",
    "\n",
    "\n",
    "import tensorflow as tf\n",
    "from tensorflow.keras.layers import Input, Conv1D, MaxPooling1D, Flatten, Bidirectional, GRU, Softmax, Dense, TimeDistributed\n",
    "\n",
    "# Define your input shape\n",
    "input_shape = (4, 9, 1)\n",
    "\n",
    "import tensorflow as tf\n",
    "from tensorflow.keras.layers import Input, Conv1D, MaxPooling1D, Flatten, Bidirectional, GRU, Softmax, Dense, TimeDistributed, AveragePooling1D\n",
    "\n",
    "# Define your input shape\n",
    "input_shape = (4, 9, 1)\n",
    "\n",
    "# Create the input layer\n",
    "input_layer = Input(shape=input_shape)\n",
    "\n",
    "# Apply Conv1D with soft attention\n",
    "conv_layer = TimeDistributed(Conv1D(filters=256, kernel_size=2, activation='relu'))(input_layer)\n",
    "\n",
    "# Apply MaxPooling1D\n",
    "pooling_layer = TimeDistributed(MaxPooling1D(pool_size=2, padding='same'))(conv_layer)\n",
    "\n",
    "# Flatten the output\n",
    "flatten_layer = TimeDistributed(Flatten())(pooling_layer)\n",
    "\n",
    "# Bidirectional GRU layer\n",
    "gru_layer = GRU(500, activation='relu', return_sequences=True)(flatten_layer)\n",
    "\n",
    "# dropout_layer = Dropout(0.5)(gru_layer)\n",
    "# Dense layers\n",
    "denselayer1 = Dense(1000)(gru_layer)\n",
    "denselayer2 = Dense(1000)(denselayer1)\n",
    "\n",
    "# Apply soft attention mechanism\n",
    "attention_weights = Softmax(axis=1)(denselayer2)\n",
    "attended_output = denselayer2 * attention_weights\n",
    "\n",
    "# Apply AveragePooling1D\n",
    "pooled_output = AveragePooling1D(pool_size=4)(attended_output)\n",
    "\n",
    "# Reshape the pooled tensor to (None, 1000)\n",
    "reshaped_output = tf.keras.layers.Reshape(target_shape=(1000,))(pooled_output)\n",
    "\n",
    "# Output layer\n",
    "output_layer = Dense(1)(reshaped_output)\n",
    "\n",
    "# Compile the model\n",
    "model_with_attention = tf.keras.Model(inputs=input_layer, outputs=output_layer)\n",
    "model_with_attention.compile(optimizer='adam', loss='mae')\n",
    "\n",
    "# Summary of the modified model\n",
    "model_with_attention.summary()\n",
    "\n"
   ]
  },
  {
   "cell_type": "code",
   "execution_count": 30,
   "id": "bd867a10-8bc8-466d-9be2-e34a7de2f5cd",
   "metadata": {},
   "outputs": [],
   "source": [
    "# model3.summary()"
   ]
  },
  {
   "cell_type": "code",
   "execution_count": 20,
   "id": "7c4c19ab-196e-4345-a7fb-8fe6d1431c70",
   "metadata": {},
   "outputs": [
    {
     "name": "stdout",
     "output_type": "stream",
     "text": [
      "(21021, 1)\n"
     ]
    }
   ],
   "source": [
    "print(y_train.shape)"
   ]
  },
  {
   "cell_type": "markdown",
   "id": "e07e6b25",
   "metadata": {},
   "source": [
    "We provide a graphical representation of the model by using Netron. Reader can deeply analyse each layer of the model. "
   ]
  },
  {
   "cell_type": "code",
   "execution_count": 21,
   "id": "f999d515",
   "metadata": {
    "scrolled": true
   },
   "outputs": [],
   "source": [
    "\n",
    "# model_with_attention.save('model_with_attention.keras')\n",
    "# netron.start('model_with_attention.h5')"
   ]
  },
  {
   "cell_type": "markdown",
   "id": "6ce5e668",
   "metadata": {},
   "source": [
    "We train the model."
   ]
  },
  {
   "cell_type": "code",
   "execution_count": 22,
   "id": "84c63f1c",
   "metadata": {},
   "outputs": [
    {
     "name": "stdout",
     "output_type": "stream",
     "text": [
      "Epoch 1/100\n",
      "657/657 [==============================] - 18s 26ms/step - loss: 212.3446 - val_loss: 156.1320\n",
      "Epoch 2/100\n",
      "657/657 [==============================] - 17s 26ms/step - loss: 130.0462 - val_loss: 120.0657\n",
      "Epoch 3/100\n",
      "657/657 [==============================] - 18s 28ms/step - loss: 114.8414 - val_loss: 106.9758\n",
      "Epoch 4/100\n",
      "657/657 [==============================] - 17s 27ms/step - loss: 109.3142 - val_loss: 99.8952\n",
      "Epoch 5/100\n",
      "657/657 [==============================] - 17s 26ms/step - loss: 105.2271 - val_loss: 100.2028\n",
      "Epoch 6/100\n",
      "657/657 [==============================] - 17s 26ms/step - loss: 103.2447 - val_loss: 122.4398\n",
      "Epoch 7/100\n",
      "657/657 [==============================] - 17s 27ms/step - loss: 98.4233 - val_loss: 93.1446\n",
      "Epoch 8/100\n",
      "657/657 [==============================] - 18s 27ms/step - loss: 95.1405 - val_loss: 91.8538\n",
      "Epoch 9/100\n",
      "657/657 [==============================] - 17s 26ms/step - loss: 94.7296 - val_loss: 86.8174\n",
      "Epoch 10/100\n",
      "657/657 [==============================] - 17s 26ms/step - loss: 91.6966 - val_loss: 90.4655\n",
      "Epoch 11/100\n",
      "657/657 [==============================] - 17s 26ms/step - loss: 89.6810 - val_loss: 85.0860\n",
      "Epoch 12/100\n",
      "657/657 [==============================] - 17s 26ms/step - loss: 86.7486 - val_loss: 88.8737\n",
      "Epoch 13/100\n",
      "657/657 [==============================] - 17s 26ms/step - loss: 86.3560 - val_loss: 83.4716\n",
      "Epoch 14/100\n",
      "657/657 [==============================] - 17s 26ms/step - loss: 84.9827 - val_loss: 86.1288\n",
      "Epoch 15/100\n",
      "657/657 [==============================] - 17s 27ms/step - loss: 84.0989 - val_loss: 99.1339\n",
      "Epoch 16/100\n",
      "657/657 [==============================] - 18s 27ms/step - loss: 83.6702 - val_loss: 80.6946\n",
      "Epoch 17/100\n",
      "657/657 [==============================] - 18s 27ms/step - loss: 80.5961 - val_loss: 78.9653\n",
      "Epoch 18/100\n",
      "657/657 [==============================] - 18s 27ms/step - loss: 81.3516 - val_loss: 84.9162\n",
      "Epoch 19/100\n",
      "657/657 [==============================] - 17s 27ms/step - loss: 80.6693 - val_loss: 78.9750\n",
      "Epoch 20/100\n",
      "657/657 [==============================] - 18s 27ms/step - loss: 79.3836 - val_loss: 76.6083\n",
      "Epoch 21/100\n",
      "657/657 [==============================] - 17s 27ms/step - loss: 78.5691 - val_loss: 77.2126\n",
      "Epoch 22/100\n",
      "657/657 [==============================] - 17s 27ms/step - loss: 76.1392 - val_loss: 75.7521\n",
      "Epoch 23/100\n",
      "657/657 [==============================] - 17s 27ms/step - loss: 76.9353 - val_loss: 78.5352\n",
      "Epoch 24/100\n",
      "657/657 [==============================] - 18s 27ms/step - loss: 75.2871 - val_loss: 73.2944\n",
      "Epoch 25/100\n",
      "657/657 [==============================] - 18s 27ms/step - loss: 74.8895 - val_loss: 83.6545\n",
      "Epoch 26/100\n",
      "657/657 [==============================] - 18s 27ms/step - loss: 74.4227 - val_loss: 72.1672\n",
      "Epoch 27/100\n",
      "657/657 [==============================] - 18s 27ms/step - loss: 73.3832 - val_loss: 71.5772\n",
      "Epoch 28/100\n",
      "657/657 [==============================] - 18s 27ms/step - loss: 71.7384 - val_loss: 76.9449\n",
      "Epoch 29/100\n",
      "657/657 [==============================] - 18s 27ms/step - loss: 72.4316 - val_loss: 81.8349\n",
      "Epoch 30/100\n",
      "657/657 [==============================] - 17s 27ms/step - loss: 71.2883 - val_loss: 77.1122\n",
      "Epoch 31/100\n",
      "657/657 [==============================] - 17s 26ms/step - loss: 71.0450 - val_loss: 71.8049\n",
      "Epoch 32/100\n",
      "657/657 [==============================] - 17s 26ms/step - loss: 70.7089 - val_loss: 69.1098\n",
      "Epoch 33/100\n",
      "657/657 [==============================] - 17s 26ms/step - loss: 69.4144 - val_loss: 71.0823\n",
      "Epoch 34/100\n",
      "657/657 [==============================] - 17s 26ms/step - loss: 68.9971 - val_loss: 71.2670\n",
      "Epoch 35/100\n",
      "657/657 [==============================] - 17s 27ms/step - loss: 68.5749 - val_loss: 70.5870\n",
      "Epoch 36/100\n",
      "657/657 [==============================] - 17s 26ms/step - loss: 68.2412 - val_loss: 67.5421\n",
      "Epoch 37/100\n",
      "657/657 [==============================] - 17s 26ms/step - loss: 67.2964 - val_loss: 68.6739\n",
      "Epoch 38/100\n",
      "657/657 [==============================] - 17s 26ms/step - loss: 67.5391 - val_loss: 69.4278\n",
      "Epoch 39/100\n",
      "657/657 [==============================] - 17s 26ms/step - loss: 67.2111 - val_loss: 67.8625\n",
      "Epoch 40/100\n",
      "657/657 [==============================] - 17s 26ms/step - loss: 66.3486 - val_loss: 65.7760\n",
      "Epoch 41/100\n",
      "657/657 [==============================] - 17s 27ms/step - loss: 65.8223 - val_loss: 69.3735\n",
      "Epoch 42/100\n",
      "657/657 [==============================] - 17s 26ms/step - loss: 65.1752 - val_loss: 67.4193\n",
      "Epoch 43/100\n",
      "657/657 [==============================] - 17s 26ms/step - loss: 65.5811 - val_loss: 68.3587\n",
      "Epoch 44/100\n",
      "657/657 [==============================] - 17s 26ms/step - loss: 64.4551 - val_loss: 65.9793\n",
      "Epoch 45/100\n",
      "657/657 [==============================] - 17s 26ms/step - loss: 64.2742 - val_loss: 64.3013\n",
      "Epoch 46/100\n",
      "657/657 [==============================] - 17s 26ms/step - loss: 63.6525 - val_loss: 63.4072\n",
      "Epoch 47/100\n",
      "657/657 [==============================] - 17s 26ms/step - loss: 63.4539 - val_loss: 65.3639\n",
      "Epoch 48/100\n",
      "657/657 [==============================] - 17s 26ms/step - loss: 64.0104 - val_loss: 65.6810\n",
      "Epoch 49/100\n",
      "657/657 [==============================] - 17s 27ms/step - loss: 62.2365 - val_loss: 65.1145\n",
      "Epoch 50/100\n",
      "657/657 [==============================] - 17s 26ms/step - loss: 62.5628 - val_loss: 66.2761\n",
      "Epoch 51/100\n",
      "657/657 [==============================] - 17s 26ms/step - loss: 61.7587 - val_loss: 65.8074\n",
      "Epoch 52/100\n",
      "657/657 [==============================] - 17s 27ms/step - loss: 61.6874 - val_loss: 63.2552\n",
      "Epoch 53/100\n",
      "657/657 [==============================] - 17s 27ms/step - loss: 61.2912 - val_loss: 64.3394\n",
      "Epoch 54/100\n",
      "657/657 [==============================] - 17s 26ms/step - loss: 60.4728 - val_loss: 63.9171\n",
      "Epoch 55/100\n",
      "657/657 [==============================] - 17s 27ms/step - loss: 60.9191 - val_loss: 68.5606\n",
      "Epoch 56/100\n",
      "657/657 [==============================] - 17s 27ms/step - loss: 60.3103 - val_loss: 61.9838\n",
      "Epoch 57/100\n",
      "657/657 [==============================] - 17s 27ms/step - loss: 59.8418 - val_loss: 62.6967\n",
      "Epoch 58/100\n",
      "657/657 [==============================] - 17s 26ms/step - loss: 59.3533 - val_loss: 64.3058\n",
      "Epoch 59/100\n",
      "657/657 [==============================] - 17s 26ms/step - loss: 59.1935 - val_loss: 63.4476\n",
      "Epoch 60/100\n",
      "657/657 [==============================] - 17s 26ms/step - loss: 58.9578 - val_loss: 67.7003\n",
      "Epoch 61/100\n",
      "657/657 [==============================] - 17s 27ms/step - loss: 58.8958 - val_loss: 63.8198\n",
      "Epoch 62/100\n",
      "657/657 [==============================] - 17s 26ms/step - loss: 58.1861 - val_loss: 62.5293\n",
      "Epoch 63/100\n",
      "657/657 [==============================] - 17s 26ms/step - loss: 57.3618 - val_loss: 62.0853\n",
      "Epoch 64/100\n",
      "657/657 [==============================] - 17s 26ms/step - loss: 57.7722 - val_loss: 62.9072\n",
      "Epoch 65/100\n",
      "657/657 [==============================] - 17s 26ms/step - loss: 57.6646 - val_loss: 62.5064\n",
      "Epoch 66/100\n",
      "657/657 [==============================] - 17s 27ms/step - loss: 56.8816 - val_loss: 65.6775\n",
      "Epoch 67/100\n",
      "657/657 [==============================] - 17s 27ms/step - loss: 56.7633 - val_loss: 61.2790\n",
      "Epoch 68/100\n",
      "657/657 [==============================] - 17s 27ms/step - loss: 56.3270 - val_loss: 61.2891\n",
      "Epoch 69/100\n",
      "657/657 [==============================] - 17s 27ms/step - loss: 55.9202 - val_loss: 59.5677\n",
      "Epoch 70/100\n",
      "657/657 [==============================] - 17s 26ms/step - loss: 55.7763 - val_loss: 64.1231\n",
      "Epoch 71/100\n",
      "657/657 [==============================] - 17s 26ms/step - loss: 55.9635 - val_loss: 62.3274\n",
      "Epoch 72/100\n",
      "657/657 [==============================] - 17s 26ms/step - loss: 55.0815 - val_loss: 61.3199\n",
      "Epoch 73/100\n",
      "657/657 [==============================] - 17s 27ms/step - loss: 55.2136 - val_loss: 61.6273\n",
      "Epoch 74/100\n",
      "657/657 [==============================] - 17s 26ms/step - loss: 54.0174 - val_loss: 62.8346\n",
      "Epoch 75/100\n",
      "657/657 [==============================] - 17s 26ms/step - loss: 54.1638 - val_loss: 60.4293\n",
      "Epoch 76/100\n",
      "657/657 [==============================] - 17s 26ms/step - loss: 54.4041 - val_loss: 60.1277\n",
      "Epoch 77/100\n",
      "657/657 [==============================] - 18s 27ms/step - loss: 54.1530 - val_loss: 62.6439\n",
      "Epoch 78/100\n"
     ]
    },
    {
     "name": "stdout",
     "output_type": "stream",
     "text": [
      "657/657 [==============================] - 17s 26ms/step - loss: 53.4765 - val_loss: 61.1090\n",
      "Epoch 79/100\n",
      "657/657 [==============================] - 17s 26ms/step - loss: 53.5852 - val_loss: 62.0994\n",
      "Epoch 80/100\n",
      "657/657 [==============================] - 17s 27ms/step - loss: 52.9934 - val_loss: 66.0432\n",
      "Epoch 81/100\n",
      "657/657 [==============================] - 17s 26ms/step - loss: 53.3996 - val_loss: 60.9122\n",
      "Epoch 82/100\n",
      "657/657 [==============================] - 17s 26ms/step - loss: 52.5818 - val_loss: 58.7159\n",
      "Epoch 83/100\n",
      "657/657 [==============================] - 17s 26ms/step - loss: 52.9310 - val_loss: 61.6712\n",
      "Epoch 84/100\n",
      "657/657 [==============================] - 17s 26ms/step - loss: 51.6188 - val_loss: 62.7057\n",
      "Epoch 85/100\n",
      "657/657 [==============================] - 17s 26ms/step - loss: 52.4595 - val_loss: 60.3947\n",
      "Epoch 86/100\n",
      "657/657 [==============================] - 17s 26ms/step - loss: 52.0080 - val_loss: 60.5016\n",
      "Epoch 87/100\n",
      "657/657 [==============================] - 17s 26ms/step - loss: 51.8014 - val_loss: 59.1700\n",
      "Epoch 88/100\n",
      "657/657 [==============================] - 17s 26ms/step - loss: 51.2980 - val_loss: 67.0808\n",
      "Epoch 89/100\n",
      "657/657 [==============================] - 17s 26ms/step - loss: 50.7474 - val_loss: 60.2052\n",
      "Epoch 90/100\n",
      "657/657 [==============================] - 17s 26ms/step - loss: 50.6850 - val_loss: 63.4271\n",
      "Epoch 91/100\n",
      "657/657 [==============================] - 17s 26ms/step - loss: 50.3863 - val_loss: 59.9794\n",
      "Epoch 92/100\n",
      "657/657 [==============================] - 17s 26ms/step - loss: 50.5694 - val_loss: 60.3327\n",
      "Epoch 93/100\n",
      "657/657 [==============================] - 17s 27ms/step - loss: 50.1103 - val_loss: 59.8655\n",
      "Epoch 94/100\n",
      "657/657 [==============================] - 17s 26ms/step - loss: 49.6055 - val_loss: 58.8492\n",
      "Epoch 95/100\n",
      "657/657 [==============================] - 17s 26ms/step - loss: 49.7745 - val_loss: 60.1012\n",
      "Epoch 96/100\n",
      "657/657 [==============================] - 17s 26ms/step - loss: 48.9455 - val_loss: 58.5394\n",
      "Epoch 97/100\n",
      "657/657 [==============================] - 17s 26ms/step - loss: 48.2918 - val_loss: 63.0040\n",
      "Epoch 98/100\n",
      "657/657 [==============================] - 17s 26ms/step - loss: 48.6541 - val_loss: 65.2645\n",
      "Epoch 99/100\n",
      "657/657 [==============================] - 17s 27ms/step - loss: 49.3476 - val_loss: 62.0782\n",
      "Epoch 100/100\n",
      "657/657 [==============================] - 17s 26ms/step - loss: 49.1355 - val_loss: 58.3638\n",
      "Wall time: 28min 59s\n"
     ]
    }
   ],
   "source": [
    "%%time\n",
    "\n",
    "history3=model_with_attention.fit(X_train,y_train,epochs=100,batch_size = 32, shuffle=True,validation_data=(X_test,y_test))"
   ]
  },
  {
   "cell_type": "code",
   "execution_count": 23,
   "id": "abba0b87-9118-4cc6-9653-6de20c9a1872",
   "metadata": {},
   "outputs": [],
   "source": [
    "# import keras\n",
    "# tf.keras.s(model_with_attention, 'model_with_attention_AS2(t-12).keras')\n",
    "model_with_attention.save('model_with_attention_AS2(t-12).keras')\n",
    "\n",
    "train_loss_pd = pd.DataFrame(history3.history['loss'])\n",
    "val_loss_pd = pd.DataFrame(history3.history['loss'])\n",
    "train_loss_pd.to_csv('train_loss_AS2(t-12)')\n",
    "val_loss_pd.to_csv('val_loss_AS2(t-12)')"
   ]
  },
  {
   "cell_type": "code",
   "execution_count": 24,
   "id": "6a350564",
   "metadata": {},
   "outputs": [
    {
     "data": {
      "text/plain": [
       "{'loss': [212.3446044921875,\n",
       "  130.04620361328125,\n",
       "  114.8414077758789,\n",
       "  109.31424713134766,\n",
       "  105.22712707519531,\n",
       "  103.2447280883789,\n",
       "  98.42332458496094,\n",
       "  95.14048767089844,\n",
       "  94.72962951660156,\n",
       "  91.69662475585938,\n",
       "  89.68104553222656,\n",
       "  86.74861907958984,\n",
       "  86.35595703125,\n",
       "  84.98265838623047,\n",
       "  84.09888458251953,\n",
       "  83.67018127441406,\n",
       "  80.59605407714844,\n",
       "  81.35155487060547,\n",
       "  80.66934204101562,\n",
       "  79.38358306884766,\n",
       "  78.56913757324219,\n",
       "  76.13924407958984,\n",
       "  76.93534088134766,\n",
       "  75.28712463378906,\n",
       "  74.88949584960938,\n",
       "  74.4227294921875,\n",
       "  73.38320922851562,\n",
       "  71.73835754394531,\n",
       "  72.43159484863281,\n",
       "  71.28826904296875,\n",
       "  71.04498291015625,\n",
       "  70.70890045166016,\n",
       "  69.41439819335938,\n",
       "  68.99710845947266,\n",
       "  68.5748519897461,\n",
       "  68.2412338256836,\n",
       "  67.29640197753906,\n",
       "  67.53913116455078,\n",
       "  67.21112060546875,\n",
       "  66.34859466552734,\n",
       "  65.82234191894531,\n",
       "  65.17518615722656,\n",
       "  65.58108520507812,\n",
       "  64.45510864257812,\n",
       "  64.27423095703125,\n",
       "  63.652503967285156,\n",
       "  63.4538688659668,\n",
       "  64.01038360595703,\n",
       "  62.23652648925781,\n",
       "  62.56277084350586,\n",
       "  61.75865936279297,\n",
       "  61.6873779296875,\n",
       "  61.29118347167969,\n",
       "  60.47275924682617,\n",
       "  60.91913604736328,\n",
       "  60.310325622558594,\n",
       "  59.841819763183594,\n",
       "  59.35334396362305,\n",
       "  59.19349670410156,\n",
       "  58.95781707763672,\n",
       "  58.89582443237305,\n",
       "  58.186119079589844,\n",
       "  57.36177062988281,\n",
       "  57.772193908691406,\n",
       "  57.66459655761719,\n",
       "  56.881595611572266,\n",
       "  56.763267517089844,\n",
       "  56.32704162597656,\n",
       "  55.92021179199219,\n",
       "  55.77626037597656,\n",
       "  55.963470458984375,\n",
       "  55.08145523071289,\n",
       "  55.21358871459961,\n",
       "  54.017433166503906,\n",
       "  54.16378402709961,\n",
       "  54.40406036376953,\n",
       "  54.15303039550781,\n",
       "  53.47653579711914,\n",
       "  53.58516311645508,\n",
       "  52.99339294433594,\n",
       "  53.399593353271484,\n",
       "  52.58180618286133,\n",
       "  52.93095016479492,\n",
       "  51.61883544921875,\n",
       "  52.459510803222656,\n",
       "  52.00798416137695,\n",
       "  51.801353454589844,\n",
       "  51.29798889160156,\n",
       "  50.7474365234375,\n",
       "  50.68501281738281,\n",
       "  50.386314392089844,\n",
       "  50.56944274902344,\n",
       "  50.110328674316406,\n",
       "  49.60554122924805,\n",
       "  49.77451705932617,\n",
       "  48.945472717285156,\n",
       "  48.291847229003906,\n",
       "  48.65409851074219,\n",
       "  49.34759521484375,\n",
       "  49.135467529296875],\n",
       " 'val_loss': [156.1319580078125,\n",
       "  120.06571960449219,\n",
       "  106.97578430175781,\n",
       "  99.8952407836914,\n",
       "  100.20276641845703,\n",
       "  122.43978881835938,\n",
       "  93.14461517333984,\n",
       "  91.85382080078125,\n",
       "  86.81741333007812,\n",
       "  90.46548461914062,\n",
       "  85.08600616455078,\n",
       "  88.87369537353516,\n",
       "  83.47164154052734,\n",
       "  86.12876892089844,\n",
       "  99.13394927978516,\n",
       "  80.69458770751953,\n",
       "  78.96528625488281,\n",
       "  84.91619873046875,\n",
       "  78.97501373291016,\n",
       "  76.6082534790039,\n",
       "  77.21257019042969,\n",
       "  75.75209045410156,\n",
       "  78.53516387939453,\n",
       "  73.29437255859375,\n",
       "  83.65445709228516,\n",
       "  72.16716003417969,\n",
       "  71.57717895507812,\n",
       "  76.94493865966797,\n",
       "  81.83489227294922,\n",
       "  77.1121826171875,\n",
       "  71.80489349365234,\n",
       "  69.10978698730469,\n",
       "  71.08230590820312,\n",
       "  71.26697540283203,\n",
       "  70.5870132446289,\n",
       "  67.54214477539062,\n",
       "  68.67390441894531,\n",
       "  69.4278335571289,\n",
       "  67.86245727539062,\n",
       "  65.77601623535156,\n",
       "  69.37348175048828,\n",
       "  67.41932678222656,\n",
       "  68.35868835449219,\n",
       "  65.97931671142578,\n",
       "  64.30125427246094,\n",
       "  63.40721893310547,\n",
       "  65.36389923095703,\n",
       "  65.68099975585938,\n",
       "  65.1145248413086,\n",
       "  66.27605438232422,\n",
       "  65.80744171142578,\n",
       "  63.2552375793457,\n",
       "  64.33943939208984,\n",
       "  63.91712188720703,\n",
       "  68.56060791015625,\n",
       "  61.98375701904297,\n",
       "  62.6966552734375,\n",
       "  64.30579376220703,\n",
       "  63.44763946533203,\n",
       "  67.70034790039062,\n",
       "  63.819766998291016,\n",
       "  62.52927780151367,\n",
       "  62.08527374267578,\n",
       "  62.90724182128906,\n",
       "  62.50636672973633,\n",
       "  65.67745971679688,\n",
       "  61.278961181640625,\n",
       "  61.289100646972656,\n",
       "  59.56770706176758,\n",
       "  64.12311553955078,\n",
       "  62.327449798583984,\n",
       "  61.31991958618164,\n",
       "  61.62730407714844,\n",
       "  62.834632873535156,\n",
       "  60.4293212890625,\n",
       "  60.12770462036133,\n",
       "  62.64387893676758,\n",
       "  61.108985900878906,\n",
       "  62.09938430786133,\n",
       "  66.04317474365234,\n",
       "  60.912193298339844,\n",
       "  58.71593475341797,\n",
       "  61.671226501464844,\n",
       "  62.70570373535156,\n",
       "  60.39474868774414,\n",
       "  60.50159454345703,\n",
       "  59.16996765136719,\n",
       "  67.08078002929688,\n",
       "  60.20520782470703,\n",
       "  63.4271125793457,\n",
       "  59.979434967041016,\n",
       "  60.332664489746094,\n",
       "  59.86550521850586,\n",
       "  58.84917449951172,\n",
       "  60.1011848449707,\n",
       "  58.53935241699219,\n",
       "  63.00402069091797,\n",
       "  65.26446533203125,\n",
       "  62.07821273803711,\n",
       "  58.363765716552734]}"
      ]
     },
     "execution_count": 24,
     "metadata": {},
     "output_type": "execute_result"
    }
   ],
   "source": [
    "# print(history3.items())\n",
    "history3.history"
   ]
  },
  {
   "cell_type": "code",
   "execution_count": 25,
   "id": "b3eaaafe",
   "metadata": {},
   "outputs": [
    {
     "data": {
      "text/plain": [
       "<matplotlib.legend.Legend at 0x2b8b4ad6ac8>"
      ]
     },
     "execution_count": 25,
     "metadata": {},
     "output_type": "execute_result"
    },
    {
     "data": {
      "image/png": "[encoded data removed]",
      "text/plain": [
       "<Figure size 1000x500 with 1 Axes>"
      ]
     },
     "metadata": {},
     "output_type": "display_data"
    }
   ],
   "source": [
    "plt.figure(figsize=(10, 5))\n",
    "plt.plot(train_loss_pd, label='train')\n",
    "plt.plot(val_loss_pd, label='val')\n",
    "plt.legend()"
   ]
  },
  {
   "cell_type": "markdown",
   "id": "9c54db72",
   "metadata": {},
   "source": [
    "## Model evaluation"
   ]
  },
  {
   "cell_type": "markdown",
   "id": "b2ea78bf",
   "metadata": {},
   "source": [
    "We define this function, which will be useful to evaluate the model."
   ]
  },
  {
   "cell_type": "code",
   "execution_count": 26,
   "id": "8c0e5a3b",
   "metadata": {},
   "outputs": [],
   "source": [
    "def flatten(t):\n",
    "    return [item for sublist in t for item in sublist]"
   ]
  },
  {
   "cell_type": "markdown",
   "id": "e9674031",
   "metadata": {},
   "source": [
    "We evaluate the model by using the first metric (mean absolute error). "
   ]
  },
  {
   "cell_type": "code",
   "execution_count": 27,
   "id": "5ecf3c33",
   "metadata": {},
   "outputs": [
    {
     "name": "stdout",
     "output_type": "stream",
     "text": [
      "324/324 [==============================] - 3s 8ms/step\n",
      "(10355, 1)\n",
      "10355\n",
      "(10355, 1)\n",
      "10355\n",
      "58.36375941389831\n"
     ]
    }
   ],
   "source": [
    "from sklearn.metrics import mean_absolute_error \n",
    "# from sklearn.metrics import root_mean_squared_error \n",
    "\n",
    "pred = model_with_attention.predict(X_test)\n",
    "print(pred.shape)\n",
    "print(len(flatten(pred)))\n",
    "print(y_test.shape)\n",
    "print(len(flatten(y_test)))\n",
    "\n",
    "MAE = mean_absolute_error(flatten(pred),flatten(y_test))\n",
    "print(MAE)\n",
    "# RMSE = root_mean_squared_error(flatten(pred),flatten(y_test))\n",
    "# print(RMSE)"
   ]
  },
  {
   "cell_type": "code",
   "execution_count": 28,
   "id": "636db09e",
   "metadata": {},
   "outputs": [
    {
     "name": "stdout",
     "output_type": "stream",
     "text": [
      "109.46927647176301\n"
     ]
    }
   ],
   "source": [
    "def rmse(predictions, targets):\n",
    "    \"\"\"\n",
    "    Calculates the Root Mean Square Error (RMSE) between predicted values and actual targets.\n",
    "\n",
    "    Args:\n",
    "        predictions (numpy.ndarray): Predicted values.\n",
    "        targets (numpy.ndarray): Actual target values.\n",
    "\n",
    "    Returns:\n",
    "        float: RMSE value.\n",
    "    \"\"\"\n",
    "    return np.sqrt(((predictions - targets) ** 2).mean())\n",
    "\n",
    "RMSE = rmse(np.array(flatten(pred)),np.array(flatten(y_test)))\n",
    "print(RMSE)"
   ]
  },
  {
   "cell_type": "markdown",
   "id": "12982dd9",
   "metadata": {},
   "source": [
    "We will evaluate the model with the second metric (accuracy). For this, we divide target variable in three categories: first, data between percentil 0 and 15; second, data between percentil 15 and 85 and thrid, data between percentil 85 and 100. "
   ]
  },
  {
   "cell_type": "code",
   "execution_count": 29,
   "id": "10369faa-d540-4ccd-a24b-4fe206c3d53f",
   "metadata": {},
   "outputs": [
    {
     "name": "stdout",
     "output_type": "stream",
     "text": [
      "324/324 [==============================] - 3s 8ms/step\n",
      "[[ 28.250395]\n",
      " [343.53125 ]\n",
      " [432.98187 ]\n",
      " ...\n",
      " [574.9605  ]\n",
      " [ 64.10631 ]\n",
      " [220.48264 ]]\n"
     ]
    }
   ],
   "source": [
    "pred = model_with_attention.predict(X_test)\n",
    "print(pred)"
   ]
  },
  {
   "cell_type": "code",
   "execution_count": 30,
   "id": "17ad32ac-3aff-4ecf-b8b9-e496b63f9301",
   "metadata": {},
   "outputs": [
    {
     "data": {
      "text/plain": [
       "array([[ 31.],\n",
       "       [337.],\n",
       "       [435.],\n",
       "       ...,\n",
       "       [621.],\n",
       "       [ 81.],\n",
       "       [209.]])"
      ]
     },
     "execution_count": 30,
     "metadata": {},
     "output_type": "execute_result"
    }
   ],
   "source": [
    "y_test"
   ]
  },
  {
   "cell_type": "code",
   "execution_count": 31,
   "id": "d944ccff",
   "metadata": {},
   "outputs": [],
   "source": [
    "obj = list(data['obj'].values)"
   ]
  },
  {
   "cell_type": "code",
   "execution_count": 32,
   "id": "36466028-ed5d-423b-ac17-9ad0b8463604",
   "metadata": {},
   "outputs": [
    {
     "data": {
      "text/plain": [
       "dtype('float32')"
      ]
     },
     "execution_count": 32,
     "metadata": {},
     "output_type": "execute_result"
    }
   ],
   "source": [
    "pred.dtype == np.float64\n",
    "pred.dtype"
   ]
  },
  {
   "cell_type": "code",
   "execution_count": 33,
   "id": "58982b45",
   "metadata": {},
   "outputs": [
    {
     "name": "stdout",
     "output_type": "stream",
     "text": [
      "0\n",
      "48.0\n",
      "838.0\n",
      "2888\n"
     ]
    }
   ],
   "source": [
    "print(np.quantile(obj, 0))\n",
    "print(np.quantile(obj, 0.15))\n",
    "print(np.quantile(obj, 0.85))\n",
    "print(np.quantile(obj, 1))"
   ]
  },
  {
   "cell_type": "markdown",
   "id": "d555df61",
   "metadata": {},
   "source": [
    "We add and substract a small value in extreme values in order to avoid issues. We also transform the predictions lower than 0 in 0. "
   ]
  },
  {
   "cell_type": "code",
   "execution_count": 34,
   "id": "649392d4",
   "metadata": {},
   "outputs": [],
   "source": [
    "bins = [np.quantile(obj, 0)-0.001,np.quantile(obj, 0.15),np.quantile(obj, 0.85),np.quantile(obj, 1)+0.001]\n",
    "names = ['a','b','c']\n",
    "for i in range(len(pred)):\n",
    "    if pred[i]<0:\n",
    "        pred[i] = 0\n",
    "pred2=pd.cut(flatten(pred), bins, labels = names)\n",
    "ytest2=pd.cut(flatten(y_test), bins, labels = names)"
   ]
  },
  {
   "cell_type": "markdown",
   "id": "bfff6821",
   "metadata": {},
   "source": [
    "We obtain the accuracy metric and the confusion matrix corresponding. "
   ]
  },
  {
   "cell_type": "code",
   "execution_count": 35,
   "id": "fbde0271",
   "metadata": {},
   "outputs": [
    {
     "name": "stdout",
     "output_type": "stream",
     "text": [
      "0.880830516658619\n",
      "[[1319  210    0]\n",
      " [ 305 6654  330]\n",
      " [   0  389 1148]]\n"
     ]
    }
   ],
   "source": [
    "print(accuracy_score(ytest2,pred2))\n",
    "print(confusion_matrix(ytest2,pred2))"
   ]
  },
  {
   "cell_type": "markdown",
   "id": "d58c8161",
   "metadata": {},
   "source": [
    "###  Plotting the actual and predicted values. "
   ]
  },
  {
   "cell_type": "markdown",
   "id": "1692014e",
   "metadata": {},
   "source": [
    "We selelct randomly an observation of the entire dataset and we will analyse the 100 successive observations. We plot\n",
    "the actual and the predicted values of these observations. "
   ]
  },
  {
   "cell_type": "code",
   "execution_count": 36,
   "id": "5711b77d",
   "metadata": {},
   "outputs": [
    {
     "data": {
      "text/plain": [
       "array([[[0.12838717, 0.39972177, 0.31509694, ..., 0.21287128,\n",
       "         0.6666667 , 0.3478261 ],\n",
       "        [0.11788821, 0.27359146, 0.18628809, ..., 0.21287128,\n",
       "         0.6666667 , 0.39130434],\n",
       "        [0.10038996, 0.17458846, 0.10630194, ..., 0.21287128,\n",
       "         0.6666667 , 0.4347826 ],\n",
       "        [0.09369063, 0.14560631, 0.07790859, ..., 0.21287128,\n",
       "         0.6666667 , 0.47826087]],\n",
       "\n",
       "       [[0.11788821, 0.27359146, 0.18628809, ..., 0.21287128,\n",
       "         0.6666667 , 0.39130434],\n",
       "        [0.10038996, 0.17458846, 0.10630194, ..., 0.21287128,\n",
       "         0.6666667 , 0.4347826 ],\n",
       "        [0.09369063, 0.14560631, 0.07790859, ..., 0.21287128,\n",
       "         0.6666667 , 0.47826087],\n",
       "        [0.08209179, 0.12821701, 0.05401662, ..., 0.22029702,\n",
       "         0.6666667 , 0.5217391 ]],\n",
       "\n",
       "       [[0.10038996, 0.17458846, 0.10630194, ..., 0.21287128,\n",
       "         0.6666667 , 0.4347826 ],\n",
       "        [0.09369063, 0.14560631, 0.07790859, ..., 0.21287128,\n",
       "         0.6666667 , 0.47826087],\n",
       "        [0.08209179, 0.12821701, 0.05401662, ..., 0.22029702,\n",
       "         0.6666667 , 0.5217391 ],\n",
       "        [0.05859414, 0.05726872, 0.02389197, ..., 0.22029702,\n",
       "         0.6666667 , 0.5652174 ]],\n",
       "\n",
       "       ...,\n",
       "\n",
       "       [[0.10228977, 0.25643402, 0.16274238, ..., 0.31683168,\n",
       "         0.6666667 , 0.39130434],\n",
       "        [0.0779922 , 0.15511245, 0.09833795, ..., 0.31683168,\n",
       "         0.6666667 , 0.4347826 ],\n",
       "        [0.0669933 , 0.0936703 , 0.05886427, ..., 0.31683168,\n",
       "         0.6666667 , 0.47826087],\n",
       "        [0.0449955 , 0.06468815, 0.04778393, ..., 0.3019802 ,\n",
       "         0.6666667 , 0.5217391 ]],\n",
       "\n",
       "       [[0.0779922 , 0.15511245, 0.09833795, ..., 0.31683168,\n",
       "         0.6666667 , 0.4347826 ],\n",
       "        [0.0669933 , 0.0936703 , 0.05886427, ..., 0.31683168,\n",
       "         0.6666667 , 0.47826087],\n",
       "        [0.0449955 , 0.06468815, 0.04778393, ..., 0.3019802 ,\n",
       "         0.6666667 , 0.5217391 ],\n",
       "        [0.02949705, 0.02527243, 0.01627424, ..., 0.3019802 ,\n",
       "         0.6666667 , 0.5652174 ]],\n",
       "\n",
       "       [[0.0669933 , 0.0936703 , 0.05886427, ..., 0.31683168,\n",
       "         0.6666667 , 0.47826087],\n",
       "        [0.0449955 , 0.06468815, 0.04778393, ..., 0.3019802 ,\n",
       "         0.6666667 , 0.5217391 ],\n",
       "        [0.02949705, 0.02527243, 0.01627424, ..., 0.3019802 ,\n",
       "         0.6666667 , 0.5652174 ],\n",
       "        [0.02079792, 0.01692557, 0.01073407, ..., 0.3019802 ,\n",
       "         0.6666667 , 0.6086956 ]]], dtype=float32)"
      ]
     },
     "execution_count": 36,
     "metadata": {},
     "output_type": "execute_result"
    }
   ],
   "source": [
    "np.random.seed(23)\n",
    "rand = np.random.randint(0, 3000)\n",
    "rand\n",
    "\n",
    "# rand = randint(0, 30000, ran=1234)\n",
    "# rand\n",
    "X[rand:rand+100]"
   ]
  },
  {
   "cell_type": "code",
   "execution_count": 37,
   "id": "9dda491d",
   "metadata": {},
   "outputs": [
    {
     "name": "stdout",
     "output_type": "stream",
     "text": [
      "4/4 [==============================] - 0s 8ms/step\n"
     ]
    },
    {
     "data": {
      "image/png": "[encoded data removed]",
      "text/plain": [
       "<Figure size 640x480 with 1 Axes>"
      ]
     },
     "metadata": {},
     "output_type": "display_data"
    }
   ],
   "source": [
    "plt.plot(flatten(y[rand:rand+100]), label = \"Actual values\")\n",
    "plt.plot(flatten(model_with_attention.predict(X[rand:rand+100])), label = \"Predicted values\")\n",
    "plt.legend()\n",
    "plt.ylabel('Hourly traffic flow')\n",
    "plt.show()"
   ]
  },
  {
   "cell_type": "code",
   "execution_count": 40,
   "id": "7f389e46",
   "metadata": {},
   "outputs": [
    {
     "name": "stdout",
     "output_type": "stream",
     "text": [
      "MAE:  58.36375941389831\n",
      "RMSE:  109.46927647176301\n",
      "Accuracy:  0.880830516658619\n",
      "confusion matrix:\n",
      "  [[1319  210    0]\n",
      " [ 305 6654  330]\n",
      " [   0  389 1148]]\n"
     ]
    }
   ],
   "source": [
    "print(\"MAE: \", MAE)\n",
    "print(\"RMSE: \", RMSE)\n",
    "print(\"Accuracy: \", accuracy_score(ytest2,pred2))\n",
    "\n",
    "print(\"confusion matrix:\\n \", confusion_matrix(ytest2,pred2))"
   ]
  },
  {
   "cell_type": "code",
   "execution_count": null,
   "id": "d7165438-ca40-44b0-ada6-d9202c7d8948",
   "metadata": {},
   "outputs": [],
   "source": []
  }
 ],
 "metadata": {
  "kernelspec": {
   "display_name": "Python 3 (ipykernel)",
   "language": "python",
   "name": "python3"
  },
  "language_info": {
   "codemirror_mode": {
    "name": "ipython",
    "version": 3
   },
   "file_extension": ".py",
   "mimetype": "text/x-python",
   "name": "python",
   "nbconvert_exporter": "python",
   "pygments_lexer": "ipython3",
   "version": "3.7.16"
  }
 },
 "nbformat": 4,
 "nbformat_minor": 5
}
