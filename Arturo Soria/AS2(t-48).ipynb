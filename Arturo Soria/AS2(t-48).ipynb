{
 "cells": [
  {
   "cell_type": "markdown",
   "id": "c69cb93b",
   "metadata": {},
   "source": [
    "### Import required libraries"
   ]
  },
  {
   "cell_type": "code",
   "execution_count": 1,
   "id": "0c2d189d-98be-4cd2-8b9e-3f6708ebb27c",
   "metadata": {},
   "outputs": [],
   "source": [
    "import tensorflow as tf\n",
    "\n",
    "# print(\"Num GPUs Available: \", tf.config.list_physical_devices('GPU'))"
   ]
  },
  {
   "cell_type": "code",
   "execution_count": 2,
   "id": "52cf218c",
   "metadata": {},
   "outputs": [
    {
     "name": "stdout",
     "output_type": "stream",
     "text": [
      "Requirement already satisfied: netron in c:\\users\\majid\\anaconda3\\envs\\oldestlearning\\lib\\site-packages (7.7.0)\n"
     ]
    }
   ],
   "source": [
    "import pandas as pd\n",
    "import numpy as np\n",
    "import matplotlib.pyplot as plt \n",
    "from numpy import array\n",
    "from tensorflow.keras.models import Sequential\n",
    "from tensorflow.keras.layers import LSTM, GRU\n",
    "from tensorflow.keras.layers import Bidirectional\n",
    "from tensorflow.keras.layers import Dense\n",
    "from tensorflow.keras.layers import Flatten\n",
    "from tensorflow.keras.layers import TimeDistributed\n",
    "from tensorflow.keras.layers import Dropout\n",
    "from tensorflow.keras.layers import Conv1D\n",
    "from tensorflow.keras.layers import MaxPooling1D\n",
    "from sklearn.preprocessing import LabelEncoder\n",
    "from sklearn.preprocessing import MinMaxScaler\n",
    "from numpy import array\n",
    "from sklearn.model_selection import train_test_split\n",
    "from sklearn.metrics import mean_absolute_error as MAE\n",
    "# from sklearn.metrics import root_mean_squared_error as RMSE\n",
    "import random\n",
    "from sklearn.metrics import accuracy_score\n",
    "from sklearn.metrics import confusion_matrix\n",
    "!pip install netron\n",
    "import netron\n",
    "from random import randint"
   ]
  },
  {
   "cell_type": "markdown",
   "id": "6dbc9dff",
   "metadata": {},
   "source": [
    "First of all, we define this function which split a given sequence into multiple samples where each sample has a specified number of time steps and a specifieded number of outputs."
   ]
  },
  {
   "cell_type": "code",
   "execution_count": 3,
   "id": "fd8cb216",
   "metadata": {},
   "outputs": [],
   "source": [
    "def split_sequences(sequences, n_steps_in, n_steps_out):\n",
    "\tX, y = list(), list()\n",
    "\tfor i in range(len(sequences)):\n",
    "\t\t# find the end of this pattern\n",
    "\t\tend_ix = i + n_steps_in\n",
    "\t\tout_end_ix = end_ix + n_steps_out-1\n",
    "\t\t# check if we are beyond the dataset\n",
    "\t\tif out_end_ix > len(sequences):\n",
    "\t\t\tbreak\n",
    "\t\t# gather input and output parts of the pattern\n",
    "\t\tseq_x, seq_y = sequences[i:end_ix, :-1], sequences[end_ix-1:out_end_ix, -1]\n",
    "\t\tX.append(seq_x)\n",
    "\t\ty.append(seq_y)\n",
    "\treturn array(X), array(y)"
   ]
  },
  {
   "cell_type": "markdown",
   "id": "d52b9133",
   "metadata": {},
   "source": [
    "## Data preprocessing"
   ]
  },
  {
   "cell_type": "markdown",
   "id": "8795a8c9",
   "metadata": {},
   "source": [
    "We import data and remove the index. "
   ]
  },
  {
   "cell_type": "code",
   "execution_count": 4,
   "id": "16b38763",
   "metadata": {},
   "outputs": [
    {
     "name": "stdout",
     "output_type": "stream",
     "text": [
      "       var1(t-48)  var2(t-48)  var3(t-48)  var4(t-48)  var5(t-48)  var6(t-48)  \\\n",
      "0             799      1442.0       658.0        76.0         0.0        36.0   \n",
      "1             894       903.0       458.0        76.0         0.0        36.0   \n",
      "2             760       397.0       190.0        76.0         0.0        36.0   \n",
      "3             669       312.0       147.0        76.0         0.0        36.0   \n",
      "4             665       299.0       124.0        76.0         0.0        36.0   \n",
      "...           ...         ...         ...         ...         ...         ...   \n",
      "31338        1001      1583.0       571.0       288.0         0.0       220.0   \n",
      "31339        1075      1364.0       542.0       288.0         0.0       220.0   \n",
      "31340         858       962.0       392.0       288.0         0.0       220.0   \n",
      "31341         750       679.0       247.0       288.0         0.0       220.0   \n",
      "31342         713       593.0       191.0       288.0         0.0       220.0   \n",
      "\n",
      "       var7(t-48) var8(t-48)  obj  \n",
      "0           116.0    festivo   46  \n",
      "1           116.0    festivo   33  \n",
      "2           116.0    festivo   28  \n",
      "3           116.0    festivo   49  \n",
      "4           116.0    festivo  157  \n",
      "...           ...        ...  ...  \n",
      "31338       357.0  laborable  347  \n",
      "31339       357.0  laborable  311  \n",
      "31340       357.0  laborable  216  \n",
      "31341       357.0  laborable  182  \n",
      "31342       357.0  laborable  164  \n",
      "\n",
      "[31343 rows x 9 columns]\n",
      "0        2018-01-03 01:00:00\n",
      "1        2018-01-03 02:00:00\n",
      "2        2018-01-03 03:00:00\n",
      "3        2018-01-03 04:00:00\n",
      "4        2018-01-03 05:00:00\n",
      "                ...         \n",
      "31338    2021-07-31 19:00:00\n",
      "31339    2021-07-31 20:00:00\n",
      "31340    2021-07-31 21:00:00\n",
      "31341    2021-07-31 22:00:00\n",
      "31342    2021-07-31 23:00:00\n",
      "Name: clave, Length: 31343, dtype: object\n"
     ]
    }
   ],
   "source": [
    "data=pd.read_csv('../../Datasets/AS2(t-48).csv')\n",
    "index = data['clave']\n",
    "data=data.drop(['clave'], axis=1)\n",
    "print(data)\n",
    "print(index)"
   ]
  },
  {
   "cell_type": "markdown",
   "id": "38adc20a",
   "metadata": {},
   "source": [
    "We encode the categorical variable 'type of day'."
   ]
  },
  {
   "cell_type": "code",
   "execution_count": 5,
   "id": "0d72d3ae",
   "metadata": {},
   "outputs": [],
   "source": [
    "encoder = LabelEncoder()\n",
    "data[data.columns[7]] = encoder.fit_transform(data[data.columns[7]])\n"
   ]
  },
  {
   "cell_type": "markdown",
   "id": "0a148c96",
   "metadata": {},
   "source": [
    "We add the variable 'hour'. "
   ]
  },
  {
   "cell_type": "code",
   "execution_count": 6,
   "id": "add8bd5d",
   "metadata": {},
   "outputs": [
    {
     "data": {
      "text/html": [
       "<div>\n",
       "<style scoped>\n",
       "    .dataframe tbody tr th:only-of-type {\n",
       "        vertical-align: middle;\n",
       "    }\n",
       "\n",
       "    .dataframe tbody tr th {\n",
       "        vertical-align: top;\n",
       "    }\n",
       "\n",
       "    .dataframe thead th {\n",
       "        text-align: right;\n",
       "    }\n",
       "</style>\n",
       "<table border=\"1\" class=\"dataframe\">\n",
       "  <thead>\n",
       "    <tr style=\"text-align: right;\">\n",
       "      <th></th>\n",
       "      <th>var1(t-48)</th>\n",
       "      <th>var2(t-48)</th>\n",
       "      <th>var3(t-48)</th>\n",
       "      <th>var4(t-48)</th>\n",
       "      <th>var5(t-48)</th>\n",
       "      <th>var6(t-48)</th>\n",
       "      <th>var7(t-48)</th>\n",
       "      <th>var8(t-48)</th>\n",
       "      <th>hour</th>\n",
       "      <th>obj</th>\n",
       "    </tr>\n",
       "  </thead>\n",
       "  <tbody>\n",
       "    <tr>\n",
       "      <th>0</th>\n",
       "      <td>799</td>\n",
       "      <td>1442.0</td>\n",
       "      <td>658.0</td>\n",
       "      <td>76.0</td>\n",
       "      <td>0.0</td>\n",
       "      <td>36.0</td>\n",
       "      <td>116.0</td>\n",
       "      <td>1</td>\n",
       "      <td>1</td>\n",
       "      <td>46</td>\n",
       "    </tr>\n",
       "    <tr>\n",
       "      <th>1</th>\n",
       "      <td>894</td>\n",
       "      <td>903.0</td>\n",
       "      <td>458.0</td>\n",
       "      <td>76.0</td>\n",
       "      <td>0.0</td>\n",
       "      <td>36.0</td>\n",
       "      <td>116.0</td>\n",
       "      <td>1</td>\n",
       "      <td>2</td>\n",
       "      <td>33</td>\n",
       "    </tr>\n",
       "    <tr>\n",
       "      <th>2</th>\n",
       "      <td>760</td>\n",
       "      <td>397.0</td>\n",
       "      <td>190.0</td>\n",
       "      <td>76.0</td>\n",
       "      <td>0.0</td>\n",
       "      <td>36.0</td>\n",
       "      <td>116.0</td>\n",
       "      <td>1</td>\n",
       "      <td>3</td>\n",
       "      <td>28</td>\n",
       "    </tr>\n",
       "    <tr>\n",
       "      <th>3</th>\n",
       "      <td>669</td>\n",
       "      <td>312.0</td>\n",
       "      <td>147.0</td>\n",
       "      <td>76.0</td>\n",
       "      <td>0.0</td>\n",
       "      <td>36.0</td>\n",
       "      <td>116.0</td>\n",
       "      <td>1</td>\n",
       "      <td>4</td>\n",
       "      <td>49</td>\n",
       "    </tr>\n",
       "    <tr>\n",
       "      <th>4</th>\n",
       "      <td>665</td>\n",
       "      <td>299.0</td>\n",
       "      <td>124.0</td>\n",
       "      <td>76.0</td>\n",
       "      <td>0.0</td>\n",
       "      <td>36.0</td>\n",
       "      <td>116.0</td>\n",
       "      <td>1</td>\n",
       "      <td>5</td>\n",
       "      <td>157</td>\n",
       "    </tr>\n",
       "    <tr>\n",
       "      <th>...</th>\n",
       "      <td>...</td>\n",
       "      <td>...</td>\n",
       "      <td>...</td>\n",
       "      <td>...</td>\n",
       "      <td>...</td>\n",
       "      <td>...</td>\n",
       "      <td>...</td>\n",
       "      <td>...</td>\n",
       "      <td>...</td>\n",
       "      <td>...</td>\n",
       "    </tr>\n",
       "    <tr>\n",
       "      <th>31338</th>\n",
       "      <td>1001</td>\n",
       "      <td>1583.0</td>\n",
       "      <td>571.0</td>\n",
       "      <td>288.0</td>\n",
       "      <td>0.0</td>\n",
       "      <td>220.0</td>\n",
       "      <td>357.0</td>\n",
       "      <td>2</td>\n",
       "      <td>19</td>\n",
       "      <td>347</td>\n",
       "    </tr>\n",
       "    <tr>\n",
       "      <th>31339</th>\n",
       "      <td>1075</td>\n",
       "      <td>1364.0</td>\n",
       "      <td>542.0</td>\n",
       "      <td>288.0</td>\n",
       "      <td>0.0</td>\n",
       "      <td>220.0</td>\n",
       "      <td>357.0</td>\n",
       "      <td>2</td>\n",
       "      <td>20</td>\n",
       "      <td>311</td>\n",
       "    </tr>\n",
       "    <tr>\n",
       "      <th>31340</th>\n",
       "      <td>858</td>\n",
       "      <td>962.0</td>\n",
       "      <td>392.0</td>\n",
       "      <td>288.0</td>\n",
       "      <td>0.0</td>\n",
       "      <td>220.0</td>\n",
       "      <td>357.0</td>\n",
       "      <td>2</td>\n",
       "      <td>21</td>\n",
       "      <td>216</td>\n",
       "    </tr>\n",
       "    <tr>\n",
       "      <th>31341</th>\n",
       "      <td>750</td>\n",
       "      <td>679.0</td>\n",
       "      <td>247.0</td>\n",
       "      <td>288.0</td>\n",
       "      <td>0.0</td>\n",
       "      <td>220.0</td>\n",
       "      <td>357.0</td>\n",
       "      <td>2</td>\n",
       "      <td>22</td>\n",
       "      <td>182</td>\n",
       "    </tr>\n",
       "    <tr>\n",
       "      <th>31342</th>\n",
       "      <td>713</td>\n",
       "      <td>593.0</td>\n",
       "      <td>191.0</td>\n",
       "      <td>288.0</td>\n",
       "      <td>0.0</td>\n",
       "      <td>220.0</td>\n",
       "      <td>357.0</td>\n",
       "      <td>2</td>\n",
       "      <td>23</td>\n",
       "      <td>164</td>\n",
       "    </tr>\n",
       "  </tbody>\n",
       "</table>\n",
       "<p>31343 rows × 10 columns</p>\n",
       "</div>"
      ],
      "text/plain": [
       "       var1(t-48)  var2(t-48)  var3(t-48)  var4(t-48)  var5(t-48)  var6(t-48)  \\\n",
       "0             799      1442.0       658.0        76.0         0.0        36.0   \n",
       "1             894       903.0       458.0        76.0         0.0        36.0   \n",
       "2             760       397.0       190.0        76.0         0.0        36.0   \n",
       "3             669       312.0       147.0        76.0         0.0        36.0   \n",
       "4             665       299.0       124.0        76.0         0.0        36.0   \n",
       "...           ...         ...         ...         ...         ...         ...   \n",
       "31338        1001      1583.0       571.0       288.0         0.0       220.0   \n",
       "31339        1075      1364.0       542.0       288.0         0.0       220.0   \n",
       "31340         858       962.0       392.0       288.0         0.0       220.0   \n",
       "31341         750       679.0       247.0       288.0         0.0       220.0   \n",
       "31342         713       593.0       191.0       288.0         0.0       220.0   \n",
       "\n",
       "       var7(t-48)  var8(t-48)  hour  obj  \n",
       "0           116.0           1     1   46  \n",
       "1           116.0           1     2   33  \n",
       "2           116.0           1     3   28  \n",
       "3           116.0           1     4   49  \n",
       "4           116.0           1     5  157  \n",
       "...           ...         ...   ...  ...  \n",
       "31338       357.0           2    19  347  \n",
       "31339       357.0           2    20  311  \n",
       "31340       357.0           2    21  216  \n",
       "31341       357.0           2    22  182  \n",
       "31342       357.0           2    23  164  \n",
       "\n",
       "[31343 rows x 10 columns]"
      ]
     },
     "execution_count": 6,
     "metadata": {},
     "output_type": "execute_result"
    }
   ],
   "source": [
    "a1=list(range(1,24))\n",
    "a2=list(range(0,24))*1304\n",
    "a3=list(range(0,24))\n",
    "a4=a1+a2+a3\n",
    "data['hour'] = a4\n",
    "data = data.reindex(columns=[data.columns[0],data.columns[1],data.columns[2],data.columns[3],data.columns[4],\n",
    "                             data.columns[5],data.columns[6],data.columns[7],'hour','obj'])\n",
    "data"
   ]
  },
  {
   "cell_type": "markdown",
   "id": "954e93b9",
   "metadata": {},
   "source": [
    "We normalise all input variables. "
   ]
  },
  {
   "cell_type": "code",
   "execution_count": 7,
   "id": "65f8df7e",
   "metadata": {},
   "outputs": [],
   "source": [
    "scaler = MinMaxScaler(feature_range=(0, 1))\n",
    "data[data.columns.difference(['obj'])] = scaler.fit_transform(data[data.columns.difference(['obj'])])"
   ]
  },
  {
   "cell_type": "markdown",
   "id": "9363230c",
   "metadata": {},
   "source": [
    "We apply the previously defined function. We split the original sequence data. Each sample has six time steps as predictor variables (from timestep t-15 to timestep t-12) and one target variable (timestep t). "
   ]
  },
  {
   "cell_type": "code",
   "execution_count": 8,
   "id": "6f6e2681",
   "metadata": {},
   "outputs": [
    {
     "name": "stdout",
     "output_type": "stream",
     "text": [
      "(31340, 4, 9)\n",
      "(31340, 1)\n"
     ]
    }
   ],
   "source": [
    "data1=data.values\n",
    "X, y = split_sequences(data1,4,1)\n",
    "print(X.shape)\n",
    "print(y.shape)"
   ]
  },
  {
   "cell_type": "markdown",
   "id": "c5bae631",
   "metadata": {},
   "source": [
    "## Data analyse"
   ]
  },
  {
   "cell_type": "markdown",
   "id": "1bd47ac5",
   "metadata": {},
   "source": [
    "We make a simple statistical analysis of the target variable. "
   ]
  },
  {
   "cell_type": "code",
   "execution_count": 9,
   "id": "13c6a1fb",
   "metadata": {},
   "outputs": [
    {
     "data": {
      "text/plain": [
       "count    31343.000000\n",
       "mean       434.597135\n",
       "std        350.050542\n",
       "min          0.000000\n",
       "25%        106.000000\n",
       "50%        371.000000\n",
       "75%        738.000000\n",
       "max       2888.000000\n",
       "Name: obj, dtype: float64"
      ]
     },
     "execution_count": 9,
     "metadata": {},
     "output_type": "execute_result"
    }
   ],
   "source": [
    "dataplot = data\n",
    "dataplot['obj'].describe()"
   ]
  },
  {
   "cell_type": "markdown",
   "id": "caff81d0",
   "metadata": {},
   "source": [
    "We plot linechart of the evolution of traffic flow in the first week of 2018 (first available data). "
   ]
  },
  {
   "cell_type": "code",
   "execution_count": 10,
   "id": "778710c6",
   "metadata": {},
   "outputs": [
    {
     "data": {
      "image/png": "[encoded data removed]",
      "text/plain": [
       "<Figure size 640x480 with 1 Axes>"
      ]
     },
     "metadata": {},
     "output_type": "display_data"
    }
   ],
   "source": [
    "plt.plot(list(dataplot['obj'][0:24*7]),\n",
    "        label=index, linewidth=3)\n",
    "plt.title('First week of 2018. Arturo Soria Station')\n",
    "plt.ylabel('Hourly traffic flow')\n",
    "plt.show()"
   ]
  },
  {
   "cell_type": "markdown",
   "id": "4458ab4e",
   "metadata": {},
   "source": [
    "## Model development. "
   ]
  },
  {
   "cell_type": "markdown",
   "id": "08723d86",
   "metadata": {},
   "source": [
    "We reshape our data to have the structure required by the neural network. "
   ]
  },
  {
   "cell_type": "code",
   "execution_count": 11,
   "id": "420d1847",
   "metadata": {},
   "outputs": [],
   "source": [
    "X = X.reshape((X.shape[0], X.shape[1], X.shape[2])).astype('float32')\n"
   ]
  },
  {
   "cell_type": "markdown",
   "id": "ad0849d0",
   "metadata": {},
   "source": [
    "We divide randomly our data in the train and test sets. "
   ]
  },
  {
   "cell_type": "code",
   "execution_count": 12,
   "id": "eb984b95",
   "metadata": {},
   "outputs": [],
   "source": [
    "X_train, X_test, y_train, y_test = train_test_split(\n",
    "X, y, test_size=0.33, random_state=42)"
   ]
  },
  {
   "cell_type": "markdown",
   "id": "95522ffc",
   "metadata": {},
   "source": [
    "We develop our model by using keras and tensorflow. First, we apply a convolutional neural network with 256 kernels which is followed by a max pooling. Then, we flatten data. \n",
    "\n",
    "Subsequently, we use the flatten data as input in the Bidirectional long short term memory network, with 500 units. It is followed by a dropout layer and, finally, we apply a dense layer to obtain the required prediction. "
   ]
  },
  {
   "cell_type": "code",
   "execution_count": 13,
   "id": "f0a6e714",
   "metadata": {},
   "outputs": [
    {
     "name": "stdout",
     "output_type": "stream",
     "text": [
      "Model: \"model\"\n",
      "__________________________________________________________________________________________________\n",
      " Layer (type)                   Output Shape         Param #     Connected to                     \n",
      "==================================================================================================\n",
      " input_1 (InputLayer)           [(None, 4, 9, 1)]    0           []                               \n",
      "                                                                                                  \n",
      " time_distributed (TimeDistribu  (None, 4, 8, 256)   768         ['input_1[0][0]']                \n",
      " ted)                                                                                             \n",
      "                                                                                                  \n",
      " time_distributed_1 (TimeDistri  (None, 4, 4, 256)   0           ['time_distributed[0][0]']       \n",
      " buted)                                                                                           \n",
      "                                                                                                  \n",
      " time_distributed_2 (TimeDistri  (None, 4, 1024)     0           ['time_distributed_1[0][0]']     \n",
      " buted)                                                                                           \n",
      "                                                                                                  \n",
      " gru (GRU)                      (None, 4, 500)       2289000     ['time_distributed_2[0][0]']     \n",
      "                                                                                                  \n",
      " dense (Dense)                  (None, 4, 1000)      501000      ['gru[0][0]']                    \n",
      "                                                                                                  \n",
      " dense_1 (Dense)                (None, 4, 1000)      1001000     ['dense[0][0]']                  \n",
      "                                                                                                  \n",
      " softmax (Softmax)              (None, 4, 1000)      0           ['dense_1[0][0]']                \n",
      "                                                                                                  \n",
      " tf.math.multiply (TFOpLambda)  (None, 4, 1000)      0           ['dense_1[0][0]',                \n",
      "                                                                  'softmax[0][0]']                \n",
      "                                                                                                  \n",
      " average_pooling1d (AveragePool  (None, 1, 1000)     0           ['tf.math.multiply[0][0]']       \n",
      " ing1D)                                                                                           \n",
      "                                                                                                  \n",
      " reshape (Reshape)              (None, 1000)         0           ['average_pooling1d[0][0]']      \n",
      "                                                                                                  \n",
      " dense_2 (Dense)                (None, 1)            1001        ['reshape[0][0]']                \n",
      "                                                                                                  \n",
      "==================================================================================================\n",
      "Total params: 3,792,769\n",
      "Trainable params: 3,792,769\n",
      "Non-trainable params: 0\n",
      "__________________________________________________________________________________________________\n"
     ]
    }
   ],
   "source": [
    "from keras.layers import Input, Layer, Conv1D, MaxPooling1D, Flatten, Bidirectional, GRU\n",
    "from keras.layers import Dropout, Dense, Softmax, AveragePooling1D, Reshape\n",
    "from keras.models import Model\n",
    "\n",
    "\n",
    "\n",
    "\n",
    "import tensorflow as tf\n",
    "from tensorflow.keras.layers import Input, Conv1D, MaxPooling1D, Flatten, Bidirectional, GRU, Softmax, Dense, TimeDistributed\n",
    "\n",
    "# Define your input shape\n",
    "input_shape = (4, 9, 1)\n",
    "\n",
    "import tensorflow as tf\n",
    "from tensorflow.keras.layers import Input, Conv1D, MaxPooling1D, Flatten, Bidirectional, GRU, Softmax, Dense, TimeDistributed, AveragePooling1D\n",
    "\n",
    "# Define your input shape\n",
    "input_shape = (4, 9, 1)\n",
    "\n",
    "# Create the input layer\n",
    "input_layer = Input(shape=input_shape)\n",
    "\n",
    "# Apply Conv1D with soft attention\n",
    "conv_layer = TimeDistributed(Conv1D(filters=256, kernel_size=2, activation='relu'))(input_layer)\n",
    "\n",
    "# Apply MaxPooling1D\n",
    "pooling_layer = TimeDistributed(MaxPooling1D(pool_size=2, padding='same'))(conv_layer)\n",
    "\n",
    "# Flatten the output\n",
    "flatten_layer = TimeDistributed(Flatten())(pooling_layer)\n",
    "\n",
    "# Bidirectional GRU layer\n",
    "gru_layer = GRU(500, activation='relu', return_sequences=True)(flatten_layer)\n",
    "\n",
    "# dropout_layer = Dropout(0.5)(gru_layer)\n",
    "# Dense layers\n",
    "denselayer1 = Dense(1000)(gru_layer)\n",
    "denselayer2 = Dense(1000)(denselayer1)\n",
    "\n",
    "# Apply soft attention mechanism\n",
    "attention_weights = Softmax(axis=1)(denselayer2)\n",
    "attended_output = denselayer2 * attention_weights\n",
    "\n",
    "# Apply AveragePooling1D\n",
    "pooled_output = AveragePooling1D(pool_size=4)(attended_output)\n",
    "\n",
    "# Reshape the pooled tensor to (None, 1000)\n",
    "reshaped_output = tf.keras.layers.Reshape(target_shape=(1000,))(pooled_output)\n",
    "\n",
    "# Output layer\n",
    "output_layer = Dense(1)(reshaped_output)\n",
    "\n",
    "# Compile the model\n",
    "model_with_attention = tf.keras.Model(inputs=input_layer, outputs=output_layer)\n",
    "model_with_attention.compile(optimizer='adam', loss='mae')\n",
    "\n",
    "# Summary of the modified model\n",
    "model_with_attention.summary()\n",
    "\n"
   ]
  },
  {
   "cell_type": "code",
   "execution_count": 14,
   "id": "bd867a10-8bc8-466d-9be2-e34a7de2f5cd",
   "metadata": {},
   "outputs": [],
   "source": [
    "# model3.summary()"
   ]
  },
  {
   "cell_type": "code",
   "execution_count": 15,
   "id": "7c4c19ab-196e-4345-a7fb-8fe6d1431c70",
   "metadata": {},
   "outputs": [
    {
     "name": "stdout",
     "output_type": "stream",
     "text": [
      "(20997, 1)\n"
     ]
    }
   ],
   "source": [
    "print(y_train.shape)"
   ]
  },
  {
   "cell_type": "markdown",
   "id": "e07e6b25",
   "metadata": {},
   "source": [
    "We provide a graphical representation of the model by using Netron. Reader can deeply analyse each layer of the model. "
   ]
  },
  {
   "cell_type": "code",
   "execution_count": 16,
   "id": "f999d515",
   "metadata": {
    "scrolled": true
   },
   "outputs": [],
   "source": [
    "\n",
    "# model_with_attention.save('model_with_attention.keras')\n",
    "# netron.start('model_with_attention.h5')"
   ]
  },
  {
   "cell_type": "markdown",
   "id": "6ce5e668",
   "metadata": {},
   "source": [
    "We train the model."
   ]
  },
  {
   "cell_type": "code",
   "execution_count": 17,
   "id": "84c63f1c",
   "metadata": {},
   "outputs": [
    {
     "name": "stdout",
     "output_type": "stream",
     "text": [
      "Epoch 1/100\n",
      "657/657 [==============================] - 26s 39ms/step - loss: 206.2092 - val_loss: 176.5190\n",
      "Epoch 2/100\n",
      "657/657 [==============================] - 27s 41ms/step - loss: 161.9515 - val_loss: 169.1281\n",
      "Epoch 3/100\n",
      "657/657 [==============================] - 27s 41ms/step - loss: 153.0687 - val_loss: 154.6922\n",
      "Epoch 4/100\n",
      "657/657 [==============================] - 27s 41ms/step - loss: 147.2565 - val_loss: 142.7922\n",
      "Epoch 5/100\n",
      "657/657 [==============================] - 27s 42ms/step - loss: 142.5777 - val_loss: 143.1756\n",
      "Epoch 6/100\n",
      "657/657 [==============================] - 27s 41ms/step - loss: 139.7739 - val_loss: 136.1543\n",
      "Epoch 7/100\n",
      "657/657 [==============================] - 27s 41ms/step - loss: 136.4480 - val_loss: 137.7782\n",
      "Epoch 8/100\n",
      "657/657 [==============================] - 27s 41ms/step - loss: 131.7382 - val_loss: 154.7597\n",
      "Epoch 9/100\n",
      "657/657 [==============================] - 27s 41ms/step - loss: 131.5598 - val_loss: 135.7975\n",
      "Epoch 10/100\n",
      "657/657 [==============================] - 28s 42ms/step - loss: 129.3135 - val_loss: 129.3166\n",
      "Epoch 11/100\n",
      "657/657 [==============================] - 28s 43ms/step - loss: 125.9859 - val_loss: 126.6546\n",
      "Epoch 12/100\n",
      "657/657 [==============================] - 28s 42ms/step - loss: 126.1611 - val_loss: 130.0031\n",
      "Epoch 13/100\n",
      "657/657 [==============================] - 28s 42ms/step - loss: 124.9064 - val_loss: 126.8317\n",
      "Epoch 14/100\n",
      "657/657 [==============================] - 27s 41ms/step - loss: 123.1315 - val_loss: 125.2152\n",
      "Epoch 15/100\n",
      "657/657 [==============================] - 27s 41ms/step - loss: 121.7181 - val_loss: 127.1031\n",
      "Epoch 16/100\n",
      "657/657 [==============================] - 27s 41ms/step - loss: 121.6629 - val_loss: 124.7750\n",
      "Epoch 17/100\n",
      "657/657 [==============================] - 27s 41ms/step - loss: 119.8552 - val_loss: 126.1260\n",
      "Epoch 18/100\n",
      "657/657 [==============================] - 27s 41ms/step - loss: 118.4223 - val_loss: 123.5684\n",
      "Epoch 19/100\n",
      "657/657 [==============================] - 27s 41ms/step - loss: 118.3543 - val_loss: 121.9688\n",
      "Epoch 20/100\n",
      "657/657 [==============================] - 27s 41ms/step - loss: 116.0284 - val_loss: 120.8213\n",
      "Epoch 21/100\n",
      "657/657 [==============================] - 27s 41ms/step - loss: 115.5345 - val_loss: 120.0724\n",
      "Epoch 22/100\n",
      "657/657 [==============================] - 27s 41ms/step - loss: 115.5980 - val_loss: 119.1950\n",
      "Epoch 23/100\n",
      "657/657 [==============================] - 27s 42ms/step - loss: 114.0844 - val_loss: 122.0278\n",
      "Epoch 24/100\n",
      "657/657 [==============================] - 27s 41ms/step - loss: 113.0009 - val_loss: 123.7887\n",
      "Epoch 25/100\n",
      "657/657 [==============================] - 27s 41ms/step - loss: 113.1450 - val_loss: 119.4019\n",
      "Epoch 26/100\n",
      "657/657 [==============================] - 27s 40ms/step - loss: 111.4127 - val_loss: 115.4719\n",
      "Epoch 27/100\n",
      "657/657 [==============================] - 26s 40ms/step - loss: 111.1422 - val_loss: 117.1303\n",
      "Epoch 28/100\n",
      "657/657 [==============================] - 27s 41ms/step - loss: 110.6396 - val_loss: 115.7265\n",
      "Epoch 29/100\n",
      "657/657 [==============================] - 27s 41ms/step - loss: 109.7683 - val_loss: 116.6392\n",
      "Epoch 30/100\n",
      "657/657 [==============================] - 27s 41ms/step - loss: 109.0645 - val_loss: 113.5849\n",
      "Epoch 31/100\n",
      "657/657 [==============================] - 28s 42ms/step - loss: 108.3014 - val_loss: 115.4398\n",
      "Epoch 32/100\n",
      "657/657 [==============================] - 27s 40ms/step - loss: 108.1098 - val_loss: 116.9326\n",
      "Epoch 33/100\n",
      "657/657 [==============================] - 27s 41ms/step - loss: 107.6927 - val_loss: 115.1467\n",
      "Epoch 34/100\n",
      "657/657 [==============================] - 27s 41ms/step - loss: 106.7009 - val_loss: 113.8413\n",
      "Epoch 35/100\n",
      "657/657 [==============================] - 26s 40ms/step - loss: 105.6649 - val_loss: 118.2761\n",
      "Epoch 36/100\n",
      "657/657 [==============================] - 27s 41ms/step - loss: 104.9365 - val_loss: 118.6834\n",
      "Epoch 37/100\n",
      "657/657 [==============================] - 27s 40ms/step - loss: 104.3736 - val_loss: 113.6738\n",
      "Epoch 38/100\n",
      "657/657 [==============================] - 27s 41ms/step - loss: 103.8589 - val_loss: 113.4237\n",
      "Epoch 39/100\n",
      "657/657 [==============================] - 27s 41ms/step - loss: 103.1819 - val_loss: 113.1246\n",
      "Epoch 40/100\n",
      "657/657 [==============================] - 28s 42ms/step - loss: 102.1876 - val_loss: 111.7561\n",
      "Epoch 41/100\n",
      "657/657 [==============================] - 27s 41ms/step - loss: 101.6977 - val_loss: 108.9987\n",
      "Epoch 42/100\n",
      "657/657 [==============================] - 27s 40ms/step - loss: 100.9830 - val_loss: 106.1424\n",
      "Epoch 43/100\n",
      "657/657 [==============================] - 27s 40ms/step - loss: 98.7911 - val_loss: 107.9518\n",
      "Epoch 44/100\n",
      "657/657 [==============================] - 27s 40ms/step - loss: 99.3562 - val_loss: 107.3145\n",
      "Epoch 45/100\n",
      "657/657 [==============================] - 27s 40ms/step - loss: 99.3253 - val_loss: 109.9369\n",
      "Epoch 46/100\n",
      "657/657 [==============================] - 26s 40ms/step - loss: 97.8181 - val_loss: 111.3086\n",
      "Epoch 47/100\n",
      "657/657 [==============================] - 27s 40ms/step - loss: 97.9772 - val_loss: 106.8685\n",
      "Epoch 48/100\n",
      "657/657 [==============================] - 26s 40ms/step - loss: 96.5840 - val_loss: 106.4926\n",
      "Epoch 49/100\n",
      "657/657 [==============================] - 27s 41ms/step - loss: 95.9596 - val_loss: 107.9926\n",
      "Epoch 50/100\n",
      "657/657 [==============================] - 27s 41ms/step - loss: 96.3151 - val_loss: 107.9386\n",
      "Epoch 51/100\n",
      "657/657 [==============================] - 27s 42ms/step - loss: 95.7835 - val_loss: 107.2417\n",
      "Epoch 52/100\n",
      "657/657 [==============================] - 27s 41ms/step - loss: 96.1165 - val_loss: 107.0233\n",
      "Epoch 53/100\n",
      "657/657 [==============================] - 27s 41ms/step - loss: 94.8402 - val_loss: 104.0269\n",
      "Epoch 54/100\n",
      "657/657 [==============================] - 27s 41ms/step - loss: 94.5103 - val_loss: 103.2418\n",
      "Epoch 55/100\n",
      "657/657 [==============================] - 27s 41ms/step - loss: 93.6525 - val_loss: 104.2229\n",
      "Epoch 56/100\n",
      "657/657 [==============================] - 27s 41ms/step - loss: 93.1281 - val_loss: 105.2932\n",
      "Epoch 57/100\n",
      "657/657 [==============================] - 27s 41ms/step - loss: 92.3065 - val_loss: 101.2279\n",
      "Epoch 58/100\n",
      "657/657 [==============================] - 27s 41ms/step - loss: 92.2055 - val_loss: 104.9500\n",
      "Epoch 59/100\n",
      "657/657 [==============================] - 27s 41ms/step - loss: 91.5005 - val_loss: 105.7420\n",
      "Epoch 60/100\n",
      "657/657 [==============================] - 27s 41ms/step - loss: 91.5783 - val_loss: 103.3817\n",
      "Epoch 61/100\n",
      "657/657 [==============================] - 27s 41ms/step - loss: 90.9498 - val_loss: 105.2831\n",
      "Epoch 62/100\n",
      "657/657 [==============================] - 27s 41ms/step - loss: 90.4873 - val_loss: 100.0220\n",
      "Epoch 63/100\n",
      "657/657 [==============================] - 28s 42ms/step - loss: 89.5408 - val_loss: 100.7910\n",
      "Epoch 64/100\n",
      "657/657 [==============================] - 28s 42ms/step - loss: 89.9571 - val_loss: 105.5474\n",
      "Epoch 65/100\n",
      "657/657 [==============================] - 27s 42ms/step - loss: 89.5663 - val_loss: 104.9409\n",
      "Epoch 66/100\n",
      "657/657 [==============================] - 27s 41ms/step - loss: 88.9899 - val_loss: 101.6365\n",
      "Epoch 67/100\n",
      "657/657 [==============================] - 27s 42ms/step - loss: 88.7725 - val_loss: 100.5767\n",
      "Epoch 68/100\n",
      "657/657 [==============================] - 27s 41ms/step - loss: 87.9336 - val_loss: 102.1839\n",
      "Epoch 69/100\n",
      "657/657 [==============================] - 27s 41ms/step - loss: 87.8525 - val_loss: 103.5660\n",
      "Epoch 70/100\n",
      "657/657 [==============================] - 27s 41ms/step - loss: 87.3526 - val_loss: 101.1581\n",
      "Epoch 71/100\n",
      "657/657 [==============================] - 27s 41ms/step - loss: 86.6877 - val_loss: 103.6151\n",
      "Epoch 72/100\n",
      "657/657 [==============================] - 27s 41ms/step - loss: 86.5551 - val_loss: 99.9241\n",
      "Epoch 73/100\n",
      "657/657 [==============================] - 27s 41ms/step - loss: 85.3797 - val_loss: 101.3761\n",
      "Epoch 74/100\n",
      "657/657 [==============================] - 27s 41ms/step - loss: 85.5742 - val_loss: 101.4433\n",
      "Epoch 75/100\n",
      "657/657 [==============================] - 27s 41ms/step - loss: 84.9581 - val_loss: 100.5747\n",
      "Epoch 76/100\n",
      "657/657 [==============================] - 28s 42ms/step - loss: 85.0157 - val_loss: 101.0736\n",
      "Epoch 77/100\n"
     ]
    },
    {
     "name": "stdout",
     "output_type": "stream",
     "text": [
      "657/657 [==============================] - 26s 40ms/step - loss: 84.9177 - val_loss: 99.1746\n",
      "Epoch 78/100\n",
      "657/657 [==============================] - 26s 40ms/step - loss: 83.8762 - val_loss: 103.6167\n",
      "Epoch 79/100\n",
      "657/657 [==============================] - 26s 40ms/step - loss: 83.7501 - val_loss: 101.2982\n",
      "Epoch 80/100\n",
      "657/657 [==============================] - 27s 41ms/step - loss: 83.5626 - val_loss: 100.6336\n",
      "Epoch 81/100\n",
      "657/657 [==============================] - 27s 41ms/step - loss: 82.8959 - val_loss: 99.3437\n",
      "Epoch 82/100\n",
      "657/657 [==============================] - 27s 41ms/step - loss: 82.8504 - val_loss: 102.2304\n",
      "Epoch 83/100\n",
      "657/657 [==============================] - 27s 41ms/step - loss: 82.0986 - val_loss: 97.7659\n",
      "Epoch 84/100\n",
      "657/657 [==============================] - 28s 42ms/step - loss: 82.3191 - val_loss: 102.5299\n",
      "Epoch 85/100\n",
      "657/657 [==============================] - 27s 42ms/step - loss: 81.5297 - val_loss: 100.2881\n",
      "Epoch 86/100\n",
      "657/657 [==============================] - 27s 41ms/step - loss: 80.9298 - val_loss: 98.2372\n",
      "Epoch 87/100\n",
      "657/657 [==============================] - 27s 41ms/step - loss: 81.3793 - val_loss: 99.9697\n",
      "Epoch 88/100\n",
      "657/657 [==============================] - 27s 41ms/step - loss: 80.6624 - val_loss: 97.5828\n",
      "Epoch 89/100\n",
      "657/657 [==============================] - 27s 41ms/step - loss: 80.1929 - val_loss: 101.8432\n",
      "Epoch 90/100\n",
      "657/657 [==============================] - 27s 41ms/step - loss: 79.9788 - val_loss: 97.6997\n",
      "Epoch 91/100\n",
      "657/657 [==============================] - 27s 41ms/step - loss: 80.0082 - val_loss: 100.0495\n",
      "Epoch 92/100\n",
      "657/657 [==============================] - 27s 41ms/step - loss: 79.3454 - val_loss: 98.4720\n",
      "Epoch 93/100\n",
      "657/657 [==============================] - 27s 40ms/step - loss: 79.6008 - val_loss: 100.3084\n",
      "Epoch 94/100\n",
      "657/657 [==============================] - 27s 41ms/step - loss: 77.9209 - val_loss: 102.4253\n",
      "Epoch 95/100\n",
      "657/657 [==============================] - 27s 42ms/step - loss: 78.1101 - val_loss: 97.4778\n",
      "Epoch 96/100\n",
      "657/657 [==============================] - 27s 41ms/step - loss: 77.8897 - val_loss: 96.7279\n",
      "Epoch 97/100\n",
      "657/657 [==============================] - 27s 41ms/step - loss: 77.5798 - val_loss: 102.6356\n",
      "Epoch 98/100\n",
      "657/657 [==============================] - 27s 41ms/step - loss: 77.8227 - val_loss: 100.0342\n",
      "Epoch 99/100\n",
      "657/657 [==============================] - 27s 41ms/step - loss: 76.5154 - val_loss: 97.8743\n",
      "Epoch 100/100\n",
      "657/657 [==============================] - 27s 41ms/step - loss: 76.5283 - val_loss: 98.2393\n",
      "Wall time: 44min 53s\n"
     ]
    }
   ],
   "source": [
    "%%time\n",
    "\n",
    "history3=model_with_attention.fit(X_train,y_train,epochs=100,batch_size = 32, shuffle=True,validation_data=(X_test,y_test))"
   ]
  },
  {
   "cell_type": "code",
   "execution_count": 18,
   "id": "abba0b87-9118-4cc6-9653-6de20c9a1872",
   "metadata": {},
   "outputs": [],
   "source": [
    "# import keras\n",
    "# tf.keras.s(model_with_attention, 'model_with_attention_AS2(t-12).keras')\n",
    "model_with_attention.save('model_with_attention_AS2(t-48).keras')\n",
    "\n",
    "train_loss_pd = pd.DataFrame(history3.history['loss'])\n",
    "val_loss_pd = pd.DataFrame(history3.history['loss'])\n",
    "train_loss_pd.to_csv('train_loss_AS2(t-48)')\n",
    "val_loss_pd.to_csv('val_loss_AS2(t-48))')"
   ]
  },
  {
   "cell_type": "code",
   "execution_count": 19,
   "id": "6a350564",
   "metadata": {},
   "outputs": [
    {
     "data": {
      "text/plain": [
       "{'loss': [206.20916748046875,\n",
       "  161.95152282714844,\n",
       "  153.0687255859375,\n",
       "  147.25650024414062,\n",
       "  142.5776824951172,\n",
       "  139.7738800048828,\n",
       "  136.447998046875,\n",
       "  131.7382354736328,\n",
       "  131.55979919433594,\n",
       "  129.31349182128906,\n",
       "  125.98592376708984,\n",
       "  126.16109466552734,\n",
       "  124.90644073486328,\n",
       "  123.13151550292969,\n",
       "  121.71805572509766,\n",
       "  121.66289520263672,\n",
       "  119.85521697998047,\n",
       "  118.4222640991211,\n",
       "  118.35427856445312,\n",
       "  116.02835845947266,\n",
       "  115.53453826904297,\n",
       "  115.59797668457031,\n",
       "  114.08441925048828,\n",
       "  113.00093078613281,\n",
       "  113.1450424194336,\n",
       "  111.41266632080078,\n",
       "  111.1421890258789,\n",
       "  110.63960266113281,\n",
       "  109.76832580566406,\n",
       "  109.06448364257812,\n",
       "  108.3014144897461,\n",
       "  108.10980987548828,\n",
       "  107.69274139404297,\n",
       "  106.70091247558594,\n",
       "  105.6648941040039,\n",
       "  104.9365005493164,\n",
       "  104.37358093261719,\n",
       "  103.8588638305664,\n",
       "  103.18194580078125,\n",
       "  102.18760681152344,\n",
       "  101.69766998291016,\n",
       "  100.9830322265625,\n",
       "  98.79109191894531,\n",
       "  99.35624694824219,\n",
       "  99.32534790039062,\n",
       "  97.81805419921875,\n",
       "  97.97723388671875,\n",
       "  96.583984375,\n",
       "  95.95964813232422,\n",
       "  96.31512451171875,\n",
       "  95.78349304199219,\n",
       "  96.11650085449219,\n",
       "  94.8401870727539,\n",
       "  94.51033782958984,\n",
       "  93.65251922607422,\n",
       "  93.12812042236328,\n",
       "  92.30652618408203,\n",
       "  92.20549011230469,\n",
       "  91.50047302246094,\n",
       "  91.57827758789062,\n",
       "  90.94979858398438,\n",
       "  90.48727416992188,\n",
       "  89.54081726074219,\n",
       "  89.95708465576172,\n",
       "  89.56629943847656,\n",
       "  88.98989868164062,\n",
       "  88.7724838256836,\n",
       "  87.93360137939453,\n",
       "  87.85250091552734,\n",
       "  87.3526382446289,\n",
       "  86.68769073486328,\n",
       "  86.5550765991211,\n",
       "  85.37972259521484,\n",
       "  85.57423400878906,\n",
       "  84.95805358886719,\n",
       "  85.01565551757812,\n",
       "  84.91769409179688,\n",
       "  83.87623596191406,\n",
       "  83.75011444091797,\n",
       "  83.5625991821289,\n",
       "  82.89588928222656,\n",
       "  82.85044860839844,\n",
       "  82.09857177734375,\n",
       "  82.31913757324219,\n",
       "  81.5296859741211,\n",
       "  80.92977905273438,\n",
       "  81.37931060791016,\n",
       "  80.6623764038086,\n",
       "  80.1928939819336,\n",
       "  79.97881317138672,\n",
       "  80.00818634033203,\n",
       "  79.34539794921875,\n",
       "  79.60075378417969,\n",
       "  77.92086029052734,\n",
       "  78.110107421875,\n",
       "  77.88971710205078,\n",
       "  77.57982635498047,\n",
       "  77.8227310180664,\n",
       "  76.51543426513672,\n",
       "  76.52828216552734],\n",
       " 'val_loss': [176.51902770996094,\n",
       "  169.12806701660156,\n",
       "  154.69223022460938,\n",
       "  142.79222106933594,\n",
       "  143.1756134033203,\n",
       "  136.15431213378906,\n",
       "  137.7781982421875,\n",
       "  154.75967407226562,\n",
       "  135.79754638671875,\n",
       "  129.31655883789062,\n",
       "  126.65463256835938,\n",
       "  130.00308227539062,\n",
       "  126.83171081542969,\n",
       "  125.21521759033203,\n",
       "  127.10313415527344,\n",
       "  124.77499389648438,\n",
       "  126.1259994506836,\n",
       "  123.56836700439453,\n",
       "  121.96881866455078,\n",
       "  120.82132720947266,\n",
       "  120.07240295410156,\n",
       "  119.1950454711914,\n",
       "  122.02779388427734,\n",
       "  123.78865051269531,\n",
       "  119.40194702148438,\n",
       "  115.4719009399414,\n",
       "  117.13031768798828,\n",
       "  115.72650909423828,\n",
       "  116.63919830322266,\n",
       "  113.58489990234375,\n",
       "  115.4398422241211,\n",
       "  116.93258666992188,\n",
       "  115.14665985107422,\n",
       "  113.84133911132812,\n",
       "  118.27609252929688,\n",
       "  118.68341827392578,\n",
       "  113.67376708984375,\n",
       "  113.42369079589844,\n",
       "  113.12464904785156,\n",
       "  111.75605773925781,\n",
       "  108.99874114990234,\n",
       "  106.14238739013672,\n",
       "  107.95182800292969,\n",
       "  107.31454467773438,\n",
       "  109.9368667602539,\n",
       "  111.30856323242188,\n",
       "  106.86854553222656,\n",
       "  106.49256896972656,\n",
       "  107.99261474609375,\n",
       "  107.93859100341797,\n",
       "  107.2417221069336,\n",
       "  107.02334594726562,\n",
       "  104.02685546875,\n",
       "  103.24176788330078,\n",
       "  104.22293853759766,\n",
       "  105.29322052001953,\n",
       "  101.22793579101562,\n",
       "  104.95000457763672,\n",
       "  105.74202728271484,\n",
       "  103.38168334960938,\n",
       "  105.28314971923828,\n",
       "  100.02195739746094,\n",
       "  100.79095458984375,\n",
       "  105.54740142822266,\n",
       "  104.94087982177734,\n",
       "  101.63648986816406,\n",
       "  100.57666778564453,\n",
       "  102.18388366699219,\n",
       "  103.56600189208984,\n",
       "  101.15811157226562,\n",
       "  103.61505126953125,\n",
       "  99.924072265625,\n",
       "  101.37614440917969,\n",
       "  101.44330596923828,\n",
       "  100.57471466064453,\n",
       "  101.07359313964844,\n",
       "  99.17455291748047,\n",
       "  103.61669921875,\n",
       "  101.2982177734375,\n",
       "  100.63355255126953,\n",
       "  99.34368896484375,\n",
       "  102.23036193847656,\n",
       "  97.76593780517578,\n",
       "  102.52985382080078,\n",
       "  100.28813934326172,\n",
       "  98.23723602294922,\n",
       "  99.9697036743164,\n",
       "  97.58282470703125,\n",
       "  101.84317779541016,\n",
       "  97.69966125488281,\n",
       "  100.04952239990234,\n",
       "  98.47196960449219,\n",
       "  100.30844116210938,\n",
       "  102.42530059814453,\n",
       "  97.47777557373047,\n",
       "  96.72792053222656,\n",
       "  102.63563537597656,\n",
       "  100.03418731689453,\n",
       "  97.87432861328125,\n",
       "  98.23926544189453]}"
      ]
     },
     "execution_count": 19,
     "metadata": {},
     "output_type": "execute_result"
    }
   ],
   "source": [
    "# print(history3.items())\n",
    "history3.history"
   ]
  },
  {
   "cell_type": "code",
   "execution_count": 20,
   "id": "b3eaaafe",
   "metadata": {},
   "outputs": [
    {
     "data": {
      "text/plain": [
       "<matplotlib.legend.Legend at 0x1c16b427148>"
      ]
     },
     "execution_count": 20,
     "metadata": {},
     "output_type": "execute_result"
    },
    {
     "data": {
      "image/png": "[encoded data removed]",
      "text/plain": [
       "<Figure size 1000x500 with 1 Axes>"
      ]
     },
     "metadata": {},
     "output_type": "display_data"
    }
   ],
   "source": [
    "plt.figure(figsize=(10, 5))\n",
    "plt.plot(train_loss_pd, label='train')\n",
    "plt.plot(val_loss_pd, label='val')\n",
    "plt.legend()"
   ]
  },
  {
   "cell_type": "markdown",
   "id": "9c54db72",
   "metadata": {},
   "source": [
    "## Model evaluation"
   ]
  },
  {
   "cell_type": "markdown",
   "id": "b2ea78bf",
   "metadata": {},
   "source": [
    "We define this function, which will be useful to evaluate the model."
   ]
  },
  {
   "cell_type": "code",
   "execution_count": 21,
   "id": "8c0e5a3b",
   "metadata": {},
   "outputs": [],
   "source": [
    "def flatten(t):\n",
    "    return [item for sublist in t for item in sublist]"
   ]
  },
  {
   "cell_type": "markdown",
   "id": "e9674031",
   "metadata": {},
   "source": [
    "We evaluate the model by using the first metric (mean absolute error). "
   ]
  },
  {
   "cell_type": "code",
   "execution_count": 22,
   "id": "5ecf3c33",
   "metadata": {},
   "outputs": [
    {
     "name": "stdout",
     "output_type": "stream",
     "text": [
      "324/324 [==============================] - 4s 12ms/step\n",
      "(10343, 1)\n",
      "10343\n",
      "(10343, 1)\n",
      "10343\n",
      "98.23923414881635\n"
     ]
    }
   ],
   "source": [
    "from sklearn.metrics import mean_absolute_error \n",
    "# from sklearn.metrics import root_mean_squared_error \n",
    "\n",
    "pred = model_with_attention.predict(X_test)\n",
    "print(pred.shape)\n",
    "print(len(flatten(pred)))\n",
    "print(y_test.shape)\n",
    "print(len(flatten(y_test)))\n",
    "\n",
    "MAE = mean_absolute_error(flatten(pred),flatten(y_test))\n",
    "print(MAE)\n",
    "# RMSE = root_mean_squared_error(flatten(pred),flatten(y_test))\n",
    "# print(RMSE)"
   ]
  },
  {
   "cell_type": "markdown",
   "id": "12982dd9",
   "metadata": {},
   "source": [
    "We will evaluate the model with the second metric (accuracy). For this, we divide target variable in three categories: first, data between percentil 0 and 15; second, data between percentil 15 and 85 and thrid, data between percentil 85 and 100. "
   ]
  },
  {
   "cell_type": "code",
   "execution_count": 23,
   "id": "10369faa-d540-4ccd-a24b-4fe206c3d53f",
   "metadata": {},
   "outputs": [
    {
     "name": "stdout",
     "output_type": "stream",
     "text": [
      "324/324 [==============================] - 4s 12ms/step\n",
      "[[ 62.131252]\n",
      " [748.3927  ]\n",
      " [ 43.131275]\n",
      " ...\n",
      " [814.27686 ]\n",
      " [133.79454 ]\n",
      " [183.50296 ]]\n"
     ]
    }
   ],
   "source": [
    "pred = model_with_attention.predict(X_test)\n",
    "print(pred)"
   ]
  },
  {
   "cell_type": "code",
   "execution_count": 38,
   "id": "17ad32ac-3aff-4ecf-b8b9-e496b63f9301",
   "metadata": {},
   "outputs": [],
   "source": [
    "preddf = pd.DataFrame(pred)\n",
    "y_testdf = pd.DataFrame(y_test)\n",
    "preddf.to_csv('pred48.csv')\n",
    "y_testdf.to_csv('y_test48.csv')"
   ]
  },
  {
   "cell_type": "code",
   "execution_count": 25,
   "id": "d944ccff",
   "metadata": {},
   "outputs": [],
   "source": [
    "obj = list(data['obj'].values)"
   ]
  },
  {
   "cell_type": "code",
   "execution_count": 26,
   "id": "36466028-ed5d-423b-ac17-9ad0b8463604",
   "metadata": {},
   "outputs": [
    {
     "data": {
      "text/plain": [
       "dtype('float32')"
      ]
     },
     "execution_count": 26,
     "metadata": {},
     "output_type": "execute_result"
    }
   ],
   "source": [
    "pred.dtype == np.float64\n",
    "pred.dtype"
   ]
  },
  {
   "cell_type": "code",
   "execution_count": 27,
   "id": "58982b45",
   "metadata": {},
   "outputs": [
    {
     "name": "stdout",
     "output_type": "stream",
     "text": [
      "0\n",
      "48.0\n",
      "838.0\n",
      "2888\n"
     ]
    }
   ],
   "source": [
    "print(np.quantile(obj, 0))\n",
    "print(np.quantile(obj, 0.15))\n",
    "print(np.quantile(obj, 0.85))\n",
    "print(np.quantile(obj, 1))"
   ]
  },
  {
   "cell_type": "markdown",
   "id": "d555df61",
   "metadata": {},
   "source": [
    "We add and substract a small value in extreme values in order to avoid issues. We also transform the predictions lower than 0 in 0. "
   ]
  },
  {
   "cell_type": "code",
   "execution_count": 28,
   "id": "649392d4",
   "metadata": {},
   "outputs": [],
   "source": [
    "bins = [np.quantile(obj, 0)-0.001,np.quantile(obj, 0.15),np.quantile(obj, 0.85),np.quantile(obj, 1)+0.001]\n",
    "names = ['a','b','c']\n",
    "for i in range(len(pred)):\n",
    "    if pred[i]<0:\n",
    "        pred[i] = 0\n",
    "pred2=pd.cut(flatten(pred), bins, labels = names)\n",
    "ytest2=pd.cut(flatten(y_test), bins, labels = names)"
   ]
  },
  {
   "cell_type": "markdown",
   "id": "bfff6821",
   "metadata": {},
   "source": [
    "We obtain the accuracy metric and the confusion matrix corresponding. "
   ]
  },
  {
   "cell_type": "code",
   "execution_count": 29,
   "id": "fbde0271",
   "metadata": {},
   "outputs": [
    {
     "name": "stdout",
     "output_type": "stream",
     "text": [
      "0.8453060040607174\n",
      "[[1201  361    0]\n",
      " [ 175 6727  307]\n",
      " [   0  757  815]]\n"
     ]
    }
   ],
   "source": [
    "print(accuracy_score(ytest2,pred2))\n",
    "print(confusion_matrix(ytest2,pred2))"
   ]
  },
  {
   "cell_type": "markdown",
   "id": "d58c8161",
   "metadata": {},
   "source": [
    "###  Plotting the actual and predicted values. "
   ]
  },
  {
   "cell_type": "markdown",
   "id": "1692014e",
   "metadata": {},
   "source": [
    "We selelct randomly an observation of the entire dataset and we will analyse the 100 successive observations. We plot\n",
    "the actual and the predicted values of these observations. "
   ]
  },
  {
   "cell_type": "code",
   "execution_count": 30,
   "id": "5711b77d",
   "metadata": {},
   "outputs": [
    {
     "data": {
      "text/plain": [
       "array([[[0.12838717, 0.39972177, 0.31509694, ..., 0.21287128,\n",
       "         0.6666667 , 0.8695652 ],\n",
       "        [0.11788821, 0.27359146, 0.18628809, ..., 0.21287128,\n",
       "         0.6666667 , 0.9130435 ],\n",
       "        [0.10038996, 0.17458846, 0.10630194, ..., 0.21287128,\n",
       "         0.6666667 , 0.95652175],\n",
       "        [0.09369063, 0.14560631, 0.07790859, ..., 0.21287128,\n",
       "         0.6666667 , 1.        ]],\n",
       "\n",
       "       [[0.11788821, 0.27359146, 0.18628809, ..., 0.21287128,\n",
       "         0.6666667 , 0.9130435 ],\n",
       "        [0.10038996, 0.17458846, 0.10630194, ..., 0.21287128,\n",
       "         0.6666667 , 0.95652175],\n",
       "        [0.09369063, 0.14560631, 0.07790859, ..., 0.21287128,\n",
       "         0.6666667 , 1.        ],\n",
       "        [0.08209179, 0.12821701, 0.05401662, ..., 0.22029702,\n",
       "         0.6666667 , 0.        ]],\n",
       "\n",
       "       [[0.10038996, 0.17458846, 0.10630194, ..., 0.21287128,\n",
       "         0.6666667 , 0.95652175],\n",
       "        [0.09369063, 0.14560631, 0.07790859, ..., 0.21287128,\n",
       "         0.6666667 , 1.        ],\n",
       "        [0.08209179, 0.12821701, 0.05401662, ..., 0.22029702,\n",
       "         0.6666667 , 0.        ],\n",
       "        [0.05859414, 0.05726872, 0.02389197, ..., 0.22029702,\n",
       "         0.6666667 , 0.04347826]],\n",
       "\n",
       "       ...,\n",
       "\n",
       "       [[0.10228977, 0.25643402, 0.16274238, ..., 0.31683168,\n",
       "         0.6666667 , 0.9130435 ],\n",
       "        [0.0779922 , 0.15511245, 0.09833795, ..., 0.31683168,\n",
       "         0.6666667 , 0.95652175],\n",
       "        [0.0669933 , 0.0936703 , 0.05886427, ..., 0.31683168,\n",
       "         0.6666667 , 1.        ],\n",
       "        [0.0449955 , 0.06468815, 0.04778393, ..., 0.3019802 ,\n",
       "         0.6666667 , 0.        ]],\n",
       "\n",
       "       [[0.0779922 , 0.15511245, 0.09833795, ..., 0.31683168,\n",
       "         0.6666667 , 0.95652175],\n",
       "        [0.0669933 , 0.0936703 , 0.05886427, ..., 0.31683168,\n",
       "         0.6666667 , 1.        ],\n",
       "        [0.0449955 , 0.06468815, 0.04778393, ..., 0.3019802 ,\n",
       "         0.6666667 , 0.        ],\n",
       "        [0.02949705, 0.02527243, 0.01627424, ..., 0.3019802 ,\n",
       "         0.6666667 , 0.04347826]],\n",
       "\n",
       "       [[0.0669933 , 0.0936703 , 0.05886427, ..., 0.31683168,\n",
       "         0.6666667 , 1.        ],\n",
       "        [0.0449955 , 0.06468815, 0.04778393, ..., 0.3019802 ,\n",
       "         0.6666667 , 0.        ],\n",
       "        [0.02949705, 0.02527243, 0.01627424, ..., 0.3019802 ,\n",
       "         0.6666667 , 0.04347826],\n",
       "        [0.02079792, 0.01692557, 0.01073407, ..., 0.3019802 ,\n",
       "         0.6666667 , 0.08695652]]], dtype=float32)"
      ]
     },
     "execution_count": 30,
     "metadata": {},
     "output_type": "execute_result"
    }
   ],
   "source": [
    "np.random.seed(23)\n",
    "rand = np.random.randint(0, 3000)\n",
    "rand\n",
    "\n",
    "# rand = randint(0, 30000, ran=1234)\n",
    "# rand\n",
    "X[rand:rand+100]"
   ]
  },
  {
   "cell_type": "code",
   "execution_count": 31,
   "id": "9dda491d",
   "metadata": {},
   "outputs": [
    {
     "name": "stdout",
     "output_type": "stream",
     "text": [
      "4/4 [==============================] - 0s 8ms/step\n"
     ]
    },
    {
     "data": {
      "image/png": "[encoded data removed]",
      "text/plain": [
       "<Figure size 640x480 with 1 Axes>"
      ]
     },
     "metadata": {},
     "output_type": "display_data"
    }
   ],
   "source": [
    "plt.plot(flatten(y[rand:rand+100]), label = \"Actual values\")\n",
    "plt.plot(flatten(model_with_attention.predict(X[rand:rand+100])), label = \"Predicted values\")\n",
    "plt.legend()\n",
    "plt.ylabel('Hourly traffic flow')\n",
    "plt.show()"
   ]
  },
  {
   "cell_type": "code",
   "execution_count": 39,
   "id": "7f389e46",
   "metadata": {
    "scrolled": true
   },
   "outputs": [
    {
     "ename": "TypeError",
     "evalue": "unsupported operand type(s) for -: 'list' and 'list'",
     "output_type": "error",
     "traceback": [
      "\u001b[1;31m---------------------------------------------------------------------------\u001b[0m",
      "\u001b[1;31mTypeError\u001b[0m                                 Traceback (most recent call last)",
      "\u001b[1;32m~\\AppData\\Local\\Temp\\ipykernel_26116\\2937709702.py\u001b[0m in \u001b[0;36m<module>\u001b[1;34m\u001b[0m\n\u001b[0;32m     12\u001b[0m     \u001b[1;32mreturn\u001b[0m \u001b[0mnp\u001b[0m\u001b[1;33m.\u001b[0m\u001b[0msqrt\u001b[0m\u001b[1;33m(\u001b[0m\u001b[1;33m(\u001b[0m\u001b[1;33m(\u001b[0m\u001b[0mpredictions\u001b[0m \u001b[1;33m-\u001b[0m \u001b[0mtargets\u001b[0m\u001b[1;33m)\u001b[0m \u001b[1;33m**\u001b[0m \u001b[1;36m2\u001b[0m\u001b[1;33m)\u001b[0m\u001b[1;33m.\u001b[0m\u001b[0mmean\u001b[0m\u001b[1;33m(\u001b[0m\u001b[1;33m)\u001b[0m\u001b[1;33m)\u001b[0m\u001b[1;33m\u001b[0m\u001b[1;33m\u001b[0m\u001b[0m\n\u001b[0;32m     13\u001b[0m \u001b[1;33m\u001b[0m\u001b[0m\n\u001b[1;32m---> 14\u001b[1;33m \u001b[0mRMSE\u001b[0m \u001b[1;33m=\u001b[0m \u001b[0mrmse\u001b[0m\u001b[1;33m(\u001b[0m\u001b[0mflatten\u001b[0m\u001b[1;33m(\u001b[0m\u001b[0mpred\u001b[0m\u001b[1;33m)\u001b[0m\u001b[1;33m,\u001b[0m\u001b[0mflatten\u001b[0m\u001b[1;33m(\u001b[0m\u001b[0my_test\u001b[0m\u001b[1;33m)\u001b[0m\u001b[1;33m)\u001b[0m\u001b[1;33m\u001b[0m\u001b[1;33m\u001b[0m\u001b[0m\n\u001b[0m\u001b[0;32m     15\u001b[0m \u001b[0mprint\u001b[0m\u001b[1;33m(\u001b[0m\u001b[0mRMSE\u001b[0m\u001b[1;33m)\u001b[0m\u001b[1;33m\u001b[0m\u001b[1;33m\u001b[0m\u001b[0m\n",
      "\u001b[1;32m~\\AppData\\Local\\Temp\\ipykernel_26116\\2937709702.py\u001b[0m in \u001b[0;36mrmse\u001b[1;34m(predictions, targets)\u001b[0m\n\u001b[0;32m     10\u001b[0m         \u001b[0mfloat\u001b[0m\u001b[1;33m:\u001b[0m \u001b[0mRMSE\u001b[0m \u001b[0mvalue\u001b[0m\u001b[1;33m.\u001b[0m\u001b[1;33m\u001b[0m\u001b[1;33m\u001b[0m\u001b[0m\n\u001b[0;32m     11\u001b[0m     \"\"\"\n\u001b[1;32m---> 12\u001b[1;33m     \u001b[1;32mreturn\u001b[0m \u001b[0mnp\u001b[0m\u001b[1;33m.\u001b[0m\u001b[0msqrt\u001b[0m\u001b[1;33m(\u001b[0m\u001b[1;33m(\u001b[0m\u001b[1;33m(\u001b[0m\u001b[0mpredictions\u001b[0m \u001b[1;33m-\u001b[0m \u001b[0mtargets\u001b[0m\u001b[1;33m)\u001b[0m \u001b[1;33m**\u001b[0m \u001b[1;36m2\u001b[0m\u001b[1;33m)\u001b[0m\u001b[1;33m.\u001b[0m\u001b[0mmean\u001b[0m\u001b[1;33m(\u001b[0m\u001b[1;33m)\u001b[0m\u001b[1;33m)\u001b[0m\u001b[1;33m\u001b[0m\u001b[1;33m\u001b[0m\u001b[0m\n\u001b[0m\u001b[0;32m     13\u001b[0m \u001b[1;33m\u001b[0m\u001b[0m\n\u001b[0;32m     14\u001b[0m \u001b[0mRMSE\u001b[0m \u001b[1;33m=\u001b[0m \u001b[0mrmse\u001b[0m\u001b[1;33m(\u001b[0m\u001b[0mflatten\u001b[0m\u001b[1;33m(\u001b[0m\u001b[0mpred\u001b[0m\u001b[1;33m)\u001b[0m\u001b[1;33m,\u001b[0m\u001b[0mflatten\u001b[0m\u001b[1;33m(\u001b[0m\u001b[0my_test\u001b[0m\u001b[1;33m)\u001b[0m\u001b[1;33m)\u001b[0m\u001b[1;33m\u001b[0m\u001b[1;33m\u001b[0m\u001b[0m\n",
      "\u001b[1;31mTypeError\u001b[0m: unsupported operand type(s) for -: 'list' and 'list'"
     ]
    }
   ],
   "source": [
    "def rmse(predictions, targets):\n",
    "    \"\"\"\n",
    "    Calculates the Root Mean Square Error (RMSE) between predicted values and actual targets.\n",
    "\n",
    "    Args:\n",
    "        predictions (numpy.ndarray): Predicted values.\n",
    "        targets (numpy.ndarray): Actual target values.\n",
    "\n",
    "    Returns:\n",
    "        float: RMSE value.\n",
    "    \"\"\"\n",
    "    return np.sqrt(((predictions - targets) ** 2).mean())\n",
    "\n",
    "RMSE = rmse(flatten(pred),flatten(y_test))\n",
    "print(RMSE)"
   ]
  },
  {
   "cell_type": "code",
   "execution_count": 40,
   "id": "763167d2",
   "metadata": {},
   "outputs": [
    {
     "data": {
      "text/plain": [
       "177.26897146425569"
      ]
     },
     "execution_count": 40,
     "metadata": {},
     "output_type": "execute_result"
    }
   ],
   "source": [
    "import math\n",
    "\n",
    "def calculate_rmse(actual_values, predicted_values):\n",
    "    \"\"\"\n",
    "    Calculates the Root Mean Square Error (RMSE) given actual and predicted values.\n",
    "    :param actual_values: List of actual observed values.\n",
    "    :param predicted_values: List of predicted values.\n",
    "    :return: RMSE value.\n",
    "    \"\"\"\n",
    "    if len(actual_values) != len(predicted_values):\n",
    "        raise ValueError(\"Lists must have the same length.\")\n",
    "\n",
    "    squared_errors = [(actual - predicted) ** 2 for actual, predicted in zip(actual_values, predicted_values)]\n",
    "    mean_squared_error = sum(squared_errors) / len(actual_values)\n",
    "    rmse = math.sqrt(mean_squared_error)\n",
    "    return rmse\n",
    "\n",
    "\n",
    "calculate_rmse(flatten(pred),flatten(y_test))"
   ]
  },
  {
   "cell_type": "code",
   "execution_count": 35,
   "id": "d7165438-ca40-44b0-ada6-d9202c7d8948",
   "metadata": {},
   "outputs": [
    {
     "name": "stdout",
     "output_type": "stream",
     "text": [
      "MAE:  98.23923414881635\n",
      "RMSE:  177.2689714642569\n",
      "Accuracy:  0.8453060040607174\n",
      "confusion matrix:\n",
      "  [[1201  361    0]\n",
      " [ 175 6727  307]\n",
      " [   0  757  815]]\n"
     ]
    }
   ],
   "source": [
    "print(\"MAE: \", MAE)\n",
    "print(\"RMSE: \", RMSE)\n",
    "print(\"Accuracy: \", accuracy_score(ytest2,pred2))\n",
    "\n",
    "print(\"confusion matrix:\\n \", confusion_matrix(ytest2,pred2))"
   ]
  },
  {
   "cell_type": "code",
   "execution_count": null,
   "id": "dd8c2bd1",
   "metadata": {},
   "outputs": [],
   "source": []
  }
 ],
 "metadata": {
  "kernelspec": {
   "display_name": "Python 3 (ipykernel)",
   "language": "python",
   "name": "python3"
  },
  "language_info": {
   "codemirror_mode": {
    "name": "ipython",
    "version": 3
   },
   "file_extension": ".py",
   "mimetype": "text/x-python",
   "name": "python",
   "nbconvert_exporter": "python",
   "pygments_lexer": "ipython3",
   "version": "3.7.16"
  }
 },
 "nbformat": 4,
 "nbformat_minor": 5
}
