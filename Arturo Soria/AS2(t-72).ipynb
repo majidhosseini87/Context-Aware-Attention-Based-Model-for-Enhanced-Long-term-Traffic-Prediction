{
 "cells": [
  {
   "cell_type": "markdown",
   "id": "c69cb93b",
   "metadata": {},
   "source": [
    "### Import required libraries"
   ]
  },
  {
   "cell_type": "code",
   "execution_count": 1,
   "id": "0c2d189d-98be-4cd2-8b9e-3f6708ebb27c",
   "metadata": {},
   "outputs": [],
   "source": [
    "import tensorflow as tf\n",
    "\n",
    "# print(\"Num GPUs Available: \", tf.config.list_physical_devices('GPU'))"
   ]
  },
  {
   "cell_type": "code",
   "execution_count": 2,
   "id": "52cf218c",
   "metadata": {},
   "outputs": [
    {
     "name": "stdout",
     "output_type": "stream",
     "text": [
      "Requirement already satisfied: netron in c:\\users\\majid\\anaconda3\\envs\\oldestlearning\\lib\\site-packages (7.7.0)\n"
     ]
    }
   ],
   "source": [
    "import pandas as pd\n",
    "import numpy as np\n",
    "import matplotlib.pyplot as plt \n",
    "from numpy import array\n",
    "from tensorflow.keras.models import Sequential\n",
    "from tensorflow.keras.layers import LSTM, GRU\n",
    "from tensorflow.keras.layers import Bidirectional\n",
    "from tensorflow.keras.layers import Dense\n",
    "from tensorflow.keras.layers import Flatten\n",
    "from tensorflow.keras.layers import TimeDistributed\n",
    "from tensorflow.keras.layers import Dropout\n",
    "from tensorflow.keras.layers import Conv1D\n",
    "from tensorflow.keras.layers import MaxPooling1D\n",
    "from sklearn.preprocessing import LabelEncoder\n",
    "from sklearn.preprocessing import MinMaxScaler\n",
    "from numpy import array\n",
    "from sklearn.model_selection import train_test_split\n",
    "from sklearn.metrics import mean_absolute_error as MAE\n",
    "# from sklearn.metrics import root_mean_squared_error as RMSE\n",
    "import random\n",
    "from sklearn.metrics import accuracy_score\n",
    "from sklearn.metrics import confusion_matrix\n",
    "!pip install netron\n",
    "import netron\n",
    "from random import randint"
   ]
  },
  {
   "cell_type": "markdown",
   "id": "6dbc9dff",
   "metadata": {},
   "source": [
    "First of all, we define this function which split a given sequence into multiple samples where each sample has a specified number of time steps and a specifieded number of outputs."
   ]
  },
  {
   "cell_type": "code",
   "execution_count": 3,
   "id": "fd8cb216",
   "metadata": {},
   "outputs": [],
   "source": [
    "def split_sequences(sequences, n_steps_in, n_steps_out):\n",
    "\tX, y = list(), list()\n",
    "\tfor i in range(len(sequences)):\n",
    "\t\t# find the end of this pattern\n",
    "\t\tend_ix = i + n_steps_in\n",
    "\t\tout_end_ix = end_ix + n_steps_out-1\n",
    "\t\t# check if we are beyond the dataset\n",
    "\t\tif out_end_ix > len(sequences):\n",
    "\t\t\tbreak\n",
    "\t\t# gather input and output parts of the pattern\n",
    "\t\tseq_x, seq_y = sequences[i:end_ix, :-1], sequences[end_ix-1:out_end_ix, -1]\n",
    "\t\tX.append(seq_x)\n",
    "\t\ty.append(seq_y)\n",
    "\treturn array(X), array(y)"
   ]
  },
  {
   "cell_type": "markdown",
   "id": "d52b9133",
   "metadata": {},
   "source": [
    "## Data preprocessing"
   ]
  },
  {
   "cell_type": "markdown",
   "id": "8795a8c9",
   "metadata": {},
   "source": [
    "We import data and remove the index. "
   ]
  },
  {
   "cell_type": "code",
   "execution_count": 4,
   "id": "16b38763",
   "metadata": {},
   "outputs": [
    {
     "name": "stdout",
     "output_type": "stream",
     "text": [
      "       var1(t-72)  var2(t-72)  var3(t-72)  var4(t-72)  var5(t-72)  var6(t-72)  \\\n",
      "0             799      1442.0       658.0        76.0         0.0        36.0   \n",
      "1             894       903.0       458.0        76.0         0.0        36.0   \n",
      "2             760       397.0       190.0        76.0         0.0        36.0   \n",
      "3             669       312.0       147.0        76.0         0.0        36.0   \n",
      "4             665       299.0       124.0        76.0         0.0        36.0   \n",
      "...           ...         ...         ...         ...         ...         ...   \n",
      "31314         971      1559.0       523.0       282.0         0.0       207.0   \n",
      "31315         955      1417.0       519.0       282.0         0.0       207.0   \n",
      "31316         831       900.0       362.0       282.0         0.0       207.0   \n",
      "31317         745       626.0       221.0       282.0         0.0       207.0   \n",
      "31318         685       546.0       207.0       282.0         0.0       207.0   \n",
      "\n",
      "       var7(t-72) var8(t-72)  obj  \n",
      "0           116.0    festivo   59  \n",
      "1           116.0    festivo   29  \n",
      "2           116.0    festivo   29  \n",
      "3           116.0    festivo   41  \n",
      "4           116.0    festivo  155  \n",
      "...           ...        ...  ...  \n",
      "31314       356.0  laborable  347  \n",
      "31315       356.0  laborable  311  \n",
      "31316       356.0  laborable  216  \n",
      "31317       356.0  laborable  182  \n",
      "31318       356.0  laborable  164  \n",
      "\n",
      "[31319 rows x 9 columns]\n",
      "0        2018-01-04 01:00:00\n",
      "1        2018-01-04 02:00:00\n",
      "2        2018-01-04 03:00:00\n",
      "3        2018-01-04 04:00:00\n",
      "4        2018-01-04 05:00:00\n",
      "                ...         \n",
      "31314    2021-07-31 19:00:00\n",
      "31315    2021-07-31 20:00:00\n",
      "31316    2021-07-31 21:00:00\n",
      "31317    2021-07-31 22:00:00\n",
      "31318    2021-07-31 23:00:00\n",
      "Name: clave, Length: 31319, dtype: object\n"
     ]
    }
   ],
   "source": [
    "data=pd.read_csv('../../Datasets/AS2(t-72).csv')\n",
    "index = data['clave']\n",
    "data=data.drop(['clave'], axis=1)\n",
    "print(data)\n",
    "print(index)"
   ]
  },
  {
   "cell_type": "markdown",
   "id": "38adc20a",
   "metadata": {},
   "source": [
    "We encode the categorical variable 'type of day'."
   ]
  },
  {
   "cell_type": "code",
   "execution_count": 5,
   "id": "0d72d3ae",
   "metadata": {},
   "outputs": [],
   "source": [
    "encoder = LabelEncoder()\n",
    "data[data.columns[7]] = encoder.fit_transform(data[data.columns[7]])\n"
   ]
  },
  {
   "cell_type": "markdown",
   "id": "0a148c96",
   "metadata": {},
   "source": [
    "We add the variable 'hour'. "
   ]
  },
  {
   "cell_type": "code",
   "execution_count": 6,
   "id": "add8bd5d",
   "metadata": {},
   "outputs": [
    {
     "data": {
      "text/html": [
       "<div>\n",
       "<style scoped>\n",
       "    .dataframe tbody tr th:only-of-type {\n",
       "        vertical-align: middle;\n",
       "    }\n",
       "\n",
       "    .dataframe tbody tr th {\n",
       "        vertical-align: top;\n",
       "    }\n",
       "\n",
       "    .dataframe thead th {\n",
       "        text-align: right;\n",
       "    }\n",
       "</style>\n",
       "<table border=\"1\" class=\"dataframe\">\n",
       "  <thead>\n",
       "    <tr style=\"text-align: right;\">\n",
       "      <th></th>\n",
       "      <th>var1(t-72)</th>\n",
       "      <th>var2(t-72)</th>\n",
       "      <th>var3(t-72)</th>\n",
       "      <th>var4(t-72)</th>\n",
       "      <th>var5(t-72)</th>\n",
       "      <th>var6(t-72)</th>\n",
       "      <th>var7(t-72)</th>\n",
       "      <th>var8(t-72)</th>\n",
       "      <th>hour</th>\n",
       "      <th>obj</th>\n",
       "    </tr>\n",
       "  </thead>\n",
       "  <tbody>\n",
       "    <tr>\n",
       "      <th>0</th>\n",
       "      <td>799</td>\n",
       "      <td>1442.0</td>\n",
       "      <td>658.0</td>\n",
       "      <td>76.0</td>\n",
       "      <td>0.0</td>\n",
       "      <td>36.0</td>\n",
       "      <td>116.0</td>\n",
       "      <td>1</td>\n",
       "      <td>1</td>\n",
       "      <td>59</td>\n",
       "    </tr>\n",
       "    <tr>\n",
       "      <th>1</th>\n",
       "      <td>894</td>\n",
       "      <td>903.0</td>\n",
       "      <td>458.0</td>\n",
       "      <td>76.0</td>\n",
       "      <td>0.0</td>\n",
       "      <td>36.0</td>\n",
       "      <td>116.0</td>\n",
       "      <td>1</td>\n",
       "      <td>2</td>\n",
       "      <td>29</td>\n",
       "    </tr>\n",
       "    <tr>\n",
       "      <th>2</th>\n",
       "      <td>760</td>\n",
       "      <td>397.0</td>\n",
       "      <td>190.0</td>\n",
       "      <td>76.0</td>\n",
       "      <td>0.0</td>\n",
       "      <td>36.0</td>\n",
       "      <td>116.0</td>\n",
       "      <td>1</td>\n",
       "      <td>3</td>\n",
       "      <td>29</td>\n",
       "    </tr>\n",
       "    <tr>\n",
       "      <th>3</th>\n",
       "      <td>669</td>\n",
       "      <td>312.0</td>\n",
       "      <td>147.0</td>\n",
       "      <td>76.0</td>\n",
       "      <td>0.0</td>\n",
       "      <td>36.0</td>\n",
       "      <td>116.0</td>\n",
       "      <td>1</td>\n",
       "      <td>4</td>\n",
       "      <td>41</td>\n",
       "    </tr>\n",
       "    <tr>\n",
       "      <th>4</th>\n",
       "      <td>665</td>\n",
       "      <td>299.0</td>\n",
       "      <td>124.0</td>\n",
       "      <td>76.0</td>\n",
       "      <td>0.0</td>\n",
       "      <td>36.0</td>\n",
       "      <td>116.0</td>\n",
       "      <td>1</td>\n",
       "      <td>5</td>\n",
       "      <td>155</td>\n",
       "    </tr>\n",
       "    <tr>\n",
       "      <th>...</th>\n",
       "      <td>...</td>\n",
       "      <td>...</td>\n",
       "      <td>...</td>\n",
       "      <td>...</td>\n",
       "      <td>...</td>\n",
       "      <td>...</td>\n",
       "      <td>...</td>\n",
       "      <td>...</td>\n",
       "      <td>...</td>\n",
       "      <td>...</td>\n",
       "    </tr>\n",
       "    <tr>\n",
       "      <th>31314</th>\n",
       "      <td>971</td>\n",
       "      <td>1559.0</td>\n",
       "      <td>523.0</td>\n",
       "      <td>282.0</td>\n",
       "      <td>0.0</td>\n",
       "      <td>207.0</td>\n",
       "      <td>356.0</td>\n",
       "      <td>2</td>\n",
       "      <td>19</td>\n",
       "      <td>347</td>\n",
       "    </tr>\n",
       "    <tr>\n",
       "      <th>31315</th>\n",
       "      <td>955</td>\n",
       "      <td>1417.0</td>\n",
       "      <td>519.0</td>\n",
       "      <td>282.0</td>\n",
       "      <td>0.0</td>\n",
       "      <td>207.0</td>\n",
       "      <td>356.0</td>\n",
       "      <td>2</td>\n",
       "      <td>20</td>\n",
       "      <td>311</td>\n",
       "    </tr>\n",
       "    <tr>\n",
       "      <th>31316</th>\n",
       "      <td>831</td>\n",
       "      <td>900.0</td>\n",
       "      <td>362.0</td>\n",
       "      <td>282.0</td>\n",
       "      <td>0.0</td>\n",
       "      <td>207.0</td>\n",
       "      <td>356.0</td>\n",
       "      <td>2</td>\n",
       "      <td>21</td>\n",
       "      <td>216</td>\n",
       "    </tr>\n",
       "    <tr>\n",
       "      <th>31317</th>\n",
       "      <td>745</td>\n",
       "      <td>626.0</td>\n",
       "      <td>221.0</td>\n",
       "      <td>282.0</td>\n",
       "      <td>0.0</td>\n",
       "      <td>207.0</td>\n",
       "      <td>356.0</td>\n",
       "      <td>2</td>\n",
       "      <td>22</td>\n",
       "      <td>182</td>\n",
       "    </tr>\n",
       "    <tr>\n",
       "      <th>31318</th>\n",
       "      <td>685</td>\n",
       "      <td>546.0</td>\n",
       "      <td>207.0</td>\n",
       "      <td>282.0</td>\n",
       "      <td>0.0</td>\n",
       "      <td>207.0</td>\n",
       "      <td>356.0</td>\n",
       "      <td>2</td>\n",
       "      <td>23</td>\n",
       "      <td>164</td>\n",
       "    </tr>\n",
       "  </tbody>\n",
       "</table>\n",
       "<p>31319 rows × 10 columns</p>\n",
       "</div>"
      ],
      "text/plain": [
       "       var1(t-72)  var2(t-72)  var3(t-72)  var4(t-72)  var5(t-72)  var6(t-72)  \\\n",
       "0             799      1442.0       658.0        76.0         0.0        36.0   \n",
       "1             894       903.0       458.0        76.0         0.0        36.0   \n",
       "2             760       397.0       190.0        76.0         0.0        36.0   \n",
       "3             669       312.0       147.0        76.0         0.0        36.0   \n",
       "4             665       299.0       124.0        76.0         0.0        36.0   \n",
       "...           ...         ...         ...         ...         ...         ...   \n",
       "31314         971      1559.0       523.0       282.0         0.0       207.0   \n",
       "31315         955      1417.0       519.0       282.0         0.0       207.0   \n",
       "31316         831       900.0       362.0       282.0         0.0       207.0   \n",
       "31317         745       626.0       221.0       282.0         0.0       207.0   \n",
       "31318         685       546.0       207.0       282.0         0.0       207.0   \n",
       "\n",
       "       var7(t-72)  var8(t-72)  hour  obj  \n",
       "0           116.0           1     1   59  \n",
       "1           116.0           1     2   29  \n",
       "2           116.0           1     3   29  \n",
       "3           116.0           1     4   41  \n",
       "4           116.0           1     5  155  \n",
       "...           ...         ...   ...  ...  \n",
       "31314       356.0           2    19  347  \n",
       "31315       356.0           2    20  311  \n",
       "31316       356.0           2    21  216  \n",
       "31317       356.0           2    22  182  \n",
       "31318       356.0           2    23  164  \n",
       "\n",
       "[31319 rows x 10 columns]"
      ]
     },
     "execution_count": 6,
     "metadata": {},
     "output_type": "execute_result"
    }
   ],
   "source": [
    "a1=list(range(1,24))\n",
    "a2=list(range(0,24))*1303\n",
    "a3=list(range(0,24))\n",
    "a4=a1+a2+a3\n",
    "data['hour'] = a4\n",
    "data = data.reindex(columns=[data.columns[0],data.columns[1],data.columns[2],data.columns[3],data.columns[4],\n",
    "                             data.columns[5],data.columns[6],data.columns[7],'hour','obj'])\n",
    "data"
   ]
  },
  {
   "cell_type": "markdown",
   "id": "954e93b9",
   "metadata": {},
   "source": [
    "We normalise all input variables. "
   ]
  },
  {
   "cell_type": "code",
   "execution_count": 7,
   "id": "65f8df7e",
   "metadata": {},
   "outputs": [],
   "source": [
    "scaler = MinMaxScaler(feature_range=(0, 1))\n",
    "data[data.columns.difference(['obj'])] = scaler.fit_transform(data[data.columns.difference(['obj'])])"
   ]
  },
  {
   "cell_type": "markdown",
   "id": "9363230c",
   "metadata": {},
   "source": [
    "We apply the previously defined function. We split the original sequence data. Each sample has six time steps as predictor variables (from timestep t-15 to timestep t-12) and one target variable (timestep t). "
   ]
  },
  {
   "cell_type": "code",
   "execution_count": 8,
   "id": "6f6e2681",
   "metadata": {},
   "outputs": [
    {
     "name": "stdout",
     "output_type": "stream",
     "text": [
      "(31316, 4, 9)\n",
      "(31316, 1)\n"
     ]
    }
   ],
   "source": [
    "data1=data.values\n",
    "X, y = split_sequences(data1,4,1)\n",
    "print(X.shape)\n",
    "print(y.shape)"
   ]
  },
  {
   "cell_type": "markdown",
   "id": "c5bae631",
   "metadata": {},
   "source": [
    "## Data analyse"
   ]
  },
  {
   "cell_type": "markdown",
   "id": "1bd47ac5",
   "metadata": {},
   "source": [
    "We make a simple statistical analysis of the target variable. "
   ]
  },
  {
   "cell_type": "code",
   "execution_count": 9,
   "id": "13c6a1fb",
   "metadata": {},
   "outputs": [
    {
     "data": {
      "text/plain": [
       "count    31319.000000\n",
       "mean       434.558351\n",
       "std        350.081166\n",
       "min          0.000000\n",
       "25%        106.000000\n",
       "50%        371.000000\n",
       "75%        738.000000\n",
       "max       2888.000000\n",
       "Name: obj, dtype: float64"
      ]
     },
     "execution_count": 9,
     "metadata": {},
     "output_type": "execute_result"
    }
   ],
   "source": [
    "dataplot = data\n",
    "dataplot['obj'].describe()"
   ]
  },
  {
   "cell_type": "markdown",
   "id": "caff81d0",
   "metadata": {},
   "source": [
    "We plot linechart of the evolution of traffic flow in the first week of 2018 (first available data). "
   ]
  },
  {
   "cell_type": "code",
   "execution_count": 10,
   "id": "778710c6",
   "metadata": {},
   "outputs": [
    {
     "data": {
      "image/png": "[encoded data removed]",
      "text/plain": [
       "<Figure size 640x480 with 1 Axes>"
      ]
     },
     "metadata": {},
     "output_type": "display_data"
    }
   ],
   "source": [
    "plt.plot(list(dataplot['obj'][0:24*7]),\n",
    "        label=index, linewidth=3)\n",
    "plt.title('First week of 2018. Arturo Soria Station')\n",
    "plt.ylabel('Hourly traffic flow')\n",
    "plt.show()"
   ]
  },
  {
   "cell_type": "markdown",
   "id": "4458ab4e",
   "metadata": {},
   "source": [
    "## Model development. "
   ]
  },
  {
   "cell_type": "markdown",
   "id": "08723d86",
   "metadata": {},
   "source": [
    "We reshape our data to have the structure required by the neural network. "
   ]
  },
  {
   "cell_type": "code",
   "execution_count": 11,
   "id": "420d1847",
   "metadata": {},
   "outputs": [],
   "source": [
    "X = X.reshape((X.shape[0], X.shape[1], X.shape[2])).astype('float32')\n"
   ]
  },
  {
   "cell_type": "markdown",
   "id": "ad0849d0",
   "metadata": {},
   "source": [
    "We divide randomly our data in the train and test sets. "
   ]
  },
  {
   "cell_type": "code",
   "execution_count": 12,
   "id": "eb984b95",
   "metadata": {},
   "outputs": [],
   "source": [
    "X_train, X_test, y_train, y_test = train_test_split(\n",
    "X, y, test_size=0.33, random_state=42)"
   ]
  },
  {
   "cell_type": "markdown",
   "id": "95522ffc",
   "metadata": {},
   "source": [
    "We develop our model by using keras and tensorflow. First, we apply a convolutional neural network with 256 kernels which is followed by a max pooling. Then, we flatten data. \n",
    "\n",
    "Subsequently, we use the flatten data as input in the Bidirectional long short term memory network, with 500 units. It is followed by a dropout layer and, finally, we apply a dense layer to obtain the required prediction. "
   ]
  },
  {
   "cell_type": "code",
   "execution_count": 13,
   "id": "f0a6e714",
   "metadata": {},
   "outputs": [
    {
     "name": "stdout",
     "output_type": "stream",
     "text": [
      "Model: \"model\"\n",
      "__________________________________________________________________________________________________\n",
      " Layer (type)                   Output Shape         Param #     Connected to                     \n",
      "==================================================================================================\n",
      " input_1 (InputLayer)           [(None, 4, 9, 1)]    0           []                               \n",
      "                                                                                                  \n",
      " time_distributed (TimeDistribu  (None, 4, 8, 256)   768         ['input_1[0][0]']                \n",
      " ted)                                                                                             \n",
      "                                                                                                  \n",
      " time_distributed_1 (TimeDistri  (None, 4, 4, 256)   0           ['time_distributed[0][0]']       \n",
      " buted)                                                                                           \n",
      "                                                                                                  \n",
      " time_distributed_2 (TimeDistri  (None, 4, 1024)     0           ['time_distributed_1[0][0]']     \n",
      " buted)                                                                                           \n",
      "                                                                                                  \n",
      " gru (GRU)                      (None, 4, 500)       2289000     ['time_distributed_2[0][0]']     \n",
      "                                                                                                  \n",
      " dense (Dense)                  (None, 4, 1000)      501000      ['gru[0][0]']                    \n",
      "                                                                                                  \n",
      " dense_1 (Dense)                (None, 4, 1000)      1001000     ['dense[0][0]']                  \n",
      "                                                                                                  \n",
      " softmax (Softmax)              (None, 4, 1000)      0           ['dense_1[0][0]']                \n",
      "                                                                                                  \n",
      " tf.math.multiply (TFOpLambda)  (None, 4, 1000)      0           ['dense_1[0][0]',                \n",
      "                                                                  'softmax[0][0]']                \n",
      "                                                                                                  \n",
      " average_pooling1d (AveragePool  (None, 1, 1000)     0           ['tf.math.multiply[0][0]']       \n",
      " ing1D)                                                                                           \n",
      "                                                                                                  \n",
      " reshape (Reshape)              (None, 1000)         0           ['average_pooling1d[0][0]']      \n",
      "                                                                                                  \n",
      " dense_2 (Dense)                (None, 1)            1001        ['reshape[0][0]']                \n",
      "                                                                                                  \n",
      "==================================================================================================\n",
      "Total params: 3,792,769\n",
      "Trainable params: 3,792,769\n",
      "Non-trainable params: 0\n",
      "__________________________________________________________________________________________________\n"
     ]
    }
   ],
   "source": [
    "from keras.layers import Input, Layer, Conv1D, MaxPooling1D, Flatten, Bidirectional, GRU\n",
    "from keras.layers import Dropout, Dense, Softmax, AveragePooling1D, Reshape\n",
    "from keras.models import Model\n",
    "\n",
    "\n",
    "\n",
    "\n",
    "import tensorflow as tf\n",
    "from tensorflow.keras.layers import Input, Conv1D, MaxPooling1D, Flatten, Bidirectional, GRU, Softmax, Dense, TimeDistributed\n",
    "\n",
    "# Define your input shape\n",
    "input_shape = (4, 9, 1)\n",
    "\n",
    "import tensorflow as tf\n",
    "from tensorflow.keras.layers import Input, Conv1D, MaxPooling1D, Flatten, Bidirectional, GRU, Softmax, Dense, TimeDistributed, AveragePooling1D\n",
    "\n",
    "# Define your input shape\n",
    "input_shape = (4, 9, 1)\n",
    "\n",
    "# Create the input layer\n",
    "input_layer = Input(shape=input_shape)\n",
    "\n",
    "# Apply Conv1D with soft attention\n",
    "conv_layer = TimeDistributed(Conv1D(filters=256, kernel_size=2, activation='relu'))(input_layer)\n",
    "\n",
    "# Apply MaxPooling1D\n",
    "pooling_layer = TimeDistributed(MaxPooling1D(pool_size=2, padding='same'))(conv_layer)\n",
    "\n",
    "# Flatten the output\n",
    "flatten_layer = TimeDistributed(Flatten())(pooling_layer)\n",
    "\n",
    "# Bidirectional GRU layer\n",
    "gru_layer = GRU(500, activation='relu', return_sequences=True)(flatten_layer)\n",
    "\n",
    "# dropout_layer = Dropout(0.5)(gru_layer)\n",
    "# Dense layers\n",
    "denselayer1 = Dense(1000)(gru_layer)\n",
    "denselayer2 = Dense(1000)(denselayer1)\n",
    "\n",
    "# Apply soft attention mechanism\n",
    "attention_weights = Softmax(axis=1)(denselayer2)\n",
    "attended_output = denselayer2 * attention_weights\n",
    "\n",
    "# Apply AveragePooling1D\n",
    "pooled_output = AveragePooling1D(pool_size=4)(attended_output)\n",
    "\n",
    "# Reshape the pooled tensor to (None, 1000)\n",
    "reshaped_output = tf.keras.layers.Reshape(target_shape=(1000,))(pooled_output)\n",
    "\n",
    "# Output layer\n",
    "output_layer = Dense(1)(reshaped_output)\n",
    "\n",
    "# Compile the model\n",
    "model_with_attention = tf.keras.Model(inputs=input_layer, outputs=output_layer)\n",
    "model_with_attention.compile(optimizer='adam', loss='mae')\n",
    "\n",
    "# Summary of the modified model\n",
    "model_with_attention.summary()\n",
    "\n"
   ]
  },
  {
   "cell_type": "code",
   "execution_count": 14,
   "id": "bd867a10-8bc8-466d-9be2-e34a7de2f5cd",
   "metadata": {},
   "outputs": [],
   "source": [
    "# model3.summary()"
   ]
  },
  {
   "cell_type": "code",
   "execution_count": 15,
   "id": "7c4c19ab-196e-4345-a7fb-8fe6d1431c70",
   "metadata": {},
   "outputs": [
    {
     "name": "stdout",
     "output_type": "stream",
     "text": [
      "(20981, 1)\n"
     ]
    }
   ],
   "source": [
    "print(y_train.shape)"
   ]
  },
  {
   "cell_type": "markdown",
   "id": "e07e6b25",
   "metadata": {},
   "source": [
    "We provide a graphical representation of the model by using Netron. Reader can deeply analyse each layer of the model. "
   ]
  },
  {
   "cell_type": "code",
   "execution_count": 16,
   "id": "f999d515",
   "metadata": {
    "scrolled": true
   },
   "outputs": [],
   "source": [
    "\n",
    "# model_with_attention.save('model_with_attention.keras')\n",
    "# netron.start('model_with_attention.h5')"
   ]
  },
  {
   "cell_type": "markdown",
   "id": "6ce5e668",
   "metadata": {},
   "source": [
    "We train the model."
   ]
  },
  {
   "cell_type": "code",
   "execution_count": 17,
   "id": "84c63f1c",
   "metadata": {},
   "outputs": [
    {
     "name": "stdout",
     "output_type": "stream",
     "text": [
      "Epoch 1/100\n",
      "656/656 [==============================] - 18s 26ms/step - loss: 215.1237 - val_loss: 169.2689\n",
      "Epoch 2/100\n",
      "656/656 [==============================] - 17s 26ms/step - loss: 167.0974 - val_loss: 160.1040\n",
      "Epoch 3/100\n",
      "656/656 [==============================] - 17s 26ms/step - loss: 160.0002 - val_loss: 158.1463\n",
      "Epoch 4/100\n",
      "656/656 [==============================] - 17s 26ms/step - loss: 154.7129 - val_loss: 146.1104\n",
      "Epoch 5/100\n",
      "656/656 [==============================] - 17s 26ms/step - loss: 150.2708 - val_loss: 141.2039\n",
      "Epoch 6/100\n",
      "656/656 [==============================] - 17s 26ms/step - loss: 145.0200 - val_loss: 148.0452\n",
      "Epoch 7/100\n",
      "656/656 [==============================] - 17s 26ms/step - loss: 142.1051 - val_loss: 144.6338\n",
      "Epoch 8/100\n",
      "656/656 [==============================] - 17s 26ms/step - loss: 139.6736 - val_loss: 144.1610\n",
      "Epoch 9/100\n",
      "656/656 [==============================] - 17s 26ms/step - loss: 135.9183 - val_loss: 135.6410\n",
      "Epoch 10/100\n",
      "656/656 [==============================] - 17s 26ms/step - loss: 134.2302 - val_loss: 143.4002\n",
      "Epoch 11/100\n",
      "656/656 [==============================] - 17s 26ms/step - loss: 132.4363 - val_loss: 135.6694\n",
      "Epoch 12/100\n",
      "656/656 [==============================] - 17s 26ms/step - loss: 131.9628 - val_loss: 129.8679\n",
      "Epoch 13/100\n",
      "656/656 [==============================] - 17s 26ms/step - loss: 129.9819 - val_loss: 134.1923\n",
      "Epoch 14/100\n",
      "656/656 [==============================] - 17s 26ms/step - loss: 129.0550 - val_loss: 127.0836\n",
      "Epoch 15/100\n",
      "656/656 [==============================] - 17s 26ms/step - loss: 129.0647 - val_loss: 130.9469\n",
      "Epoch 16/100\n",
      "656/656 [==============================] - 17s 26ms/step - loss: 127.9127 - val_loss: 126.6176\n",
      "Epoch 17/100\n",
      "656/656 [==============================] - 17s 26ms/step - loss: 126.6702 - val_loss: 126.9833\n",
      "Epoch 18/100\n",
      "656/656 [==============================] - 17s 26ms/step - loss: 126.1818 - val_loss: 130.8000\n",
      "Epoch 19/100\n",
      "656/656 [==============================] - 17s 26ms/step - loss: 125.1279 - val_loss: 125.5593\n",
      "Epoch 20/100\n",
      "656/656 [==============================] - 17s 26ms/step - loss: 124.5096 - val_loss: 123.8409\n",
      "Epoch 21/100\n",
      "656/656 [==============================] - 17s 26ms/step - loss: 124.0030 - val_loss: 125.7301\n",
      "Epoch 22/100\n",
      "656/656 [==============================] - 17s 26ms/step - loss: 123.1615 - val_loss: 124.6372\n",
      "Epoch 23/100\n",
      "656/656 [==============================] - 17s 26ms/step - loss: 122.5284 - val_loss: 126.8396\n",
      "Epoch 24/100\n",
      "656/656 [==============================] - 17s 26ms/step - loss: 122.2557 - val_loss: 125.6092\n",
      "Epoch 25/100\n",
      "656/656 [==============================] - 17s 26ms/step - loss: 121.8204 - val_loss: 122.4720\n",
      "Epoch 26/100\n",
      "656/656 [==============================] - 17s 26ms/step - loss: 121.0995 - val_loss: 126.4470\n",
      "Epoch 27/100\n",
      "656/656 [==============================] - 17s 26ms/step - loss: 120.6525 - val_loss: 119.6595\n",
      "Epoch 28/100\n",
      "656/656 [==============================] - 17s 26ms/step - loss: 120.3286 - val_loss: 122.1091\n",
      "Epoch 29/100\n",
      "656/656 [==============================] - 17s 26ms/step - loss: 119.3699 - val_loss: 124.9878\n",
      "Epoch 30/100\n",
      "656/656 [==============================] - 17s 26ms/step - loss: 119.0323 - val_loss: 120.5504\n",
      "Epoch 31/100\n",
      "656/656 [==============================] - 17s 26ms/step - loss: 117.8121 - val_loss: 119.2032\n",
      "Epoch 32/100\n",
      "656/656 [==============================] - 17s 26ms/step - loss: 117.6845 - val_loss: 120.2365\n",
      "Epoch 33/100\n",
      "656/656 [==============================] - 17s 26ms/step - loss: 117.1087 - val_loss: 122.7565\n",
      "Epoch 34/100\n",
      "656/656 [==============================] - 17s 26ms/step - loss: 116.3639 - val_loss: 121.7178\n",
      "Epoch 35/100\n",
      "656/656 [==============================] - 17s 26ms/step - loss: 115.6097 - val_loss: 120.1248\n",
      "Epoch 36/100\n",
      "656/656 [==============================] - 17s 26ms/step - loss: 115.5475 - val_loss: 118.1956\n",
      "Epoch 37/100\n",
      "656/656 [==============================] - 17s 26ms/step - loss: 115.2292 - val_loss: 122.9308\n",
      "Epoch 38/100\n",
      "656/656 [==============================] - 17s 26ms/step - loss: 114.7561 - val_loss: 118.5436\n",
      "Epoch 39/100\n",
      "656/656 [==============================] - 17s 26ms/step - loss: 113.8960 - val_loss: 118.3419\n",
      "Epoch 40/100\n",
      "656/656 [==============================] - 17s 26ms/step - loss: 113.1292 - val_loss: 118.0914\n",
      "Epoch 41/100\n",
      "656/656 [==============================] - 17s 26ms/step - loss: 113.6478 - val_loss: 116.7320\n",
      "Epoch 42/100\n",
      "656/656 [==============================] - 17s 26ms/step - loss: 112.4720 - val_loss: 116.6570\n",
      "Epoch 43/100\n",
      "656/656 [==============================] - 17s 26ms/step - loss: 112.7767 - val_loss: 116.2231\n",
      "Epoch 44/100\n",
      "656/656 [==============================] - 17s 26ms/step - loss: 111.1215 - val_loss: 119.2432\n",
      "Epoch 45/100\n",
      "656/656 [==============================] - 17s 26ms/step - loss: 111.4228 - val_loss: 115.2944\n",
      "Epoch 46/100\n",
      "656/656 [==============================] - 17s 26ms/step - loss: 110.6229 - val_loss: 115.8682\n",
      "Epoch 47/100\n",
      "656/656 [==============================] - 17s 26ms/step - loss: 110.6062 - val_loss: 115.4036\n",
      "Epoch 48/100\n",
      "656/656 [==============================] - 17s 26ms/step - loss: 109.5996 - val_loss: 113.7531\n",
      "Epoch 49/100\n",
      "656/656 [==============================] - 17s 26ms/step - loss: 108.7932 - val_loss: 119.4580\n",
      "Epoch 50/100\n",
      "656/656 [==============================] - 17s 26ms/step - loss: 108.4524 - val_loss: 114.2685\n",
      "Epoch 51/100\n",
      "656/656 [==============================] - 17s 26ms/step - loss: 108.4498 - val_loss: 115.7762\n",
      "Epoch 52/100\n",
      "656/656 [==============================] - 17s 26ms/step - loss: 107.6449 - val_loss: 114.8304\n",
      "Epoch 53/100\n",
      "656/656 [==============================] - 17s 26ms/step - loss: 107.5720 - val_loss: 116.4803\n",
      "Epoch 54/100\n",
      "656/656 [==============================] - 17s 26ms/step - loss: 106.9901 - val_loss: 113.3321\n",
      "Epoch 55/100\n",
      "656/656 [==============================] - 17s 26ms/step - loss: 106.6887 - val_loss: 114.0557\n",
      "Epoch 56/100\n",
      "656/656 [==============================] - 17s 26ms/step - loss: 105.7422 - val_loss: 113.3278\n",
      "Epoch 57/100\n",
      "656/656 [==============================] - 17s 26ms/step - loss: 105.7603 - val_loss: 113.0556\n",
      "Epoch 58/100\n",
      "656/656 [==============================] - 17s 26ms/step - loss: 105.7270 - val_loss: 115.7123\n",
      "Epoch 59/100\n",
      "656/656 [==============================] - 17s 26ms/step - loss: 104.6176 - val_loss: 113.8918\n",
      "Epoch 60/100\n",
      "656/656 [==============================] - 17s 26ms/step - loss: 104.1605 - val_loss: 114.7046\n",
      "Epoch 61/100\n",
      "656/656 [==============================] - 17s 26ms/step - loss: 104.0781 - val_loss: 113.1096\n",
      "Epoch 62/100\n",
      "656/656 [==============================] - 17s 26ms/step - loss: 103.3843 - val_loss: 111.8096\n",
      "Epoch 63/100\n",
      "656/656 [==============================] - 17s 26ms/step - loss: 103.0548 - val_loss: 113.2776\n",
      "Epoch 64/100\n",
      "656/656 [==============================] - 17s 26ms/step - loss: 103.3420 - val_loss: 113.7582\n",
      "Epoch 65/100\n",
      "656/656 [==============================] - 17s 26ms/step - loss: 102.1119 - val_loss: 113.3447\n",
      "Epoch 66/100\n",
      "656/656 [==============================] - 17s 26ms/step - loss: 101.7752 - val_loss: 111.0197\n",
      "Epoch 67/100\n",
      "656/656 [==============================] - 17s 26ms/step - loss: 101.4996 - val_loss: 113.5602\n",
      "Epoch 68/100\n",
      "656/656 [==============================] - 17s 26ms/step - loss: 100.2977 - val_loss: 111.9736\n",
      "Epoch 69/100\n",
      "656/656 [==============================] - 17s 26ms/step - loss: 99.7274 - val_loss: 113.9403\n",
      "Epoch 70/100\n",
      "656/656 [==============================] - 17s 26ms/step - loss: 99.9628 - val_loss: 114.5065\n",
      "Epoch 71/100\n",
      "656/656 [==============================] - 17s 26ms/step - loss: 99.0369 - val_loss: 112.9806\n",
      "Epoch 72/100\n",
      "656/656 [==============================] - 17s 26ms/step - loss: 98.6754 - val_loss: 111.4297\n",
      "Epoch 73/100\n",
      "656/656 [==============================] - 17s 26ms/step - loss: 98.6772 - val_loss: 113.5890\n",
      "Epoch 74/100\n",
      "656/656 [==============================] - 17s 26ms/step - loss: 97.2134 - val_loss: 110.5910\n",
      "Epoch 75/100\n",
      "656/656 [==============================] - 17s 26ms/step - loss: 96.0445 - val_loss: 113.2475\n",
      "Epoch 76/100\n",
      "656/656 [==============================] - 17s 26ms/step - loss: 96.4165 - val_loss: 111.6032\n",
      "Epoch 77/100\n"
     ]
    },
    {
     "name": "stdout",
     "output_type": "stream",
     "text": [
      "656/656 [==============================] - 17s 26ms/step - loss: 95.8721 - val_loss: 111.6199\n",
      "Epoch 78/100\n",
      "656/656 [==============================] - 17s 26ms/step - loss: 95.0829 - val_loss: 117.1040\n",
      "Epoch 79/100\n",
      "656/656 [==============================] - 18s 27ms/step - loss: 94.6531 - val_loss: 112.8545\n",
      "Epoch 80/100\n",
      "656/656 [==============================] - 17s 26ms/step - loss: 94.4526 - val_loss: 109.8140\n",
      "Epoch 81/100\n",
      "656/656 [==============================] - 17s 27ms/step - loss: 93.9481 - val_loss: 109.8954\n",
      "Epoch 82/100\n",
      "656/656 [==============================] - 17s 26ms/step - loss: 93.1367 - val_loss: 112.1529\n",
      "Epoch 83/100\n",
      "656/656 [==============================] - 18s 27ms/step - loss: 92.9866 - val_loss: 112.9730\n",
      "Epoch 84/100\n",
      "656/656 [==============================] - 17s 27ms/step - loss: 92.3300 - val_loss: 110.2125\n",
      "Epoch 85/100\n",
      "656/656 [==============================] - 17s 26ms/step - loss: 91.8419 - val_loss: 110.1603\n",
      "Epoch 86/100\n",
      "656/656 [==============================] - 17s 26ms/step - loss: 91.5333 - val_loss: 110.0497\n",
      "Epoch 87/100\n",
      "656/656 [==============================] - 18s 27ms/step - loss: 90.6110 - val_loss: 111.7354\n",
      "Epoch 88/100\n",
      "656/656 [==============================] - 18s 27ms/step - loss: 90.6328 - val_loss: 109.9471\n",
      "Epoch 89/100\n",
      "656/656 [==============================] - 17s 27ms/step - loss: 90.0114 - val_loss: 108.8421\n",
      "Epoch 90/100\n",
      "656/656 [==============================] - 17s 26ms/step - loss: 89.5578 - val_loss: 110.8625\n",
      "Epoch 91/100\n",
      "656/656 [==============================] - 18s 27ms/step - loss: 88.0701 - val_loss: 111.4773\n",
      "Epoch 92/100\n",
      "656/656 [==============================] - 17s 27ms/step - loss: 88.6774 - val_loss: 112.8278\n",
      "Epoch 93/100\n",
      "656/656 [==============================] - 17s 27ms/step - loss: 87.6594 - val_loss: 109.4903\n",
      "Epoch 94/100\n",
      "656/656 [==============================] - 18s 27ms/step - loss: 87.2871 - val_loss: 109.8230\n",
      "Epoch 95/100\n",
      "656/656 [==============================] - 17s 26ms/step - loss: 86.5263 - val_loss: 110.5620\n",
      "Epoch 96/100\n",
      "656/656 [==============================] - 17s 26ms/step - loss: 86.2241 - val_loss: 113.2568\n",
      "Epoch 97/100\n",
      "656/656 [==============================] - 17s 26ms/step - loss: 85.5658 - val_loss: 110.9496\n",
      "Epoch 98/100\n",
      "656/656 [==============================] - 17s 26ms/step - loss: 85.5038 - val_loss: 109.0580\n",
      "Epoch 99/100\n",
      "656/656 [==============================] - 17s 26ms/step - loss: 85.2533 - val_loss: 108.2977\n",
      "Epoch 100/100\n",
      "656/656 [==============================] - 17s 26ms/step - loss: 84.7996 - val_loss: 107.4756\n",
      "Wall time: 28min 29s\n"
     ]
    }
   ],
   "source": [
    "%%time\n",
    "\n",
    "history3=model_with_attention.fit(X_train,y_train,epochs=100,batch_size = 32, shuffle=True,validation_data=(X_test,y_test))"
   ]
  },
  {
   "cell_type": "code",
   "execution_count": 18,
   "id": "abba0b87-9118-4cc6-9653-6de20c9a1872",
   "metadata": {},
   "outputs": [],
   "source": [
    "# import keras\n",
    "# tf.keras.s(model_with_attention, 'model_with_attention_AS2(t-12).keras')\n",
    "model_with_attention.save('model_with_attention_AS2(t-72).keras')\n",
    "\n",
    "train_loss_pd = pd.DataFrame(history3.history['loss'])\n",
    "val_loss_pd = pd.DataFrame(history3.history['loss'])\n",
    "train_loss_pd.to_csv('train_loss_AS2(t-72)')\n",
    "val_loss_pd.to_csv('val_loss_AS2(t-72))')"
   ]
  },
  {
   "cell_type": "code",
   "execution_count": 19,
   "id": "6a350564",
   "metadata": {},
   "outputs": [
    {
     "data": {
      "text/plain": [
       "{'loss': [215.1236572265625,\n",
       "  167.09735107421875,\n",
       "  160.000244140625,\n",
       "  154.712890625,\n",
       "  150.27084350585938,\n",
       "  145.01995849609375,\n",
       "  142.1050567626953,\n",
       "  139.67361450195312,\n",
       "  135.91831970214844,\n",
       "  134.23016357421875,\n",
       "  132.43634033203125,\n",
       "  131.96275329589844,\n",
       "  129.98190307617188,\n",
       "  129.05496215820312,\n",
       "  129.06471252441406,\n",
       "  127.91270446777344,\n",
       "  126.67018127441406,\n",
       "  126.18181610107422,\n",
       "  125.12789916992188,\n",
       "  124.50956726074219,\n",
       "  124.00299072265625,\n",
       "  123.16145324707031,\n",
       "  122.52839660644531,\n",
       "  122.25568389892578,\n",
       "  121.82037353515625,\n",
       "  121.0995101928711,\n",
       "  120.65247344970703,\n",
       "  120.32856750488281,\n",
       "  119.3698501586914,\n",
       "  119.03231811523438,\n",
       "  117.81211853027344,\n",
       "  117.68447875976562,\n",
       "  117.10872650146484,\n",
       "  116.36389923095703,\n",
       "  115.6097183227539,\n",
       "  115.54753112792969,\n",
       "  115.22915649414062,\n",
       "  114.75606536865234,\n",
       "  113.89596557617188,\n",
       "  113.1292495727539,\n",
       "  113.64781188964844,\n",
       "  112.47200012207031,\n",
       "  112.77674102783203,\n",
       "  111.12146759033203,\n",
       "  111.42279052734375,\n",
       "  110.62291717529297,\n",
       "  110.6062240600586,\n",
       "  109.59956359863281,\n",
       "  108.79318237304688,\n",
       "  108.45244598388672,\n",
       "  108.44976043701172,\n",
       "  107.64492797851562,\n",
       "  107.57202911376953,\n",
       "  106.9901123046875,\n",
       "  106.68870544433594,\n",
       "  105.74217224121094,\n",
       "  105.76026916503906,\n",
       "  105.72698211669922,\n",
       "  104.61758422851562,\n",
       "  104.16045379638672,\n",
       "  104.07805633544922,\n",
       "  103.38431549072266,\n",
       "  103.0548324584961,\n",
       "  103.34203338623047,\n",
       "  102.11186218261719,\n",
       "  101.77515411376953,\n",
       "  101.49960327148438,\n",
       "  100.29767608642578,\n",
       "  99.72736358642578,\n",
       "  99.96284484863281,\n",
       "  99.03685760498047,\n",
       "  98.67535400390625,\n",
       "  98.67716979980469,\n",
       "  97.21338653564453,\n",
       "  96.04447174072266,\n",
       "  96.41653442382812,\n",
       "  95.8720932006836,\n",
       "  95.08287048339844,\n",
       "  94.653076171875,\n",
       "  94.45263671875,\n",
       "  93.94810485839844,\n",
       "  93.1367416381836,\n",
       "  92.98661041259766,\n",
       "  92.32998657226562,\n",
       "  91.8419189453125,\n",
       "  91.53330993652344,\n",
       "  90.61100769042969,\n",
       "  90.6327896118164,\n",
       "  90.01138305664062,\n",
       "  89.55780792236328,\n",
       "  88.07005310058594,\n",
       "  88.67741394042969,\n",
       "  87.65943908691406,\n",
       "  87.28709411621094,\n",
       "  86.5263442993164,\n",
       "  86.22407531738281,\n",
       "  85.56582641601562,\n",
       "  85.50376892089844,\n",
       "  85.25331115722656,\n",
       "  84.79956817626953],\n",
       " 'val_loss': [169.26890563964844,\n",
       "  160.1039581298828,\n",
       "  158.14627075195312,\n",
       "  146.11038208007812,\n",
       "  141.20391845703125,\n",
       "  148.045166015625,\n",
       "  144.6337890625,\n",
       "  144.1610107421875,\n",
       "  135.6409912109375,\n",
       "  143.4002227783203,\n",
       "  135.6693878173828,\n",
       "  129.86793518066406,\n",
       "  134.19227600097656,\n",
       "  127.08357238769531,\n",
       "  130.9469451904297,\n",
       "  126.61762237548828,\n",
       "  126.98332977294922,\n",
       "  130.79998779296875,\n",
       "  125.559326171875,\n",
       "  123.8409423828125,\n",
       "  125.73005676269531,\n",
       "  124.63716888427734,\n",
       "  126.8396224975586,\n",
       "  125.6091537475586,\n",
       "  122.4720458984375,\n",
       "  126.44703674316406,\n",
       "  119.65953063964844,\n",
       "  122.1091079711914,\n",
       "  124.98782348632812,\n",
       "  120.55036163330078,\n",
       "  119.20315551757812,\n",
       "  120.23650360107422,\n",
       "  122.75653076171875,\n",
       "  121.71778106689453,\n",
       "  120.12483215332031,\n",
       "  118.19557189941406,\n",
       "  122.93077087402344,\n",
       "  118.54362487792969,\n",
       "  118.34193420410156,\n",
       "  118.09141540527344,\n",
       "  116.73197937011719,\n",
       "  116.65699005126953,\n",
       "  116.22309112548828,\n",
       "  119.2431640625,\n",
       "  115.2944107055664,\n",
       "  115.86821746826172,\n",
       "  115.40364074707031,\n",
       "  113.75308227539062,\n",
       "  119.4580078125,\n",
       "  114.2684555053711,\n",
       "  115.77620697021484,\n",
       "  114.8304214477539,\n",
       "  116.4803237915039,\n",
       "  113.33208465576172,\n",
       "  114.05567169189453,\n",
       "  113.3277816772461,\n",
       "  113.05557250976562,\n",
       "  115.71226501464844,\n",
       "  113.89177703857422,\n",
       "  114.70457458496094,\n",
       "  113.10958862304688,\n",
       "  111.80963897705078,\n",
       "  113.27762603759766,\n",
       "  113.75824737548828,\n",
       "  113.34466552734375,\n",
       "  111.01972961425781,\n",
       "  113.56021118164062,\n",
       "  111.97364807128906,\n",
       "  113.94029998779297,\n",
       "  114.50651550292969,\n",
       "  112.98063659667969,\n",
       "  111.42974090576172,\n",
       "  113.58900451660156,\n",
       "  110.59098815917969,\n",
       "  113.24754333496094,\n",
       "  111.60321807861328,\n",
       "  111.61988067626953,\n",
       "  117.10398864746094,\n",
       "  112.85449981689453,\n",
       "  109.81395721435547,\n",
       "  109.89537048339844,\n",
       "  112.15291595458984,\n",
       "  112.97303771972656,\n",
       "  110.21247863769531,\n",
       "  110.1603012084961,\n",
       "  110.04965209960938,\n",
       "  111.73538970947266,\n",
       "  109.94705200195312,\n",
       "  108.84208679199219,\n",
       "  110.86249542236328,\n",
       "  111.47733306884766,\n",
       "  112.82780456542969,\n",
       "  109.49032592773438,\n",
       "  109.82299041748047,\n",
       "  110.56201171875,\n",
       "  113.25675201416016,\n",
       "  110.94961547851562,\n",
       "  109.05804443359375,\n",
       "  108.29765319824219,\n",
       "  107.47557830810547]}"
      ]
     },
     "execution_count": 19,
     "metadata": {},
     "output_type": "execute_result"
    }
   ],
   "source": [
    "# print(history3.items())\n",
    "history3.history"
   ]
  },
  {
   "cell_type": "code",
   "execution_count": 20,
   "id": "b3eaaafe",
   "metadata": {},
   "outputs": [
    {
     "data": {
      "text/plain": [
       "<matplotlib.legend.Legend at 0x226346c2208>"
      ]
     },
     "execution_count": 20,
     "metadata": {},
     "output_type": "execute_result"
    },
    {
     "data": {
      "image/png": "[encoded data removed]",
      "text/plain": [
       "<Figure size 1000x500 with 1 Axes>"
      ]
     },
     "metadata": {},
     "output_type": "display_data"
    }
   ],
   "source": [
    "plt.figure(figsize=(10, 5))\n",
    "plt.plot(train_loss_pd, label='train')\n",
    "plt.plot(val_loss_pd, label='val')\n",
    "plt.legend()"
   ]
  },
  {
   "cell_type": "markdown",
   "id": "9c54db72",
   "metadata": {},
   "source": [
    "## Model evaluation"
   ]
  },
  {
   "cell_type": "markdown",
   "id": "b2ea78bf",
   "metadata": {},
   "source": [
    "We define this function, which will be useful to evaluate the model."
   ]
  },
  {
   "cell_type": "code",
   "execution_count": 21,
   "id": "8c0e5a3b",
   "metadata": {},
   "outputs": [],
   "source": [
    "def flatten(t):\n",
    "    return [item for sublist in t for item in sublist]"
   ]
  },
  {
   "cell_type": "markdown",
   "id": "e9674031",
   "metadata": {},
   "source": [
    "We evaluate the model by using the first metric (mean absolute error). "
   ]
  },
  {
   "cell_type": "code",
   "execution_count": 22,
   "id": "5ecf3c33",
   "metadata": {},
   "outputs": [
    {
     "name": "stdout",
     "output_type": "stream",
     "text": [
      "323/323 [==============================] - 3s 8ms/step\n",
      "(10335, 1)\n",
      "10335\n",
      "(10335, 1)\n",
      "10335\n",
      "107.47559476688858\n"
     ]
    }
   ],
   "source": [
    "from sklearn.metrics import mean_absolute_error \n",
    "# from sklearn.metrics import root_mean_squared_error \n",
    "\n",
    "pred = model_with_attention.predict(X_test)\n",
    "print(pred.shape)\n",
    "print(len(flatten(pred)))\n",
    "print(y_test.shape)\n",
    "print(len(flatten(y_test)))\n",
    "\n",
    "MAE = mean_absolute_error(flatten(pred),flatten(y_test))\n",
    "print(MAE)\n",
    "# RMSE = root_mean_squared_error(flatten(pred),flatten(y_test))\n",
    "# print(RMSE)"
   ]
  },
  {
   "cell_type": "markdown",
   "id": "12982dd9",
   "metadata": {},
   "source": [
    "We will evaluate the model with the second metric (accuracy). For this, we divide target variable in three categories: first, data between percentil 0 and 15; second, data between percentil 15 and 85 and thrid, data between percentil 85 and 100. "
   ]
  },
  {
   "cell_type": "code",
   "execution_count": 23,
   "id": "10369faa-d540-4ccd-a24b-4fe206c3d53f",
   "metadata": {},
   "outputs": [
    {
     "name": "stdout",
     "output_type": "stream",
     "text": [
      "323/323 [==============================] - 3s 8ms/step\n",
      "[[  37.179348]\n",
      " [  91.69487 ]\n",
      " [ 238.05475 ]\n",
      " ...\n",
      " [ 734.829   ]\n",
      " [1245.5298  ]\n",
      " [ 723.6489  ]]\n"
     ]
    }
   ],
   "source": [
    "pred = model_with_attention.predict(X_test)\n",
    "print(pred)"
   ]
  },
  {
   "cell_type": "code",
   "execution_count": 24,
   "id": "17ad32ac-3aff-4ecf-b8b9-e496b63f9301",
   "metadata": {},
   "outputs": [
    {
     "data": {
      "text/plain": [
       "array([[ 122.],\n",
       "       [ 119.],\n",
       "       [1522.],\n",
       "       ...,\n",
       "       [1060.],\n",
       "       [1726.],\n",
       "       [ 806.]])"
      ]
     },
     "execution_count": 24,
     "metadata": {},
     "output_type": "execute_result"
    }
   ],
   "source": [
    "y_test"
   ]
  },
  {
   "cell_type": "code",
   "execution_count": 25,
   "id": "d944ccff",
   "metadata": {},
   "outputs": [],
   "source": [
    "obj = list(data['obj'].values)"
   ]
  },
  {
   "cell_type": "code",
   "execution_count": 26,
   "id": "36466028-ed5d-423b-ac17-9ad0b8463604",
   "metadata": {},
   "outputs": [
    {
     "data": {
      "text/plain": [
       "dtype('float32')"
      ]
     },
     "execution_count": 26,
     "metadata": {},
     "output_type": "execute_result"
    }
   ],
   "source": [
    "pred.dtype == np.float64\n",
    "pred.dtype"
   ]
  },
  {
   "cell_type": "code",
   "execution_count": 27,
   "id": "58982b45",
   "metadata": {},
   "outputs": [
    {
     "name": "stdout",
     "output_type": "stream",
     "text": [
      "0\n",
      "48.0\n",
      "838.0\n",
      "2888\n"
     ]
    }
   ],
   "source": [
    "print(np.quantile(obj, 0))\n",
    "print(np.quantile(obj, 0.15))\n",
    "print(np.quantile(obj, 0.85))\n",
    "print(np.quantile(obj, 1))"
   ]
  },
  {
   "cell_type": "markdown",
   "id": "d555df61",
   "metadata": {},
   "source": [
    "We add and substract a small value in extreme values in order to avoid issues. We also transform the predictions lower than 0 in 0. "
   ]
  },
  {
   "cell_type": "code",
   "execution_count": 28,
   "id": "649392d4",
   "metadata": {},
   "outputs": [],
   "source": [
    "bins = [np.quantile(obj, 0)-0.001,np.quantile(obj, 0.15),np.quantile(obj, 0.85),np.quantile(obj, 1)+0.001]\n",
    "names = ['a','b','c']\n",
    "for i in range(len(pred)):\n",
    "    if pred[i]<0:\n",
    "        pred[i] = 0\n",
    "pred2=pd.cut(flatten(pred), bins, labels = names)\n",
    "ytest2=pd.cut(flatten(y_test), bins, labels = names)"
   ]
  },
  {
   "cell_type": "markdown",
   "id": "bfff6821",
   "metadata": {},
   "source": [
    "We obtain the accuracy metric and the confusion matrix corresponding. "
   ]
  },
  {
   "cell_type": "code",
   "execution_count": 29,
   "id": "fbde0271",
   "metadata": {},
   "outputs": [
    {
     "name": "stdout",
     "output_type": "stream",
     "text": [
      "0.8302854378326077\n",
      "[[1225  369    1]\n",
      " [ 233 6554  431]\n",
      " [   0  720  802]]\n"
     ]
    }
   ],
   "source": [
    "print(accuracy_score(ytest2,pred2))\n",
    "print(confusion_matrix(ytest2,pred2))"
   ]
  },
  {
   "cell_type": "markdown",
   "id": "d58c8161",
   "metadata": {},
   "source": [
    "###  Plotting the actual and predicted values. "
   ]
  },
  {
   "cell_type": "markdown",
   "id": "1692014e",
   "metadata": {},
   "source": [
    "We selelct randomly an observation of the entire dataset and we will analyse the 100 successive observations. We plot\n",
    "the actual and the predicted values of these observations. "
   ]
  },
  {
   "cell_type": "code",
   "execution_count": 30,
   "id": "5711b77d",
   "metadata": {},
   "outputs": [
    {
     "data": {
      "text/plain": [
       "array([[[0.12838717, 0.39972177, 0.31509694, ..., 0.21287128,\n",
       "         0.6666667 , 0.8695652 ],\n",
       "        [0.11788821, 0.27359146, 0.18628809, ..., 0.21287128,\n",
       "         0.6666667 , 0.9130435 ],\n",
       "        [0.10038996, 0.17458846, 0.10630194, ..., 0.21287128,\n",
       "         0.6666667 , 0.95652175],\n",
       "        [0.09369063, 0.14560631, 0.07790859, ..., 0.21287128,\n",
       "         0.6666667 , 1.        ]],\n",
       "\n",
       "       [[0.11788821, 0.27359146, 0.18628809, ..., 0.21287128,\n",
       "         0.6666667 , 0.9130435 ],\n",
       "        [0.10038996, 0.17458846, 0.10630194, ..., 0.21287128,\n",
       "         0.6666667 , 0.95652175],\n",
       "        [0.09369063, 0.14560631, 0.07790859, ..., 0.21287128,\n",
       "         0.6666667 , 1.        ],\n",
       "        [0.08209179, 0.12821701, 0.05401662, ..., 0.22029702,\n",
       "         0.6666667 , 0.        ]],\n",
       "\n",
       "       [[0.10038996, 0.17458846, 0.10630194, ..., 0.21287128,\n",
       "         0.6666667 , 0.95652175],\n",
       "        [0.09369063, 0.14560631, 0.07790859, ..., 0.21287128,\n",
       "         0.6666667 , 1.        ],\n",
       "        [0.08209179, 0.12821701, 0.05401662, ..., 0.22029702,\n",
       "         0.6666667 , 0.        ],\n",
       "        [0.05859414, 0.05726872, 0.02389197, ..., 0.22029702,\n",
       "         0.6666667 , 0.04347826]],\n",
       "\n",
       "       ...,\n",
       "\n",
       "       [[0.10228977, 0.25643402, 0.16274238, ..., 0.31683168,\n",
       "         0.6666667 , 0.9130435 ],\n",
       "        [0.0779922 , 0.15511245, 0.09833795, ..., 0.31683168,\n",
       "         0.6666667 , 0.95652175],\n",
       "        [0.0669933 , 0.0936703 , 0.05886427, ..., 0.31683168,\n",
       "         0.6666667 , 1.        ],\n",
       "        [0.0449955 , 0.06468815, 0.04778393, ..., 0.3019802 ,\n",
       "         0.6666667 , 0.        ]],\n",
       "\n",
       "       [[0.0779922 , 0.15511245, 0.09833795, ..., 0.31683168,\n",
       "         0.6666667 , 0.95652175],\n",
       "        [0.0669933 , 0.0936703 , 0.05886427, ..., 0.31683168,\n",
       "         0.6666667 , 1.        ],\n",
       "        [0.0449955 , 0.06468815, 0.04778393, ..., 0.3019802 ,\n",
       "         0.6666667 , 0.        ],\n",
       "        [0.02949705, 0.02527243, 0.01627424, ..., 0.3019802 ,\n",
       "         0.6666667 , 0.04347826]],\n",
       "\n",
       "       [[0.0669933 , 0.0936703 , 0.05886427, ..., 0.31683168,\n",
       "         0.6666667 , 1.        ],\n",
       "        [0.0449955 , 0.06468815, 0.04778393, ..., 0.3019802 ,\n",
       "         0.6666667 , 0.        ],\n",
       "        [0.02949705, 0.02527243, 0.01627424, ..., 0.3019802 ,\n",
       "         0.6666667 , 0.04347826],\n",
       "        [0.02079792, 0.01692557, 0.01073407, ..., 0.3019802 ,\n",
       "         0.6666667 , 0.08695652]]], dtype=float32)"
      ]
     },
     "execution_count": 30,
     "metadata": {},
     "output_type": "execute_result"
    }
   ],
   "source": [
    "np.random.seed(23)\n",
    "rand = np.random.randint(0, 3000)\n",
    "rand\n",
    "\n",
    "# rand = randint(0, 30000, ran=1234)\n",
    "# rand\n",
    "X[rand:rand+100]"
   ]
  },
  {
   "cell_type": "code",
   "execution_count": 31,
   "id": "9dda491d",
   "metadata": {},
   "outputs": [
    {
     "name": "stdout",
     "output_type": "stream",
     "text": [
      "4/4 [==============================] - 0s 6ms/step\n"
     ]
    },
    {
     "data": {
      "image/png": "[encoded data removed]",
      "text/plain": [
       "<Figure size 640x480 with 1 Axes>"
      ]
     },
     "metadata": {},
     "output_type": "display_data"
    }
   ],
   "source": [
    "plt.plot(flatten(y[rand:rand+100]), label = \"Actual values\")\n",
    "plt.plot(flatten(model_with_attention.predict(X[rand:rand+100])), label = \"Predicted values\")\n",
    "plt.legend()\n",
    "plt.ylabel('Hourly traffic flow')\n",
    "plt.show()"
   ]
  },
  {
   "cell_type": "code",
   "execution_count": 34,
   "id": "7f389e46",
   "metadata": {},
   "outputs": [],
   "source": [
    "import math\n",
    "\n",
    "def calculate_rmse(actual_values, predicted_values):\n",
    "    \"\"\"\n",
    "    Calculates the Root Mean Square Error (RMSE) given actual and predicted values.\n",
    "    :param actual_values: List of actual observed values.\n",
    "    :param predicted_values: List of predicted values.\n",
    "    :return: RMSE value.\n",
    "    \"\"\"\n",
    "    if len(actual_values) != len(predicted_values):\n",
    "        raise ValueError(\"Lists must have the same length.\")\n",
    "\n",
    "    squared_errors = [(actual - predicted) ** 2 for actual, predicted in zip(actual_values, predicted_values)]\n",
    "    mean_squared_error = sum(squared_errors) / len(actual_values)\n",
    "    rmse = math.sqrt(mean_squared_error)\n",
    "    return rmse\n",
    "\n",
    "\n",
    "RMSE = calculate_rmse(flatten(pred),flatten(y_test))"
   ]
  },
  {
   "cell_type": "code",
   "execution_count": 35,
   "id": "d7165438-ca40-44b0-ada6-d9202c7d8948",
   "metadata": {},
   "outputs": [
    {
     "name": "stdout",
     "output_type": "stream",
     "text": [
      "MAE:  107.47559476688858\n",
      "RMSE:  184.22942574645376\n",
      "Accuracy:  0.8302854378326077\n",
      "confusion matrix:\n",
      "  [[1225  369    1]\n",
      " [ 233 6554  431]\n",
      " [   0  720  802]]\n"
     ]
    }
   ],
   "source": [
    "print(\"MAE: \", MAE)\n",
    "print(\"RMSE: \", RMSE)\n",
    "print(\"Accuracy: \", accuracy_score(ytest2,pred2))\n",
    "\n",
    "print(\"confusion matrix:\\n \", confusion_matrix(ytest2,pred2))"
   ]
  },
  {
   "cell_type": "code",
   "execution_count": null,
   "id": "d4199fd1",
   "metadata": {},
   "outputs": [],
   "source": []
  }
 ],
 "metadata": {
  "kernelspec": {
   "display_name": "Python 3 (ipykernel)",
   "language": "python",
   "name": "python3"
  },
  "language_info": {
   "codemirror_mode": {
    "name": "ipython",
    "version": 3
   },
   "file_extension": ".py",
   "mimetype": "text/x-python",
   "name": "python",
   "nbconvert_exporter": "python",
   "pygments_lexer": "ipython3",
   "version": "3.7.16"
  }
 },
 "nbformat": 4,
 "nbformat_minor": 5
}
