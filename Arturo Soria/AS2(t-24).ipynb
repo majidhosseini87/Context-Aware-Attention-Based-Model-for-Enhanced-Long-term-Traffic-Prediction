{
 "cells": [
  {
   "cell_type": "markdown",
   "id": "c69cb93b",
   "metadata": {},
   "source": [
    "### Import required libraries"
   ]
  },
  {
   "cell_type": "code",
   "execution_count": 1,
   "id": "0c2d189d-98be-4cd2-8b9e-3f6708ebb27c",
   "metadata": {},
   "outputs": [
    {
     "name": "stdout",
     "output_type": "stream",
     "text": [
      "Num GPUs Available:  []\n"
     ]
    }
   ],
   "source": [
    "import tensorflow as tf\n",
    "\n",
    "print(\"Num GPUs Available: \", tf.config.list_physical_devices('GPU'))"
   ]
  },
  {
   "cell_type": "code",
   "execution_count": 2,
   "id": "52cf218c",
   "metadata": {},
   "outputs": [
    {
     "name": "stdout",
     "output_type": "stream",
     "text": [
      "Collecting netron\n",
      "  Downloading netron-7.7.0-py3-none-any.whl.metadata (1.4 kB)\n",
      "Downloading netron-7.7.0-py3-none-any.whl (1.7 MB)\n",
      "   ---------------------------------------- 0.0/1.7 MB ? eta -:--:--\n",
      "   ---------------------------------------- 0.0/1.7 MB 330.3 kB/s eta 0:00:06\n",
      "    --------------------------------------- 0.0/1.7 MB 325.1 kB/s eta 0:00:06\n",
      "    --------------------------------------- 0.0/1.7 MB 279.3 kB/s eta 0:00:06\n",
      "   -- ------------------------------------- 0.1/1.7 MB 435.7 kB/s eta 0:00:04\n",
      "   --- ------------------------------------ 0.1/1.7 MB 522.9 kB/s eta 0:00:03\n",
      "   ---- ----------------------------------- 0.2/1.7 MB 619.5 kB/s eta 0:00:03\n",
      "   ------ --------------------------------- 0.3/1.7 MB 883.3 kB/s eta 0:00:02\n",
      "   -------- ------------------------------- 0.4/1.7 MB 983.0 kB/s eta 0:00:02\n",
      "   ------------- -------------------------- 0.6/1.7 MB 1.3 MB/s eta 0:00:01\n",
      "   ----------------- ---------------------- 0.8/1.7 MB 1.6 MB/s eta 0:00:01\n",
      "   ------------------------ --------------- 1.0/1.7 MB 2.0 MB/s eta 0:00:01\n",
      "   ----------------------------------- ---- 1.5/1.7 MB 2.7 MB/s eta 0:00:01\n",
      "   ---------------------------------------- 1.7/1.7 MB 2.8 MB/s eta 0:00:00\n",
      "Installing collected packages: netron\n",
      "Successfully installed netron-7.7.0\n"
     ]
    }
   ],
   "source": [
    "import pandas as pd\n",
    "import numpy as np\n",
    "import matplotlib.pyplot as plt \n",
    "from numpy import array\n",
    "from tensorflow.keras.models import Sequential\n",
    "from tensorflow.keras.layers import LSTM, GRU\n",
    "from tensorflow.keras.layers import Bidirectional\n",
    "from tensorflow.keras.layers import Dense\n",
    "from tensorflow.keras.layers import Flatten\n",
    "from tensorflow.keras.layers import TimeDistributed\n",
    "from tensorflow.keras.layers import Dropout\n",
    "from tensorflow.keras.layers import Conv1D\n",
    "from tensorflow.keras.layers import MaxPooling1D\n",
    "from sklearn.preprocessing import LabelEncoder\n",
    "from sklearn.preprocessing import MinMaxScaler\n",
    "from numpy import array\n",
    "from sklearn.model_selection import train_test_split\n",
    "from sklearn.metrics import mean_absolute_error as MAE\n",
    "# from sklearn.metrics import root_mean_squared_error as RMSE\n",
    "import random\n",
    "from sklearn.metrics import accuracy_score\n",
    "from sklearn.metrics import confusion_matrix\n",
    "!pip install netron\n",
    "import netron\n",
    "from random import randint"
   ]
  },
  {
   "cell_type": "markdown",
   "id": "6dbc9dff",
   "metadata": {},
   "source": [
    "First of all, we define this function which split a given sequence into multiple samples where each sample has a specified number of time steps and a specifieded number of outputs."
   ]
  },
  {
   "cell_type": "code",
   "execution_count": 3,
   "id": "fd8cb216",
   "metadata": {},
   "outputs": [],
   "source": [
    "def split_sequences(sequences, n_steps_in, n_steps_out):\n",
    "\tX, y = list(), list()\n",
    "\tfor i in range(len(sequences)):\n",
    "\t\t# find the end of this pattern\n",
    "\t\tend_ix = i + n_steps_in\n",
    "\t\tout_end_ix = end_ix + n_steps_out-1\n",
    "\t\t# check if we are beyond the dataset\n",
    "\t\tif out_end_ix > len(sequences):\n",
    "\t\t\tbreak\n",
    "\t\t# gather input and output parts of the pattern\n",
    "\t\tseq_x, seq_y = sequences[i:end_ix, :-1], sequences[end_ix-1:out_end_ix, -1]\n",
    "\t\tX.append(seq_x)\n",
    "\t\ty.append(seq_y)\n",
    "\treturn array(X), array(y)"
   ]
  },
  {
   "cell_type": "markdown",
   "id": "d52b9133",
   "metadata": {},
   "source": [
    "## Data preprocessing"
   ]
  },
  {
   "cell_type": "markdown",
   "id": "8795a8c9",
   "metadata": {},
   "source": [
    "We import data and remove the index. "
   ]
  },
  {
   "cell_type": "code",
   "execution_count": 4,
   "id": "16b38763",
   "metadata": {},
   "outputs": [
    {
     "name": "stdout",
     "output_type": "stream",
     "text": [
      "       var1(t-24)  var2(t-24)  var3(t-24)  var4(t-24)  var5(t-24)  var6(t-24)  \\\n",
      "0             799      1442.0       658.0        76.0         0.0        36.0   \n",
      "1             894       903.0       458.0        76.0         0.0        36.0   \n",
      "2             760       397.0       190.0        76.0         0.0        36.0   \n",
      "3             669       312.0       147.0        76.0         0.0        36.0   \n",
      "4             665       299.0       124.0        76.0         0.0        36.0   \n",
      "...           ...         ...         ...         ...         ...         ...   \n",
      "31362         895      1173.0       458.0       270.0         0.0       199.0   \n",
      "31363         940      1177.0       451.0       270.0         0.0       199.0   \n",
      "31364         860       838.0       374.0       270.0         0.0       199.0   \n",
      "31365         800       594.0       261.0       270.0         0.0       199.0   \n",
      "31366         726       541.0       190.0       270.0         0.0       199.0   \n",
      "\n",
      "       var7(t-24) var8(t-24)  obj  \n",
      "0           116.0    festivo   33  \n",
      "1           116.0    festivo   19  \n",
      "2           116.0    festivo   19  \n",
      "3           116.0    festivo   37  \n",
      "4           116.0    festivo  157  \n",
      "...           ...        ...  ...  \n",
      "31362       341.0  laborable  347  \n",
      "31363       341.0  laborable  311  \n",
      "31364       341.0  laborable  216  \n",
      "31365       341.0  laborable  182  \n",
      "31366       341.0  laborable  164  \n",
      "\n",
      "[31367 rows x 9 columns]\n",
      "0        2018-01-02 01:00:00\n",
      "1        2018-01-02 02:00:00\n",
      "2        2018-01-02 03:00:00\n",
      "3        2018-01-02 04:00:00\n",
      "4        2018-01-02 05:00:00\n",
      "                ...         \n",
      "31362    2021-07-31 19:00:00\n",
      "31363    2021-07-31 20:00:00\n",
      "31364    2021-07-31 21:00:00\n",
      "31365    2021-07-31 22:00:00\n",
      "31366    2021-07-31 23:00:00\n",
      "Name: clave, Length: 31367, dtype: object\n"
     ]
    }
   ],
   "source": [
    "data=pd.read_csv('../../Datasets/AS2(t-24).csv')\n",
    "index = data['clave']\n",
    "data=data.drop(['clave'], axis=1)\n",
    "print(data)\n",
    "print(index)"
   ]
  },
  {
   "cell_type": "markdown",
   "id": "38adc20a",
   "metadata": {},
   "source": [
    "We encode the categorical variable 'type of day'."
   ]
  },
  {
   "cell_type": "code",
   "execution_count": 5,
   "id": "0d72d3ae",
   "metadata": {},
   "outputs": [],
   "source": [
    "encoder = LabelEncoder()\n",
    "data[data.columns[7]] = encoder.fit_transform(data[data.columns[7]])\n"
   ]
  },
  {
   "cell_type": "markdown",
   "id": "0a148c96",
   "metadata": {},
   "source": [
    "We add the variable 'hour'. "
   ]
  },
  {
   "cell_type": "code",
   "execution_count": 6,
   "id": "add8bd5d",
   "metadata": {},
   "outputs": [
    {
     "data": {
      "text/html": [
       "<div>\n",
       "<style scoped>\n",
       "    .dataframe tbody tr th:only-of-type {\n",
       "        vertical-align: middle;\n",
       "    }\n",
       "\n",
       "    .dataframe tbody tr th {\n",
       "        vertical-align: top;\n",
       "    }\n",
       "\n",
       "    .dataframe thead th {\n",
       "        text-align: right;\n",
       "    }\n",
       "</style>\n",
       "<table border=\"1\" class=\"dataframe\">\n",
       "  <thead>\n",
       "    <tr style=\"text-align: right;\">\n",
       "      <th></th>\n",
       "      <th>var1(t-24)</th>\n",
       "      <th>var2(t-24)</th>\n",
       "      <th>var3(t-24)</th>\n",
       "      <th>var4(t-24)</th>\n",
       "      <th>var5(t-24)</th>\n",
       "      <th>var6(t-24)</th>\n",
       "      <th>var7(t-24)</th>\n",
       "      <th>var8(t-24)</th>\n",
       "      <th>hour</th>\n",
       "      <th>obj</th>\n",
       "    </tr>\n",
       "  </thead>\n",
       "  <tbody>\n",
       "    <tr>\n",
       "      <th>0</th>\n",
       "      <td>799</td>\n",
       "      <td>1442.0</td>\n",
       "      <td>658.0</td>\n",
       "      <td>76.0</td>\n",
       "      <td>0.0</td>\n",
       "      <td>36.0</td>\n",
       "      <td>116.0</td>\n",
       "      <td>1</td>\n",
       "      <td>1</td>\n",
       "      <td>33</td>\n",
       "    </tr>\n",
       "    <tr>\n",
       "      <th>1</th>\n",
       "      <td>894</td>\n",
       "      <td>903.0</td>\n",
       "      <td>458.0</td>\n",
       "      <td>76.0</td>\n",
       "      <td>0.0</td>\n",
       "      <td>36.0</td>\n",
       "      <td>116.0</td>\n",
       "      <td>1</td>\n",
       "      <td>2</td>\n",
       "      <td>19</td>\n",
       "    </tr>\n",
       "    <tr>\n",
       "      <th>2</th>\n",
       "      <td>760</td>\n",
       "      <td>397.0</td>\n",
       "      <td>190.0</td>\n",
       "      <td>76.0</td>\n",
       "      <td>0.0</td>\n",
       "      <td>36.0</td>\n",
       "      <td>116.0</td>\n",
       "      <td>1</td>\n",
       "      <td>3</td>\n",
       "      <td>19</td>\n",
       "    </tr>\n",
       "    <tr>\n",
       "      <th>3</th>\n",
       "      <td>669</td>\n",
       "      <td>312.0</td>\n",
       "      <td>147.0</td>\n",
       "      <td>76.0</td>\n",
       "      <td>0.0</td>\n",
       "      <td>36.0</td>\n",
       "      <td>116.0</td>\n",
       "      <td>1</td>\n",
       "      <td>4</td>\n",
       "      <td>37</td>\n",
       "    </tr>\n",
       "    <tr>\n",
       "      <th>4</th>\n",
       "      <td>665</td>\n",
       "      <td>299.0</td>\n",
       "      <td>124.0</td>\n",
       "      <td>76.0</td>\n",
       "      <td>0.0</td>\n",
       "      <td>36.0</td>\n",
       "      <td>116.0</td>\n",
       "      <td>1</td>\n",
       "      <td>5</td>\n",
       "      <td>157</td>\n",
       "    </tr>\n",
       "    <tr>\n",
       "      <th>...</th>\n",
       "      <td>...</td>\n",
       "      <td>...</td>\n",
       "      <td>...</td>\n",
       "      <td>...</td>\n",
       "      <td>...</td>\n",
       "      <td>...</td>\n",
       "      <td>...</td>\n",
       "      <td>...</td>\n",
       "      <td>...</td>\n",
       "      <td>...</td>\n",
       "    </tr>\n",
       "    <tr>\n",
       "      <th>31362</th>\n",
       "      <td>895</td>\n",
       "      <td>1173.0</td>\n",
       "      <td>458.0</td>\n",
       "      <td>270.0</td>\n",
       "      <td>0.0</td>\n",
       "      <td>199.0</td>\n",
       "      <td>341.0</td>\n",
       "      <td>2</td>\n",
       "      <td>19</td>\n",
       "      <td>347</td>\n",
       "    </tr>\n",
       "    <tr>\n",
       "      <th>31363</th>\n",
       "      <td>940</td>\n",
       "      <td>1177.0</td>\n",
       "      <td>451.0</td>\n",
       "      <td>270.0</td>\n",
       "      <td>0.0</td>\n",
       "      <td>199.0</td>\n",
       "      <td>341.0</td>\n",
       "      <td>2</td>\n",
       "      <td>20</td>\n",
       "      <td>311</td>\n",
       "    </tr>\n",
       "    <tr>\n",
       "      <th>31364</th>\n",
       "      <td>860</td>\n",
       "      <td>838.0</td>\n",
       "      <td>374.0</td>\n",
       "      <td>270.0</td>\n",
       "      <td>0.0</td>\n",
       "      <td>199.0</td>\n",
       "      <td>341.0</td>\n",
       "      <td>2</td>\n",
       "      <td>21</td>\n",
       "      <td>216</td>\n",
       "    </tr>\n",
       "    <tr>\n",
       "      <th>31365</th>\n",
       "      <td>800</td>\n",
       "      <td>594.0</td>\n",
       "      <td>261.0</td>\n",
       "      <td>270.0</td>\n",
       "      <td>0.0</td>\n",
       "      <td>199.0</td>\n",
       "      <td>341.0</td>\n",
       "      <td>2</td>\n",
       "      <td>22</td>\n",
       "      <td>182</td>\n",
       "    </tr>\n",
       "    <tr>\n",
       "      <th>31366</th>\n",
       "      <td>726</td>\n",
       "      <td>541.0</td>\n",
       "      <td>190.0</td>\n",
       "      <td>270.0</td>\n",
       "      <td>0.0</td>\n",
       "      <td>199.0</td>\n",
       "      <td>341.0</td>\n",
       "      <td>2</td>\n",
       "      <td>23</td>\n",
       "      <td>164</td>\n",
       "    </tr>\n",
       "  </tbody>\n",
       "</table>\n",
       "<p>31367 rows × 10 columns</p>\n",
       "</div>"
      ],
      "text/plain": [
       "       var1(t-24)  var2(t-24)  var3(t-24)  var4(t-24)  var5(t-24)  var6(t-24)  \\\n",
       "0             799      1442.0       658.0        76.0         0.0        36.0   \n",
       "1             894       903.0       458.0        76.0         0.0        36.0   \n",
       "2             760       397.0       190.0        76.0         0.0        36.0   \n",
       "3             669       312.0       147.0        76.0         0.0        36.0   \n",
       "4             665       299.0       124.0        76.0         0.0        36.0   \n",
       "...           ...         ...         ...         ...         ...         ...   \n",
       "31362         895      1173.0       458.0       270.0         0.0       199.0   \n",
       "31363         940      1177.0       451.0       270.0         0.0       199.0   \n",
       "31364         860       838.0       374.0       270.0         0.0       199.0   \n",
       "31365         800       594.0       261.0       270.0         0.0       199.0   \n",
       "31366         726       541.0       190.0       270.0         0.0       199.0   \n",
       "\n",
       "       var7(t-24)  var8(t-24)  hour  obj  \n",
       "0           116.0           1     1   33  \n",
       "1           116.0           1     2   19  \n",
       "2           116.0           1     3   19  \n",
       "3           116.0           1     4   37  \n",
       "4           116.0           1     5  157  \n",
       "...           ...         ...   ...  ...  \n",
       "31362       341.0           2    19  347  \n",
       "31363       341.0           2    20  311  \n",
       "31364       341.0           2    21  216  \n",
       "31365       341.0           2    22  182  \n",
       "31366       341.0           2    23  164  \n",
       "\n",
       "[31367 rows x 10 columns]"
      ]
     },
     "execution_count": 6,
     "metadata": {},
     "output_type": "execute_result"
    }
   ],
   "source": [
    "a1=list(range(1,24))\n",
    "a2=list(range(0,24))*1305\n",
    "a3=list(range(0,24))\n",
    "a4=a1+a2+a3\n",
    "data['hour'] = a4\n",
    "data = data.reindex(columns=[data.columns[0],data.columns[1],data.columns[2],data.columns[3],data.columns[4],\n",
    "                             data.columns[5],data.columns[6],data.columns[7],'hour','obj'])\n",
    "data"
   ]
  },
  {
   "cell_type": "markdown",
   "id": "954e93b9",
   "metadata": {},
   "source": [
    "We normalise all input variables. "
   ]
  },
  {
   "cell_type": "code",
   "execution_count": 7,
   "id": "65f8df7e",
   "metadata": {},
   "outputs": [],
   "source": [
    "scaler = MinMaxScaler(feature_range=(0, 1))\n",
    "data[data.columns.difference(['obj'])] = scaler.fit_transform(data[data.columns.difference(['obj'])])"
   ]
  },
  {
   "cell_type": "markdown",
   "id": "9363230c",
   "metadata": {},
   "source": [
    "We apply the previously defined function. We split the original sequence data. Each sample has six time steps as predictor variables (from timestep t-15 to timestep t-12) and one target variable (timestep t). "
   ]
  },
  {
   "cell_type": "code",
   "execution_count": 8,
   "id": "6f6e2681",
   "metadata": {},
   "outputs": [
    {
     "name": "stdout",
     "output_type": "stream",
     "text": [
      "(31364, 4, 9)\n",
      "(31364, 1)\n"
     ]
    }
   ],
   "source": [
    "data1=data.values\n",
    "X, y = split_sequences(data1,4,1)\n",
    "print(X.shape)\n",
    "print(y.shape)"
   ]
  },
  {
   "cell_type": "markdown",
   "id": "c5bae631",
   "metadata": {},
   "source": [
    "## Data analyse"
   ]
  },
  {
   "cell_type": "markdown",
   "id": "1bd47ac5",
   "metadata": {},
   "source": [
    "We make a simple statistical analysis of the target variable. "
   ]
  },
  {
   "cell_type": "code",
   "execution_count": 9,
   "id": "13c6a1fb",
   "metadata": {},
   "outputs": [
    {
     "data": {
      "text/plain": [
       "count    31367.000000\n",
       "mean       434.624765\n",
       "std        350.019529\n",
       "min          0.000000\n",
       "25%        106.000000\n",
       "50%        371.000000\n",
       "75%        738.000000\n",
       "max       2888.000000\n",
       "Name: obj, dtype: float64"
      ]
     },
     "execution_count": 9,
     "metadata": {},
     "output_type": "execute_result"
    }
   ],
   "source": [
    "dataplot = data\n",
    "dataplot['obj'].describe()"
   ]
  },
  {
   "cell_type": "markdown",
   "id": "caff81d0",
   "metadata": {},
   "source": [
    "We plot linechart of the evolution of traffic flow in the first week of 2018 (first available data). "
   ]
  },
  {
   "cell_type": "code",
   "execution_count": 10,
   "id": "778710c6",
   "metadata": {},
   "outputs": [
    {
     "data": {
      "image/png": "[encoded data removed]",
      "text/plain": [
       "<Figure size 640x480 with 1 Axes>"
      ]
     },
     "metadata": {},
     "output_type": "display_data"
    }
   ],
   "source": [
    "plt.plot(list(dataplot['obj'][0:24*7]),\n",
    "        label=index, linewidth=3)\n",
    "plt.title('First week of 2018. Arturo Soria Station')\n",
    "plt.ylabel('Hourly traffic flow')\n",
    "plt.show()"
   ]
  },
  {
   "cell_type": "markdown",
   "id": "4458ab4e",
   "metadata": {},
   "source": [
    "## Model development. "
   ]
  },
  {
   "cell_type": "markdown",
   "id": "08723d86",
   "metadata": {},
   "source": [
    "We reshape our data to have the structure required by the neural network. "
   ]
  },
  {
   "cell_type": "code",
   "execution_count": 11,
   "id": "420d1847",
   "metadata": {},
   "outputs": [],
   "source": [
    "X = X.reshape((X.shape[0], X.shape[1], X.shape[2])).astype('float32')\n"
   ]
  },
  {
   "cell_type": "markdown",
   "id": "ad0849d0",
   "metadata": {},
   "source": [
    "We divide randomly our data in the train and test sets. "
   ]
  },
  {
   "cell_type": "code",
   "execution_count": 12,
   "id": "eb984b95",
   "metadata": {},
   "outputs": [],
   "source": [
    "X_train, X_test, y_train, y_test = train_test_split(\n",
    "X, y, test_size=0.33, random_state=42)"
   ]
  },
  {
   "cell_type": "markdown",
   "id": "95522ffc",
   "metadata": {},
   "source": [
    "We develop our model by using keras and tensorflow. First, we apply a convolutional neural network with 256 kernels which is followed by a max pooling. Then, we flatten data. \n",
    "\n",
    "Subsequently, we use the flatten data as input in the Bidirectional long short term memory network, with 500 units. It is followed by a dropout layer and, finally, we apply a dense layer to obtain the required prediction. "
   ]
  },
  {
   "cell_type": "code",
   "execution_count": 13,
   "id": "f0a6e714",
   "metadata": {},
   "outputs": [
    {
     "data": {
      "text/html": [
       "<pre style=\"white-space:pre;overflow-x:auto;line-height:normal;font-family:Menlo,'DejaVu Sans Mono',consolas,'Courier New',monospace\"><span style=\"font-weight: bold\">Model: \"functional_1\"</span>\n",
       "</pre>\n"
      ],
      "text/plain": [
       "\u001b[1mModel: \"functional_1\"\u001b[0m\n"
      ]
     },
     "metadata": {},
     "output_type": "display_data"
    },
    {
     "data": {
      "text/html": [
       "<pre style=\"white-space:pre;overflow-x:auto;line-height:normal;font-family:Menlo,'DejaVu Sans Mono',consolas,'Courier New',monospace\">┏━━━━━━━━━━━━━━━━━━━━━━━━━━━━━━━┳━━━━━━━━━━━━━━━━━━━━━━━━━━━┳━━━━━━━━━━━━━━━━━┳━━━━━━━━━━━━━━━━━━━━━━━━━━━━┓\n",
       "┃<span style=\"font-weight: bold\"> Layer (type)                  </span>┃<span style=\"font-weight: bold\"> Output Shape              </span>┃<span style=\"font-weight: bold\">         Param # </span>┃<span style=\"font-weight: bold\"> Connected to               </span>┃\n",
       "┡━━━━━━━━━━━━━━━━━━━━━━━━━━━━━━━╇━━━━━━━━━━━━━━━━━━━━━━━━━━━╇━━━━━━━━━━━━━━━━━╇━━━━━━━━━━━━━━━━━━━━━━━━━━━━┩\n",
       "│ input_layer (<span style=\"color: #0087ff; text-decoration-color: #0087ff\">InputLayer</span>)      │ (<span style=\"color: #00d7ff; text-decoration-color: #00d7ff\">None</span>, <span style=\"color: #00af00; text-decoration-color: #00af00\">4</span>, <span style=\"color: #00af00; text-decoration-color: #00af00\">9</span>, <span style=\"color: #00af00; text-decoration-color: #00af00\">1</span>)           │               <span style=\"color: #00af00; text-decoration-color: #00af00\">0</span> │ -                          │\n",
       "├───────────────────────────────┼───────────────────────────┼─────────────────┼────────────────────────────┤\n",
       "│ time_distributed              │ (<span style=\"color: #00d7ff; text-decoration-color: #00d7ff\">None</span>, <span style=\"color: #00af00; text-decoration-color: #00af00\">4</span>, <span style=\"color: #00af00; text-decoration-color: #00af00\">8</span>, <span style=\"color: #00af00; text-decoration-color: #00af00\">256</span>)         │             <span style=\"color: #00af00; text-decoration-color: #00af00\">768</span> │ input_layer[<span style=\"color: #00af00; text-decoration-color: #00af00\">0</span>][<span style=\"color: #00af00; text-decoration-color: #00af00\">0</span>]          │\n",
       "│ (<span style=\"color: #0087ff; text-decoration-color: #0087ff\">TimeDistributed</span>)             │                           │                 │                            │\n",
       "├───────────────────────────────┼───────────────────────────┼─────────────────┼────────────────────────────┤\n",
       "│ time_distributed_1            │ (<span style=\"color: #00d7ff; text-decoration-color: #00d7ff\">None</span>, <span style=\"color: #00af00; text-decoration-color: #00af00\">4</span>, <span style=\"color: #00af00; text-decoration-color: #00af00\">4</span>, <span style=\"color: #00af00; text-decoration-color: #00af00\">256</span>)         │               <span style=\"color: #00af00; text-decoration-color: #00af00\">0</span> │ time_distributed[<span style=\"color: #00af00; text-decoration-color: #00af00\">0</span>][<span style=\"color: #00af00; text-decoration-color: #00af00\">0</span>]     │\n",
       "│ (<span style=\"color: #0087ff; text-decoration-color: #0087ff\">TimeDistributed</span>)             │                           │                 │                            │\n",
       "├───────────────────────────────┼───────────────────────────┼─────────────────┼────────────────────────────┤\n",
       "│ time_distributed_2            │ (<span style=\"color: #00d7ff; text-decoration-color: #00d7ff\">None</span>, <span style=\"color: #00af00; text-decoration-color: #00af00\">4</span>, <span style=\"color: #00af00; text-decoration-color: #00af00\">1024</span>)           │               <span style=\"color: #00af00; text-decoration-color: #00af00\">0</span> │ time_distributed_1[<span style=\"color: #00af00; text-decoration-color: #00af00\">0</span>][<span style=\"color: #00af00; text-decoration-color: #00af00\">0</span>]   │\n",
       "│ (<span style=\"color: #0087ff; text-decoration-color: #0087ff\">TimeDistributed</span>)             │                           │                 │                            │\n",
       "├───────────────────────────────┼───────────────────────────┼─────────────────┼────────────────────────────┤\n",
       "│ gru (<span style=\"color: #0087ff; text-decoration-color: #0087ff\">GRU</span>)                     │ (<span style=\"color: #00d7ff; text-decoration-color: #00d7ff\">None</span>, <span style=\"color: #00af00; text-decoration-color: #00af00\">4</span>, <span style=\"color: #00af00; text-decoration-color: #00af00\">500</span>)            │       <span style=\"color: #00af00; text-decoration-color: #00af00\">2,289,000</span> │ time_distributed_2[<span style=\"color: #00af00; text-decoration-color: #00af00\">0</span>][<span style=\"color: #00af00; text-decoration-color: #00af00\">0</span>]   │\n",
       "├───────────────────────────────┼───────────────────────────┼─────────────────┼────────────────────────────┤\n",
       "│ dense (<span style=\"color: #0087ff; text-decoration-color: #0087ff\">Dense</span>)                 │ (<span style=\"color: #00d7ff; text-decoration-color: #00d7ff\">None</span>, <span style=\"color: #00af00; text-decoration-color: #00af00\">4</span>, <span style=\"color: #00af00; text-decoration-color: #00af00\">1000</span>)           │         <span style=\"color: #00af00; text-decoration-color: #00af00\">501,000</span> │ gru[<span style=\"color: #00af00; text-decoration-color: #00af00\">0</span>][<span style=\"color: #00af00; text-decoration-color: #00af00\">0</span>]                  │\n",
       "├───────────────────────────────┼───────────────────────────┼─────────────────┼────────────────────────────┤\n",
       "│ dense_1 (<span style=\"color: #0087ff; text-decoration-color: #0087ff\">Dense</span>)               │ (<span style=\"color: #00d7ff; text-decoration-color: #00d7ff\">None</span>, <span style=\"color: #00af00; text-decoration-color: #00af00\">4</span>, <span style=\"color: #00af00; text-decoration-color: #00af00\">1000</span>)           │       <span style=\"color: #00af00; text-decoration-color: #00af00\">1,001,000</span> │ dense[<span style=\"color: #00af00; text-decoration-color: #00af00\">0</span>][<span style=\"color: #00af00; text-decoration-color: #00af00\">0</span>]                │\n",
       "├───────────────────────────────┼───────────────────────────┼─────────────────┼────────────────────────────┤\n",
       "│ softmax (<span style=\"color: #0087ff; text-decoration-color: #0087ff\">Softmax</span>)             │ (<span style=\"color: #00d7ff; text-decoration-color: #00d7ff\">None</span>, <span style=\"color: #00af00; text-decoration-color: #00af00\">4</span>, <span style=\"color: #00af00; text-decoration-color: #00af00\">1000</span>)           │               <span style=\"color: #00af00; text-decoration-color: #00af00\">0</span> │ dense_1[<span style=\"color: #00af00; text-decoration-color: #00af00\">0</span>][<span style=\"color: #00af00; text-decoration-color: #00af00\">0</span>]              │\n",
       "├───────────────────────────────┼───────────────────────────┼─────────────────┼────────────────────────────┤\n",
       "│ multiply (<span style=\"color: #0087ff; text-decoration-color: #0087ff\">Multiply</span>)           │ (<span style=\"color: #00d7ff; text-decoration-color: #00d7ff\">None</span>, <span style=\"color: #00af00; text-decoration-color: #00af00\">4</span>, <span style=\"color: #00af00; text-decoration-color: #00af00\">1000</span>)           │               <span style=\"color: #00af00; text-decoration-color: #00af00\">0</span> │ dense_1[<span style=\"color: #00af00; text-decoration-color: #00af00\">0</span>][<span style=\"color: #00af00; text-decoration-color: #00af00\">0</span>],             │\n",
       "│                               │                           │                 │ softmax[<span style=\"color: #00af00; text-decoration-color: #00af00\">0</span>][<span style=\"color: #00af00; text-decoration-color: #00af00\">0</span>]              │\n",
       "├───────────────────────────────┼───────────────────────────┼─────────────────┼────────────────────────────┤\n",
       "│ average_pooling1d             │ (<span style=\"color: #00d7ff; text-decoration-color: #00d7ff\">None</span>, <span style=\"color: #00af00; text-decoration-color: #00af00\">1</span>, <span style=\"color: #00af00; text-decoration-color: #00af00\">1000</span>)           │               <span style=\"color: #00af00; text-decoration-color: #00af00\">0</span> │ multiply[<span style=\"color: #00af00; text-decoration-color: #00af00\">0</span>][<span style=\"color: #00af00; text-decoration-color: #00af00\">0</span>]             │\n",
       "│ (<span style=\"color: #0087ff; text-decoration-color: #0087ff\">AveragePooling1D</span>)            │                           │                 │                            │\n",
       "├───────────────────────────────┼───────────────────────────┼─────────────────┼────────────────────────────┤\n",
       "│ reshape (<span style=\"color: #0087ff; text-decoration-color: #0087ff\">Reshape</span>)             │ (<span style=\"color: #00d7ff; text-decoration-color: #00d7ff\">None</span>, <span style=\"color: #00af00; text-decoration-color: #00af00\">1000</span>)              │               <span style=\"color: #00af00; text-decoration-color: #00af00\">0</span> │ average_pooling1d[<span style=\"color: #00af00; text-decoration-color: #00af00\">0</span>][<span style=\"color: #00af00; text-decoration-color: #00af00\">0</span>]    │\n",
       "├───────────────────────────────┼───────────────────────────┼─────────────────┼────────────────────────────┤\n",
       "│ dense_2 (<span style=\"color: #0087ff; text-decoration-color: #0087ff\">Dense</span>)               │ (<span style=\"color: #00d7ff; text-decoration-color: #00d7ff\">None</span>, <span style=\"color: #00af00; text-decoration-color: #00af00\">1</span>)                 │           <span style=\"color: #00af00; text-decoration-color: #00af00\">1,001</span> │ reshape[<span style=\"color: #00af00; text-decoration-color: #00af00\">0</span>][<span style=\"color: #00af00; text-decoration-color: #00af00\">0</span>]              │\n",
       "└───────────────────────────────┴───────────────────────────┴─────────────────┴────────────────────────────┘\n",
       "</pre>\n"
      ],
      "text/plain": [
       "┏━━━━━━━━━━━━━━━━━━━━━━━━━━━━━━━┳━━━━━━━━━━━━━━━━━━━━━━━━━━━┳━━━━━━━━━━━━━━━━━┳━━━━━━━━━━━━━━━━━━━━━━━━━━━━┓\n",
       "┃\u001b[1m \u001b[0m\u001b[1mLayer (type)                 \u001b[0m\u001b[1m \u001b[0m┃\u001b[1m \u001b[0m\u001b[1mOutput Shape             \u001b[0m\u001b[1m \u001b[0m┃\u001b[1m \u001b[0m\u001b[1m        Param #\u001b[0m\u001b[1m \u001b[0m┃\u001b[1m \u001b[0m\u001b[1mConnected to              \u001b[0m\u001b[1m \u001b[0m┃\n",
       "┡━━━━━━━━━━━━━━━━━━━━━━━━━━━━━━━╇━━━━━━━━━━━━━━━━━━━━━━━━━━━╇━━━━━━━━━━━━━━━━━╇━━━━━━━━━━━━━━━━━━━━━━━━━━━━┩\n",
       "│ input_layer (\u001b[38;5;33mInputLayer\u001b[0m)      │ (\u001b[38;5;45mNone\u001b[0m, \u001b[38;5;34m4\u001b[0m, \u001b[38;5;34m9\u001b[0m, \u001b[38;5;34m1\u001b[0m)           │               \u001b[38;5;34m0\u001b[0m │ -                          │\n",
       "├───────────────────────────────┼───────────────────────────┼─────────────────┼────────────────────────────┤\n",
       "│ time_distributed              │ (\u001b[38;5;45mNone\u001b[0m, \u001b[38;5;34m4\u001b[0m, \u001b[38;5;34m8\u001b[0m, \u001b[38;5;34m256\u001b[0m)         │             \u001b[38;5;34m768\u001b[0m │ input_layer[\u001b[38;5;34m0\u001b[0m][\u001b[38;5;34m0\u001b[0m]          │\n",
       "│ (\u001b[38;5;33mTimeDistributed\u001b[0m)             │                           │                 │                            │\n",
       "├───────────────────────────────┼───────────────────────────┼─────────────────┼────────────────────────────┤\n",
       "│ time_distributed_1            │ (\u001b[38;5;45mNone\u001b[0m, \u001b[38;5;34m4\u001b[0m, \u001b[38;5;34m4\u001b[0m, \u001b[38;5;34m256\u001b[0m)         │               \u001b[38;5;34m0\u001b[0m │ time_distributed[\u001b[38;5;34m0\u001b[0m][\u001b[38;5;34m0\u001b[0m]     │\n",
       "│ (\u001b[38;5;33mTimeDistributed\u001b[0m)             │                           │                 │                            │\n",
       "├───────────────────────────────┼───────────────────────────┼─────────────────┼────────────────────────────┤\n",
       "│ time_distributed_2            │ (\u001b[38;5;45mNone\u001b[0m, \u001b[38;5;34m4\u001b[0m, \u001b[38;5;34m1024\u001b[0m)           │               \u001b[38;5;34m0\u001b[0m │ time_distributed_1[\u001b[38;5;34m0\u001b[0m][\u001b[38;5;34m0\u001b[0m]   │\n",
       "│ (\u001b[38;5;33mTimeDistributed\u001b[0m)             │                           │                 │                            │\n",
       "├───────────────────────────────┼───────────────────────────┼─────────────────┼────────────────────────────┤\n",
       "│ gru (\u001b[38;5;33mGRU\u001b[0m)                     │ (\u001b[38;5;45mNone\u001b[0m, \u001b[38;5;34m4\u001b[0m, \u001b[38;5;34m500\u001b[0m)            │       \u001b[38;5;34m2,289,000\u001b[0m │ time_distributed_2[\u001b[38;5;34m0\u001b[0m][\u001b[38;5;34m0\u001b[0m]   │\n",
       "├───────────────────────────────┼───────────────────────────┼─────────────────┼────────────────────────────┤\n",
       "│ dense (\u001b[38;5;33mDense\u001b[0m)                 │ (\u001b[38;5;45mNone\u001b[0m, \u001b[38;5;34m4\u001b[0m, \u001b[38;5;34m1000\u001b[0m)           │         \u001b[38;5;34m501,000\u001b[0m │ gru[\u001b[38;5;34m0\u001b[0m][\u001b[38;5;34m0\u001b[0m]                  │\n",
       "├───────────────────────────────┼───────────────────────────┼─────────────────┼────────────────────────────┤\n",
       "│ dense_1 (\u001b[38;5;33mDense\u001b[0m)               │ (\u001b[38;5;45mNone\u001b[0m, \u001b[38;5;34m4\u001b[0m, \u001b[38;5;34m1000\u001b[0m)           │       \u001b[38;5;34m1,001,000\u001b[0m │ dense[\u001b[38;5;34m0\u001b[0m][\u001b[38;5;34m0\u001b[0m]                │\n",
       "├───────────────────────────────┼───────────────────────────┼─────────────────┼────────────────────────────┤\n",
       "│ softmax (\u001b[38;5;33mSoftmax\u001b[0m)             │ (\u001b[38;5;45mNone\u001b[0m, \u001b[38;5;34m4\u001b[0m, \u001b[38;5;34m1000\u001b[0m)           │               \u001b[38;5;34m0\u001b[0m │ dense_1[\u001b[38;5;34m0\u001b[0m][\u001b[38;5;34m0\u001b[0m]              │\n",
       "├───────────────────────────────┼───────────────────────────┼─────────────────┼────────────────────────────┤\n",
       "│ multiply (\u001b[38;5;33mMultiply\u001b[0m)           │ (\u001b[38;5;45mNone\u001b[0m, \u001b[38;5;34m4\u001b[0m, \u001b[38;5;34m1000\u001b[0m)           │               \u001b[38;5;34m0\u001b[0m │ dense_1[\u001b[38;5;34m0\u001b[0m][\u001b[38;5;34m0\u001b[0m],             │\n",
       "│                               │                           │                 │ softmax[\u001b[38;5;34m0\u001b[0m][\u001b[38;5;34m0\u001b[0m]              │\n",
       "├───────────────────────────────┼───────────────────────────┼─────────────────┼────────────────────────────┤\n",
       "│ average_pooling1d             │ (\u001b[38;5;45mNone\u001b[0m, \u001b[38;5;34m1\u001b[0m, \u001b[38;5;34m1000\u001b[0m)           │               \u001b[38;5;34m0\u001b[0m │ multiply[\u001b[38;5;34m0\u001b[0m][\u001b[38;5;34m0\u001b[0m]             │\n",
       "│ (\u001b[38;5;33mAveragePooling1D\u001b[0m)            │                           │                 │                            │\n",
       "├───────────────────────────────┼───────────────────────────┼─────────────────┼────────────────────────────┤\n",
       "│ reshape (\u001b[38;5;33mReshape\u001b[0m)             │ (\u001b[38;5;45mNone\u001b[0m, \u001b[38;5;34m1000\u001b[0m)              │               \u001b[38;5;34m0\u001b[0m │ average_pooling1d[\u001b[38;5;34m0\u001b[0m][\u001b[38;5;34m0\u001b[0m]    │\n",
       "├───────────────────────────────┼───────────────────────────┼─────────────────┼────────────────────────────┤\n",
       "│ dense_2 (\u001b[38;5;33mDense\u001b[0m)               │ (\u001b[38;5;45mNone\u001b[0m, \u001b[38;5;34m1\u001b[0m)                 │           \u001b[38;5;34m1,001\u001b[0m │ reshape[\u001b[38;5;34m0\u001b[0m][\u001b[38;5;34m0\u001b[0m]              │\n",
       "└───────────────────────────────┴───────────────────────────┴─────────────────┴────────────────────────────┘\n"
      ]
     },
     "metadata": {},
     "output_type": "display_data"
    },
    {
     "data": {
      "text/html": [
       "<pre style=\"white-space:pre;overflow-x:auto;line-height:normal;font-family:Menlo,'DejaVu Sans Mono',consolas,'Courier New',monospace\"><span style=\"font-weight: bold\"> Total params: </span><span style=\"color: #00af00; text-decoration-color: #00af00\">3,792,769</span> (14.47 MB)\n",
       "</pre>\n"
      ],
      "text/plain": [
       "\u001b[1m Total params: \u001b[0m\u001b[38;5;34m3,792,769\u001b[0m (14.47 MB)\n"
      ]
     },
     "metadata": {},
     "output_type": "display_data"
    },
    {
     "data": {
      "text/html": [
       "<pre style=\"white-space:pre;overflow-x:auto;line-height:normal;font-family:Menlo,'DejaVu Sans Mono',consolas,'Courier New',monospace\"><span style=\"font-weight: bold\"> Trainable params: </span><span style=\"color: #00af00; text-decoration-color: #00af00\">3,792,769</span> (14.47 MB)\n",
       "</pre>\n"
      ],
      "text/plain": [
       "\u001b[1m Trainable params: \u001b[0m\u001b[38;5;34m3,792,769\u001b[0m (14.47 MB)\n"
      ]
     },
     "metadata": {},
     "output_type": "display_data"
    },
    {
     "data": {
      "text/html": [
       "<pre style=\"white-space:pre;overflow-x:auto;line-height:normal;font-family:Menlo,'DejaVu Sans Mono',consolas,'Courier New',monospace\"><span style=\"font-weight: bold\"> Non-trainable params: </span><span style=\"color: #00af00; text-decoration-color: #00af00\">0</span> (0.00 B)\n",
       "</pre>\n"
      ],
      "text/plain": [
       "\u001b[1m Non-trainable params: \u001b[0m\u001b[38;5;34m0\u001b[0m (0.00 B)\n"
      ]
     },
     "metadata": {},
     "output_type": "display_data"
    }
   ],
   "source": [
    "from keras.layers import Input, Layer, Conv1D, MaxPooling1D, Flatten, Bidirectional, GRU\n",
    "from keras.layers import Dropout, Dense, Softmax, AveragePooling1D, Reshape\n",
    "from keras.models import Model\n",
    "\n",
    "\n",
    "\n",
    "\n",
    "import tensorflow as tf\n",
    "from tensorflow.keras.layers import Input, Conv1D, MaxPooling1D, Flatten, Bidirectional, GRU, Softmax, Dense, TimeDistributed\n",
    "\n",
    "# Define your input shape\n",
    "input_shape = (4, 9, 1)\n",
    "\n",
    "import tensorflow as tf\n",
    "from tensorflow.keras.layers import Input, Conv1D, MaxPooling1D, Flatten, Bidirectional, GRU, Softmax, Dense, TimeDistributed, AveragePooling1D\n",
    "\n",
    "# Define your input shape\n",
    "input_shape = (4, 9, 1)\n",
    "\n",
    "# Create the input layer\n",
    "input_layer = Input(shape=input_shape)\n",
    "\n",
    "# Apply Conv1D with soft attention\n",
    "conv_layer = TimeDistributed(Conv1D(filters=256, kernel_size=2, activation='relu'))(input_layer)\n",
    "\n",
    "# Apply MaxPooling1D\n",
    "pooling_layer = TimeDistributed(MaxPooling1D(pool_size=2, padding='same'))(conv_layer)\n",
    "\n",
    "# Flatten the output\n",
    "flatten_layer = TimeDistributed(Flatten())(pooling_layer)\n",
    "\n",
    "# Bidirectional GRU layer\n",
    "gru_layer = GRU(500, activation='relu', return_sequences=True)(flatten_layer)\n",
    "\n",
    "# dropout_layer = Dropout(0.5)(gru_layer)\n",
    "# Dense layers\n",
    "denselayer1 = Dense(1000)(gru_layer)\n",
    "denselayer2 = Dense(1000)(denselayer1)\n",
    "\n",
    "# Apply soft attention mechanism\n",
    "attention_weights = Softmax(axis=1)(denselayer2)\n",
    "attended_output = denselayer2 * attention_weights\n",
    "\n",
    "# Apply AveragePooling1D\n",
    "pooled_output = AveragePooling1D(pool_size=4)(attended_output)\n",
    "\n",
    "# Reshape the pooled tensor to (None, 1000)\n",
    "reshaped_output = tf.keras.layers.Reshape(target_shape=(1000,))(pooled_output)\n",
    "\n",
    "# Output layer\n",
    "output_layer = Dense(1)(reshaped_output)\n",
    "\n",
    "# Compile the model\n",
    "model_with_attention = tf.keras.Model(inputs=input_layer, outputs=output_layer)\n",
    "model_with_attention.compile(optimizer='adam', loss='mae')\n",
    "\n",
    "# Summary of the modified model\n",
    "model_with_attention.summary()\n",
    "\n"
   ]
  },
  {
   "cell_type": "code",
   "execution_count": 18,
   "id": "bd867a10-8bc8-466d-9be2-e34a7de2f5cd",
   "metadata": {},
   "outputs": [],
   "source": [
    "# model3.summary()"
   ]
  },
  {
   "cell_type": "code",
   "execution_count": 19,
   "id": "7c4c19ab-196e-4345-a7fb-8fe6d1431c70",
   "metadata": {},
   "outputs": [
    {
     "name": "stdout",
     "output_type": "stream",
     "text": [
      "(21013, 1)\n"
     ]
    }
   ],
   "source": [
    "print(y_train.shape)"
   ]
  },
  {
   "cell_type": "markdown",
   "id": "e07e6b25",
   "metadata": {},
   "source": [
    "We provide a graphical representation of the model by using Netron. Reader can deeply analyse each layer of the model. "
   ]
  },
  {
   "cell_type": "code",
   "execution_count": 20,
   "id": "f999d515",
   "metadata": {
    "scrolled": true
   },
   "outputs": [],
   "source": [
    "\n",
    "# model_with_attention.save('model_with_attention.keras')\n",
    "# netron.start('model_with_attention.h5')"
   ]
  },
  {
   "cell_type": "markdown",
   "id": "6ce5e668",
   "metadata": {},
   "source": [
    "We train the model."
   ]
  },
  {
   "cell_type": "code",
   "execution_count": 21,
   "id": "84c63f1c",
   "metadata": {},
   "outputs": [
    {
     "name": "stdout",
     "output_type": "stream",
     "text": [
      "Epoch 1/100\n",
      "657/657 [==============================] - 28s 40ms/step - loss: 169.0748 - val_loss: 125.5606\n",
      "Epoch 2/100\n",
      "657/657 [==============================] - 26s 39ms/step - loss: 120.7394 - val_loss: 130.1222\n",
      "Epoch 3/100\n",
      "657/657 [==============================] - 26s 39ms/step - loss: 114.6852 - val_loss: 113.9485\n",
      "Epoch 4/100\n",
      "657/657 [==============================] - 26s 39ms/step - loss: 110.0227 - val_loss: 112.3155\n",
      "Epoch 5/100\n",
      "657/657 [==============================] - 26s 39ms/step - loss: 106.7956 - val_loss: 107.8369\n",
      "Epoch 6/100\n",
      "657/657 [==============================] - 26s 39ms/step - loss: 103.8665 - val_loss: 102.2139\n",
      "Epoch 7/100\n",
      "657/657 [==============================] - 26s 39ms/step - loss: 101.5173 - val_loss: 103.1564\n",
      "Epoch 8/100\n",
      "657/657 [==============================] - 26s 39ms/step - loss: 99.8307 - val_loss: 100.4245\n",
      "Epoch 9/100\n",
      "657/657 [==============================] - 26s 39ms/step - loss: 99.2951 - val_loss: 103.7866\n",
      "Epoch 10/100\n",
      "657/657 [==============================] - 26s 39ms/step - loss: 94.9148 - val_loss: 97.3816\n",
      "Epoch 11/100\n",
      "657/657 [==============================] - 26s 39ms/step - loss: 94.1659 - val_loss: 92.9293\n",
      "Epoch 12/100\n",
      "657/657 [==============================] - 26s 39ms/step - loss: 91.7260 - val_loss: 93.0324\n",
      "Epoch 13/100\n",
      "657/657 [==============================] - 26s 39ms/step - loss: 91.0502 - val_loss: 88.3064\n",
      "Epoch 14/100\n",
      "657/657 [==============================] - 26s 39ms/step - loss: 89.7886 - val_loss: 91.4873\n",
      "Epoch 15/100\n",
      "657/657 [==============================] - 27s 41ms/step - loss: 89.0114 - val_loss: 97.2724\n",
      "Epoch 16/100\n",
      "657/657 [==============================] - 26s 40ms/step - loss: 87.3397 - val_loss: 91.7002\n",
      "Epoch 17/100\n",
      "657/657 [==============================] - 26s 39ms/step - loss: 86.5981 - val_loss: 92.4580\n",
      "Epoch 18/100\n",
      "657/657 [==============================] - 26s 39ms/step - loss: 86.4760 - val_loss: 91.6511\n",
      "Epoch 19/100\n",
      "657/657 [==============================] - 26s 39ms/step - loss: 86.2726 - val_loss: 91.7186\n",
      "Epoch 20/100\n",
      "657/657 [==============================] - 26s 39ms/step - loss: 84.5475 - val_loss: 96.0821\n",
      "Epoch 21/100\n",
      "657/657 [==============================] - 26s 39ms/step - loss: 83.4286 - val_loss: 84.6136\n",
      "Epoch 22/100\n",
      "657/657 [==============================] - 26s 39ms/step - loss: 82.5446 - val_loss: 85.5008\n",
      "Epoch 23/100\n",
      "657/657 [==============================] - 26s 39ms/step - loss: 83.0481 - val_loss: 87.3388\n",
      "Epoch 24/100\n",
      "657/657 [==============================] - 26s 39ms/step - loss: 81.2442 - val_loss: 102.3701\n",
      "Epoch 25/100\n",
      "657/657 [==============================] - 26s 39ms/step - loss: 80.8711 - val_loss: 83.5822\n",
      "Epoch 26/100\n",
      "657/657 [==============================] - 26s 39ms/step - loss: 79.6212 - val_loss: 85.2940\n",
      "Epoch 27/100\n",
      "657/657 [==============================] - 27s 41ms/step - loss: 79.3180 - val_loss: 89.3656\n",
      "Epoch 28/100\n",
      "657/657 [==============================] - 26s 39ms/step - loss: 78.5859 - val_loss: 83.1819\n",
      "Epoch 29/100\n",
      "657/657 [==============================] - 26s 39ms/step - loss: 77.4953 - val_loss: 79.7881\n",
      "Epoch 30/100\n",
      "657/657 [==============================] - 26s 39ms/step - loss: 77.7798 - val_loss: 82.1514\n",
      "Epoch 31/100\n",
      "657/657 [==============================] - 26s 39ms/step - loss: 76.8265 - val_loss: 80.3638\n",
      "Epoch 32/100\n",
      "657/657 [==============================] - 26s 39ms/step - loss: 75.9869 - val_loss: 86.4181\n",
      "Epoch 33/100\n",
      "657/657 [==============================] - 26s 40ms/step - loss: 75.7071 - val_loss: 84.6988\n",
      "Epoch 34/100\n",
      "657/657 [==============================] - 27s 42ms/step - loss: 74.7801 - val_loss: 79.5900\n",
      "Epoch 35/100\n",
      "657/657 [==============================] - 26s 39ms/step - loss: 74.7260 - val_loss: 78.7992\n",
      "Epoch 36/100\n",
      "657/657 [==============================] - 26s 40ms/step - loss: 74.2516 - val_loss: 79.7950\n",
      "Epoch 37/100\n",
      "657/657 [==============================] - 26s 39ms/step - loss: 73.6500 - val_loss: 78.1962\n",
      "Epoch 38/100\n",
      "657/657 [==============================] - 26s 40ms/step - loss: 73.4717 - val_loss: 83.5605\n",
      "Epoch 39/100\n",
      "657/657 [==============================] - 26s 39ms/step - loss: 73.0856 - val_loss: 80.0774\n",
      "Epoch 40/100\n",
      "657/657 [==============================] - 26s 40ms/step - loss: 72.1883 - val_loss: 75.5284\n",
      "Epoch 41/100\n",
      "657/657 [==============================] - 26s 39ms/step - loss: 72.3300 - val_loss: 81.3673\n",
      "Epoch 42/100\n",
      "657/657 [==============================] - 26s 39ms/step - loss: 71.9667 - val_loss: 75.9061\n",
      "Epoch 43/100\n",
      "657/657 [==============================] - 26s 39ms/step - loss: 71.2257 - val_loss: 81.1756\n",
      "Epoch 44/100\n",
      "657/657 [==============================] - 26s 39ms/step - loss: 70.8736 - val_loss: 75.7341\n",
      "Epoch 45/100\n",
      "657/657 [==============================] - 26s 40ms/step - loss: 70.3144 - val_loss: 77.4348\n",
      "Epoch 46/100\n",
      "657/657 [==============================] - 26s 40ms/step - loss: 70.4052 - val_loss: 77.1893\n",
      "Epoch 47/100\n",
      "657/657 [==============================] - 26s 40ms/step - loss: 69.5082 - val_loss: 75.4677\n",
      "Epoch 48/100\n",
      "657/657 [==============================] - 26s 39ms/step - loss: 69.4556 - val_loss: 80.3973\n",
      "Epoch 49/100\n",
      "657/657 [==============================] - 26s 40ms/step - loss: 69.2550 - val_loss: 75.7826\n",
      "Epoch 50/100\n",
      "657/657 [==============================] - 26s 39ms/step - loss: 68.3296 - val_loss: 75.6560\n",
      "Epoch 51/100\n",
      "657/657 [==============================] - 26s 40ms/step - loss: 68.2754 - val_loss: 77.0457\n",
      "Epoch 52/100\n",
      "657/657 [==============================] - 27s 42ms/step - loss: 67.6423 - val_loss: 73.7030\n",
      "Epoch 53/100\n",
      "657/657 [==============================] - 27s 42ms/step - loss: 67.9565 - val_loss: 80.9538\n",
      "Epoch 54/100\n",
      "657/657 [==============================] - 27s 42ms/step - loss: 67.6631 - val_loss: 72.1521\n",
      "Epoch 55/100\n",
      "657/657 [==============================] - 27s 42ms/step - loss: 67.2164 - val_loss: 75.3727\n",
      "Epoch 56/100\n",
      "657/657 [==============================] - 27s 41ms/step - loss: 66.8910 - val_loss: 74.2625\n",
      "Epoch 57/100\n",
      "657/657 [==============================] - 26s 40ms/step - loss: 66.7028 - val_loss: 72.5548\n",
      "Epoch 58/100\n",
      "657/657 [==============================] - 26s 40ms/step - loss: 66.1386 - val_loss: 71.7480\n",
      "Epoch 59/100\n",
      "657/657 [==============================] - 26s 39ms/step - loss: 65.7440 - val_loss: 71.7892\n",
      "Epoch 60/100\n",
      "657/657 [==============================] - 26s 39ms/step - loss: 65.3938 - val_loss: 72.9269\n",
      "Epoch 61/100\n",
      "657/657 [==============================] - 27s 41ms/step - loss: 65.0616 - val_loss: 72.9557\n",
      "Epoch 62/100\n",
      "657/657 [==============================] - 26s 40ms/step - loss: 65.5393 - val_loss: 73.8515\n",
      "Epoch 63/100\n",
      "657/657 [==============================] - 26s 39ms/step - loss: 65.1997 - val_loss: 73.1571\n",
      "Epoch 64/100\n",
      "657/657 [==============================] - 26s 39ms/step - loss: 63.9849 - val_loss: 72.6647\n",
      "Epoch 65/100\n",
      "657/657 [==============================] - 26s 39ms/step - loss: 64.2125 - val_loss: 72.1834\n",
      "Epoch 66/100\n",
      "657/657 [==============================] - 27s 41ms/step - loss: 64.0418 - val_loss: 73.5628\n",
      "Epoch 67/100\n",
      "657/657 [==============================] - 27s 42ms/step - loss: 63.3193 - val_loss: 71.7135\n",
      "Epoch 68/100\n",
      "657/657 [==============================] - 27s 40ms/step - loss: 63.3539 - val_loss: 72.6720\n",
      "Epoch 69/100\n",
      "657/657 [==============================] - 26s 39ms/step - loss: 62.9058 - val_loss: 70.8933\n",
      "Epoch 70/100\n",
      "657/657 [==============================] - 27s 41ms/step - loss: 62.9206 - val_loss: 73.9063\n",
      "Epoch 71/100\n",
      "657/657 [==============================] - 26s 39ms/step - loss: 62.6566 - val_loss: 71.2960\n",
      "Epoch 72/100\n",
      "657/657 [==============================] - 26s 40ms/step - loss: 62.0371 - val_loss: 70.4229\n",
      "Epoch 73/100\n",
      "657/657 [==============================] - 26s 39ms/step - loss: 61.8226 - val_loss: 73.2448\n",
      "Epoch 74/100\n",
      "657/657 [==============================] - 26s 39ms/step - loss: 61.6772 - val_loss: 70.8027\n",
      "Epoch 75/100\n",
      "657/657 [==============================] - 26s 39ms/step - loss: 61.8358 - val_loss: 70.2982\n",
      "Epoch 76/100\n",
      "657/657 [==============================] - 26s 39ms/step - loss: 61.2406 - val_loss: 72.4341\n",
      "Epoch 77/100\n",
      "657/657 [==============================] - 26s 40ms/step - loss: 61.1931 - val_loss: 72.5386\n",
      "Epoch 78/100\n",
      "657/657 [==============================] - 26s 40ms/step - loss: 60.7807 - val_loss: 69.3452\n",
      "Epoch 79/100\n",
      "657/657 [==============================] - 26s 40ms/step - loss: 60.9261 - val_loss: 74.1752\n",
      "Epoch 80/100\n",
      "657/657 [==============================] - 26s 40ms/step - loss: 60.5417 - val_loss: 73.6664\n",
      "Epoch 81/100\n",
      "657/657 [==============================] - 26s 40ms/step - loss: 60.4042 - val_loss: 73.0174\n",
      "Epoch 82/100\n",
      "657/657 [==============================] - 27s 41ms/step - loss: 59.4655 - val_loss: 70.7575\n",
      "Epoch 83/100\n",
      "657/657 [==============================] - 27s 42ms/step - loss: 59.6963 - val_loss: 72.4345\n",
      "Epoch 84/100\n",
      "657/657 [==============================] - 27s 41ms/step - loss: 59.6553 - val_loss: 74.7890\n",
      "Epoch 85/100\n",
      "657/657 [==============================] - 26s 40ms/step - loss: 60.1960 - val_loss: 70.7446\n",
      "Epoch 86/100\n",
      "657/657 [==============================] - 26s 40ms/step - loss: 59.5513 - val_loss: 72.1854\n",
      "Epoch 87/100\n",
      "657/657 [==============================] - 26s 40ms/step - loss: 59.3728 - val_loss: 70.3840\n",
      "Epoch 88/100\n",
      "657/657 [==============================] - 26s 40ms/step - loss: 58.4037 - val_loss: 73.8982\n",
      "Epoch 89/100\n",
      "657/657 [==============================] - 26s 40ms/step - loss: 58.3975 - val_loss: 72.6746\n",
      "Epoch 90/100\n",
      "657/657 [==============================] - 26s 40ms/step - loss: 58.4193 - val_loss: 70.2209\n",
      "Epoch 91/100\n",
      "657/657 [==============================] - 26s 40ms/step - loss: 57.8722 - val_loss: 69.7621\n",
      "Epoch 92/100\n",
      "657/657 [==============================] - 26s 40ms/step - loss: 58.1875 - val_loss: 71.7655\n",
      "Epoch 93/100\n",
      "657/657 [==============================] - 26s 40ms/step - loss: 57.0360 - val_loss: 70.6266\n",
      "Epoch 94/100\n",
      "657/657 [==============================] - 26s 39ms/step - loss: 57.6919 - val_loss: 72.5149\n",
      "Epoch 95/100\n",
      "657/657 [==============================] - 26s 40ms/step - loss: 57.8234 - val_loss: 69.7791\n",
      "Epoch 96/100\n",
      "657/657 [==============================] - 26s 40ms/step - loss: 57.4677 - val_loss: 69.5075\n",
      "Epoch 97/100\n",
      "657/657 [==============================] - 26s 40ms/step - loss: 57.1268 - val_loss: 71.0581\n",
      "Epoch 98/100\n",
      "657/657 [==============================] - 26s 40ms/step - loss: 57.2991 - val_loss: 70.1229\n",
      "Epoch 99/100\n",
      "657/657 [==============================] - 26s 40ms/step - loss: 55.6648 - val_loss: 71.3311\n",
      "Epoch 100/100\n",
      "657/657 [==============================] - 26s 40ms/step - loss: 56.4770 - val_loss: 71.4415\n",
      "Wall time: 43min 32s\n"
     ]
    }
   ],
   "source": [
    "%%time\n",
    "\n",
    "history3=model_with_attention.fit(X_train,y_train,epochs=100,batch_size = 32, shuffle=True,validation_data=(X_test,y_test))"
   ]
  },
  {
   "cell_type": "code",
   "execution_count": 23,
   "id": "abba0b87-9118-4cc6-9653-6de20c9a1872",
   "metadata": {},
   "outputs": [],
   "source": [
    "# import keras\n",
    "# tf.keras.s(model_with_attention, 'model_with_attention_AS2(t-12).keras')\n",
    "model_with_attention.save('model_with_attention_AS2(t-24).keras')\n",
    "\n",
    "train_loss_pd = pd.DataFrame(history3.history['loss'])\n",
    "val_loss_pd = pd.DataFrame(history3.history['loss'])\n",
    "train_loss_pd.to_csv('train_loss_AS2(t-24)')\n",
    "val_loss_pd.to_csv('val_loss_AS2(t-24)')"
   ]
  },
  {
   "cell_type": "code",
   "execution_count": 24,
   "id": "6a350564",
   "metadata": {},
   "outputs": [
    {
     "data": {
      "text/plain": [
       "{'loss': [169.0748291015625,\n",
       "  120.73937225341797,\n",
       "  114.6851806640625,\n",
       "  110.02265167236328,\n",
       "  106.79564666748047,\n",
       "  103.86654663085938,\n",
       "  101.51727294921875,\n",
       "  99.8306655883789,\n",
       "  99.29507446289062,\n",
       "  94.91478729248047,\n",
       "  94.16593933105469,\n",
       "  91.72595977783203,\n",
       "  91.05015563964844,\n",
       "  89.78862762451172,\n",
       "  89.01140594482422,\n",
       "  87.33966827392578,\n",
       "  86.59806060791016,\n",
       "  86.47599029541016,\n",
       "  86.27259063720703,\n",
       "  84.54750061035156,\n",
       "  83.4286117553711,\n",
       "  82.54457092285156,\n",
       "  83.04813385009766,\n",
       "  81.24415588378906,\n",
       "  80.87113952636719,\n",
       "  79.62120056152344,\n",
       "  79.31804656982422,\n",
       "  78.58589172363281,\n",
       "  77.49526977539062,\n",
       "  77.77975463867188,\n",
       "  76.82654571533203,\n",
       "  75.9869155883789,\n",
       "  75.70713806152344,\n",
       "  74.78010559082031,\n",
       "  74.72600555419922,\n",
       "  74.2515869140625,\n",
       "  73.65003967285156,\n",
       "  73.4716567993164,\n",
       "  73.08558654785156,\n",
       "  72.18833923339844,\n",
       "  72.3299560546875,\n",
       "  71.96673583984375,\n",
       "  71.2256851196289,\n",
       "  70.87360382080078,\n",
       "  70.31439971923828,\n",
       "  70.4051742553711,\n",
       "  69.50819396972656,\n",
       "  69.45559692382812,\n",
       "  69.25501251220703,\n",
       "  68.32958221435547,\n",
       "  68.27542114257812,\n",
       "  67.64230346679688,\n",
       "  67.95653533935547,\n",
       "  67.66311645507812,\n",
       "  67.21637725830078,\n",
       "  66.89096069335938,\n",
       "  66.70275115966797,\n",
       "  66.13858795166016,\n",
       "  65.74395751953125,\n",
       "  65.39375305175781,\n",
       "  65.06163787841797,\n",
       "  65.53925323486328,\n",
       "  65.19965362548828,\n",
       "  63.98492431640625,\n",
       "  64.21253967285156,\n",
       "  64.04179382324219,\n",
       "  63.3193244934082,\n",
       "  63.35394287109375,\n",
       "  62.905845642089844,\n",
       "  62.920562744140625,\n",
       "  62.65656280517578,\n",
       "  62.03709030151367,\n",
       "  61.822566986083984,\n",
       "  61.67723083496094,\n",
       "  61.835845947265625,\n",
       "  61.240623474121094,\n",
       "  61.19314193725586,\n",
       "  60.78068161010742,\n",
       "  60.92608642578125,\n",
       "  60.54169464111328,\n",
       "  60.40415954589844,\n",
       "  59.46552658081055,\n",
       "  59.6963005065918,\n",
       "  59.655338287353516,\n",
       "  60.19602584838867,\n",
       "  59.55129623413086,\n",
       "  59.37276840209961,\n",
       "  58.40372085571289,\n",
       "  58.39753341674805,\n",
       "  58.41931915283203,\n",
       "  57.87221145629883,\n",
       "  58.18746566772461,\n",
       "  57.03598403930664,\n",
       "  57.6918830871582,\n",
       "  57.82337188720703,\n",
       "  57.467674255371094,\n",
       "  57.12675476074219,\n",
       "  57.29909896850586,\n",
       "  55.66476821899414,\n",
       "  56.47700881958008],\n",
       " 'val_loss': [125.56060028076172,\n",
       "  130.12220764160156,\n",
       "  113.94851684570312,\n",
       "  112.3155288696289,\n",
       "  107.8368911743164,\n",
       "  102.21390533447266,\n",
       "  103.15644836425781,\n",
       "  100.42450714111328,\n",
       "  103.78656768798828,\n",
       "  97.38157653808594,\n",
       "  92.9293212890625,\n",
       "  93.03240966796875,\n",
       "  88.30642700195312,\n",
       "  91.48733520507812,\n",
       "  97.27235412597656,\n",
       "  91.70022583007812,\n",
       "  92.45800018310547,\n",
       "  91.65110778808594,\n",
       "  91.71861267089844,\n",
       "  96.08211517333984,\n",
       "  84.61357116699219,\n",
       "  85.50083923339844,\n",
       "  87.33875274658203,\n",
       "  102.37014770507812,\n",
       "  83.58224487304688,\n",
       "  85.2939682006836,\n",
       "  89.36564636230469,\n",
       "  83.18190002441406,\n",
       "  79.78813171386719,\n",
       "  82.1513671875,\n",
       "  80.3637924194336,\n",
       "  86.41806030273438,\n",
       "  84.69878387451172,\n",
       "  79.59001922607422,\n",
       "  78.79924774169922,\n",
       "  79.79499816894531,\n",
       "  78.19619750976562,\n",
       "  83.56045532226562,\n",
       "  80.07740783691406,\n",
       "  75.52841186523438,\n",
       "  81.36731719970703,\n",
       "  75.90613555908203,\n",
       "  81.17558288574219,\n",
       "  75.73412322998047,\n",
       "  77.4347915649414,\n",
       "  77.18927764892578,\n",
       "  75.46765899658203,\n",
       "  80.39733123779297,\n",
       "  75.7826156616211,\n",
       "  75.65601348876953,\n",
       "  77.04569244384766,\n",
       "  73.70298767089844,\n",
       "  80.95382690429688,\n",
       "  72.15205383300781,\n",
       "  75.37274169921875,\n",
       "  74.26246643066406,\n",
       "  72.55484771728516,\n",
       "  71.74795532226562,\n",
       "  71.7891845703125,\n",
       "  72.92693328857422,\n",
       "  72.95572662353516,\n",
       "  73.85148620605469,\n",
       "  73.1571273803711,\n",
       "  72.66471862792969,\n",
       "  72.18338775634766,\n",
       "  73.56278228759766,\n",
       "  71.71346282958984,\n",
       "  72.67203521728516,\n",
       "  70.89330291748047,\n",
       "  73.90625762939453,\n",
       "  71.29598236083984,\n",
       "  70.42289733886719,\n",
       "  73.24480438232422,\n",
       "  70.80270385742188,\n",
       "  70.29823303222656,\n",
       "  72.43412017822266,\n",
       "  72.53861999511719,\n",
       "  69.34521484375,\n",
       "  74.17516326904297,\n",
       "  73.66644287109375,\n",
       "  73.0173568725586,\n",
       "  70.7574691772461,\n",
       "  72.43450164794922,\n",
       "  74.78899383544922,\n",
       "  70.74459838867188,\n",
       "  72.18537139892578,\n",
       "  70.38404083251953,\n",
       "  73.89823150634766,\n",
       "  72.67460632324219,\n",
       "  70.22086334228516,\n",
       "  69.76213073730469,\n",
       "  71.76547241210938,\n",
       "  70.62657928466797,\n",
       "  72.51492309570312,\n",
       "  69.77913665771484,\n",
       "  69.50751495361328,\n",
       "  71.0581283569336,\n",
       "  70.12288665771484,\n",
       "  71.33113098144531,\n",
       "  71.44147491455078]}"
      ]
     },
     "execution_count": 24,
     "metadata": {},
     "output_type": "execute_result"
    }
   ],
   "source": [
    "# print(history3.items())\n",
    "history3.history"
   ]
  },
  {
   "cell_type": "code",
   "execution_count": 25,
   "id": "b3eaaafe",
   "metadata": {},
   "outputs": [
    {
     "data": {
      "text/plain": [
       "<matplotlib.legend.Legend at 0x2044a03e748>"
      ]
     },
     "execution_count": 25,
     "metadata": {},
     "output_type": "execute_result"
    },
    {
     "data": {
      "image/png": "[encoded data removed]",
      "text/plain": [
       "<Figure size 1000x500 with 1 Axes>"
      ]
     },
     "metadata": {},
     "output_type": "display_data"
    }
   ],
   "source": [
    "plt.figure(figsize=(10, 5))\n",
    "plt.plot(train_loss_pd, label='train')\n",
    "plt.plot(val_loss_pd, label='val')\n",
    "plt.legend()"
   ]
  },
  {
   "cell_type": "markdown",
   "id": "9c54db72",
   "metadata": {},
   "source": [
    "## Model evaluation"
   ]
  },
  {
   "cell_type": "code",
   "execution_count": 21,
   "id": "aba0da4a",
   "metadata": {},
   "outputs": [
    {
     "ename": "ValueError",
     "evalue": "File not found: filepath=model_with_attention_AS2(t-24).keras. Please ensure the file is an accessible `.keras` zip file.",
     "output_type": "error",
     "traceback": [
      "\u001b[1;31m---------------------------------------------------------------------------\u001b[0m",
      "\u001b[1;31mValueError\u001b[0m                                Traceback (most recent call last)",
      "Cell \u001b[1;32mIn[21], line 3\u001b[0m\n\u001b[0;32m      1\u001b[0m \u001b[38;5;28;01mimport\u001b[39;00m \u001b[38;5;21;01mkeras\u001b[39;00m\n\u001b[1;32m----> 3\u001b[0m model_with_attention \u001b[38;5;241m=\u001b[39m keras\u001b[38;5;241m.\u001b[39msaving\u001b[38;5;241m.\u001b[39mload_model(\u001b[38;5;124m\"\u001b[39m\u001b[38;5;124mmodel_with_attention_AS2(t-24).keras\u001b[39m\u001b[38;5;124m\"\u001b[39m)\n",
      "File \u001b[1;32m~\\anaconda3\\Lib\\site-packages\\keras\\src\\saving\\saving_api.py:185\u001b[0m, in \u001b[0;36mload_model\u001b[1;34m(filepath, custom_objects, compile, safe_mode)\u001b[0m\n\u001b[0;32m    183\u001b[0m     \u001b[38;5;28;01mreturn\u001b[39;00m legacy_h5_format\u001b[38;5;241m.\u001b[39mload_model_from_hdf5(filepath)\n\u001b[0;32m    184\u001b[0m \u001b[38;5;28;01melif\u001b[39;00m \u001b[38;5;28mstr\u001b[39m(filepath)\u001b[38;5;241m.\u001b[39mendswith(\u001b[38;5;124m\"\u001b[39m\u001b[38;5;124m.keras\u001b[39m\u001b[38;5;124m\"\u001b[39m):\n\u001b[1;32m--> 185\u001b[0m     \u001b[38;5;28;01mraise\u001b[39;00m \u001b[38;5;167;01mValueError\u001b[39;00m(\n\u001b[0;32m    186\u001b[0m         \u001b[38;5;124mf\u001b[39m\u001b[38;5;124m\"\u001b[39m\u001b[38;5;124mFile not found: filepath=\u001b[39m\u001b[38;5;132;01m{\u001b[39;00mfilepath\u001b[38;5;132;01m}\u001b[39;00m\u001b[38;5;124m. \u001b[39m\u001b[38;5;124m\"\u001b[39m\n\u001b[0;32m    187\u001b[0m         \u001b[38;5;124m\"\u001b[39m\u001b[38;5;124mPlease ensure the file is an accessible `.keras` \u001b[39m\u001b[38;5;124m\"\u001b[39m\n\u001b[0;32m    188\u001b[0m         \u001b[38;5;124m\"\u001b[39m\u001b[38;5;124mzip file.\u001b[39m\u001b[38;5;124m\"\u001b[39m\n\u001b[0;32m    189\u001b[0m     )\n\u001b[0;32m    190\u001b[0m \u001b[38;5;28;01melse\u001b[39;00m:\n\u001b[0;32m    191\u001b[0m     \u001b[38;5;28;01mraise\u001b[39;00m \u001b[38;5;167;01mValueError\u001b[39;00m(\n\u001b[0;32m    192\u001b[0m         \u001b[38;5;124mf\u001b[39m\u001b[38;5;124m\"\u001b[39m\u001b[38;5;124mFile format not supported: filepath=\u001b[39m\u001b[38;5;132;01m{\u001b[39;00mfilepath\u001b[38;5;132;01m}\u001b[39;00m\u001b[38;5;124m. \u001b[39m\u001b[38;5;124m\"\u001b[39m\n\u001b[0;32m    193\u001b[0m         \u001b[38;5;124m\"\u001b[39m\u001b[38;5;124mKeras 3 only supports V3 `.keras` files and \u001b[39m\u001b[38;5;124m\"\u001b[39m\n\u001b[1;32m   (...)\u001b[0m\n\u001b[0;32m    202\u001b[0m         \u001b[38;5;124m\"\u001b[39m\u001b[38;5;124mmight have a different name).\u001b[39m\u001b[38;5;124m\"\u001b[39m\n\u001b[0;32m    203\u001b[0m     )\n",
      "\u001b[1;31mValueError\u001b[0m: File not found: filepath=model_with_attention_AS2(t-24).keras. Please ensure the file is an accessible `.keras` zip file."
     ]
    }
   ],
   "source": [
    "import keras\n",
    "\n",
    "model_with_attention = keras.saving.load_model(\"model_with_attention_AS2(t-24).keras\")"
   ]
  },
  {
   "cell_type": "markdown",
   "id": "b2ea78bf",
   "metadata": {},
   "source": [
    "We define this function, which will be useful to evaluate the model."
   ]
  },
  {
   "cell_type": "code",
   "execution_count": 26,
   "id": "8c0e5a3b",
   "metadata": {},
   "outputs": [],
   "source": [
    "def flatten(t):\n",
    "    return [item for sublist in t for item in sublist]"
   ]
  },
  {
   "cell_type": "markdown",
   "id": "e9674031",
   "metadata": {},
   "source": [
    "We evaluate the model by using the first metric (mean absolute error). "
   ]
  },
  {
   "cell_type": "code",
   "execution_count": 27,
   "id": "5ecf3c33",
   "metadata": {},
   "outputs": [
    {
     "name": "stdout",
     "output_type": "stream",
     "text": [
      "324/324 [==============================] - 4s 12ms/step\n",
      "(10351, 1)\n",
      "10351\n",
      "(10351, 1)\n",
      "10351\n",
      "71.44148950800897\n"
     ]
    }
   ],
   "source": [
    "from sklearn.metrics import mean_absolute_error \n",
    "# from sklearn.metrics import root_mean_squared_error \n",
    "\n",
    "pred = model_with_attention.predict(X_test)\n",
    "print(pred.shape)\n",
    "print(len(flatten(pred)))\n",
    "print(y_test.shape)\n",
    "print(len(flatten(y_test)))\n",
    "\n",
    "MAE = mean_absolute_error(flatten(pred),flatten(y_test))\n",
    "print(MAE)\n",
    "# RMSE = root_mean_squared_error(flatten(pred),flatten(y_test))\n",
    "# print(RMSE)"
   ]
  },
  {
   "cell_type": "markdown",
   "id": "12982dd9",
   "metadata": {},
   "source": [
    "We will evaluate the model with the second metric (accuracy). For this, we divide target variable in three categories: first, data between percentil 0 and 15; second, data between percentil 15 and 85 and thrid, data between percentil 85 and 100. "
   ]
  },
  {
   "cell_type": "code",
   "execution_count": 28,
   "id": "10369faa-d540-4ccd-a24b-4fe206c3d53f",
   "metadata": {},
   "outputs": [
    {
     "name": "stdout",
     "output_type": "stream",
     "text": [
      "324/324 [==============================] - 4s 11ms/step\n",
      "[[ 55.167984]\n",
      " [808.4997  ]\n",
      " [115.800385]\n",
      " ...\n",
      " [284.74356 ]\n",
      " [816.52783 ]\n",
      " [164.73773 ]]\n"
     ]
    }
   ],
   "source": [
    "pred = model_with_attention.predict(X_test)\n",
    "print(pred)"
   ]
  },
  {
   "cell_type": "code",
   "execution_count": 29,
   "id": "17ad32ac-3aff-4ecf-b8b9-e496b63f9301",
   "metadata": {},
   "outputs": [
    {
     "data": {
      "text/plain": [
       "array([[ 33.],\n",
       "       [850.],\n",
       "       [106.],\n",
       "       ...,\n",
       "       [258.],\n",
       "       [832.],\n",
       "       [194.]])"
      ]
     },
     "execution_count": 29,
     "metadata": {},
     "output_type": "execute_result"
    }
   ],
   "source": [
    "y_test"
   ]
  },
  {
   "cell_type": "code",
   "execution_count": 30,
   "id": "d944ccff",
   "metadata": {},
   "outputs": [],
   "source": [
    "obj = list(data['obj'].values)"
   ]
  },
  {
   "cell_type": "code",
   "execution_count": 31,
   "id": "36466028-ed5d-423b-ac17-9ad0b8463604",
   "metadata": {},
   "outputs": [
    {
     "data": {
      "text/plain": [
       "dtype('float32')"
      ]
     },
     "execution_count": 31,
     "metadata": {},
     "output_type": "execute_result"
    }
   ],
   "source": [
    "pred.dtype == np.float64\n",
    "pred.dtype"
   ]
  },
  {
   "cell_type": "code",
   "execution_count": 32,
   "id": "58982b45",
   "metadata": {},
   "outputs": [
    {
     "name": "stdout",
     "output_type": "stream",
     "text": [
      "0\n",
      "48.0\n",
      "838.0\n",
      "2888\n"
     ]
    }
   ],
   "source": [
    "print(np.quantile(obj, 0))\n",
    "print(np.quantile(obj, 0.15))\n",
    "print(np.quantile(obj, 0.85))\n",
    "print(np.quantile(obj, 1))"
   ]
  },
  {
   "cell_type": "markdown",
   "id": "d555df61",
   "metadata": {},
   "source": [
    "We add and substract a small value in extreme values in order to avoid issues. We also transform the predictions lower than 0 in 0. "
   ]
  },
  {
   "cell_type": "code",
   "execution_count": 33,
   "id": "649392d4",
   "metadata": {},
   "outputs": [],
   "source": [
    "bins = [np.quantile(obj, 0)-0.001,np.quantile(obj, 0.15),np.quantile(obj, 0.85),np.quantile(obj, 1)+0.001]\n",
    "names = ['a','b','c']\n",
    "for i in range(len(pred)):\n",
    "    if pred[i]<0:\n",
    "        pred[i] = 0\n",
    "pred2=pd.cut(flatten(pred), bins, labels = names)\n",
    "ytest2=pd.cut(flatten(y_test), bins, labels = names)"
   ]
  },
  {
   "cell_type": "markdown",
   "id": "bfff6821",
   "metadata": {},
   "source": [
    "We obtain the accuracy metric and the confusion matrix corresponding. "
   ]
  },
  {
   "cell_type": "code",
   "execution_count": 34,
   "id": "fbde0271",
   "metadata": {},
   "outputs": [
    {
     "name": "stdout",
     "output_type": "stream",
     "text": [
      "0.8760506231282001\n",
      "[[1239  300    0]\n",
      " [ 112 6819  270]\n",
      " [   0  601 1010]]\n"
     ]
    }
   ],
   "source": [
    "print(accuracy_score(ytest2,pred2))\n",
    "print(confusion_matrix(ytest2,pred2))"
   ]
  },
  {
   "cell_type": "markdown",
   "id": "d58c8161",
   "metadata": {},
   "source": [
    "###  Plotting the actual and predicted values. "
   ]
  },
  {
   "cell_type": "markdown",
   "id": "1692014e",
   "metadata": {},
   "source": [
    "We selelct randomly an observation of the entire dataset and we will analyse the 100 successive observations. We plot\n",
    "the actual and the predicted values of these observations. "
   ]
  },
  {
   "cell_type": "code",
   "execution_count": 35,
   "id": "5711b77d",
   "metadata": {},
   "outputs": [
    {
     "data": {
      "text/plain": [
       "array([[[0.12838717, 0.39972177, 0.31509694, ..., 0.21287128,\n",
       "         0.6666667 , 0.8695652 ],\n",
       "        [0.11788821, 0.27359146, 0.18628809, ..., 0.21287128,\n",
       "         0.6666667 , 0.9130435 ],\n",
       "        [0.10038996, 0.17458846, 0.10630194, ..., 0.21287128,\n",
       "         0.6666667 , 0.95652175],\n",
       "        [0.09369063, 0.14560631, 0.07790859, ..., 0.21287128,\n",
       "         0.6666667 , 1.        ]],\n",
       "\n",
       "       [[0.11788821, 0.27359146, 0.18628809, ..., 0.21287128,\n",
       "         0.6666667 , 0.9130435 ],\n",
       "        [0.10038996, 0.17458846, 0.10630194, ..., 0.21287128,\n",
       "         0.6666667 , 0.95652175],\n",
       "        [0.09369063, 0.14560631, 0.07790859, ..., 0.21287128,\n",
       "         0.6666667 , 1.        ],\n",
       "        [0.08209179, 0.12821701, 0.05401662, ..., 0.22029702,\n",
       "         0.6666667 , 0.        ]],\n",
       "\n",
       "       [[0.10038996, 0.17458846, 0.10630194, ..., 0.21287128,\n",
       "         0.6666667 , 0.95652175],\n",
       "        [0.09369063, 0.14560631, 0.07790859, ..., 0.21287128,\n",
       "         0.6666667 , 1.        ],\n",
       "        [0.08209179, 0.12821701, 0.05401662, ..., 0.22029702,\n",
       "         0.6666667 , 0.        ],\n",
       "        [0.05859414, 0.05726872, 0.02389197, ..., 0.22029702,\n",
       "         0.6666667 , 0.04347826]],\n",
       "\n",
       "       ...,\n",
       "\n",
       "       [[0.10228977, 0.25643402, 0.16274238, ..., 0.31683168,\n",
       "         0.6666667 , 0.9130435 ],\n",
       "        [0.0779922 , 0.15511245, 0.09833795, ..., 0.31683168,\n",
       "         0.6666667 , 0.95652175],\n",
       "        [0.0669933 , 0.0936703 , 0.05886427, ..., 0.31683168,\n",
       "         0.6666667 , 1.        ],\n",
       "        [0.0449955 , 0.06468815, 0.04778393, ..., 0.3019802 ,\n",
       "         0.6666667 , 0.        ]],\n",
       "\n",
       "       [[0.0779922 , 0.15511245, 0.09833795, ..., 0.31683168,\n",
       "         0.6666667 , 0.95652175],\n",
       "        [0.0669933 , 0.0936703 , 0.05886427, ..., 0.31683168,\n",
       "         0.6666667 , 1.        ],\n",
       "        [0.0449955 , 0.06468815, 0.04778393, ..., 0.3019802 ,\n",
       "         0.6666667 , 0.        ],\n",
       "        [0.02949705, 0.02527243, 0.01627424, ..., 0.3019802 ,\n",
       "         0.6666667 , 0.04347826]],\n",
       "\n",
       "       [[0.0669933 , 0.0936703 , 0.05886427, ..., 0.31683168,\n",
       "         0.6666667 , 1.        ],\n",
       "        [0.0449955 , 0.06468815, 0.04778393, ..., 0.3019802 ,\n",
       "         0.6666667 , 0.        ],\n",
       "        [0.02949705, 0.02527243, 0.01627424, ..., 0.3019802 ,\n",
       "         0.6666667 , 0.04347826],\n",
       "        [0.02079792, 0.01692557, 0.01073407, ..., 0.3019802 ,\n",
       "         0.6666667 , 0.08695652]]], dtype=float32)"
      ]
     },
     "execution_count": 35,
     "metadata": {},
     "output_type": "execute_result"
    }
   ],
   "source": [
    "np.random.seed(23)\n",
    "rand = np.random.randint(0, 3000)\n",
    "rand\n",
    "\n",
    "# rand = randint(0, 30000, ran=1234)\n",
    "# rand\n",
    "X[rand:rand+100]"
   ]
  },
  {
   "cell_type": "code",
   "execution_count": 36,
   "id": "9dda491d",
   "metadata": {},
   "outputs": [
    {
     "name": "stdout",
     "output_type": "stream",
     "text": [
      "4/4 [==============================] - 0s 12ms/step\n"
     ]
    },
    {
     "data": {
      "image/png": "[encoded data removed]",
      "text/plain": [
       "<Figure size 640x480 with 1 Axes>"
      ]
     },
     "metadata": {},
     "output_type": "display_data"
    }
   ],
   "source": [
    "plt.plot(flatten(y[rand:rand+100]), label = \"Actual values\")\n",
    "plt.plot(flatten(model_with_attention.predict(X[rand:rand+100])), label = \"Predicted values\")\n",
    "plt.legend()\n",
    "plt.ylabel('Hourly traffic flow')\n",
    "plt.show()"
   ]
  },
  {
   "cell_type": "code",
   "execution_count": 37,
   "id": "7f389e46",
   "metadata": {},
   "outputs": [
    {
     "name": "stdout",
     "output_type": "stream",
     "text": [
      "137.45833609863433\n"
     ]
    }
   ],
   "source": [
    "def rmse(predictions, targets):\n",
    "    \"\"\"\n",
    "    Calculates the Root Mean Square Error (RMSE) between predicted values and actual targets.\n",
    "\n",
    "    Args:\n",
    "        predictions (numpy.ndarray): Predicted values.\n",
    "        targets (numpy.ndarray): Actual target values.\n",
    "\n",
    "    Returns:\n",
    "        float: RMSE value.\n",
    "    \"\"\"\n",
    "    return np.sqrt(((predictions - targets) ** 2).mean())\n",
    "\n",
    "RMSE = rmse(np.array(flatten(pred)),np.array(flatten(y_test)))\n",
    "print(RMSE)"
   ]
  },
  {
   "cell_type": "code",
   "execution_count": 38,
   "id": "d7165438-ca40-44b0-ada6-d9202c7d8948",
   "metadata": {},
   "outputs": [
    {
     "name": "stdout",
     "output_type": "stream",
     "text": [
      "MAE:  71.44148950800897\n",
      "RMSE:  137.45833609863433\n",
      "Accuracy:  0.8760506231282001\n",
      "confusion matrix:\n",
      "  [[1239  300    0]\n",
      " [ 112 6819  270]\n",
      " [   0  601 1010]]\n"
     ]
    }
   ],
   "source": [
    "print(\"MAE: \", MAE)\n",
    "print(\"RMSE: \", RMSE)\n",
    "print(\"Accuracy: \", accuracy_score(ytest2,pred2))\n",
    "\n",
    "print(\"confusion matrix:\\n \", confusion_matrix(ytest2,pred2))"
   ]
  },
  {
   "cell_type": "code",
   "execution_count": null,
   "id": "956bdf0d",
   "metadata": {},
   "outputs": [],
   "source": []
  }
 ],
 "metadata": {
  "kernelspec": {
   "display_name": "Python 3 (ipykernel)",
   "language": "python",
   "name": "python3"
  },
  "language_info": {
   "codemirror_mode": {
    "name": "ipython",
    "version": 3
   },
   "file_extension": ".py",
   "mimetype": "text/x-python",
   "name": "python",
   "nbconvert_exporter": "python",
   "pygments_lexer": "ipython3",
   "version": "3.11.7"
  }
 },
 "nbformat": 4,
 "nbformat_minor": 5
}
