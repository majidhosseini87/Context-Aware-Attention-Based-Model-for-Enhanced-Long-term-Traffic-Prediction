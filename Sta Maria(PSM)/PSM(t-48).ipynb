{
 "cells": [
  {
   "cell_type": "markdown",
   "id": "c69cb93b",
   "metadata": {},
   "source": [
    "### Import required libraries"
   ]
  },
  {
   "cell_type": "code",
   "execution_count": 1,
   "id": "0c2d189d-98be-4cd2-8b9e-3f6708ebb27c",
   "metadata": {},
   "outputs": [],
   "source": [
    "import tensorflow as tf\n",
    "\n",
    "# print(\"Num GPUs Available: \", tf.config.list_physical_devices('GPU'))"
   ]
  },
  {
   "cell_type": "code",
   "execution_count": 2,
   "id": "52cf218c",
   "metadata": {},
   "outputs": [
    {
     "name": "stdout",
     "output_type": "stream",
     "text": [
      "Requirement already satisfied: netron in c:\\users\\majid\\anaconda3\\lib\\site-packages (7.7.0)\n"
     ]
    }
   ],
   "source": [
    "import pandas as pd\n",
    "import numpy as np\n",
    "import matplotlib.pyplot as plt \n",
    "from numpy import array\n",
    "from tensorflow.keras.models import Sequential, Model\n",
    "from tensorflow.keras.layers import LSTM, GRU\n",
    "from tensorflow.keras.layers import Bidirectional\n",
    "from tensorflow.keras.layers import Dense, Input\n",
    "from tensorflow.keras.layers import Flatten\n",
    "from tensorflow.keras.layers import TimeDistributed\n",
    "from tensorflow.keras.layers import Dropout, Softmax\n",
    "from tensorflow.keras.layers import Conv1D\n",
    "from tensorflow.keras.layers import MaxPooling1D, AveragePooling1D\n",
    "from sklearn.preprocessing import LabelEncoder\n",
    "from sklearn.preprocessing import MinMaxScaler\n",
    "from numpy import array\n",
    "from sklearn.model_selection import train_test_split\n",
    "from sklearn.metrics import mean_absolute_error as MAE\n",
    "# from sklearn.metrics import root_mean_squared_error as RMSE\n",
    "import random\n",
    "from sklearn.metrics import accuracy_score\n",
    "from sklearn.metrics import confusion_matrix\n",
    "!pip install netron\n",
    "import netron\n",
    "from random import randint"
   ]
  },
  {
   "cell_type": "markdown",
   "id": "6dbc9dff",
   "metadata": {},
   "source": [
    "First of all, we define this function which split a given sequence into multiple samples where each sample has a specified number of time steps and a specifieded number of outputs."
   ]
  },
  {
   "cell_type": "code",
   "execution_count": 3,
   "id": "fd8cb216",
   "metadata": {},
   "outputs": [],
   "source": [
    "def split_sequences(sequences, n_steps_in, n_steps_out):\n",
    "\tX, y = list(), list()\n",
    "\tfor i in range(len(sequences)):\n",
    "\t\t# find the end of this pattern\n",
    "\t\tend_ix = i + n_steps_in\n",
    "\t\tout_end_ix = end_ix + n_steps_out-1\n",
    "\t\t# check if we are beyond the dataset\n",
    "\t\tif out_end_ix > len(sequences):\n",
    "\t\t\tbreak\n",
    "\t\t# gather input and output parts of the pattern\n",
    "\t\tseq_x, seq_y = sequences[i:end_ix, :-1], sequences[end_ix-1:out_end_ix, -1]\n",
    "\t\tX.append(seq_x)\n",
    "\t\ty.append(seq_y)\n",
    "\treturn array(X), array(y)"
   ]
  },
  {
   "cell_type": "markdown",
   "id": "d52b9133",
   "metadata": {},
   "source": [
    "## Data preprocessing"
   ]
  },
  {
   "cell_type": "markdown",
   "id": "8795a8c9",
   "metadata": {},
   "source": [
    "We import data and remove the index. "
   ]
  },
  {
   "cell_type": "code",
   "execution_count": 4,
   "id": "16b38763",
   "metadata": {},
   "outputs": [
    {
     "name": "stdout",
     "output_type": "stream",
     "text": [
      "       var1(t-48)  var2(t-48)  var3(t-48)  var4(t-48)  var5(t-48)  var6(t-48)  \\\n",
      "0            91.0      1937.0       794.0        76.0         0.0        36.0   \n",
      "1           109.0      1507.0       568.0        76.0         0.0        36.0   \n",
      "2            92.0       758.0       199.0        76.0         0.0        36.0   \n",
      "3            98.0       549.0       146.0        76.0         0.0        36.0   \n",
      "4           118.0       467.0       107.0        76.0         0.0        36.0   \n",
      "...           ...         ...         ...         ...         ...         ...   \n",
      "31338      2623.0      1999.0       629.0       288.0         0.0       220.0   \n",
      "31339      2572.0      2044.0       664.0       288.0         0.0       220.0   \n",
      "31340      2365.0      2062.0       573.0       288.0         0.0       220.0   \n",
      "31341      1933.0      1530.0       416.0       288.0         0.0       220.0   \n",
      "31342      1438.0      1244.0       274.0       288.0         0.0       220.0   \n",
      "\n",
      "       var7(t-48) var8(t-48)  obj  \n",
      "0           116.0    festivo   41  \n",
      "1           116.0    festivo   32  \n",
      "2           116.0    festivo   29  \n",
      "3           116.0    festivo   28  \n",
      "4           116.0    festivo  121  \n",
      "...           ...        ...  ...  \n",
      "31338       357.0  laborable  256  \n",
      "31339       357.0  laborable  270  \n",
      "31340       357.0  laborable  281  \n",
      "31341       357.0  laborable  209  \n",
      "31342       357.0  laborable  142  \n",
      "\n",
      "[31343 rows x 9 columns]\n",
      "0        2018-01-03 01:00:00\n",
      "1        2018-01-03 02:00:00\n",
      "2        2018-01-03 03:00:00\n",
      "3        2018-01-03 04:00:00\n",
      "4        2018-01-03 05:00:00\n",
      "                ...         \n",
      "31338    2021-07-31 19:00:00\n",
      "31339    2021-07-31 20:00:00\n",
      "31340    2021-07-31 21:00:00\n",
      "31341    2021-07-31 22:00:00\n",
      "31342    2021-07-31 23:00:00\n",
      "Name: clave, Length: 31343, dtype: object\n"
     ]
    }
   ],
   "source": [
    "data=pd.read_csv('../../Datasets/PSM(t-48).csv')\n",
    "index = data['clave']\n",
    "data=data.drop(['clave'], axis=1)\n",
    "print(data)\n",
    "print(index)"
   ]
  },
  {
   "cell_type": "markdown",
   "id": "38adc20a",
   "metadata": {},
   "source": [
    "We encode the categorical variable 'type of day'."
   ]
  },
  {
   "cell_type": "code",
   "execution_count": 5,
   "id": "0d72d3ae",
   "metadata": {},
   "outputs": [],
   "source": [
    "encoder = LabelEncoder()\n",
    "data[data.columns[7]] = encoder.fit_transform(data[data.columns[7]])\n"
   ]
  },
  {
   "cell_type": "markdown",
   "id": "0a148c96",
   "metadata": {},
   "source": [
    "We add the variable 'hour'. "
   ]
  },
  {
   "cell_type": "code",
   "execution_count": 6,
   "id": "add8bd5d",
   "metadata": {},
   "outputs": [
    {
     "data": {
      "text/html": [
       "<div>\n",
       "<style scoped>\n",
       "    .dataframe tbody tr th:only-of-type {\n",
       "        vertical-align: middle;\n",
       "    }\n",
       "\n",
       "    .dataframe tbody tr th {\n",
       "        vertical-align: top;\n",
       "    }\n",
       "\n",
       "    .dataframe thead th {\n",
       "        text-align: right;\n",
       "    }\n",
       "</style>\n",
       "<table border=\"1\" class=\"dataframe\">\n",
       "  <thead>\n",
       "    <tr style=\"text-align: right;\">\n",
       "      <th></th>\n",
       "      <th>var1(t-48)</th>\n",
       "      <th>var2(t-48)</th>\n",
       "      <th>var3(t-48)</th>\n",
       "      <th>var4(t-48)</th>\n",
       "      <th>var5(t-48)</th>\n",
       "      <th>var6(t-48)</th>\n",
       "      <th>var7(t-48)</th>\n",
       "      <th>var8(t-48)</th>\n",
       "      <th>hour</th>\n",
       "      <th>obj</th>\n",
       "    </tr>\n",
       "  </thead>\n",
       "  <tbody>\n",
       "    <tr>\n",
       "      <th>0</th>\n",
       "      <td>91.0</td>\n",
       "      <td>1937.0</td>\n",
       "      <td>794.0</td>\n",
       "      <td>76.0</td>\n",
       "      <td>0.0</td>\n",
       "      <td>36.0</td>\n",
       "      <td>116.0</td>\n",
       "      <td>1</td>\n",
       "      <td>1</td>\n",
       "      <td>41</td>\n",
       "    </tr>\n",
       "    <tr>\n",
       "      <th>1</th>\n",
       "      <td>109.0</td>\n",
       "      <td>1507.0</td>\n",
       "      <td>568.0</td>\n",
       "      <td>76.0</td>\n",
       "      <td>0.0</td>\n",
       "      <td>36.0</td>\n",
       "      <td>116.0</td>\n",
       "      <td>1</td>\n",
       "      <td>2</td>\n",
       "      <td>32</td>\n",
       "    </tr>\n",
       "    <tr>\n",
       "      <th>2</th>\n",
       "      <td>92.0</td>\n",
       "      <td>758.0</td>\n",
       "      <td>199.0</td>\n",
       "      <td>76.0</td>\n",
       "      <td>0.0</td>\n",
       "      <td>36.0</td>\n",
       "      <td>116.0</td>\n",
       "      <td>1</td>\n",
       "      <td>3</td>\n",
       "      <td>29</td>\n",
       "    </tr>\n",
       "    <tr>\n",
       "      <th>3</th>\n",
       "      <td>98.0</td>\n",
       "      <td>549.0</td>\n",
       "      <td>146.0</td>\n",
       "      <td>76.0</td>\n",
       "      <td>0.0</td>\n",
       "      <td>36.0</td>\n",
       "      <td>116.0</td>\n",
       "      <td>1</td>\n",
       "      <td>4</td>\n",
       "      <td>28</td>\n",
       "    </tr>\n",
       "    <tr>\n",
       "      <th>4</th>\n",
       "      <td>118.0</td>\n",
       "      <td>467.0</td>\n",
       "      <td>107.0</td>\n",
       "      <td>76.0</td>\n",
       "      <td>0.0</td>\n",
       "      <td>36.0</td>\n",
       "      <td>116.0</td>\n",
       "      <td>1</td>\n",
       "      <td>5</td>\n",
       "      <td>121</td>\n",
       "    </tr>\n",
       "    <tr>\n",
       "      <th>...</th>\n",
       "      <td>...</td>\n",
       "      <td>...</td>\n",
       "      <td>...</td>\n",
       "      <td>...</td>\n",
       "      <td>...</td>\n",
       "      <td>...</td>\n",
       "      <td>...</td>\n",
       "      <td>...</td>\n",
       "      <td>...</td>\n",
       "      <td>...</td>\n",
       "    </tr>\n",
       "    <tr>\n",
       "      <th>31338</th>\n",
       "      <td>2623.0</td>\n",
       "      <td>1999.0</td>\n",
       "      <td>629.0</td>\n",
       "      <td>288.0</td>\n",
       "      <td>0.0</td>\n",
       "      <td>220.0</td>\n",
       "      <td>357.0</td>\n",
       "      <td>2</td>\n",
       "      <td>19</td>\n",
       "      <td>256</td>\n",
       "    </tr>\n",
       "    <tr>\n",
       "      <th>31339</th>\n",
       "      <td>2572.0</td>\n",
       "      <td>2044.0</td>\n",
       "      <td>664.0</td>\n",
       "      <td>288.0</td>\n",
       "      <td>0.0</td>\n",
       "      <td>220.0</td>\n",
       "      <td>357.0</td>\n",
       "      <td>2</td>\n",
       "      <td>20</td>\n",
       "      <td>270</td>\n",
       "    </tr>\n",
       "    <tr>\n",
       "      <th>31340</th>\n",
       "      <td>2365.0</td>\n",
       "      <td>2062.0</td>\n",
       "      <td>573.0</td>\n",
       "      <td>288.0</td>\n",
       "      <td>0.0</td>\n",
       "      <td>220.0</td>\n",
       "      <td>357.0</td>\n",
       "      <td>2</td>\n",
       "      <td>21</td>\n",
       "      <td>281</td>\n",
       "    </tr>\n",
       "    <tr>\n",
       "      <th>31341</th>\n",
       "      <td>1933.0</td>\n",
       "      <td>1530.0</td>\n",
       "      <td>416.0</td>\n",
       "      <td>288.0</td>\n",
       "      <td>0.0</td>\n",
       "      <td>220.0</td>\n",
       "      <td>357.0</td>\n",
       "      <td>2</td>\n",
       "      <td>22</td>\n",
       "      <td>209</td>\n",
       "    </tr>\n",
       "    <tr>\n",
       "      <th>31342</th>\n",
       "      <td>1438.0</td>\n",
       "      <td>1244.0</td>\n",
       "      <td>274.0</td>\n",
       "      <td>288.0</td>\n",
       "      <td>0.0</td>\n",
       "      <td>220.0</td>\n",
       "      <td>357.0</td>\n",
       "      <td>2</td>\n",
       "      <td>23</td>\n",
       "      <td>142</td>\n",
       "    </tr>\n",
       "  </tbody>\n",
       "</table>\n",
       "<p>31343 rows × 10 columns</p>\n",
       "</div>"
      ],
      "text/plain": [
       "       var1(t-48)  var2(t-48)  var3(t-48)  var4(t-48)  var5(t-48)  var6(t-48)  \\\n",
       "0            91.0      1937.0       794.0        76.0         0.0        36.0   \n",
       "1           109.0      1507.0       568.0        76.0         0.0        36.0   \n",
       "2            92.0       758.0       199.0        76.0         0.0        36.0   \n",
       "3            98.0       549.0       146.0        76.0         0.0        36.0   \n",
       "4           118.0       467.0       107.0        76.0         0.0        36.0   \n",
       "...           ...         ...         ...         ...         ...         ...   \n",
       "31338      2623.0      1999.0       629.0       288.0         0.0       220.0   \n",
       "31339      2572.0      2044.0       664.0       288.0         0.0       220.0   \n",
       "31340      2365.0      2062.0       573.0       288.0         0.0       220.0   \n",
       "31341      1933.0      1530.0       416.0       288.0         0.0       220.0   \n",
       "31342      1438.0      1244.0       274.0       288.0         0.0       220.0   \n",
       "\n",
       "       var7(t-48)  var8(t-48)  hour  obj  \n",
       "0           116.0           1     1   41  \n",
       "1           116.0           1     2   32  \n",
       "2           116.0           1     3   29  \n",
       "3           116.0           1     4   28  \n",
       "4           116.0           1     5  121  \n",
       "...           ...         ...   ...  ...  \n",
       "31338       357.0           2    19  256  \n",
       "31339       357.0           2    20  270  \n",
       "31340       357.0           2    21  281  \n",
       "31341       357.0           2    22  209  \n",
       "31342       357.0           2    23  142  \n",
       "\n",
       "[31343 rows x 10 columns]"
      ]
     },
     "execution_count": 6,
     "metadata": {},
     "output_type": "execute_result"
    }
   ],
   "source": [
    "a1=list(range(1,24))\n",
    "a2=list(range(0,24))*1304\n",
    "a3=list(range(0,24))\n",
    "a4=a1+a2+a3\n",
    "data['hour'] = a4\n",
    "data = data.reindex(columns=[data.columns[0],data.columns[1],data.columns[2],data.columns[3],data.columns[4],\n",
    "                             data.columns[5],data.columns[6],data.columns[7],'hour','obj'])\n",
    "data"
   ]
  },
  {
   "cell_type": "markdown",
   "id": "954e93b9",
   "metadata": {},
   "source": [
    "We normalise all input variables. "
   ]
  },
  {
   "cell_type": "code",
   "execution_count": 7,
   "id": "65f8df7e",
   "metadata": {},
   "outputs": [],
   "source": [
    "scaler = MinMaxScaler(feature_range=(0, 1))\n",
    "data[data.columns.difference(['obj'])] = scaler.fit_transform(data[data.columns.difference(['obj'])])"
   ]
  },
  {
   "cell_type": "markdown",
   "id": "9363230c",
   "metadata": {},
   "source": [
    "We apply the previously defined function. We split the original sequence data. Each sample has six time steps as predictor variables (from timestep t-15 to timestep t-12) and one target variable (timestep t). "
   ]
  },
  {
   "cell_type": "code",
   "execution_count": 8,
   "id": "6f6e2681",
   "metadata": {},
   "outputs": [
    {
     "name": "stdout",
     "output_type": "stream",
     "text": [
      "(31340, 4, 9)\n",
      "(31340, 1)\n"
     ]
    }
   ],
   "source": [
    "data1=data.values\n",
    "X, y = split_sequences(data1,4,1)\n",
    "print(X.shape)\n",
    "print(y.shape)"
   ]
  },
  {
   "cell_type": "markdown",
   "id": "c5bae631",
   "metadata": {},
   "source": [
    "## Data analyse"
   ]
  },
  {
   "cell_type": "markdown",
   "id": "1bd47ac5",
   "metadata": {},
   "source": [
    "We make a simple statistical analysis of the target variable. "
   ]
  },
  {
   "cell_type": "code",
   "execution_count": 9,
   "id": "13c6a1fb",
   "metadata": {},
   "outputs": [
    {
     "data": {
      "text/plain": [
       "count    31343.000000\n",
       "mean       437.240819\n",
       "std        325.351455\n",
       "min          0.000000\n",
       "25%        130.000000\n",
       "50%        388.000000\n",
       "75%        705.000000\n",
       "max       3762.000000\n",
       "Name: obj, dtype: float64"
      ]
     },
     "execution_count": 9,
     "metadata": {},
     "output_type": "execute_result"
    }
   ],
   "source": [
    "dataplot = data\n",
    "dataplot['obj'].describe()"
   ]
  },
  {
   "cell_type": "markdown",
   "id": "caff81d0",
   "metadata": {},
   "source": [
    "We plot linechart of the evolution of traffic flow in the first week of 2018 (first available data). "
   ]
  },
  {
   "cell_type": "code",
   "execution_count": 10,
   "id": "778710c6",
   "metadata": {},
   "outputs": [
    {
     "data": {
      "image/png": "[encoded data removed]",
      "text/plain": [
       "<Figure size 640x480 with 1 Axes>"
      ]
     },
     "metadata": {},
     "output_type": "display_data"
    }
   ],
   "source": [
    "plt.plot(list(dataplot['obj'][0:24*7]),\n",
    "        label=index, linewidth=3)\n",
    "plt.title('First week of 2018. Arturo Soria Station')\n",
    "plt.ylabel('Hourly traffic flow')\n",
    "plt.show()"
   ]
  },
  {
   "cell_type": "markdown",
   "id": "4458ab4e",
   "metadata": {},
   "source": [
    "## Model development. "
   ]
  },
  {
   "cell_type": "markdown",
   "id": "08723d86",
   "metadata": {},
   "source": [
    "We reshape our data to have the structure required by the neural network. "
   ]
  },
  {
   "cell_type": "code",
   "execution_count": 11,
   "id": "420d1847",
   "metadata": {},
   "outputs": [],
   "source": [
    "X = X.reshape((X.shape[0], X.shape[1], X.shape[2])).astype('float32')\n"
   ]
  },
  {
   "cell_type": "markdown",
   "id": "ad0849d0",
   "metadata": {},
   "source": [
    "We divide randomly our data in the train and test sets. "
   ]
  },
  {
   "cell_type": "code",
   "execution_count": 12,
   "id": "eb984b95",
   "metadata": {},
   "outputs": [],
   "source": [
    "X_train, X_test, y_train, y_test = train_test_split(\n",
    "X, y, test_size=0.33, random_state=42)"
   ]
  },
  {
   "cell_type": "markdown",
   "id": "95522ffc",
   "metadata": {},
   "source": [
    "We develop our model by using keras and tensorflow. First, we apply a convolutional neural network with 256 kernels which is followed by a max pooling. Then, we flatten data. \n",
    "\n",
    "Subsequently, we use the flatten data as input in the Bidirectional long short term memory network, with 500 units. It is followed by a dropout layer and, finally, we apply a dense layer to obtain the required prediction. "
   ]
  },
  {
   "cell_type": "code",
   "execution_count": 13,
   "id": "f0a6e714",
   "metadata": {},
   "outputs": [
    {
     "data": {
      "text/html": [
       "<pre style=\"white-space:pre;overflow-x:auto;line-height:normal;font-family:Menlo,'DejaVu Sans Mono',consolas,'Courier New',monospace\"><span style=\"font-weight: bold\">Model: \"functional_1\"</span>\n",
       "</pre>\n"
      ],
      "text/plain": [
       "\u001b[1mModel: \"functional_1\"\u001b[0m\n"
      ]
     },
     "metadata": {},
     "output_type": "display_data"
    },
    {
     "data": {
      "text/html": [
       "<pre style=\"white-space:pre;overflow-x:auto;line-height:normal;font-family:Menlo,'DejaVu Sans Mono',consolas,'Courier New',monospace\">┏━━━━━━━━━━━━━━━━━━━━━━━━━━━━━━━┳━━━━━━━━━━━━━━━━━━━━━━━━━━━┳━━━━━━━━━━━━━━━━━┳━━━━━━━━━━━━━━━━━━━━━━━━━━━━┓\n",
       "┃<span style=\"font-weight: bold\"> Layer (type)                  </span>┃<span style=\"font-weight: bold\"> Output Shape              </span>┃<span style=\"font-weight: bold\">         Param # </span>┃<span style=\"font-weight: bold\"> Connected to               </span>┃\n",
       "┡━━━━━━━━━━━━━━━━━━━━━━━━━━━━━━━╇━━━━━━━━━━━━━━━━━━━━━━━━━━━╇━━━━━━━━━━━━━━━━━╇━━━━━━━━━━━━━━━━━━━━━━━━━━━━┩\n",
       "│ input_layer (<span style=\"color: #0087ff; text-decoration-color: #0087ff\">InputLayer</span>)      │ (<span style=\"color: #00d7ff; text-decoration-color: #00d7ff\">None</span>, <span style=\"color: #00af00; text-decoration-color: #00af00\">4</span>, <span style=\"color: #00af00; text-decoration-color: #00af00\">9</span>, <span style=\"color: #00af00; text-decoration-color: #00af00\">1</span>)           │               <span style=\"color: #00af00; text-decoration-color: #00af00\">0</span> │ -                          │\n",
       "├───────────────────────────────┼───────────────────────────┼─────────────────┼────────────────────────────┤\n",
       "│ time_distributed              │ (<span style=\"color: #00d7ff; text-decoration-color: #00d7ff\">None</span>, <span style=\"color: #00af00; text-decoration-color: #00af00\">4</span>, <span style=\"color: #00af00; text-decoration-color: #00af00\">8</span>, <span style=\"color: #00af00; text-decoration-color: #00af00\">256</span>)         │             <span style=\"color: #00af00; text-decoration-color: #00af00\">768</span> │ input_layer[<span style=\"color: #00af00; text-decoration-color: #00af00\">0</span>][<span style=\"color: #00af00; text-decoration-color: #00af00\">0</span>]          │\n",
       "│ (<span style=\"color: #0087ff; text-decoration-color: #0087ff\">TimeDistributed</span>)             │                           │                 │                            │\n",
       "├───────────────────────────────┼───────────────────────────┼─────────────────┼────────────────────────────┤\n",
       "│ time_distributed_1            │ (<span style=\"color: #00d7ff; text-decoration-color: #00d7ff\">None</span>, <span style=\"color: #00af00; text-decoration-color: #00af00\">4</span>, <span style=\"color: #00af00; text-decoration-color: #00af00\">4</span>, <span style=\"color: #00af00; text-decoration-color: #00af00\">256</span>)         │               <span style=\"color: #00af00; text-decoration-color: #00af00\">0</span> │ time_distributed[<span style=\"color: #00af00; text-decoration-color: #00af00\">0</span>][<span style=\"color: #00af00; text-decoration-color: #00af00\">0</span>]     │\n",
       "│ (<span style=\"color: #0087ff; text-decoration-color: #0087ff\">TimeDistributed</span>)             │                           │                 │                            │\n",
       "├───────────────────────────────┼───────────────────────────┼─────────────────┼────────────────────────────┤\n",
       "│ time_distributed_2            │ (<span style=\"color: #00d7ff; text-decoration-color: #00d7ff\">None</span>, <span style=\"color: #00af00; text-decoration-color: #00af00\">4</span>, <span style=\"color: #00af00; text-decoration-color: #00af00\">1024</span>)           │               <span style=\"color: #00af00; text-decoration-color: #00af00\">0</span> │ time_distributed_1[<span style=\"color: #00af00; text-decoration-color: #00af00\">0</span>][<span style=\"color: #00af00; text-decoration-color: #00af00\">0</span>]   │\n",
       "│ (<span style=\"color: #0087ff; text-decoration-color: #0087ff\">TimeDistributed</span>)             │                           │                 │                            │\n",
       "├───────────────────────────────┼───────────────────────────┼─────────────────┼────────────────────────────┤\n",
       "│ gru (<span style=\"color: #0087ff; text-decoration-color: #0087ff\">GRU</span>)                     │ (<span style=\"color: #00d7ff; text-decoration-color: #00d7ff\">None</span>, <span style=\"color: #00af00; text-decoration-color: #00af00\">4</span>, <span style=\"color: #00af00; text-decoration-color: #00af00\">500</span>)            │       <span style=\"color: #00af00; text-decoration-color: #00af00\">2,289,000</span> │ time_distributed_2[<span style=\"color: #00af00; text-decoration-color: #00af00\">0</span>][<span style=\"color: #00af00; text-decoration-color: #00af00\">0</span>]   │\n",
       "├───────────────────────────────┼───────────────────────────┼─────────────────┼────────────────────────────┤\n",
       "│ dense (<span style=\"color: #0087ff; text-decoration-color: #0087ff\">Dense</span>)                 │ (<span style=\"color: #00d7ff; text-decoration-color: #00d7ff\">None</span>, <span style=\"color: #00af00; text-decoration-color: #00af00\">4</span>, <span style=\"color: #00af00; text-decoration-color: #00af00\">1000</span>)           │         <span style=\"color: #00af00; text-decoration-color: #00af00\">501,000</span> │ gru[<span style=\"color: #00af00; text-decoration-color: #00af00\">0</span>][<span style=\"color: #00af00; text-decoration-color: #00af00\">0</span>]                  │\n",
       "├───────────────────────────────┼───────────────────────────┼─────────────────┼────────────────────────────┤\n",
       "│ dense_1 (<span style=\"color: #0087ff; text-decoration-color: #0087ff\">Dense</span>)               │ (<span style=\"color: #00d7ff; text-decoration-color: #00d7ff\">None</span>, <span style=\"color: #00af00; text-decoration-color: #00af00\">4</span>, <span style=\"color: #00af00; text-decoration-color: #00af00\">1000</span>)           │       <span style=\"color: #00af00; text-decoration-color: #00af00\">1,001,000</span> │ dense[<span style=\"color: #00af00; text-decoration-color: #00af00\">0</span>][<span style=\"color: #00af00; text-decoration-color: #00af00\">0</span>]                │\n",
       "├───────────────────────────────┼───────────────────────────┼─────────────────┼────────────────────────────┤\n",
       "│ softmax (<span style=\"color: #0087ff; text-decoration-color: #0087ff\">Softmax</span>)             │ (<span style=\"color: #00d7ff; text-decoration-color: #00d7ff\">None</span>, <span style=\"color: #00af00; text-decoration-color: #00af00\">4</span>, <span style=\"color: #00af00; text-decoration-color: #00af00\">1000</span>)           │               <span style=\"color: #00af00; text-decoration-color: #00af00\">0</span> │ dense_1[<span style=\"color: #00af00; text-decoration-color: #00af00\">0</span>][<span style=\"color: #00af00; text-decoration-color: #00af00\">0</span>]              │\n",
       "├───────────────────────────────┼───────────────────────────┼─────────────────┼────────────────────────────┤\n",
       "│ multiply (<span style=\"color: #0087ff; text-decoration-color: #0087ff\">Multiply</span>)           │ (<span style=\"color: #00d7ff; text-decoration-color: #00d7ff\">None</span>, <span style=\"color: #00af00; text-decoration-color: #00af00\">4</span>, <span style=\"color: #00af00; text-decoration-color: #00af00\">1000</span>)           │               <span style=\"color: #00af00; text-decoration-color: #00af00\">0</span> │ dense_1[<span style=\"color: #00af00; text-decoration-color: #00af00\">0</span>][<span style=\"color: #00af00; text-decoration-color: #00af00\">0</span>],             │\n",
       "│                               │                           │                 │ softmax[<span style=\"color: #00af00; text-decoration-color: #00af00\">0</span>][<span style=\"color: #00af00; text-decoration-color: #00af00\">0</span>]              │\n",
       "├───────────────────────────────┼───────────────────────────┼─────────────────┼────────────────────────────┤\n",
       "│ average_pooling1d             │ (<span style=\"color: #00d7ff; text-decoration-color: #00d7ff\">None</span>, <span style=\"color: #00af00; text-decoration-color: #00af00\">1</span>, <span style=\"color: #00af00; text-decoration-color: #00af00\">1000</span>)           │               <span style=\"color: #00af00; text-decoration-color: #00af00\">0</span> │ multiply[<span style=\"color: #00af00; text-decoration-color: #00af00\">0</span>][<span style=\"color: #00af00; text-decoration-color: #00af00\">0</span>]             │\n",
       "│ (<span style=\"color: #0087ff; text-decoration-color: #0087ff\">AveragePooling1D</span>)            │                           │                 │                            │\n",
       "├───────────────────────────────┼───────────────────────────┼─────────────────┼────────────────────────────┤\n",
       "│ reshape (<span style=\"color: #0087ff; text-decoration-color: #0087ff\">Reshape</span>)             │ (<span style=\"color: #00d7ff; text-decoration-color: #00d7ff\">None</span>, <span style=\"color: #00af00; text-decoration-color: #00af00\">1000</span>)              │               <span style=\"color: #00af00; text-decoration-color: #00af00\">0</span> │ average_pooling1d[<span style=\"color: #00af00; text-decoration-color: #00af00\">0</span>][<span style=\"color: #00af00; text-decoration-color: #00af00\">0</span>]    │\n",
       "├───────────────────────────────┼───────────────────────────┼─────────────────┼────────────────────────────┤\n",
       "│ dense_2 (<span style=\"color: #0087ff; text-decoration-color: #0087ff\">Dense</span>)               │ (<span style=\"color: #00d7ff; text-decoration-color: #00d7ff\">None</span>, <span style=\"color: #00af00; text-decoration-color: #00af00\">1</span>)                 │           <span style=\"color: #00af00; text-decoration-color: #00af00\">1,001</span> │ reshape[<span style=\"color: #00af00; text-decoration-color: #00af00\">0</span>][<span style=\"color: #00af00; text-decoration-color: #00af00\">0</span>]              │\n",
       "└───────────────────────────────┴───────────────────────────┴─────────────────┴────────────────────────────┘\n",
       "</pre>\n"
      ],
      "text/plain": [
       "┏━━━━━━━━━━━━━━━━━━━━━━━━━━━━━━━┳━━━━━━━━━━━━━━━━━━━━━━━━━━━┳━━━━━━━━━━━━━━━━━┳━━━━━━━━━━━━━━━━━━━━━━━━━━━━┓\n",
       "┃\u001b[1m \u001b[0m\u001b[1mLayer (type)                 \u001b[0m\u001b[1m \u001b[0m┃\u001b[1m \u001b[0m\u001b[1mOutput Shape             \u001b[0m\u001b[1m \u001b[0m┃\u001b[1m \u001b[0m\u001b[1m        Param #\u001b[0m\u001b[1m \u001b[0m┃\u001b[1m \u001b[0m\u001b[1mConnected to              \u001b[0m\u001b[1m \u001b[0m┃\n",
       "┡━━━━━━━━━━━━━━━━━━━━━━━━━━━━━━━╇━━━━━━━━━━━━━━━━━━━━━━━━━━━╇━━━━━━━━━━━━━━━━━╇━━━━━━━━━━━━━━━━━━━━━━━━━━━━┩\n",
       "│ input_layer (\u001b[38;5;33mInputLayer\u001b[0m)      │ (\u001b[38;5;45mNone\u001b[0m, \u001b[38;5;34m4\u001b[0m, \u001b[38;5;34m9\u001b[0m, \u001b[38;5;34m1\u001b[0m)           │               \u001b[38;5;34m0\u001b[0m │ -                          │\n",
       "├───────────────────────────────┼───────────────────────────┼─────────────────┼────────────────────────────┤\n",
       "│ time_distributed              │ (\u001b[38;5;45mNone\u001b[0m, \u001b[38;5;34m4\u001b[0m, \u001b[38;5;34m8\u001b[0m, \u001b[38;5;34m256\u001b[0m)         │             \u001b[38;5;34m768\u001b[0m │ input_layer[\u001b[38;5;34m0\u001b[0m][\u001b[38;5;34m0\u001b[0m]          │\n",
       "│ (\u001b[38;5;33mTimeDistributed\u001b[0m)             │                           │                 │                            │\n",
       "├───────────────────────────────┼───────────────────────────┼─────────────────┼────────────────────────────┤\n",
       "│ time_distributed_1            │ (\u001b[38;5;45mNone\u001b[0m, \u001b[38;5;34m4\u001b[0m, \u001b[38;5;34m4\u001b[0m, \u001b[38;5;34m256\u001b[0m)         │               \u001b[38;5;34m0\u001b[0m │ time_distributed[\u001b[38;5;34m0\u001b[0m][\u001b[38;5;34m0\u001b[0m]     │\n",
       "│ (\u001b[38;5;33mTimeDistributed\u001b[0m)             │                           │                 │                            │\n",
       "├───────────────────────────────┼───────────────────────────┼─────────────────┼────────────────────────────┤\n",
       "│ time_distributed_2            │ (\u001b[38;5;45mNone\u001b[0m, \u001b[38;5;34m4\u001b[0m, \u001b[38;5;34m1024\u001b[0m)           │               \u001b[38;5;34m0\u001b[0m │ time_distributed_1[\u001b[38;5;34m0\u001b[0m][\u001b[38;5;34m0\u001b[0m]   │\n",
       "│ (\u001b[38;5;33mTimeDistributed\u001b[0m)             │                           │                 │                            │\n",
       "├───────────────────────────────┼───────────────────────────┼─────────────────┼────────────────────────────┤\n",
       "│ gru (\u001b[38;5;33mGRU\u001b[0m)                     │ (\u001b[38;5;45mNone\u001b[0m, \u001b[38;5;34m4\u001b[0m, \u001b[38;5;34m500\u001b[0m)            │       \u001b[38;5;34m2,289,000\u001b[0m │ time_distributed_2[\u001b[38;5;34m0\u001b[0m][\u001b[38;5;34m0\u001b[0m]   │\n",
       "├───────────────────────────────┼───────────────────────────┼─────────────────┼────────────────────────────┤\n",
       "│ dense (\u001b[38;5;33mDense\u001b[0m)                 │ (\u001b[38;5;45mNone\u001b[0m, \u001b[38;5;34m4\u001b[0m, \u001b[38;5;34m1000\u001b[0m)           │         \u001b[38;5;34m501,000\u001b[0m │ gru[\u001b[38;5;34m0\u001b[0m][\u001b[38;5;34m0\u001b[0m]                  │\n",
       "├───────────────────────────────┼───────────────────────────┼─────────────────┼────────────────────────────┤\n",
       "│ dense_1 (\u001b[38;5;33mDense\u001b[0m)               │ (\u001b[38;5;45mNone\u001b[0m, \u001b[38;5;34m4\u001b[0m, \u001b[38;5;34m1000\u001b[0m)           │       \u001b[38;5;34m1,001,000\u001b[0m │ dense[\u001b[38;5;34m0\u001b[0m][\u001b[38;5;34m0\u001b[0m]                │\n",
       "├───────────────────────────────┼───────────────────────────┼─────────────────┼────────────────────────────┤\n",
       "│ softmax (\u001b[38;5;33mSoftmax\u001b[0m)             │ (\u001b[38;5;45mNone\u001b[0m, \u001b[38;5;34m4\u001b[0m, \u001b[38;5;34m1000\u001b[0m)           │               \u001b[38;5;34m0\u001b[0m │ dense_1[\u001b[38;5;34m0\u001b[0m][\u001b[38;5;34m0\u001b[0m]              │\n",
       "├───────────────────────────────┼───────────────────────────┼─────────────────┼────────────────────────────┤\n",
       "│ multiply (\u001b[38;5;33mMultiply\u001b[0m)           │ (\u001b[38;5;45mNone\u001b[0m, \u001b[38;5;34m4\u001b[0m, \u001b[38;5;34m1000\u001b[0m)           │               \u001b[38;5;34m0\u001b[0m │ dense_1[\u001b[38;5;34m0\u001b[0m][\u001b[38;5;34m0\u001b[0m],             │\n",
       "│                               │                           │                 │ softmax[\u001b[38;5;34m0\u001b[0m][\u001b[38;5;34m0\u001b[0m]              │\n",
       "├───────────────────────────────┼───────────────────────────┼─────────────────┼────────────────────────────┤\n",
       "│ average_pooling1d             │ (\u001b[38;5;45mNone\u001b[0m, \u001b[38;5;34m1\u001b[0m, \u001b[38;5;34m1000\u001b[0m)           │               \u001b[38;5;34m0\u001b[0m │ multiply[\u001b[38;5;34m0\u001b[0m][\u001b[38;5;34m0\u001b[0m]             │\n",
       "│ (\u001b[38;5;33mAveragePooling1D\u001b[0m)            │                           │                 │                            │\n",
       "├───────────────────────────────┼───────────────────────────┼─────────────────┼────────────────────────────┤\n",
       "│ reshape (\u001b[38;5;33mReshape\u001b[0m)             │ (\u001b[38;5;45mNone\u001b[0m, \u001b[38;5;34m1000\u001b[0m)              │               \u001b[38;5;34m0\u001b[0m │ average_pooling1d[\u001b[38;5;34m0\u001b[0m][\u001b[38;5;34m0\u001b[0m]    │\n",
       "├───────────────────────────────┼───────────────────────────┼─────────────────┼────────────────────────────┤\n",
       "│ dense_2 (\u001b[38;5;33mDense\u001b[0m)               │ (\u001b[38;5;45mNone\u001b[0m, \u001b[38;5;34m1\u001b[0m)                 │           \u001b[38;5;34m1,001\u001b[0m │ reshape[\u001b[38;5;34m0\u001b[0m][\u001b[38;5;34m0\u001b[0m]              │\n",
       "└───────────────────────────────┴───────────────────────────┴─────────────────┴────────────────────────────┘\n"
      ]
     },
     "metadata": {},
     "output_type": "display_data"
    },
    {
     "data": {
      "text/html": [
       "<pre style=\"white-space:pre;overflow-x:auto;line-height:normal;font-family:Menlo,'DejaVu Sans Mono',consolas,'Courier New',monospace\"><span style=\"font-weight: bold\"> Total params: </span><span style=\"color: #00af00; text-decoration-color: #00af00\">3,792,769</span> (14.47 MB)\n",
       "</pre>\n"
      ],
      "text/plain": [
       "\u001b[1m Total params: \u001b[0m\u001b[38;5;34m3,792,769\u001b[0m (14.47 MB)\n"
      ]
     },
     "metadata": {},
     "output_type": "display_data"
    },
    {
     "data": {
      "text/html": [
       "<pre style=\"white-space:pre;overflow-x:auto;line-height:normal;font-family:Menlo,'DejaVu Sans Mono',consolas,'Courier New',monospace\"><span style=\"font-weight: bold\"> Trainable params: </span><span style=\"color: #00af00; text-decoration-color: #00af00\">3,792,769</span> (14.47 MB)\n",
       "</pre>\n"
      ],
      "text/plain": [
       "\u001b[1m Trainable params: \u001b[0m\u001b[38;5;34m3,792,769\u001b[0m (14.47 MB)\n"
      ]
     },
     "metadata": {},
     "output_type": "display_data"
    },
    {
     "data": {
      "text/html": [
       "<pre style=\"white-space:pre;overflow-x:auto;line-height:normal;font-family:Menlo,'DejaVu Sans Mono',consolas,'Courier New',monospace\"><span style=\"font-weight: bold\"> Non-trainable params: </span><span style=\"color: #00af00; text-decoration-color: #00af00\">0</span> (0.00 B)\n",
       "</pre>\n"
      ],
      "text/plain": [
       "\u001b[1m Non-trainable params: \u001b[0m\u001b[38;5;34m0\u001b[0m (0.00 B)\n"
      ]
     },
     "metadata": {},
     "output_type": "display_data"
    }
   ],
   "source": [
    "# Define your input shape\n",
    "input_shape = (4, 9, 1)\n",
    "\n",
    "# Create the input layer\n",
    "input_layer = Input(shape=input_shape)\n",
    "\n",
    "# Apply Conv1D with soft attention\n",
    "conv_layer = TimeDistributed(Conv1D(filters=256, kernel_size=2, activation='relu'))(input_layer)\n",
    "\n",
    "# Apply MaxPooling1D\n",
    "pooling_layer = TimeDistributed(MaxPooling1D(pool_size=2, padding='same'))(conv_layer)\n",
    "\n",
    "# Flatten the output\n",
    "flatten_layer = TimeDistributed(Flatten())(pooling_layer)\n",
    "\n",
    "# Bidirectional GRU layer\n",
    "gru_layer = GRU(500, activation='relu', return_sequences=True)(flatten_layer)\n",
    "\n",
    "# dropout_layer = Dropout(0.5)(gru_layer)\n",
    "# Dense layers\n",
    "denselayer1 = Dense(1000)(gru_layer)\n",
    "denselayer2 = Dense(1000)(denselayer1)\n",
    "\n",
    "# Apply soft attention mechanism\n",
    "attention_weights = Softmax(axis=1)(denselayer2)\n",
    "attended_output = denselayer2 * attention_weights\n",
    "\n",
    "# Apply AveragePooling1D\n",
    "pooled_output = AveragePooling1D(pool_size=4)(attended_output)\n",
    "\n",
    "# Reshape the pooled tensor to (None, 1000)\n",
    "reshaped_output = tf.keras.layers.Reshape(target_shape=(1000,))(pooled_output)\n",
    "\n",
    "# Output layer\n",
    "output_layer = Dense(1)(reshaped_output)\n",
    "\n",
    "# Compile the model\n",
    "model_with_attention = tf.keras.Model(inputs=input_layer, outputs=output_layer)\n",
    "model_with_attention.compile(optimizer='adam', loss='mae')\n",
    "\n",
    "# Summary of the modified model\n",
    "model_with_attention.summary()\n",
    "\n"
   ]
  },
  {
   "cell_type": "code",
   "execution_count": 14,
   "id": "bd867a10-8bc8-466d-9be2-e34a7de2f5cd",
   "metadata": {},
   "outputs": [],
   "source": [
    "# model3.summary()"
   ]
  },
  {
   "cell_type": "code",
   "execution_count": 15,
   "id": "7c4c19ab-196e-4345-a7fb-8fe6d1431c70",
   "metadata": {},
   "outputs": [
    {
     "name": "stdout",
     "output_type": "stream",
     "text": [
      "(20997, 1)\n"
     ]
    }
   ],
   "source": [
    "print(y_train.shape)"
   ]
  },
  {
   "cell_type": "markdown",
   "id": "e07e6b25",
   "metadata": {},
   "source": [
    "We provide a graphical representation of the model by using Netron. Reader can deeply analyse each layer of the model. "
   ]
  },
  {
   "cell_type": "code",
   "execution_count": 16,
   "id": "f999d515",
   "metadata": {
    "scrolled": true
   },
   "outputs": [],
   "source": [
    "\n",
    "# model_with_attention.save('model_with_attention.keras')\n",
    "# netron.start('model_with_attention.h5')"
   ]
  },
  {
   "cell_type": "markdown",
   "id": "6ce5e668",
   "metadata": {},
   "source": [
    "We train the model."
   ]
  },
  {
   "cell_type": "code",
   "execution_count": 17,
   "id": "84c63f1c",
   "metadata": {
    "scrolled": true
   },
   "outputs": [
    {
     "name": "stdout",
     "output_type": "stream",
     "text": [
      "Epoch 1/100\n",
      "\u001b[1m657/657\u001b[0m \u001b[32m━━━━━━━━━━━━━━━━━━━━\u001b[0m\u001b[37m\u001b[0m \u001b[1m19s\u001b[0m 25ms/step - loss: 239.9169 - val_loss: 176.5956\n",
      "Epoch 2/100\n",
      "\u001b[1m657/657\u001b[0m \u001b[32m━━━━━━━━━━━━━━━━━━━━\u001b[0m\u001b[37m\u001b[0m \u001b[1m16s\u001b[0m 25ms/step - loss: 162.7790 - val_loss: 151.3653\n",
      "Epoch 3/100\n",
      "\u001b[1m657/657\u001b[0m \u001b[32m━━━━━━━━━━━━━━━━━━━━\u001b[0m\u001b[37m\u001b[0m \u001b[1m16s\u001b[0m 24ms/step - loss: 155.6868 - val_loss: 146.7692\n",
      "Epoch 4/100\n",
      "\u001b[1m657/657\u001b[0m \u001b[32m━━━━━━━━━━━━━━━━━━━━\u001b[0m\u001b[37m\u001b[0m \u001b[1m16s\u001b[0m 24ms/step - loss: 142.2675 - val_loss: 164.3531\n",
      "Epoch 5/100\n",
      "\u001b[1m657/657\u001b[0m \u001b[32m━━━━━━━━━━━━━━━━━━━━\u001b[0m\u001b[37m\u001b[0m \u001b[1m16s\u001b[0m 24ms/step - loss: 141.6473 - val_loss: 141.4744\n",
      "Epoch 6/100\n",
      "\u001b[1m657/657\u001b[0m \u001b[32m━━━━━━━━━━━━━━━━━━━━\u001b[0m\u001b[37m\u001b[0m \u001b[1m16s\u001b[0m 24ms/step - loss: 138.3446 - val_loss: 141.5258\n",
      "Epoch 7/100\n",
      "\u001b[1m657/657\u001b[0m \u001b[32m━━━━━━━━━━━━━━━━━━━━\u001b[0m\u001b[37m\u001b[0m \u001b[1m16s\u001b[0m 24ms/step - loss: 131.9245 - val_loss: 128.2572\n",
      "Epoch 8/100\n",
      "\u001b[1m657/657\u001b[0m \u001b[32m━━━━━━━━━━━━━━━━━━━━\u001b[0m\u001b[37m\u001b[0m \u001b[1m16s\u001b[0m 24ms/step - loss: 129.9428 - val_loss: 129.8202\n",
      "Epoch 9/100\n",
      "\u001b[1m657/657\u001b[0m \u001b[32m━━━━━━━━━━━━━━━━━━━━\u001b[0m\u001b[37m\u001b[0m \u001b[1m16s\u001b[0m 24ms/step - loss: 127.9618 - val_loss: 134.9203\n",
      "Epoch 10/100\n",
      "\u001b[1m657/657\u001b[0m \u001b[32m━━━━━━━━━━━━━━━━━━━━\u001b[0m\u001b[37m\u001b[0m \u001b[1m16s\u001b[0m 24ms/step - loss: 126.5288 - val_loss: 127.7277\n",
      "Epoch 11/100\n",
      "\u001b[1m657/657\u001b[0m \u001b[32m━━━━━━━━━━━━━━━━━━━━\u001b[0m\u001b[37m\u001b[0m \u001b[1m16s\u001b[0m 24ms/step - loss: 123.8959 - val_loss: 127.7028\n",
      "Epoch 12/100\n",
      "\u001b[1m657/657\u001b[0m \u001b[32m━━━━━━━━━━━━━━━━━━━━\u001b[0m\u001b[37m\u001b[0m \u001b[1m16s\u001b[0m 24ms/step - loss: 124.5990 - val_loss: 138.5881\n",
      "Epoch 13/100\n",
      "\u001b[1m657/657\u001b[0m \u001b[32m━━━━━━━━━━━━━━━━━━━━\u001b[0m\u001b[37m\u001b[0m \u001b[1m16s\u001b[0m 24ms/step - loss: 123.4394 - val_loss: 123.6639\n",
      "Epoch 14/100\n",
      "\u001b[1m657/657\u001b[0m \u001b[32m━━━━━━━━━━━━━━━━━━━━\u001b[0m\u001b[37m\u001b[0m \u001b[1m16s\u001b[0m 24ms/step - loss: 119.6136 - val_loss: 129.5881\n",
      "Epoch 15/100\n",
      "\u001b[1m657/657\u001b[0m \u001b[32m━━━━━━━━━━━━━━━━━━━━\u001b[0m\u001b[37m\u001b[0m \u001b[1m16s\u001b[0m 24ms/step - loss: 120.9904 - val_loss: 125.4708\n",
      "Epoch 16/100\n",
      "\u001b[1m657/657\u001b[0m \u001b[32m━━━━━━━━━━━━━━━━━━━━\u001b[0m\u001b[37m\u001b[0m \u001b[1m16s\u001b[0m 24ms/step - loss: 119.2125 - val_loss: 122.2419\n",
      "Epoch 17/100\n",
      "\u001b[1m657/657\u001b[0m \u001b[32m━━━━━━━━━━━━━━━━━━━━\u001b[0m\u001b[37m\u001b[0m \u001b[1m16s\u001b[0m 24ms/step - loss: 117.9086 - val_loss: 121.2730\n",
      "Epoch 18/100\n",
      "\u001b[1m657/657\u001b[0m \u001b[32m━━━━━━━━━━━━━━━━━━━━\u001b[0m\u001b[37m\u001b[0m \u001b[1m16s\u001b[0m 24ms/step - loss: 117.4971 - val_loss: 126.4115\n",
      "Epoch 19/100\n",
      "\u001b[1m657/657\u001b[0m \u001b[32m━━━━━━━━━━━━━━━━━━━━\u001b[0m\u001b[37m\u001b[0m \u001b[1m16s\u001b[0m 24ms/step - loss: 116.1417 - val_loss: 123.9511\n",
      "Epoch 20/100\n",
      "\u001b[1m657/657\u001b[0m \u001b[32m━━━━━━━━━━━━━━━━━━━━\u001b[0m\u001b[37m\u001b[0m \u001b[1m16s\u001b[0m 24ms/step - loss: 114.8055 - val_loss: 118.3672\n",
      "Epoch 21/100\n",
      "\u001b[1m657/657\u001b[0m \u001b[32m━━━━━━━━━━━━━━━━━━━━\u001b[0m\u001b[37m\u001b[0m \u001b[1m16s\u001b[0m 24ms/step - loss: 114.0850 - val_loss: 118.3739\n",
      "Epoch 22/100\n",
      "\u001b[1m657/657\u001b[0m \u001b[32m━━━━━━━━━━━━━━━━━━━━\u001b[0m\u001b[37m\u001b[0m \u001b[1m16s\u001b[0m 24ms/step - loss: 112.7178 - val_loss: 119.8126\n",
      "Epoch 23/100\n",
      "\u001b[1m657/657\u001b[0m \u001b[32m━━━━━━━━━━━━━━━━━━━━\u001b[0m\u001b[37m\u001b[0m \u001b[1m16s\u001b[0m 24ms/step - loss: 112.5992 - val_loss: 116.6875\n",
      "Epoch 24/100\n",
      "\u001b[1m657/657\u001b[0m \u001b[32m━━━━━━━━━━━━━━━━━━━━\u001b[0m\u001b[37m\u001b[0m \u001b[1m16s\u001b[0m 24ms/step - loss: 113.2065 - val_loss: 119.6141\n",
      "Epoch 25/100\n",
      "\u001b[1m657/657\u001b[0m \u001b[32m━━━━━━━━━━━━━━━━━━━━\u001b[0m\u001b[37m\u001b[0m \u001b[1m16s\u001b[0m 24ms/step - loss: 113.3091 - val_loss: 121.8420\n",
      "Epoch 26/100\n",
      "\u001b[1m657/657\u001b[0m \u001b[32m━━━━━━━━━━━━━━━━━━━━\u001b[0m\u001b[37m\u001b[0m \u001b[1m16s\u001b[0m 24ms/step - loss: 109.9881 - val_loss: 115.7464\n",
      "Epoch 27/100\n",
      "\u001b[1m657/657\u001b[0m \u001b[32m━━━━━━━━━━━━━━━━━━━━\u001b[0m\u001b[37m\u001b[0m \u001b[1m16s\u001b[0m 24ms/step - loss: 108.9499 - val_loss: 128.2248\n",
      "Epoch 28/100\n",
      "\u001b[1m657/657\u001b[0m \u001b[32m━━━━━━━━━━━━━━━━━━━━\u001b[0m\u001b[37m\u001b[0m \u001b[1m16s\u001b[0m 24ms/step - loss: 110.4231 - val_loss: 116.4767\n",
      "Epoch 29/100\n",
      "\u001b[1m657/657\u001b[0m \u001b[32m━━━━━━━━━━━━━━━━━━━━\u001b[0m\u001b[37m\u001b[0m \u001b[1m16s\u001b[0m 24ms/step - loss: 111.0915 - val_loss: 118.9891\n",
      "Epoch 30/100\n",
      "\u001b[1m657/657\u001b[0m \u001b[32m━━━━━━━━━━━━━━━━━━━━\u001b[0m\u001b[37m\u001b[0m \u001b[1m16s\u001b[0m 24ms/step - loss: 110.1675 - val_loss: 120.0335\n",
      "Epoch 31/100\n",
      "\u001b[1m657/657\u001b[0m \u001b[32m━━━━━━━━━━━━━━━━━━━━\u001b[0m\u001b[37m\u001b[0m \u001b[1m16s\u001b[0m 24ms/step - loss: 108.7690 - val_loss: 114.4200\n",
      "Epoch 32/100\n",
      "\u001b[1m657/657\u001b[0m \u001b[32m━━━━━━━━━━━━━━━━━━━━\u001b[0m\u001b[37m\u001b[0m \u001b[1m16s\u001b[0m 24ms/step - loss: 107.8022 - val_loss: 115.2658\n",
      "Epoch 33/100\n",
      "\u001b[1m657/657\u001b[0m \u001b[32m━━━━━━━━━━━━━━━━━━━━\u001b[0m\u001b[37m\u001b[0m \u001b[1m16s\u001b[0m 24ms/step - loss: 107.5388 - val_loss: 115.0712\n",
      "Epoch 34/100\n",
      "\u001b[1m657/657\u001b[0m \u001b[32m━━━━━━━━━━━━━━━━━━━━\u001b[0m\u001b[37m\u001b[0m \u001b[1m16s\u001b[0m 24ms/step - loss: 105.6491 - val_loss: 114.3344\n",
      "Epoch 35/100\n",
      "\u001b[1m657/657\u001b[0m \u001b[32m━━━━━━━━━━━━━━━━━━━━\u001b[0m\u001b[37m\u001b[0m \u001b[1m16s\u001b[0m 25ms/step - loss: 106.7273 - val_loss: 113.2537\n",
      "Epoch 36/100\n",
      "\u001b[1m657/657\u001b[0m \u001b[32m━━━━━━━━━━━━━━━━━━━━\u001b[0m\u001b[37m\u001b[0m \u001b[1m16s\u001b[0m 25ms/step - loss: 106.3312 - val_loss: 110.0813\n",
      "Epoch 37/100\n",
      "\u001b[1m657/657\u001b[0m \u001b[32m━━━━━━━━━━━━━━━━━━━━\u001b[0m\u001b[37m\u001b[0m \u001b[1m16s\u001b[0m 25ms/step - loss: 106.2559 - val_loss: 117.3554\n",
      "Epoch 38/100\n",
      "\u001b[1m657/657\u001b[0m \u001b[32m━━━━━━━━━━━━━━━━━━━━\u001b[0m\u001b[37m\u001b[0m \u001b[1m16s\u001b[0m 24ms/step - loss: 104.9513 - val_loss: 113.2660\n",
      "Epoch 39/100\n",
      "\u001b[1m657/657\u001b[0m \u001b[32m━━━━━━━━━━━━━━━━━━━━\u001b[0m\u001b[37m\u001b[0m \u001b[1m16s\u001b[0m 25ms/step - loss: 103.5903 - val_loss: 113.7327\n",
      "Epoch 40/100\n",
      "\u001b[1m657/657\u001b[0m \u001b[32m━━━━━━━━━━━━━━━━━━━━\u001b[0m\u001b[37m\u001b[0m \u001b[1m16s\u001b[0m 25ms/step - loss: 103.3782 - val_loss: 113.7847\n",
      "Epoch 41/100\n",
      "\u001b[1m657/657\u001b[0m \u001b[32m━━━━━━━━━━━━━━━━━━━━\u001b[0m\u001b[37m\u001b[0m \u001b[1m16s\u001b[0m 24ms/step - loss: 104.5366 - val_loss: 113.5556\n",
      "Epoch 42/100\n",
      "\u001b[1m657/657\u001b[0m \u001b[32m━━━━━━━━━━━━━━━━━━━━\u001b[0m\u001b[37m\u001b[0m \u001b[1m16s\u001b[0m 24ms/step - loss: 101.5445 - val_loss: 108.9010\n",
      "Epoch 43/100\n",
      "\u001b[1m657/657\u001b[0m \u001b[32m━━━━━━━━━━━━━━━━━━━━\u001b[0m\u001b[37m\u001b[0m \u001b[1m16s\u001b[0m 25ms/step - loss: 102.9525 - val_loss: 112.8858\n",
      "Epoch 44/100\n",
      "\u001b[1m657/657\u001b[0m \u001b[32m━━━━━━━━━━━━━━━━━━━━\u001b[0m\u001b[37m\u001b[0m \u001b[1m16s\u001b[0m 25ms/step - loss: 100.6246 - val_loss: 112.2257\n",
      "Epoch 45/100\n",
      "\u001b[1m657/657\u001b[0m \u001b[32m━━━━━━━━━━━━━━━━━━━━\u001b[0m\u001b[37m\u001b[0m \u001b[1m16s\u001b[0m 25ms/step - loss: 100.6512 - val_loss: 109.3744\n",
      "Epoch 46/100\n",
      "\u001b[1m657/657\u001b[0m \u001b[32m━━━━━━━━━━━━━━━━━━━━\u001b[0m\u001b[37m\u001b[0m \u001b[1m16s\u001b[0m 25ms/step - loss: 101.3314 - val_loss: 110.3001\n",
      "Epoch 47/100\n",
      "\u001b[1m657/657\u001b[0m \u001b[32m━━━━━━━━━━━━━━━━━━━━\u001b[0m\u001b[37m\u001b[0m \u001b[1m16s\u001b[0m 25ms/step - loss: 99.5365 - val_loss: 107.9146\n",
      "Epoch 48/100\n",
      "\u001b[1m657/657\u001b[0m \u001b[32m━━━━━━━━━━━━━━━━━━━━\u001b[0m\u001b[37m\u001b[0m \u001b[1m16s\u001b[0m 25ms/step - loss: 98.8905 - val_loss: 108.1433\n",
      "Epoch 49/100\n",
      "\u001b[1m657/657\u001b[0m \u001b[32m━━━━━━━━━━━━━━━━━━━━\u001b[0m\u001b[37m\u001b[0m \u001b[1m16s\u001b[0m 24ms/step - loss: 100.1406 - val_loss: 109.6579\n",
      "Epoch 50/100\n",
      "\u001b[1m657/657\u001b[0m \u001b[32m━━━━━━━━━━━━━━━━━━━━\u001b[0m\u001b[37m\u001b[0m \u001b[1m16s\u001b[0m 25ms/step - loss: 97.7890 - val_loss: 108.4711\n",
      "Epoch 51/100\n",
      "\u001b[1m657/657\u001b[0m \u001b[32m━━━━━━━━━━━━━━━━━━━━\u001b[0m\u001b[37m\u001b[0m \u001b[1m16s\u001b[0m 25ms/step - loss: 97.8773 - val_loss: 108.5523\n",
      "Epoch 52/100\n",
      "\u001b[1m657/657\u001b[0m \u001b[32m━━━━━━━━━━━━━━━━━━━━\u001b[0m\u001b[37m\u001b[0m \u001b[1m16s\u001b[0m 25ms/step - loss: 97.0304 - val_loss: 106.5803\n",
      "Epoch 53/100\n",
      "\u001b[1m657/657\u001b[0m \u001b[32m━━━━━━━━━━━━━━━━━━━━\u001b[0m\u001b[37m\u001b[0m \u001b[1m16s\u001b[0m 25ms/step - loss: 95.1753 - val_loss: 107.4255\n",
      "Epoch 54/100\n",
      "\u001b[1m657/657\u001b[0m \u001b[32m━━━━━━━━━━━━━━━━━━━━\u001b[0m\u001b[37m\u001b[0m \u001b[1m16s\u001b[0m 24ms/step - loss: 95.1537 - val_loss: 107.6405\n",
      "Epoch 55/100\n",
      "\u001b[1m657/657\u001b[0m \u001b[32m━━━━━━━━━━━━━━━━━━━━\u001b[0m\u001b[37m\u001b[0m \u001b[1m16s\u001b[0m 24ms/step - loss: 95.7980 - val_loss: 106.7814\n",
      "Epoch 56/100\n",
      "\u001b[1m657/657\u001b[0m \u001b[32m━━━━━━━━━━━━━━━━━━━━\u001b[0m\u001b[37m\u001b[0m \u001b[1m16s\u001b[0m 24ms/step - loss: 94.7366 - val_loss: 106.1434\n",
      "Epoch 57/100\n",
      "\u001b[1m657/657\u001b[0m \u001b[32m━━━━━━━━━━━━━━━━━━━━\u001b[0m\u001b[37m\u001b[0m \u001b[1m16s\u001b[0m 24ms/step - loss: 94.7595 - val_loss: 109.8637\n",
      "Epoch 58/100\n",
      "\u001b[1m657/657\u001b[0m \u001b[32m━━━━━━━━━━━━━━━━━━━━\u001b[0m\u001b[37m\u001b[0m \u001b[1m16s\u001b[0m 24ms/step - loss: 96.1061 - val_loss: 108.1033\n",
      "Epoch 59/100\n",
      "\u001b[1m657/657\u001b[0m \u001b[32m━━━━━━━━━━━━━━━━━━━━\u001b[0m\u001b[37m\u001b[0m \u001b[1m16s\u001b[0m 24ms/step - loss: 95.4552 - val_loss: 106.2387\n",
      "Epoch 60/100\n",
      "\u001b[1m657/657\u001b[0m \u001b[32m━━━━━━━━━━━━━━━━━━━━\u001b[0m\u001b[37m\u001b[0m \u001b[1m16s\u001b[0m 25ms/step - loss: 92.9261 - val_loss: 105.7498\n",
      "Epoch 61/100\n",
      "\u001b[1m657/657\u001b[0m \u001b[32m━━━━━━━━━━━━━━━━━━━━\u001b[0m\u001b[37m\u001b[0m \u001b[1m16s\u001b[0m 25ms/step - loss: 92.9662 - val_loss: 106.7970\n",
      "Epoch 62/100\n",
      "\u001b[1m657/657\u001b[0m \u001b[32m━━━━━━━━━━━━━━━━━━━━\u001b[0m\u001b[37m\u001b[0m \u001b[1m16s\u001b[0m 25ms/step - loss: 94.3010 - val_loss: 104.2649\n",
      "Epoch 63/100\n",
      "\u001b[1m657/657\u001b[0m \u001b[32m━━━━━━━━━━━━━━━━━━━━\u001b[0m\u001b[37m\u001b[0m \u001b[1m16s\u001b[0m 24ms/step - loss: 92.0835 - val_loss: 104.9911\n",
      "Epoch 64/100\n",
      "\u001b[1m657/657\u001b[0m \u001b[32m━━━━━━━━━━━━━━━━━━━━\u001b[0m\u001b[37m\u001b[0m \u001b[1m16s\u001b[0m 25ms/step - loss: 92.0494 - val_loss: 109.0747\n",
      "Epoch 65/100\n",
      "\u001b[1m657/657\u001b[0m \u001b[32m━━━━━━━━━━━━━━━━━━━━\u001b[0m\u001b[37m\u001b[0m \u001b[1m16s\u001b[0m 24ms/step - loss: 90.6173 - val_loss: 111.9563\n",
      "Epoch 66/100\n",
      "\u001b[1m657/657\u001b[0m \u001b[32m━━━━━━━━━━━━━━━━━━━━\u001b[0m\u001b[37m\u001b[0m \u001b[1m16s\u001b[0m 24ms/step - loss: 90.4924 - val_loss: 104.5671\n",
      "Epoch 67/100\n",
      "\u001b[1m657/657\u001b[0m \u001b[32m━━━━━━━━━━━━━━━━━━━━\u001b[0m\u001b[37m\u001b[0m \u001b[1m16s\u001b[0m 24ms/step - loss: 90.5953 - val_loss: 107.7940\n",
      "Epoch 68/100\n",
      "\u001b[1m657/657\u001b[0m \u001b[32m━━━━━━━━━━━━━━━━━━━━\u001b[0m\u001b[37m\u001b[0m \u001b[1m16s\u001b[0m 24ms/step - loss: 89.5365 - val_loss: 105.8630\n",
      "Epoch 69/100\n",
      "\u001b[1m657/657\u001b[0m \u001b[32m━━━━━━━━━━━━━━━━━━━━\u001b[0m\u001b[37m\u001b[0m \u001b[1m16s\u001b[0m 24ms/step - loss: 90.1384 - val_loss: 109.8354\n",
      "Epoch 70/100\n",
      "\u001b[1m657/657\u001b[0m \u001b[32m━━━━━━━━━━━━━━━━━━━━\u001b[0m\u001b[37m\u001b[0m \u001b[1m16s\u001b[0m 25ms/step - loss: 87.8506 - val_loss: 105.2794\n",
      "Epoch 71/100\n",
      "\u001b[1m657/657\u001b[0m \u001b[32m━━━━━━━━━━━━━━━━━━━━\u001b[0m\u001b[37m\u001b[0m \u001b[1m16s\u001b[0m 25ms/step - loss: 87.0382 - val_loss: 107.8992\n",
      "Epoch 72/100\n",
      "\u001b[1m657/657\u001b[0m \u001b[32m━━━━━━━━━━━━━━━━━━━━\u001b[0m\u001b[37m\u001b[0m \u001b[1m16s\u001b[0m 25ms/step - loss: 88.2064 - val_loss: 104.9639\n",
      "Epoch 73/100\n",
      "\u001b[1m657/657\u001b[0m \u001b[32m━━━━━━━━━━━━━━━━━━━━\u001b[0m\u001b[37m\u001b[0m \u001b[1m16s\u001b[0m 25ms/step - loss: 88.3519 - val_loss: 102.9252\n",
      "Epoch 74/100\n",
      "\u001b[1m657/657\u001b[0m \u001b[32m━━━━━━━━━━━━━━━━━━━━\u001b[0m\u001b[37m\u001b[0m \u001b[1m16s\u001b[0m 25ms/step - loss: 86.4678 - val_loss: 102.8391\n",
      "Epoch 75/100\n",
      "\u001b[1m657/657\u001b[0m \u001b[32m━━━━━━━━━━━━━━━━━━━━\u001b[0m\u001b[37m\u001b[0m \u001b[1m16s\u001b[0m 25ms/step - loss: 85.6071 - val_loss: 113.1023\n",
      "Epoch 76/100\n",
      "\u001b[1m657/657\u001b[0m \u001b[32m━━━━━━━━━━━━━━━━━━━━\u001b[0m\u001b[37m\u001b[0m \u001b[1m16s\u001b[0m 25ms/step - loss: 86.2461 - val_loss: 102.9926\n",
      "Epoch 77/100\n",
      "\u001b[1m657/657\u001b[0m \u001b[32m━━━━━━━━━━━━━━━━━━━━\u001b[0m\u001b[37m\u001b[0m \u001b[1m16s\u001b[0m 25ms/step - loss: 86.1885 - val_loss: 101.8710\n",
      "Epoch 78/100\n",
      "\u001b[1m657/657\u001b[0m \u001b[32m━━━━━━━━━━━━━━━━━━━━\u001b[0m\u001b[37m\u001b[0m \u001b[1m16s\u001b[0m 25ms/step - loss: 84.8349 - val_loss: 103.4837\n",
      "Epoch 79/100\n",
      "\u001b[1m657/657\u001b[0m \u001b[32m━━━━━━━━━━━━━━━━━━━━\u001b[0m\u001b[37m\u001b[0m \u001b[1m16s\u001b[0m 25ms/step - loss: 84.5558 - val_loss: 100.8903\n",
      "Epoch 80/100\n",
      "\u001b[1m657/657\u001b[0m \u001b[32m━━━━━━━━━━━━━━━━━━━━\u001b[0m\u001b[37m\u001b[0m \u001b[1m16s\u001b[0m 25ms/step - loss: 81.5761 - val_loss: 104.0655\n",
      "Epoch 81/100\n",
      "\u001b[1m657/657\u001b[0m \u001b[32m━━━━━━━━━━━━━━━━━━━━\u001b[0m\u001b[37m\u001b[0m \u001b[1m16s\u001b[0m 24ms/step - loss: 82.9297 - val_loss: 101.0321\n",
      "Epoch 82/100\n",
      "\u001b[1m657/657\u001b[0m \u001b[32m━━━━━━━━━━━━━━━━━━━━\u001b[0m\u001b[37m\u001b[0m \u001b[1m16s\u001b[0m 25ms/step - loss: 83.2978 - val_loss: 101.6483\n",
      "Epoch 83/100\n",
      "\u001b[1m657/657\u001b[0m \u001b[32m━━━━━━━━━━━━━━━━━━━━\u001b[0m\u001b[37m\u001b[0m \u001b[1m16s\u001b[0m 25ms/step - loss: 81.3969 - val_loss: 109.5279\n",
      "Epoch 84/100\n",
      "\u001b[1m657/657\u001b[0m \u001b[32m━━━━━━━━━━━━━━━━━━━━\u001b[0m\u001b[37m\u001b[0m \u001b[1m16s\u001b[0m 25ms/step - loss: 81.5847 - val_loss: 100.9037\n",
      "Epoch 85/100\n",
      "\u001b[1m657/657\u001b[0m \u001b[32m━━━━━━━━━━━━━━━━━━━━\u001b[0m\u001b[37m\u001b[0m \u001b[1m16s\u001b[0m 25ms/step - loss: 81.5738 - val_loss: 103.4144\n",
      "Epoch 86/100\n",
      "\u001b[1m657/657\u001b[0m \u001b[32m━━━━━━━━━━━━━━━━━━━━\u001b[0m\u001b[37m\u001b[0m \u001b[1m16s\u001b[0m 25ms/step - loss: 82.5006 - val_loss: 104.3450\n",
      "Epoch 87/100\n",
      "\u001b[1m657/657\u001b[0m \u001b[32m━━━━━━━━━━━━━━━━━━━━\u001b[0m\u001b[37m\u001b[0m \u001b[1m16s\u001b[0m 25ms/step - loss: 82.5207 - val_loss: 104.5256\n",
      "Epoch 88/100\n",
      "\u001b[1m657/657\u001b[0m \u001b[32m━━━━━━━━━━━━━━━━━━━━\u001b[0m\u001b[37m\u001b[0m \u001b[1m16s\u001b[0m 25ms/step - loss: 79.7770 - val_loss: 102.8069\n",
      "Epoch 89/100\n",
      "\u001b[1m657/657\u001b[0m \u001b[32m━━━━━━━━━━━━━━━━━━━━\u001b[0m\u001b[37m\u001b[0m \u001b[1m16s\u001b[0m 25ms/step - loss: 81.2253 - val_loss: 100.1507\n",
      "Epoch 90/100\n",
      "\u001b[1m657/657\u001b[0m \u001b[32m━━━━━━━━━━━━━━━━━━━━\u001b[0m\u001b[37m\u001b[0m \u001b[1m16s\u001b[0m 25ms/step - loss: 79.6145 - val_loss: 102.8598\n",
      "Epoch 91/100\n",
      "\u001b[1m657/657\u001b[0m \u001b[32m━━━━━━━━━━━━━━━━━━━━\u001b[0m\u001b[37m\u001b[0m \u001b[1m16s\u001b[0m 25ms/step - loss: 80.3997 - val_loss: 100.1656\n",
      "Epoch 92/100\n",
      "\u001b[1m657/657\u001b[0m \u001b[32m━━━━━━━━━━━━━━━━━━━━\u001b[0m\u001b[37m\u001b[0m \u001b[1m16s\u001b[0m 25ms/step - loss: 80.0920 - val_loss: 101.1181\n",
      "Epoch 93/100\n",
      "\u001b[1m657/657\u001b[0m \u001b[32m━━━━━━━━━━━━━━━━━━━━\u001b[0m\u001b[37m\u001b[0m \u001b[1m16s\u001b[0m 25ms/step - loss: 77.8402 - val_loss: 100.8651\n",
      "Epoch 94/100\n",
      "\u001b[1m657/657\u001b[0m \u001b[32m━━━━━━━━━━━━━━━━━━━━\u001b[0m\u001b[37m\u001b[0m \u001b[1m16s\u001b[0m 25ms/step - loss: 79.2076 - val_loss: 101.6160\n",
      "Epoch 95/100\n",
      "\u001b[1m657/657\u001b[0m \u001b[32m━━━━━━━━━━━━━━━━━━━━\u001b[0m\u001b[37m\u001b[0m \u001b[1m16s\u001b[0m 25ms/step - loss: 79.8454 - val_loss: 103.9808\n",
      "Epoch 96/100\n",
      "\u001b[1m657/657\u001b[0m \u001b[32m━━━━━━━━━━━━━━━━━━━━\u001b[0m\u001b[37m\u001b[0m \u001b[1m16s\u001b[0m 25ms/step - loss: 77.2622 - val_loss: 101.5722\n",
      "Epoch 97/100\n",
      "\u001b[1m657/657\u001b[0m \u001b[32m━━━━━━━━━━━━━━━━━━━━\u001b[0m\u001b[37m\u001b[0m \u001b[1m16s\u001b[0m 25ms/step - loss: 77.0651 - val_loss: 101.0376\n",
      "Epoch 98/100\n",
      "\u001b[1m657/657\u001b[0m \u001b[32m━━━━━━━━━━━━━━━━━━━━\u001b[0m\u001b[37m\u001b[0m \u001b[1m17s\u001b[0m 25ms/step - loss: 75.9256 - val_loss: 101.7706\n",
      "Epoch 99/100\n",
      "\u001b[1m657/657\u001b[0m \u001b[32m━━━━━━━━━━━━━━━━━━━━\u001b[0m\u001b[37m\u001b[0m \u001b[1m16s\u001b[0m 25ms/step - loss: 74.9683 - val_loss: 100.3454\n",
      "Epoch 100/100\n",
      "\u001b[1m657/657\u001b[0m \u001b[32m━━━━━━━━━━━━━━━━━━━━\u001b[0m\u001b[37m\u001b[0m \u001b[1m16s\u001b[0m 25ms/step - loss: 74.4637 - val_loss: 99.2911\n",
      "CPU times: total: 55min 18s\n",
      "Wall time: 26min 56s\n"
     ]
    }
   ],
   "source": [
    "%%time\n",
    "\n",
    "history3=model_with_attention.fit(X_train,y_train,epochs=100,batch_size = 32, shuffle=True,validation_data=(X_test,y_test))"
   ]
  },
  {
   "cell_type": "code",
   "execution_count": 18,
   "id": "abba0b87-9118-4cc6-9653-6de20c9a1872",
   "metadata": {},
   "outputs": [],
   "source": [
    "# import keras\n",
    "# tf.keras.s(model_with_attention, 'model_with_attention_AS2(t-12).keras')\n",
    "model_with_attention.save('model_with_attention_PSM(t-48).keras')\n",
    "\n",
    "train_loss_pd = pd.DataFrame(history3.history['loss'])\n",
    "val_loss_pd = pd.DataFrame(history3.history['loss'])\n",
    "train_loss_pd.to_csv('train_loss_PSM(t-48)')\n",
    "val_loss_pd.to_csv('val_loss_PSM(t-48)')"
   ]
  },
  {
   "cell_type": "code",
   "execution_count": 19,
   "id": "6a350564",
   "metadata": {},
   "outputs": [
    {
     "data": {
      "text/plain": [
       "{'loss': [196.97093200683594,\n",
       "  157.2830352783203,\n",
       "  151.43936157226562,\n",
       "  144.24221801757812,\n",
       "  139.12158203125,\n",
       "  136.19000244140625,\n",
       "  131.62252807617188,\n",
       "  128.8629150390625,\n",
       "  128.07801818847656,\n",
       "  125.72236633300781,\n",
       "  123.77701568603516,\n",
       "  123.03752899169922,\n",
       "  121.70985412597656,\n",
       "  119.88159942626953,\n",
       "  119.35213470458984,\n",
       "  118.3443603515625,\n",
       "  117.17658233642578,\n",
       "  116.77769470214844,\n",
       "  116.55719757080078,\n",
       "  115.3293685913086,\n",
       "  114.23213195800781,\n",
       "  113.52325439453125,\n",
       "  113.23704528808594,\n",
       "  112.8947982788086,\n",
       "  112.70597839355469,\n",
       "  111.21099090576172,\n",
       "  110.99713897705078,\n",
       "  110.73360443115234,\n",
       "  109.28593444824219,\n",
       "  109.11711120605469,\n",
       "  108.11691284179688,\n",
       "  108.41415405273438,\n",
       "  107.32027435302734,\n",
       "  106.54647064208984,\n",
       "  106.44856262207031,\n",
       "  106.23841857910156,\n",
       "  105.77144622802734,\n",
       "  104.3389663696289,\n",
       "  103.96562957763672,\n",
       "  103.29192352294922,\n",
       "  103.12031555175781,\n",
       "  103.20877838134766,\n",
       "  101.92952728271484,\n",
       "  101.39913177490234,\n",
       "  101.66204833984375,\n",
       "  100.8592758178711,\n",
       "  99.50802612304688,\n",
       "  98.998779296875,\n",
       "  99.43019104003906,\n",
       "  97.94468688964844,\n",
       "  98.04159545898438,\n",
       "  97.17426300048828,\n",
       "  96.57552337646484,\n",
       "  96.26814270019531,\n",
       "  95.84996032714844,\n",
       "  95.5223617553711,\n",
       "  94.8618392944336,\n",
       "  94.2269287109375,\n",
       "  93.85974884033203,\n",
       "  93.1408920288086,\n",
       "  93.13109588623047,\n",
       "  93.00379180908203,\n",
       "  92.07596588134766,\n",
       "  91.65449523925781,\n",
       "  91.12140655517578,\n",
       "  90.18617248535156,\n",
       "  90.70307922363281,\n",
       "  89.81029510498047,\n",
       "  89.54307556152344,\n",
       "  88.44330596923828,\n",
       "  88.53377532958984,\n",
       "  87.90547943115234,\n",
       "  87.32611846923828,\n",
       "  87.37684631347656,\n",
       "  86.75765228271484,\n",
       "  86.1727066040039,\n",
       "  86.208740234375,\n",
       "  85.15980529785156,\n",
       "  85.0321273803711,\n",
       "  83.60034942626953,\n",
       "  83.98567962646484,\n",
       "  82.79491424560547,\n",
       "  83.42300415039062,\n",
       "  82.58665466308594,\n",
       "  81.88602447509766,\n",
       "  81.72015380859375,\n",
       "  82.07526397705078,\n",
       "  80.90092468261719,\n",
       "  80.73130798339844,\n",
       "  79.94001007080078,\n",
       "  79.902099609375,\n",
       "  79.8945083618164,\n",
       "  79.22320556640625,\n",
       "  78.9510498046875,\n",
       "  78.50396728515625,\n",
       "  77.9219741821289,\n",
       "  77.24063110351562,\n",
       "  77.04072570800781,\n",
       "  76.12206268310547,\n",
       "  75.47808074951172],\n",
       " 'val_loss': [176.59564208984375,\n",
       "  151.36526489257812,\n",
       "  146.7691650390625,\n",
       "  164.35305786132812,\n",
       "  141.4744110107422,\n",
       "  141.52581787109375,\n",
       "  128.25718688964844,\n",
       "  129.82020568847656,\n",
       "  134.9203338623047,\n",
       "  127.72767639160156,\n",
       "  127.70279693603516,\n",
       "  138.58810424804688,\n",
       "  123.6639404296875,\n",
       "  129.58810424804688,\n",
       "  125.4708023071289,\n",
       "  122.24193572998047,\n",
       "  121.2730484008789,\n",
       "  126.41154479980469,\n",
       "  123.95105743408203,\n",
       "  118.36721801757812,\n",
       "  118.37385559082031,\n",
       "  119.81255340576172,\n",
       "  116.68753051757812,\n",
       "  119.61405181884766,\n",
       "  121.84195709228516,\n",
       "  115.74642181396484,\n",
       "  128.22482299804688,\n",
       "  116.47672271728516,\n",
       "  118.98905944824219,\n",
       "  120.03351593017578,\n",
       "  114.41998291015625,\n",
       "  115.26578521728516,\n",
       "  115.07122039794922,\n",
       "  114.33442687988281,\n",
       "  113.25370025634766,\n",
       "  110.08128356933594,\n",
       "  117.35540771484375,\n",
       "  113.26595306396484,\n",
       "  113.73272705078125,\n",
       "  113.78465270996094,\n",
       "  113.5556411743164,\n",
       "  108.90096282958984,\n",
       "  112.88582611083984,\n",
       "  112.22566223144531,\n",
       "  109.37440490722656,\n",
       "  110.3000717163086,\n",
       "  107.91461944580078,\n",
       "  108.14331817626953,\n",
       "  109.65792083740234,\n",
       "  108.47113037109375,\n",
       "  108.55231475830078,\n",
       "  106.5802993774414,\n",
       "  107.4255142211914,\n",
       "  107.64049530029297,\n",
       "  106.78138732910156,\n",
       "  106.14335632324219,\n",
       "  109.86370849609375,\n",
       "  108.1032943725586,\n",
       "  106.23868560791016,\n",
       "  105.749755859375,\n",
       "  106.79696655273438,\n",
       "  104.26485443115234,\n",
       "  104.99114227294922,\n",
       "  109.07465362548828,\n",
       "  111.95625305175781,\n",
       "  104.56706237792969,\n",
       "  107.79397583007812,\n",
       "  105.86296081542969,\n",
       "  109.83538055419922,\n",
       "  105.27944946289062,\n",
       "  107.89924621582031,\n",
       "  104.96387481689453,\n",
       "  102.92520141601562,\n",
       "  102.83910369873047,\n",
       "  113.10225677490234,\n",
       "  102.99263763427734,\n",
       "  101.87100219726562,\n",
       "  103.48368835449219,\n",
       "  100.89029693603516,\n",
       "  104.06547546386719,\n",
       "  101.03211975097656,\n",
       "  101.64826202392578,\n",
       "  109.5278549194336,\n",
       "  100.90373992919922,\n",
       "  103.41435241699219,\n",
       "  104.344970703125,\n",
       "  104.52561950683594,\n",
       "  102.8068618774414,\n",
       "  100.15072631835938,\n",
       "  102.85984802246094,\n",
       "  100.16563415527344,\n",
       "  101.11805725097656,\n",
       "  100.86508178710938,\n",
       "  101.61595153808594,\n",
       "  103.9808349609375,\n",
       "  101.57223510742188,\n",
       "  101.03758239746094,\n",
       "  101.77055358886719,\n",
       "  100.3454360961914,\n",
       "  99.29109191894531]}"
      ]
     },
     "execution_count": 19,
     "metadata": {},
     "output_type": "execute_result"
    }
   ],
   "source": [
    "# print(history3.items())\n",
    "history3.history"
   ]
  },
  {
   "cell_type": "code",
   "execution_count": 20,
   "id": "b3eaaafe",
   "metadata": {},
   "outputs": [
    {
     "data": {
      "text/plain": [
       "<matplotlib.legend.Legend at 0x21eb8e84c10>"
      ]
     },
     "execution_count": 20,
     "metadata": {},
     "output_type": "execute_result"
    },
    {
     "data": {
      "image/png": "[encoded data removed]",
      "text/plain": [
       "<Figure size 1000x500 with 1 Axes>"
      ]
     },
     "metadata": {},
     "output_type": "display_data"
    }
   ],
   "source": [
    "plt.figure(figsize=(10, 5))\n",
    "plt.plot(train_loss_pd, label='train')\n",
    "plt.plot(val_loss_pd, label='val')\n",
    "plt.legend()"
   ]
  },
  {
   "cell_type": "markdown",
   "id": "9c54db72",
   "metadata": {},
   "source": [
    "## Model evaluation"
   ]
  },
  {
   "cell_type": "markdown",
   "id": "b2ea78bf",
   "metadata": {},
   "source": [
    "We define this function, which will be useful to evaluate the model."
   ]
  },
  {
   "cell_type": "code",
   "execution_count": 21,
   "id": "8c0e5a3b",
   "metadata": {},
   "outputs": [],
   "source": [
    "def flatten(t):\n",
    "    return [item for sublist in t for item in sublist]"
   ]
  },
  {
   "cell_type": "markdown",
   "id": "e9674031",
   "metadata": {},
   "source": [
    "We evaluate the model by using the first metric (mean absolute error). "
   ]
  },
  {
   "cell_type": "code",
   "execution_count": 22,
   "id": "5ecf3c33",
   "metadata": {},
   "outputs": [
    {
     "name": "stdout",
     "output_type": "stream",
     "text": [
      "\u001b[1m324/324\u001b[0m \u001b[32m━━━━━━━━━━━━━━━━━━━━\u001b[0m\u001b[37m\u001b[0m \u001b[1m2s\u001b[0m 4ms/step\n",
      "(10343, 1)\n",
      "10343\n",
      "(10343, 1)\n",
      "10343\n",
      "99.2911024091438\n"
     ]
    }
   ],
   "source": [
    "from sklearn.metrics import mean_absolute_error \n",
    "# from sklearn.metrics import root_mean_squared_error \n",
    "\n",
    "pred = model_with_attention.predict(X_test)\n",
    "print(pred.shape)\n",
    "print(len(flatten(pred)))\n",
    "print(y_test.shape)\n",
    "print(len(flatten(y_test)))\n",
    "\n",
    "MAE = mean_absolute_error(flatten(pred),flatten(y_test))\n",
    "print(MAE)\n",
    "# RMSE = root_mean_squared_error(flatten(pred),flatten(y_test))\n",
    "# print(RMSE)"
   ]
  },
  {
   "cell_type": "markdown",
   "id": "12982dd9",
   "metadata": {},
   "source": [
    "We will evaluate the model with the second metric (accuracy). For this, we divide target variable in three categories: first, data between percentil 0 and 15; second, data between percentil 15 and 85 and thrid, data between percentil 85 and 100. "
   ]
  },
  {
   "cell_type": "code",
   "execution_count": 23,
   "id": "10369faa-d540-4ccd-a24b-4fe206c3d53f",
   "metadata": {},
   "outputs": [
    {
     "name": "stdout",
     "output_type": "stream",
     "text": [
      "\u001b[1m324/324\u001b[0m \u001b[32m━━━━━━━━━━━━━━━━━━━━\u001b[0m\u001b[37m\u001b[0m \u001b[1m1s\u001b[0m 4ms/step\n",
      "[[ 73.62942]\n",
      " [619.33044]\n",
      " [ 89.09377]\n",
      " ...\n",
      " [645.7903 ]\n",
      " [147.24953]\n",
      " [117.10255]]\n"
     ]
    }
   ],
   "source": [
    "pred = model_with_attention.predict(X_test)\n",
    "print(pred)"
   ]
  },
  {
   "cell_type": "code",
   "execution_count": 24,
   "id": "17ad32ac-3aff-4ecf-b8b9-e496b63f9301",
   "metadata": {},
   "outputs": [
    {
     "data": {
      "text/plain": [
       "array([[ 71.],\n",
       "       [547.],\n",
       "       [143.],\n",
       "       ...,\n",
       "       [722.],\n",
       "       [190.],\n",
       "       [185.]])"
      ]
     },
     "execution_count": 24,
     "metadata": {},
     "output_type": "execute_result"
    }
   ],
   "source": [
    "y_test"
   ]
  },
  {
   "cell_type": "code",
   "execution_count": 25,
   "id": "d944ccff",
   "metadata": {},
   "outputs": [],
   "source": [
    "obj = list(data['obj'].values)"
   ]
  },
  {
   "cell_type": "code",
   "execution_count": 26,
   "id": "36466028-ed5d-423b-ac17-9ad0b8463604",
   "metadata": {},
   "outputs": [
    {
     "data": {
      "text/plain": [
       "dtype('float32')"
      ]
     },
     "execution_count": 26,
     "metadata": {},
     "output_type": "execute_result"
    }
   ],
   "source": [
    "pred.dtype == np.float64\n",
    "pred.dtype"
   ]
  },
  {
   "cell_type": "code",
   "execution_count": 27,
   "id": "58982b45",
   "metadata": {},
   "outputs": [
    {
     "name": "stdout",
     "output_type": "stream",
     "text": [
      "0\n",
      "70.0\n",
      "840.0\n",
      "3762\n"
     ]
    }
   ],
   "source": [
    "print(np.quantile(obj, 0))\n",
    "print(np.quantile(obj, 0.15))\n",
    "print(np.quantile(obj, 0.85))\n",
    "print(np.quantile(obj, 1))"
   ]
  },
  {
   "cell_type": "markdown",
   "id": "d555df61",
   "metadata": {},
   "source": [
    "We add and substract a small value in extreme values in order to avoid issues. We also transform the predictions lower than 0 in 0. "
   ]
  },
  {
   "cell_type": "code",
   "execution_count": 28,
   "id": "649392d4",
   "metadata": {},
   "outputs": [],
   "source": [
    "bins = [np.quantile(obj, 0)-0.001,np.quantile(obj, 0.15),np.quantile(obj, 0.85),np.quantile(obj, 1)+0.001]\n",
    "names = ['a','b','c']\n",
    "for i in range(len(pred)):\n",
    "    if pred[i]<0:\n",
    "        pred[i] = 0\n",
    "pred2=pd.cut(flatten(pred), bins, labels = names)\n",
    "ytest2=pd.cut(flatten(y_test), bins, labels = names)"
   ]
  },
  {
   "cell_type": "markdown",
   "id": "bfff6821",
   "metadata": {},
   "source": [
    "We obtain the accuracy metric and the confusion matrix corresponding. "
   ]
  },
  {
   "cell_type": "code",
   "execution_count": 29,
   "id": "fbde0271",
   "metadata": {},
   "outputs": [
    {
     "name": "stdout",
     "output_type": "stream",
     "text": [
      "0.8428889103741661\n",
      "[[1181  375    1]\n",
      " [ 196 6614  377]\n",
      " [   0  676  923]]\n"
     ]
    }
   ],
   "source": [
    "print(accuracy_score(ytest2,pred2))\n",
    "print(confusion_matrix(ytest2,pred2))"
   ]
  },
  {
   "cell_type": "markdown",
   "id": "d58c8161",
   "metadata": {},
   "source": [
    "###  Plotting the actual and predicted values. "
   ]
  },
  {
   "cell_type": "markdown",
   "id": "1692014e",
   "metadata": {},
   "source": [
    "We selelct randomly an observation of the entire dataset and we will analyse the 100 successive observations. We plot\n",
    "the actual and the predicted values of these observations. "
   ]
  },
  {
   "cell_type": "code",
   "execution_count": 30,
   "id": "5711b77d",
   "metadata": {},
   "outputs": [
    {
     "data": {
      "text/plain": [
       "array([[[0.37844545, 0.2506372 , 0.27352473, ..., 0.21287128,\n",
       "         0.6666667 , 0.8695652 ],\n",
       "        [0.28504246, 0.21091759, 0.18022329, ..., 0.21287128,\n",
       "         0.6666667 , 0.9130435 ],\n",
       "        [0.25512737, 0.1539932 , 0.11297182, ..., 0.21287128,\n",
       "         0.6666667 , 0.95652175],\n",
       "        [0.21645983, 0.11214953, 0.07921319, ..., 0.21287128,\n",
       "         0.6666667 , 1.        ]],\n",
       "\n",
       "       [[0.28504246, 0.21091759, 0.18022329, ..., 0.21287128,\n",
       "         0.6666667 , 0.9130435 ],\n",
       "        [0.25512737, 0.1539932 , 0.11297182, ..., 0.21287128,\n",
       "         0.6666667 , 0.95652175],\n",
       "        [0.21645983, 0.11214953, 0.07921319, ..., 0.21287128,\n",
       "         0.6666667 , 1.        ],\n",
       "        [0.21188766, 0.0819881 , 0.06645402, ..., 0.22029702,\n",
       "         0.6666667 , 0.        ]],\n",
       "\n",
       "       [[0.25512737, 0.1539932 , 0.11297182, ..., 0.21287128,\n",
       "         0.6666667 , 0.95652175],\n",
       "        [0.21645983, 0.11214953, 0.07921319, ..., 0.21287128,\n",
       "         0.6666667 , 1.        ],\n",
       "        [0.21188766, 0.0819881 , 0.06645402, ..., 0.22029702,\n",
       "         0.6666667 , 0.        ],\n",
       "        [0.15845853, 0.03971963, 0.03110048, ..., 0.22029702,\n",
       "         0.6666667 , 0.04347826]],\n",
       "\n",
       "       ...,\n",
       "\n",
       "       [[0.25747877, 0.18128717, 0.17224881, ..., 0.31683168,\n",
       "         0.6666667 , 0.9130435 ],\n",
       "        [0.19555846, 0.12351317, 0.08851675, ..., 0.31683168,\n",
       "         0.6666667 , 0.95652175],\n",
       "        [0.15715219, 0.07880204, 0.05449229, ..., 0.31683168,\n",
       "         0.6666667 , 1.        ],\n",
       "        [0.13298498, 0.05639337, 0.03588517, ..., 0.3019802 ,\n",
       "         0.6666667 , 0.        ]],\n",
       "\n",
       "       [[0.19555846, 0.12351317, 0.08851675, ..., 0.31683168,\n",
       "         0.6666667 , 0.95652175],\n",
       "        [0.15715219, 0.07880204, 0.05449229, ..., 0.31683168,\n",
       "         0.6666667 , 1.        ],\n",
       "        [0.13298498, 0.05639337, 0.03588517, ..., 0.3019802 ,\n",
       "         0.6666667 , 0.        ],\n",
       "        [0.07446114, 0.02644435, 0.01701223, ..., 0.3019802 ,\n",
       "         0.6666667 , 0.04347826]],\n",
       "\n",
       "       [[0.15715219, 0.07880204, 0.05449229, ..., 0.31683168,\n",
       "         0.6666667 , 1.        ],\n",
       "        [0.13298498, 0.05639337, 0.03588517, ..., 0.3019802 ,\n",
       "         0.6666667 , 0.        ],\n",
       "        [0.07446114, 0.02644435, 0.01701223, ..., 0.3019802 ,\n",
       "         0.6666667 , 0.04347826],\n",
       "        [0.05199216, 0.01837298, 0.00956938, ..., 0.3019802 ,\n",
       "         0.6666667 , 0.08695652]]], dtype=float32)"
      ]
     },
     "execution_count": 30,
     "metadata": {},
     "output_type": "execute_result"
    }
   ],
   "source": [
    "np.random.seed(23)\n",
    "rand = np.random.randint(0, 3000)\n",
    "rand\n",
    "\n",
    "# rand = randint(0, 30000, ran=1234)\n",
    "# rand\n",
    "X[rand:rand+100]"
   ]
  },
  {
   "cell_type": "code",
   "execution_count": 31,
   "id": "9dda491d",
   "metadata": {},
   "outputs": [
    {
     "name": "stdout",
     "output_type": "stream",
     "text": [
      "\u001b[1m4/4\u001b[0m \u001b[32m━━━━━━━━━━━━━━━━━━━━\u001b[0m\u001b[37m\u001b[0m \u001b[1m0s\u001b[0m 4ms/step \n"
     ]
    },
    {
     "data": {
      "image/png": "[encoded data removed]",
      "text/plain": [
       "<Figure size 640x480 with 1 Axes>"
      ]
     },
     "metadata": {},
     "output_type": "display_data"
    }
   ],
   "source": [
    "plt.plot(flatten(y[rand:rand+100]), label = \"Actual values\")\n",
    "plt.plot(flatten(model_with_attention.predict(X[rand:rand+100])), label = \"Predicted values\")\n",
    "plt.legend()\n",
    "plt.ylabel('Hourly traffic flow')\n",
    "plt.show()"
   ]
  },
  {
   "cell_type": "code",
   "execution_count": 32,
   "id": "7f389e46",
   "metadata": {},
   "outputs": [],
   "source": [
    "import math\n",
    "\n",
    "def calculate_rmse(actual_values, predicted_values):\n",
    "    \"\"\"\n",
    "    Calculates the Root Mean Square Error (RMSE) given actual and predicted values.\n",
    "    :param actual_values: List of actual observed values.\n",
    "    :param predicted_values: List of predicted values.\n",
    "    :return: RMSE value.\n",
    "    \"\"\"\n",
    "    if len(actual_values) != len(predicted_values):\n",
    "        raise ValueError(\"Lists must have the same length.\")\n",
    "\n",
    "    squared_errors = [(actual - predicted) ** 2 for actual, predicted in zip(actual_values, predicted_values)]\n",
    "    mean_squared_error = sum(squared_errors) / len(actual_values)\n",
    "    rmse = math.sqrt(mean_squared_error)\n",
    "    return rmse\n",
    "\n",
    "\n",
    "RMSE = calculate_rmse(flatten(pred),flatten(y_test))"
   ]
  },
  {
   "cell_type": "code",
   "execution_count": 33,
   "id": "d7165438-ca40-44b0-ada6-d9202c7d8948",
   "metadata": {},
   "outputs": [
    {
     "name": "stdout",
     "output_type": "stream",
     "text": [
      "MAE:  99.2911024091438\n",
      "RMSE:  155.63940862649534\n",
      "Accuracy:  0.8428889103741661\n",
      "confusion matrix:\n",
      "  [[1181  375    1]\n",
      " [ 196 6614  377]\n",
      " [   0  676  923]]\n"
     ]
    }
   ],
   "source": [
    "print(\"MAE: \", MAE)\n",
    "print(\"RMSE: \", RMSE)\n",
    "print(\"Accuracy: \", accuracy_score(ytest2,pred2))\n",
    "\n",
    "print(\"confusion matrix:\\n \", confusion_matrix(ytest2,pred2))"
   ]
  }
 ],
 "metadata": {
  "kernelspec": {
   "display_name": "Python 3 (ipykernel)",
   "language": "python",
   "name": "python3"
  },
  "language_info": {
   "codemirror_mode": {
    "name": "ipython",
    "version": 3
   },
   "file_extension": ".py",
   "mimetype": "text/x-python",
   "name": "python",
   "nbconvert_exporter": "python",
   "pygments_lexer": "ipython3",
   "version": "3.11.7"
  }
 },
 "nbformat": 4,
 "nbformat_minor": 5
}
