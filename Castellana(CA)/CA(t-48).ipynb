{
 "cells": [
  {
   "cell_type": "markdown",
   "id": "c69cb93b",
   "metadata": {},
   "source": [
    "### Import required libraries"
   ]
  },
  {
   "cell_type": "code",
   "execution_count": 1,
   "id": "0c2d189d-98be-4cd2-8b9e-3f6708ebb27c",
   "metadata": {},
   "outputs": [],
   "source": [
    "import tensorflow as tf\n",
    "\n",
    "# print(\"Num GPUs Available: \", tf.config.list_physical_devices('GPU'))"
   ]
  },
  {
   "cell_type": "code",
   "execution_count": 2,
   "id": "52cf218c",
   "metadata": {},
   "outputs": [
    {
     "name": "stdout",
     "output_type": "stream",
     "text": [
      "Requirement already satisfied: netron in c:\\users\\majid\\anaconda3\\envs\\oldestlearning\\lib\\site-packages (7.7.0)\n"
     ]
    }
   ],
   "source": [
    "import pandas as pd\n",
    "import numpy as np\n",
    "import matplotlib.pyplot as plt \n",
    "from numpy import array\n",
    "from tensorflow.keras.models import Sequential\n",
    "from tensorflow.keras.layers import LSTM, GRU\n",
    "from tensorflow.keras.layers import Bidirectional\n",
    "from tensorflow.keras.layers import Dense\n",
    "from tensorflow.keras.layers import Flatten\n",
    "from tensorflow.keras.layers import TimeDistributed\n",
    "from tensorflow.keras.layers import Dropout\n",
    "from tensorflow.keras.layers import Conv1D\n",
    "from tensorflow.keras.layers import MaxPooling1D\n",
    "from sklearn.preprocessing import LabelEncoder\n",
    "from sklearn.preprocessing import MinMaxScaler\n",
    "from numpy import array\n",
    "from sklearn.model_selection import train_test_split\n",
    "from sklearn.metrics import mean_absolute_error as MAE\n",
    "# from sklearn.metrics import root_mean_squared_error as RMSE\n",
    "import random\n",
    "from sklearn.metrics import accuracy_score\n",
    "from sklearn.metrics import confusion_matrix\n",
    "!pip install netron\n",
    "import netron\n",
    "from random import randint"
   ]
  },
  {
   "cell_type": "markdown",
   "id": "6dbc9dff",
   "metadata": {},
   "source": [
    "First of all, we define this function which split a given sequence into multiple samples where each sample has a specified number of time steps and a specifieded number of outputs."
   ]
  },
  {
   "cell_type": "code",
   "execution_count": 3,
   "id": "fd8cb216",
   "metadata": {},
   "outputs": [],
   "source": [
    "def split_sequences(sequences, n_steps_in, n_steps_out):\n",
    "\tX, y = list(), list()\n",
    "\tfor i in range(len(sequences)):\n",
    "\t\t# find the end of this pattern\n",
    "\t\tend_ix = i + n_steps_in\n",
    "\t\tout_end_ix = end_ix + n_steps_out-1\n",
    "\t\t# check if we are beyond the dataset\n",
    "\t\tif out_end_ix > len(sequences):\n",
    "\t\t\tbreak\n",
    "\t\t# gather input and output parts of the pattern\n",
    "\t\tseq_x, seq_y = sequences[i:end_ix, :-1], sequences[end_ix-1:out_end_ix, -1]\n",
    "\t\tX.append(seq_x)\n",
    "\t\ty.append(seq_y)\n",
    "\treturn array(X), array(y)"
   ]
  },
  {
   "cell_type": "markdown",
   "id": "d52b9133",
   "metadata": {},
   "source": [
    "## Data preprocessing"
   ]
  },
  {
   "cell_type": "markdown",
   "id": "8795a8c9",
   "metadata": {},
   "source": [
    "We import data and remove the index. "
   ]
  },
  {
   "cell_type": "code",
   "execution_count": 4,
   "id": "16b38763",
   "metadata": {},
   "outputs": [
    {
     "name": "stdout",
     "output_type": "stream",
     "text": [
      "       var1(t-48)  var2(t-48)  var3(t-48)  var4(t-48)  var5(t-48)  var6(t-48)  \\\n",
      "0          1778.0      1129.0      1182.0        76.0         0.0        36.0   \n",
      "1          1534.0       795.0      1071.0        76.0         0.0        36.0   \n",
      "2          1134.0       298.0       472.0        76.0         0.0        36.0   \n",
      "3           775.0       208.0       320.0        76.0         0.0        36.0   \n",
      "4           661.0       170.0       335.0        76.0         0.0        36.0   \n",
      "...           ...         ...         ...         ...         ...         ...   \n",
      "31338      1833.0       707.0      1383.0       288.0         0.0       220.0   \n",
      "31339      1896.0       667.0      1236.0       288.0         0.0       220.0   \n",
      "31340      1716.0       399.0       937.0       288.0         0.0       220.0   \n",
      "31341      1375.0       297.0       708.0       288.0         0.0       220.0   \n",
      "31342      1184.0       240.0       590.0       288.0         0.0       220.0   \n",
      "\n",
      "       var7(t-48) var8(t-48)   obj  \n",
      "0           116.0    festivo   224  \n",
      "1           116.0    festivo   165  \n",
      "2           116.0    festivo   129  \n",
      "3           116.0    festivo   244  \n",
      "4           116.0    festivo   391  \n",
      "...           ...        ...   ...  \n",
      "31338       357.0  laborable  1062  \n",
      "31339       357.0  laborable   975  \n",
      "31340       357.0  laborable   739  \n",
      "31341       357.0  laborable   607  \n",
      "31342       357.0  laborable   594  \n",
      "\n",
      "[31343 rows x 9 columns]\n",
      "0        2018-01-03 01:00:00\n",
      "1        2018-01-03 02:00:00\n",
      "2        2018-01-03 03:00:00\n",
      "3        2018-01-03 04:00:00\n",
      "4        2018-01-03 05:00:00\n",
      "                ...         \n",
      "31338    2021-07-31 19:00:00\n",
      "31339    2021-07-31 20:00:00\n",
      "31340    2021-07-31 21:00:00\n",
      "31341    2021-07-31 22:00:00\n",
      "31342    2021-07-31 23:00:00\n",
      "Name: clave, Length: 31343, dtype: object\n"
     ]
    }
   ],
   "source": [
    "data=pd.read_csv('../../Datasets/CA(t-48).csv')\n",
    "index = data['clave']\n",
    "data=data.drop(['clave'], axis=1)\n",
    "print(data)\n",
    "print(index)"
   ]
  },
  {
   "cell_type": "markdown",
   "id": "38adc20a",
   "metadata": {},
   "source": [
    "We encode the categorical variable 'type of day'."
   ]
  },
  {
   "cell_type": "code",
   "execution_count": 5,
   "id": "0d72d3ae",
   "metadata": {},
   "outputs": [],
   "source": [
    "encoder = LabelEncoder()\n",
    "data[data.columns[7]] = encoder.fit_transform(data[data.columns[7]])\n"
   ]
  },
  {
   "cell_type": "markdown",
   "id": "0a148c96",
   "metadata": {},
   "source": [
    "We add the variable 'hour'. "
   ]
  },
  {
   "cell_type": "code",
   "execution_count": 6,
   "id": "add8bd5d",
   "metadata": {},
   "outputs": [
    {
     "data": {
      "text/html": [
       "<div>\n",
       "<style scoped>\n",
       "    .dataframe tbody tr th:only-of-type {\n",
       "        vertical-align: middle;\n",
       "    }\n",
       "\n",
       "    .dataframe tbody tr th {\n",
       "        vertical-align: top;\n",
       "    }\n",
       "\n",
       "    .dataframe thead th {\n",
       "        text-align: right;\n",
       "    }\n",
       "</style>\n",
       "<table border=\"1\" class=\"dataframe\">\n",
       "  <thead>\n",
       "    <tr style=\"text-align: right;\">\n",
       "      <th></th>\n",
       "      <th>var1(t-48)</th>\n",
       "      <th>var2(t-48)</th>\n",
       "      <th>var3(t-48)</th>\n",
       "      <th>var4(t-48)</th>\n",
       "      <th>var5(t-48)</th>\n",
       "      <th>var6(t-48)</th>\n",
       "      <th>var7(t-48)</th>\n",
       "      <th>var8(t-48)</th>\n",
       "      <th>hour</th>\n",
       "      <th>obj</th>\n",
       "    </tr>\n",
       "  </thead>\n",
       "  <tbody>\n",
       "    <tr>\n",
       "      <th>0</th>\n",
       "      <td>1778.0</td>\n",
       "      <td>1129.0</td>\n",
       "      <td>1182.0</td>\n",
       "      <td>76.0</td>\n",
       "      <td>0.0</td>\n",
       "      <td>36.0</td>\n",
       "      <td>116.0</td>\n",
       "      <td>1</td>\n",
       "      <td>1</td>\n",
       "      <td>224</td>\n",
       "    </tr>\n",
       "    <tr>\n",
       "      <th>1</th>\n",
       "      <td>1534.0</td>\n",
       "      <td>795.0</td>\n",
       "      <td>1071.0</td>\n",
       "      <td>76.0</td>\n",
       "      <td>0.0</td>\n",
       "      <td>36.0</td>\n",
       "      <td>116.0</td>\n",
       "      <td>1</td>\n",
       "      <td>2</td>\n",
       "      <td>165</td>\n",
       "    </tr>\n",
       "    <tr>\n",
       "      <th>2</th>\n",
       "      <td>1134.0</td>\n",
       "      <td>298.0</td>\n",
       "      <td>472.0</td>\n",
       "      <td>76.0</td>\n",
       "      <td>0.0</td>\n",
       "      <td>36.0</td>\n",
       "      <td>116.0</td>\n",
       "      <td>1</td>\n",
       "      <td>3</td>\n",
       "      <td>129</td>\n",
       "    </tr>\n",
       "    <tr>\n",
       "      <th>3</th>\n",
       "      <td>775.0</td>\n",
       "      <td>208.0</td>\n",
       "      <td>320.0</td>\n",
       "      <td>76.0</td>\n",
       "      <td>0.0</td>\n",
       "      <td>36.0</td>\n",
       "      <td>116.0</td>\n",
       "      <td>1</td>\n",
       "      <td>4</td>\n",
       "      <td>244</td>\n",
       "    </tr>\n",
       "    <tr>\n",
       "      <th>4</th>\n",
       "      <td>661.0</td>\n",
       "      <td>170.0</td>\n",
       "      <td>335.0</td>\n",
       "      <td>76.0</td>\n",
       "      <td>0.0</td>\n",
       "      <td>36.0</td>\n",
       "      <td>116.0</td>\n",
       "      <td>1</td>\n",
       "      <td>5</td>\n",
       "      <td>391</td>\n",
       "    </tr>\n",
       "    <tr>\n",
       "      <th>...</th>\n",
       "      <td>...</td>\n",
       "      <td>...</td>\n",
       "      <td>...</td>\n",
       "      <td>...</td>\n",
       "      <td>...</td>\n",
       "      <td>...</td>\n",
       "      <td>...</td>\n",
       "      <td>...</td>\n",
       "      <td>...</td>\n",
       "      <td>...</td>\n",
       "    </tr>\n",
       "    <tr>\n",
       "      <th>31338</th>\n",
       "      <td>1833.0</td>\n",
       "      <td>707.0</td>\n",
       "      <td>1383.0</td>\n",
       "      <td>288.0</td>\n",
       "      <td>0.0</td>\n",
       "      <td>220.0</td>\n",
       "      <td>357.0</td>\n",
       "      <td>2</td>\n",
       "      <td>19</td>\n",
       "      <td>1062</td>\n",
       "    </tr>\n",
       "    <tr>\n",
       "      <th>31339</th>\n",
       "      <td>1896.0</td>\n",
       "      <td>667.0</td>\n",
       "      <td>1236.0</td>\n",
       "      <td>288.0</td>\n",
       "      <td>0.0</td>\n",
       "      <td>220.0</td>\n",
       "      <td>357.0</td>\n",
       "      <td>2</td>\n",
       "      <td>20</td>\n",
       "      <td>975</td>\n",
       "    </tr>\n",
       "    <tr>\n",
       "      <th>31340</th>\n",
       "      <td>1716.0</td>\n",
       "      <td>399.0</td>\n",
       "      <td>937.0</td>\n",
       "      <td>288.0</td>\n",
       "      <td>0.0</td>\n",
       "      <td>220.0</td>\n",
       "      <td>357.0</td>\n",
       "      <td>2</td>\n",
       "      <td>21</td>\n",
       "      <td>739</td>\n",
       "    </tr>\n",
       "    <tr>\n",
       "      <th>31341</th>\n",
       "      <td>1375.0</td>\n",
       "      <td>297.0</td>\n",
       "      <td>708.0</td>\n",
       "      <td>288.0</td>\n",
       "      <td>0.0</td>\n",
       "      <td>220.0</td>\n",
       "      <td>357.0</td>\n",
       "      <td>2</td>\n",
       "      <td>22</td>\n",
       "      <td>607</td>\n",
       "    </tr>\n",
       "    <tr>\n",
       "      <th>31342</th>\n",
       "      <td>1184.0</td>\n",
       "      <td>240.0</td>\n",
       "      <td>590.0</td>\n",
       "      <td>288.0</td>\n",
       "      <td>0.0</td>\n",
       "      <td>220.0</td>\n",
       "      <td>357.0</td>\n",
       "      <td>2</td>\n",
       "      <td>23</td>\n",
       "      <td>594</td>\n",
       "    </tr>\n",
       "  </tbody>\n",
       "</table>\n",
       "<p>31343 rows × 10 columns</p>\n",
       "</div>"
      ],
      "text/plain": [
       "       var1(t-48)  var2(t-48)  var3(t-48)  var4(t-48)  var5(t-48)  var6(t-48)  \\\n",
       "0          1778.0      1129.0      1182.0        76.0         0.0        36.0   \n",
       "1          1534.0       795.0      1071.0        76.0         0.0        36.0   \n",
       "2          1134.0       298.0       472.0        76.0         0.0        36.0   \n",
       "3           775.0       208.0       320.0        76.0         0.0        36.0   \n",
       "4           661.0       170.0       335.0        76.0         0.0        36.0   \n",
       "...           ...         ...         ...         ...         ...         ...   \n",
       "31338      1833.0       707.0      1383.0       288.0         0.0       220.0   \n",
       "31339      1896.0       667.0      1236.0       288.0         0.0       220.0   \n",
       "31340      1716.0       399.0       937.0       288.0         0.0       220.0   \n",
       "31341      1375.0       297.0       708.0       288.0         0.0       220.0   \n",
       "31342      1184.0       240.0       590.0       288.0         0.0       220.0   \n",
       "\n",
       "       var7(t-48)  var8(t-48)  hour   obj  \n",
       "0           116.0           1     1   224  \n",
       "1           116.0           1     2   165  \n",
       "2           116.0           1     3   129  \n",
       "3           116.0           1     4   244  \n",
       "4           116.0           1     5   391  \n",
       "...           ...         ...   ...   ...  \n",
       "31338       357.0           2    19  1062  \n",
       "31339       357.0           2    20   975  \n",
       "31340       357.0           2    21   739  \n",
       "31341       357.0           2    22   607  \n",
       "31342       357.0           2    23   594  \n",
       "\n",
       "[31343 rows x 10 columns]"
      ]
     },
     "execution_count": 6,
     "metadata": {},
     "output_type": "execute_result"
    }
   ],
   "source": [
    "a1=list(range(1,24))\n",
    "a2=list(range(0,24))*1304\n",
    "a3=list(range(0,24))\n",
    "a4=a1+a2+a3\n",
    "data['hour'] = a4\n",
    "data = data.reindex(columns=[data.columns[0],data.columns[1],data.columns[2],data.columns[3],data.columns[4],\n",
    "                             data.columns[5],data.columns[6],data.columns[7],'hour','obj'])\n",
    "data"
   ]
  },
  {
   "cell_type": "markdown",
   "id": "954e93b9",
   "metadata": {},
   "source": [
    "We normalise all input variables. "
   ]
  },
  {
   "cell_type": "code",
   "execution_count": 7,
   "id": "65f8df7e",
   "metadata": {},
   "outputs": [],
   "source": [
    "scaler = MinMaxScaler(feature_range=(0, 1))\n",
    "data[data.columns.difference(['obj'])] = scaler.fit_transform(data[data.columns.difference(['obj'])])"
   ]
  },
  {
   "cell_type": "markdown",
   "id": "9363230c",
   "metadata": {},
   "source": [
    "We apply the previously defined function. We split the original sequence data. Each sample has six time steps as predictor variables (from timestep t-15 to timestep t-12) and one target variable (timestep t). "
   ]
  },
  {
   "cell_type": "code",
   "execution_count": 8,
   "id": "6f6e2681",
   "metadata": {},
   "outputs": [
    {
     "name": "stdout",
     "output_type": "stream",
     "text": [
      "(31340, 4, 9)\n",
      "(31340, 1)\n"
     ]
    }
   ],
   "source": [
    "data1=data.values\n",
    "X, y = split_sequences(data1,4,1)\n",
    "print(X.shape)\n",
    "print(y.shape)"
   ]
  },
  {
   "cell_type": "markdown",
   "id": "c5bae631",
   "metadata": {},
   "source": [
    "## Data analyse"
   ]
  },
  {
   "cell_type": "markdown",
   "id": "1bd47ac5",
   "metadata": {},
   "source": [
    "We make a simple statistical analysis of the target variable. "
   ]
  },
  {
   "cell_type": "code",
   "execution_count": 9,
   "id": "13c6a1fb",
   "metadata": {},
   "outputs": [
    {
     "data": {
      "text/plain": [
       "count    31343.000000\n",
       "mean       793.399356\n",
       "std        576.936240\n",
       "min          0.000000\n",
       "25%        236.000000\n",
       "50%        739.000000\n",
       "75%       1357.000000\n",
       "max       4665.000000\n",
       "Name: obj, dtype: float64"
      ]
     },
     "execution_count": 9,
     "metadata": {},
     "output_type": "execute_result"
    }
   ],
   "source": [
    "dataplot = data\n",
    "dataplot['obj'].describe()"
   ]
  },
  {
   "cell_type": "markdown",
   "id": "caff81d0",
   "metadata": {},
   "source": [
    "We plot linechart of the evolution of traffic flow in the first week of 2018 (first available data). "
   ]
  },
  {
   "cell_type": "code",
   "execution_count": 10,
   "id": "778710c6",
   "metadata": {},
   "outputs": [
    {
     "data": {
      "image/png": "[encoded data removed]",
      "text/plain": [
       "<Figure size 640x480 with 1 Axes>"
      ]
     },
     "metadata": {},
     "output_type": "display_data"
    }
   ],
   "source": [
    "plt.plot(list(dataplot['obj'][0:24*7]),\n",
    "        label=index, linewidth=3)\n",
    "plt.title('First week of 2018. Arturo Soria Station')\n",
    "plt.ylabel('Hourly traffic flow')\n",
    "plt.show()"
   ]
  },
  {
   "cell_type": "markdown",
   "id": "4458ab4e",
   "metadata": {},
   "source": [
    "## Model development. "
   ]
  },
  {
   "cell_type": "markdown",
   "id": "08723d86",
   "metadata": {},
   "source": [
    "We reshape our data to have the structure required by the neural network. "
   ]
  },
  {
   "cell_type": "code",
   "execution_count": 11,
   "id": "420d1847",
   "metadata": {},
   "outputs": [],
   "source": [
    "X = X.reshape((X.shape[0], X.shape[1], X.shape[2])).astype('float32')\n"
   ]
  },
  {
   "cell_type": "markdown",
   "id": "ad0849d0",
   "metadata": {},
   "source": [
    "We divide randomly our data in the train and test sets. "
   ]
  },
  {
   "cell_type": "code",
   "execution_count": 12,
   "id": "eb984b95",
   "metadata": {},
   "outputs": [],
   "source": [
    "X_train, X_test, y_train, y_test = train_test_split(\n",
    "X, y, test_size=0.33, random_state=42)"
   ]
  },
  {
   "cell_type": "markdown",
   "id": "95522ffc",
   "metadata": {},
   "source": [
    "We develop our model by using keras and tensorflow. First, we apply a convolutional neural network with 256 kernels which is followed by a max pooling. Then, we flatten data. \n",
    "\n",
    "Subsequently, we use the flatten data as input in the Bidirectional long short term memory network, with 500 units. It is followed by a dropout layer and, finally, we apply a dense layer to obtain the required prediction. "
   ]
  },
  {
   "cell_type": "code",
   "execution_count": 13,
   "id": "f0a6e714",
   "metadata": {},
   "outputs": [
    {
     "name": "stdout",
     "output_type": "stream",
     "text": [
      "Model: \"model\"\n",
      "__________________________________________________________________________________________________\n",
      " Layer (type)                   Output Shape         Param #     Connected to                     \n",
      "==================================================================================================\n",
      " input_1 (InputLayer)           [(None, 4, 9, 1)]    0           []                               \n",
      "                                                                                                  \n",
      " time_distributed (TimeDistribu  (None, 4, 8, 256)   768         ['input_1[0][0]']                \n",
      " ted)                                                                                             \n",
      "                                                                                                  \n",
      " time_distributed_1 (TimeDistri  (None, 4, 4, 256)   0           ['time_distributed[0][0]']       \n",
      " buted)                                                                                           \n",
      "                                                                                                  \n",
      " time_distributed_2 (TimeDistri  (None, 4, 1024)     0           ['time_distributed_1[0][0]']     \n",
      " buted)                                                                                           \n",
      "                                                                                                  \n",
      " gru (GRU)                      (None, 4, 500)       2289000     ['time_distributed_2[0][0]']     \n",
      "                                                                                                  \n",
      " dense (Dense)                  (None, 4, 1000)      501000      ['gru[0][0]']                    \n",
      "                                                                                                  \n",
      " dense_1 (Dense)                (None, 4, 1000)      1001000     ['dense[0][0]']                  \n",
      "                                                                                                  \n",
      " softmax (Softmax)              (None, 4, 1000)      0           ['dense_1[0][0]']                \n",
      "                                                                                                  \n",
      " tf.math.multiply (TFOpLambda)  (None, 4, 1000)      0           ['dense_1[0][0]',                \n",
      "                                                                  'softmax[0][0]']                \n",
      "                                                                                                  \n",
      " average_pooling1d (AveragePool  (None, 1, 1000)     0           ['tf.math.multiply[0][0]']       \n",
      " ing1D)                                                                                           \n",
      "                                                                                                  \n",
      " reshape (Reshape)              (None, 1000)         0           ['average_pooling1d[0][0]']      \n",
      "                                                                                                  \n",
      " dense_2 (Dense)                (None, 1)            1001        ['reshape[0][0]']                \n",
      "                                                                                                  \n",
      "==================================================================================================\n",
      "Total params: 3,792,769\n",
      "Trainable params: 3,792,769\n",
      "Non-trainable params: 0\n",
      "__________________________________________________________________________________________________\n"
     ]
    }
   ],
   "source": [
    "from keras.layers import Input, Layer, Conv1D, MaxPooling1D, Flatten, Bidirectional, GRU\n",
    "from keras.layers import Dropout, Dense, Softmax, AveragePooling1D, Reshape\n",
    "from keras.models import Model\n",
    "\n",
    "\n",
    "\n",
    "\n",
    "import tensorflow as tf\n",
    "from tensorflow.keras.layers import Input, Conv1D, MaxPooling1D, Flatten, Bidirectional, GRU, Softmax, Dense, TimeDistributed\n",
    "\n",
    "# Define your input shape\n",
    "input_shape = (4, 9, 1)\n",
    "\n",
    "import tensorflow as tf\n",
    "from tensorflow.keras.layers import Input, Conv1D, MaxPooling1D, Flatten, Bidirectional, GRU, Softmax, Dense, TimeDistributed, AveragePooling1D\n",
    "\n",
    "# Define your input shape\n",
    "input_shape = (4, 9, 1)\n",
    "\n",
    "# Create the input layer\n",
    "input_layer = Input(shape=input_shape)\n",
    "\n",
    "# Apply Conv1D with soft attention\n",
    "conv_layer = TimeDistributed(Conv1D(filters=256, kernel_size=2, activation='relu'))(input_layer)\n",
    "\n",
    "# Apply MaxPooling1D\n",
    "pooling_layer = TimeDistributed(MaxPooling1D(pool_size=2, padding='same'))(conv_layer)\n",
    "\n",
    "# Flatten the output\n",
    "flatten_layer = TimeDistributed(Flatten())(pooling_layer)\n",
    "\n",
    "# Bidirectional GRU layer\n",
    "gru_layer = GRU(500, activation='relu', return_sequences=True)(flatten_layer)\n",
    "\n",
    "# dropout_layer = Dropout(0.5)(gru_layer)\n",
    "# Dense layers\n",
    "denselayer1 = Dense(1000)(gru_layer)\n",
    "denselayer2 = Dense(1000)(denselayer1)\n",
    "\n",
    "# Apply soft attention mechanism\n",
    "attention_weights = Softmax(axis=1)(denselayer2)\n",
    "attended_output = denselayer2 * attention_weights\n",
    "\n",
    "# Apply AveragePooling1D\n",
    "pooled_output = AveragePooling1D(pool_size=4)(attended_output)\n",
    "\n",
    "# Reshape the pooled tensor to (None, 1000)\n",
    "reshaped_output = tf.keras.layers.Reshape(target_shape=(1000,))(pooled_output)\n",
    "\n",
    "# Output layer\n",
    "output_layer = Dense(1)(reshaped_output)\n",
    "\n",
    "# Compile the model\n",
    "model_with_attention = tf.keras.Model(inputs=input_layer, outputs=output_layer)\n",
    "model_with_attention.compile(optimizer='adam', loss='mae')\n",
    "\n",
    "# Summary of the modified model\n",
    "model_with_attention.summary()\n",
    "\n"
   ]
  },
  {
   "cell_type": "code",
   "execution_count": 14,
   "id": "bd867a10-8bc8-466d-9be2-e34a7de2f5cd",
   "metadata": {},
   "outputs": [],
   "source": [
    "# model3.summary()"
   ]
  },
  {
   "cell_type": "code",
   "execution_count": 15,
   "id": "7c4c19ab-196e-4345-a7fb-8fe6d1431c70",
   "metadata": {},
   "outputs": [
    {
     "name": "stdout",
     "output_type": "stream",
     "text": [
      "(20997, 1)\n"
     ]
    }
   ],
   "source": [
    "print(y_train.shape)"
   ]
  },
  {
   "cell_type": "markdown",
   "id": "e07e6b25",
   "metadata": {},
   "source": [
    "We provide a graphical representation of the model by using Netron. Reader can deeply analyse each layer of the model. "
   ]
  },
  {
   "cell_type": "code",
   "execution_count": 16,
   "id": "f999d515",
   "metadata": {
    "scrolled": true
   },
   "outputs": [],
   "source": [
    "\n",
    "# model_with_attention.save('model_with_attention.keras')\n",
    "# netron.start('model_with_attention.h5')"
   ]
  },
  {
   "cell_type": "markdown",
   "id": "6ce5e668",
   "metadata": {},
   "source": [
    "We train the model."
   ]
  },
  {
   "cell_type": "code",
   "execution_count": 17,
   "id": "84c63f1c",
   "metadata": {},
   "outputs": [
    {
     "name": "stdout",
     "output_type": "stream",
     "text": [
      "Epoch 1/100\n",
      "657/657 [==============================] - 26s 39ms/step - loss: 353.7367 - val_loss: 292.9191\n",
      "Epoch 2/100\n",
      "657/657 [==============================] - 27s 42ms/step - loss: 266.7744 - val_loss: 264.4561\n",
      "Epoch 3/100\n",
      "657/657 [==============================] - 27s 41ms/step - loss: 253.9223 - val_loss: 250.6957\n",
      "Epoch 4/100\n",
      "657/657 [==============================] - 27s 41ms/step - loss: 245.8737 - val_loss: 246.8176\n",
      "Epoch 5/100\n",
      "657/657 [==============================] - 27s 41ms/step - loss: 238.3391 - val_loss: 241.5744\n",
      "Epoch 6/100\n",
      "657/657 [==============================] - 27s 41ms/step - loss: 232.0428 - val_loss: 229.8158\n",
      "Epoch 7/100\n",
      "657/657 [==============================] - 27s 41ms/step - loss: 224.2492 - val_loss: 235.2377\n",
      "Epoch 8/100\n",
      "657/657 [==============================] - 27s 41ms/step - loss: 216.7294 - val_loss: 215.7858\n",
      "Epoch 9/100\n",
      "657/657 [==============================] - 27s 41ms/step - loss: 211.2193 - val_loss: 210.2255\n",
      "Epoch 10/100\n",
      "657/657 [==============================] - 27s 42ms/step - loss: 205.1512 - val_loss: 221.2460\n",
      "Epoch 11/100\n",
      "657/657 [==============================] - 27s 42ms/step - loss: 200.6818 - val_loss: 204.2529\n",
      "Epoch 12/100\n",
      "657/657 [==============================] - 28s 42ms/step - loss: 197.0004 - val_loss: 214.0507\n",
      "Epoch 13/100\n",
      "657/657 [==============================] - 27s 42ms/step - loss: 194.2325 - val_loss: 197.2515\n",
      "Epoch 14/100\n",
      "657/657 [==============================] - 27s 42ms/step - loss: 189.5349 - val_loss: 188.6925\n",
      "Epoch 15/100\n",
      "657/657 [==============================] - 27s 42ms/step - loss: 185.9306 - val_loss: 189.6802\n",
      "Epoch 16/100\n",
      "657/657 [==============================] - 27s 41ms/step - loss: 183.8121 - val_loss: 186.6524\n",
      "Epoch 17/100\n",
      "657/657 [==============================] - 27s 41ms/step - loss: 179.9502 - val_loss: 189.1747\n",
      "Epoch 18/100\n",
      "657/657 [==============================] - 27s 41ms/step - loss: 177.4902 - val_loss: 181.5159\n",
      "Epoch 19/100\n",
      "657/657 [==============================] - 27s 42ms/step - loss: 176.8577 - val_loss: 180.7194\n",
      "Epoch 20/100\n",
      "657/657 [==============================] - 27s 42ms/step - loss: 172.6258 - val_loss: 175.9608\n",
      "Epoch 21/100\n",
      "657/657 [==============================] - 27s 41ms/step - loss: 169.6470 - val_loss: 187.1171\n",
      "Epoch 22/100\n",
      "657/657 [==============================] - 27s 42ms/step - loss: 168.4875 - val_loss: 171.6740\n",
      "Epoch 23/100\n",
      "657/657 [==============================] - 27s 42ms/step - loss: 167.3222 - val_loss: 175.3470\n",
      "Epoch 24/100\n",
      "657/657 [==============================] - 27s 42ms/step - loss: 166.0402 - val_loss: 170.5375\n",
      "Epoch 25/100\n",
      "657/657 [==============================] - 27s 41ms/step - loss: 165.0634 - val_loss: 177.8976\n",
      "Epoch 26/100\n",
      "657/657 [==============================] - 27s 42ms/step - loss: 164.1555 - val_loss: 181.1896\n",
      "Epoch 27/100\n",
      "657/657 [==============================] - 28s 42ms/step - loss: 162.3063 - val_loss: 166.2736\n",
      "Epoch 28/100\n",
      "657/657 [==============================] - 27s 42ms/step - loss: 161.1494 - val_loss: 181.1219\n",
      "Epoch 29/100\n",
      "657/657 [==============================] - 28s 42ms/step - loss: 159.0587 - val_loss: 170.6785\n",
      "Epoch 30/100\n",
      "657/657 [==============================] - 28s 42ms/step - loss: 158.9364 - val_loss: 170.3363\n",
      "Epoch 31/100\n",
      "657/657 [==============================] - 27s 42ms/step - loss: 157.1133 - val_loss: 167.7713\n",
      "Epoch 32/100\n",
      "657/657 [==============================] - 27s 42ms/step - loss: 157.0253 - val_loss: 167.2673\n",
      "Epoch 33/100\n",
      "657/657 [==============================] - 27s 41ms/step - loss: 156.6659 - val_loss: 164.1781\n",
      "Epoch 34/100\n",
      "657/657 [==============================] - 27s 42ms/step - loss: 158.1343 - val_loss: 167.6397\n",
      "Epoch 35/100\n",
      "657/657 [==============================] - 27s 41ms/step - loss: 153.8602 - val_loss: 163.8611\n",
      "Epoch 36/100\n",
      "657/657 [==============================] - 27s 41ms/step - loss: 154.3469 - val_loss: 163.1433\n",
      "Epoch 37/100\n",
      "657/657 [==============================] - 27s 42ms/step - loss: 152.4531 - val_loss: 164.5807\n",
      "Epoch 38/100\n",
      "657/657 [==============================] - 27s 42ms/step - loss: 151.2134 - val_loss: 166.5631\n",
      "Epoch 39/100\n",
      "657/657 [==============================] - 27s 42ms/step - loss: 151.8987 - val_loss: 165.4093\n",
      "Epoch 40/100\n",
      "657/657 [==============================] - 27s 42ms/step - loss: 149.6153 - val_loss: 159.6612\n",
      "Epoch 41/100\n",
      "657/657 [==============================] - 27s 42ms/step - loss: 149.1220 - val_loss: 161.6107\n",
      "Epoch 42/100\n",
      "657/657 [==============================] - 27s 42ms/step - loss: 149.8187 - val_loss: 157.5839\n",
      "Epoch 43/100\n",
      "657/657 [==============================] - 27s 42ms/step - loss: 148.7658 - val_loss: 174.5766\n",
      "Epoch 44/100\n",
      "657/657 [==============================] - 27s 41ms/step - loss: 147.1622 - val_loss: 160.2623\n",
      "Epoch 45/100\n",
      "657/657 [==============================] - 27s 41ms/step - loss: 147.1374 - val_loss: 156.4392\n",
      "Epoch 46/100\n",
      "657/657 [==============================] - 27s 41ms/step - loss: 146.0335 - val_loss: 161.5177\n",
      "Epoch 47/100\n",
      "657/657 [==============================] - 27s 41ms/step - loss: 146.0775 - val_loss: 168.3734\n",
      "Epoch 48/100\n",
      "657/657 [==============================] - 27s 41ms/step - loss: 144.8353 - val_loss: 159.3855\n",
      "Epoch 49/100\n",
      "657/657 [==============================] - 27s 41ms/step - loss: 143.3008 - val_loss: 160.7596\n",
      "Epoch 50/100\n",
      "657/657 [==============================] - 27s 41ms/step - loss: 142.2798 - val_loss: 159.2754\n",
      "Epoch 51/100\n",
      "657/657 [==============================] - 27s 41ms/step - loss: 142.1577 - val_loss: 161.3528\n",
      "Epoch 52/100\n",
      "657/657 [==============================] - 27s 41ms/step - loss: 142.9872 - val_loss: 164.8674\n",
      "Epoch 53/100\n",
      "657/657 [==============================] - 27s 41ms/step - loss: 141.5823 - val_loss: 156.5784\n",
      "Epoch 54/100\n",
      "657/657 [==============================] - 27s 41ms/step - loss: 139.9460 - val_loss: 157.0777\n",
      "Epoch 55/100\n",
      "657/657 [==============================] - 27s 41ms/step - loss: 141.2903 - val_loss: 164.0200\n",
      "Epoch 56/100\n",
      "657/657 [==============================] - 27s 41ms/step - loss: 138.7925 - val_loss: 162.0856\n",
      "Epoch 57/100\n",
      "657/657 [==============================] - 27s 41ms/step - loss: 139.2492 - val_loss: 156.2833\n",
      "Epoch 58/100\n",
      "657/657 [==============================] - 27s 41ms/step - loss: 137.6766 - val_loss: 154.9490\n",
      "Epoch 59/100\n",
      "657/657 [==============================] - 27s 41ms/step - loss: 137.6863 - val_loss: 157.4887\n",
      "Epoch 60/100\n",
      "657/657 [==============================] - 27s 41ms/step - loss: 137.0679 - val_loss: 162.7338\n",
      "Epoch 61/100\n",
      "657/657 [==============================] - 27s 42ms/step - loss: 136.0856 - val_loss: 158.0229\n",
      "Epoch 62/100\n",
      "657/657 [==============================] - 27s 42ms/step - loss: 135.2282 - val_loss: 159.3857\n",
      "Epoch 63/100\n",
      "657/657 [==============================] - 27s 41ms/step - loss: 134.7049 - val_loss: 157.0114\n",
      "Epoch 64/100\n",
      "657/657 [==============================] - 27s 41ms/step - loss: 134.2576 - val_loss: 154.7063\n",
      "Epoch 65/100\n",
      "657/657 [==============================] - 27s 41ms/step - loss: 134.9864 - val_loss: 154.7342\n",
      "Epoch 66/100\n",
      "657/657 [==============================] - 27s 41ms/step - loss: 132.3533 - val_loss: 153.1714\n",
      "Epoch 67/100\n",
      "657/657 [==============================] - 27s 41ms/step - loss: 132.8450 - val_loss: 157.0596\n",
      "Epoch 68/100\n",
      "657/657 [==============================] - 27s 41ms/step - loss: 131.5885 - val_loss: 160.2866\n",
      "Epoch 69/100\n",
      "657/657 [==============================] - 27s 41ms/step - loss: 131.6894 - val_loss: 153.1002\n",
      "Epoch 70/100\n",
      "657/657 [==============================] - 27s 41ms/step - loss: 130.0720 - val_loss: 162.1429\n",
      "Epoch 71/100\n",
      "657/657 [==============================] - 27s 42ms/step - loss: 129.7655 - val_loss: 154.1905\n",
      "Epoch 72/100\n",
      "657/657 [==============================] - 27s 42ms/step - loss: 131.4036 - val_loss: 153.3624\n",
      "Epoch 73/100\n",
      "657/657 [==============================] - 28s 42ms/step - loss: 130.4123 - val_loss: 158.2811\n",
      "Epoch 74/100\n",
      "657/657 [==============================] - 27s 42ms/step - loss: 129.6557 - val_loss: 154.3783\n",
      "Epoch 75/100\n",
      "657/657 [==============================] - 27s 42ms/step - loss: 128.5852 - val_loss: 152.0957\n",
      "Epoch 76/100\n",
      "657/657 [==============================] - 27s 42ms/step - loss: 127.4007 - val_loss: 158.8433\n"
     ]
    },
    {
     "name": "stdout",
     "output_type": "stream",
     "text": [
      "Epoch 77/100\n",
      "657/657 [==============================] - 27s 41ms/step - loss: 127.5032 - val_loss: 156.6992\n",
      "Epoch 78/100\n",
      "657/657 [==============================] - 27s 42ms/step - loss: 126.2432 - val_loss: 157.8611\n",
      "Epoch 79/100\n",
      "657/657 [==============================] - 27s 42ms/step - loss: 125.3335 - val_loss: 155.8691\n",
      "Epoch 80/100\n",
      "657/657 [==============================] - 27s 42ms/step - loss: 124.7882 - val_loss: 152.3975\n",
      "Epoch 81/100\n",
      "657/657 [==============================] - 27s 41ms/step - loss: 124.7193 - val_loss: 157.0009\n",
      "Epoch 82/100\n",
      "657/657 [==============================] - 27s 42ms/step - loss: 124.0709 - val_loss: 155.4970\n",
      "Epoch 83/100\n",
      "657/657 [==============================] - 28s 42ms/step - loss: 124.3769 - val_loss: 157.6960\n",
      "Epoch 84/100\n",
      "657/657 [==============================] - 27s 42ms/step - loss: 123.8473 - val_loss: 153.0913\n",
      "Epoch 85/100\n",
      "657/657 [==============================] - 27s 42ms/step - loss: 123.1639 - val_loss: 158.5253\n",
      "Epoch 86/100\n",
      "657/657 [==============================] - 27s 42ms/step - loss: 123.0214 - val_loss: 155.1004\n",
      "Epoch 87/100\n",
      "657/657 [==============================] - 28s 42ms/step - loss: 122.6143 - val_loss: 152.3425\n",
      "Epoch 88/100\n",
      "657/657 [==============================] - 28s 43ms/step - loss: 120.8583 - val_loss: 152.3449\n",
      "Epoch 89/100\n",
      "657/657 [==============================] - 28s 43ms/step - loss: 121.1429 - val_loss: 154.5762\n",
      "Epoch 90/100\n",
      "657/657 [==============================] - 28s 42ms/step - loss: 119.9986 - val_loss: 154.9583\n",
      "Epoch 91/100\n",
      "657/657 [==============================] - 28s 42ms/step - loss: 120.2598 - val_loss: 150.4374\n",
      "Epoch 92/100\n",
      "657/657 [==============================] - 28s 42ms/step - loss: 118.3231 - val_loss: 154.8479\n",
      "Epoch 93/100\n",
      "657/657 [==============================] - 28s 42ms/step - loss: 118.3995 - val_loss: 150.1907\n",
      "Epoch 94/100\n",
      "657/657 [==============================] - 28s 43ms/step - loss: 117.6741 - val_loss: 152.8342\n",
      "Epoch 95/100\n",
      "657/657 [==============================] - 28s 43ms/step - loss: 118.0215 - val_loss: 150.3723\n",
      "Epoch 96/100\n",
      "657/657 [==============================] - 28s 42ms/step - loss: 116.7746 - val_loss: 151.3897\n",
      "Epoch 97/100\n",
      "657/657 [==============================] - 28s 42ms/step - loss: 116.4546 - val_loss: 154.5435\n",
      "Epoch 98/100\n",
      "657/657 [==============================] - 27s 42ms/step - loss: 116.1118 - val_loss: 152.3896\n",
      "Epoch 99/100\n",
      "657/657 [==============================] - 27s 42ms/step - loss: 115.3607 - val_loss: 153.4879\n",
      "Epoch 100/100\n",
      "657/657 [==============================] - 27s 42ms/step - loss: 115.0214 - val_loss: 150.1605\n",
      "Wall time: 45min 31s\n"
     ]
    }
   ],
   "source": [
    "%%time\n",
    "\n",
    "history3=model_with_attention.fit(X_train,y_train,epochs=100,batch_size = 32, shuffle=True,validation_data=(X_test,y_test))"
   ]
  },
  {
   "cell_type": "code",
   "execution_count": 18,
   "id": "abba0b87-9118-4cc6-9653-6de20c9a1872",
   "metadata": {},
   "outputs": [],
   "source": [
    "# import keras\n",
    "# tf.keras.s(model_with_attention, 'model_with_attention_AS2(t-12).keras')\n",
    "model_with_attention.save('model_with_attention_CA(t-48).keras')\n",
    "\n",
    "train_loss_pd = pd.DataFrame(history3.history['loss'])\n",
    "val_loss_pd = pd.DataFrame(history3.history['loss'])\n",
    "train_loss_pd.to_csv('train_loss_CA(t-48)')\n",
    "val_loss_pd.to_csv('val_loss_CA(t-48)')"
   ]
  },
  {
   "cell_type": "code",
   "execution_count": 19,
   "id": "6a350564",
   "metadata": {},
   "outputs": [
    {
     "data": {
      "text/plain": [
       "{'loss': [353.7366638183594,\n",
       "  266.7743835449219,\n",
       "  253.92234802246094,\n",
       "  245.8737030029297,\n",
       "  238.33912658691406,\n",
       "  232.04278564453125,\n",
       "  224.24920654296875,\n",
       "  216.7294158935547,\n",
       "  211.2193145751953,\n",
       "  205.1511688232422,\n",
       "  200.6818084716797,\n",
       "  197.00038146972656,\n",
       "  194.2324676513672,\n",
       "  189.534912109375,\n",
       "  185.93055725097656,\n",
       "  183.8121337890625,\n",
       "  179.9501953125,\n",
       "  177.4901580810547,\n",
       "  176.85768127441406,\n",
       "  172.62583923339844,\n",
       "  169.64703369140625,\n",
       "  168.487548828125,\n",
       "  167.32220458984375,\n",
       "  166.0402069091797,\n",
       "  165.06341552734375,\n",
       "  164.155517578125,\n",
       "  162.3063201904297,\n",
       "  161.1493682861328,\n",
       "  159.0586700439453,\n",
       "  158.93638610839844,\n",
       "  157.11325073242188,\n",
       "  157.02528381347656,\n",
       "  156.6658935546875,\n",
       "  158.13429260253906,\n",
       "  153.86016845703125,\n",
       "  154.346923828125,\n",
       "  152.45306396484375,\n",
       "  151.2134246826172,\n",
       "  151.898681640625,\n",
       "  149.6153106689453,\n",
       "  149.12196350097656,\n",
       "  149.81869506835938,\n",
       "  148.76577758789062,\n",
       "  147.1622314453125,\n",
       "  147.1373748779297,\n",
       "  146.0335235595703,\n",
       "  146.0774688720703,\n",
       "  144.83531188964844,\n",
       "  143.30075073242188,\n",
       "  142.27984619140625,\n",
       "  142.15765380859375,\n",
       "  142.98724365234375,\n",
       "  141.582275390625,\n",
       "  139.94601440429688,\n",
       "  141.29034423828125,\n",
       "  138.79251098632812,\n",
       "  139.24916076660156,\n",
       "  137.6765899658203,\n",
       "  137.68629455566406,\n",
       "  137.06788635253906,\n",
       "  136.08555603027344,\n",
       "  135.22824096679688,\n",
       "  134.70489501953125,\n",
       "  134.25759887695312,\n",
       "  134.9863739013672,\n",
       "  132.3533477783203,\n",
       "  132.8450469970703,\n",
       "  131.58851623535156,\n",
       "  131.68942260742188,\n",
       "  130.0719757080078,\n",
       "  129.76553344726562,\n",
       "  131.4036407470703,\n",
       "  130.41233825683594,\n",
       "  129.65570068359375,\n",
       "  128.58522033691406,\n",
       "  127.40074920654297,\n",
       "  127.50321197509766,\n",
       "  126.24324035644531,\n",
       "  125.33345031738281,\n",
       "  124.78822326660156,\n",
       "  124.71926879882812,\n",
       "  124.07089233398438,\n",
       "  124.37693786621094,\n",
       "  123.84729766845703,\n",
       "  123.16387176513672,\n",
       "  123.02140808105469,\n",
       "  122.61426544189453,\n",
       "  120.85832214355469,\n",
       "  121.14287567138672,\n",
       "  119.9985580444336,\n",
       "  120.25983428955078,\n",
       "  118.3230972290039,\n",
       "  118.39945220947266,\n",
       "  117.67405700683594,\n",
       "  118.02147674560547,\n",
       "  116.77462005615234,\n",
       "  116.45455169677734,\n",
       "  116.11182403564453,\n",
       "  115.3606948852539,\n",
       "  115.02136993408203],\n",
       " 'val_loss': [292.9190673828125,\n",
       "  264.4560852050781,\n",
       "  250.69569396972656,\n",
       "  246.817626953125,\n",
       "  241.57437133789062,\n",
       "  229.8157958984375,\n",
       "  235.23765563964844,\n",
       "  215.7858428955078,\n",
       "  210.22549438476562,\n",
       "  221.24603271484375,\n",
       "  204.25294494628906,\n",
       "  214.0507049560547,\n",
       "  197.25148010253906,\n",
       "  188.69253540039062,\n",
       "  189.68023681640625,\n",
       "  186.65235900878906,\n",
       "  189.17466735839844,\n",
       "  181.5159454345703,\n",
       "  180.7193603515625,\n",
       "  175.9608154296875,\n",
       "  187.11708068847656,\n",
       "  171.6739959716797,\n",
       "  175.34695434570312,\n",
       "  170.53746032714844,\n",
       "  177.89756774902344,\n",
       "  181.18963623046875,\n",
       "  166.27362060546875,\n",
       "  181.1219482421875,\n",
       "  170.6785430908203,\n",
       "  170.3363494873047,\n",
       "  167.77133178710938,\n",
       "  167.2672576904297,\n",
       "  164.17813110351562,\n",
       "  167.63970947265625,\n",
       "  163.86109924316406,\n",
       "  163.14328002929688,\n",
       "  164.5806884765625,\n",
       "  166.56307983398438,\n",
       "  165.4093017578125,\n",
       "  159.66116333007812,\n",
       "  161.6106719970703,\n",
       "  157.5839385986328,\n",
       "  174.57664489746094,\n",
       "  160.2622833251953,\n",
       "  156.43919372558594,\n",
       "  161.5176544189453,\n",
       "  168.3733673095703,\n",
       "  159.38548278808594,\n",
       "  160.75955200195312,\n",
       "  159.2754364013672,\n",
       "  161.352783203125,\n",
       "  164.8673553466797,\n",
       "  156.57839965820312,\n",
       "  157.07772827148438,\n",
       "  164.01998901367188,\n",
       "  162.0856170654297,\n",
       "  156.2833251953125,\n",
       "  154.9490203857422,\n",
       "  157.48873901367188,\n",
       "  162.7337646484375,\n",
       "  158.0229034423828,\n",
       "  159.38572692871094,\n",
       "  157.0113983154297,\n",
       "  154.70626831054688,\n",
       "  154.7342071533203,\n",
       "  153.17140197753906,\n",
       "  157.05955505371094,\n",
       "  160.28663635253906,\n",
       "  153.10020446777344,\n",
       "  162.14292907714844,\n",
       "  154.19053649902344,\n",
       "  153.36241149902344,\n",
       "  158.28111267089844,\n",
       "  154.37828063964844,\n",
       "  152.09573364257812,\n",
       "  158.8433380126953,\n",
       "  156.69923400878906,\n",
       "  157.8611297607422,\n",
       "  155.86911010742188,\n",
       "  152.39752197265625,\n",
       "  157.0009002685547,\n",
       "  155.49700927734375,\n",
       "  157.696044921875,\n",
       "  153.0912628173828,\n",
       "  158.52528381347656,\n",
       "  155.10044860839844,\n",
       "  152.3424835205078,\n",
       "  152.34486389160156,\n",
       "  154.5762481689453,\n",
       "  154.95826721191406,\n",
       "  150.4373779296875,\n",
       "  154.84791564941406,\n",
       "  150.19070434570312,\n",
       "  152.834228515625,\n",
       "  150.37225341796875,\n",
       "  151.38970947265625,\n",
       "  154.5435028076172,\n",
       "  152.38955688476562,\n",
       "  153.4878692626953,\n",
       "  150.1604766845703]}"
      ]
     },
     "execution_count": 19,
     "metadata": {},
     "output_type": "execute_result"
    }
   ],
   "source": [
    "# print(history3.items())\n",
    "history3.history"
   ]
  },
  {
   "cell_type": "code",
   "execution_count": 20,
   "id": "b3eaaafe",
   "metadata": {},
   "outputs": [
    {
     "data": {
      "text/plain": [
       "<matplotlib.legend.Legend at 0x22ca8636088>"
      ]
     },
     "execution_count": 20,
     "metadata": {},
     "output_type": "execute_result"
    },
    {
     "data": {
      "image/png": "[encoded data removed]",
      "text/plain": [
       "<Figure size 1000x500 with 1 Axes>"
      ]
     },
     "metadata": {},
     "output_type": "display_data"
    }
   ],
   "source": [
    "plt.figure(figsize=(10, 5))\n",
    "plt.plot(train_loss_pd, label='train')\n",
    "plt.plot(val_loss_pd, label='val')\n",
    "plt.legend()"
   ]
  },
  {
   "cell_type": "markdown",
   "id": "9c54db72",
   "metadata": {},
   "source": [
    "## Model evaluation"
   ]
  },
  {
   "cell_type": "markdown",
   "id": "b2ea78bf",
   "metadata": {},
   "source": [
    "We define this function, which will be useful to evaluate the model."
   ]
  },
  {
   "cell_type": "code",
   "execution_count": 21,
   "id": "8c0e5a3b",
   "metadata": {},
   "outputs": [],
   "source": [
    "def flatten(t):\n",
    "    return [item for sublist in t for item in sublist]"
   ]
  },
  {
   "cell_type": "markdown",
   "id": "e9674031",
   "metadata": {},
   "source": [
    "We evaluate the model by using the first metric (mean absolute error). "
   ]
  },
  {
   "cell_type": "code",
   "execution_count": 22,
   "id": "5ecf3c33",
   "metadata": {},
   "outputs": [
    {
     "name": "stdout",
     "output_type": "stream",
     "text": [
      "324/324 [==============================] - 4s 11ms/step\n",
      "(10343, 1)\n",
      "10343\n",
      "(10343, 1)\n",
      "10343\n",
      "150.16044429184032\n"
     ]
    }
   ],
   "source": [
    "from sklearn.metrics import mean_absolute_error \n",
    "# from sklearn.metrics import root_mean_squared_error \n",
    "\n",
    "pred = model_with_attention.predict(X_test)\n",
    "print(pred.shape)\n",
    "print(len(flatten(pred)))\n",
    "print(y_test.shape)\n",
    "print(len(flatten(y_test)))\n",
    "\n",
    "MAE = mean_absolute_error(flatten(pred),flatten(y_test))\n",
    "print(MAE)\n",
    "# RMSE = root_mean_squared_error(flatten(pred),flatten(y_test))\n",
    "# print(RMSE)"
   ]
  },
  {
   "cell_type": "markdown",
   "id": "12982dd9",
   "metadata": {},
   "source": [
    "We will evaluate the model with the second metric (accuracy). For this, we divide target variable in three categories: first, data between percentil 0 and 15; second, data between percentil 15 and 85 and thrid, data between percentil 85 and 100. "
   ]
  },
  {
   "cell_type": "code",
   "execution_count": 23,
   "id": "10369faa-d540-4ccd-a24b-4fe206c3d53f",
   "metadata": {},
   "outputs": [
    {
     "name": "stdout",
     "output_type": "stream",
     "text": [
      "324/324 [==============================] - 4s 12ms/step\n",
      "[[ 244.72206]\n",
      " [ 966.2527 ]\n",
      " [ 220.47456]\n",
      " ...\n",
      " [1437.3917 ]\n",
      " [ 271.7332 ]\n",
      " [ 205.03539]]\n"
     ]
    }
   ],
   "source": [
    "pred = model_with_attention.predict(X_test)\n",
    "print(pred)"
   ]
  },
  {
   "cell_type": "code",
   "execution_count": 24,
   "id": "17ad32ac-3aff-4ecf-b8b9-e496b63f9301",
   "metadata": {},
   "outputs": [
    {
     "data": {
      "text/plain": [
       "array([[  95.],\n",
       "       [1174.],\n",
       "       [ 332.],\n",
       "       ...,\n",
       "       [1402.],\n",
       "       [ 154.],\n",
       "       [ 287.]])"
      ]
     },
     "execution_count": 24,
     "metadata": {},
     "output_type": "execute_result"
    }
   ],
   "source": [
    "y_test"
   ]
  },
  {
   "cell_type": "code",
   "execution_count": 25,
   "id": "d944ccff",
   "metadata": {},
   "outputs": [],
   "source": [
    "obj = list(data['obj'].values)"
   ]
  },
  {
   "cell_type": "code",
   "execution_count": 26,
   "id": "36466028-ed5d-423b-ac17-9ad0b8463604",
   "metadata": {},
   "outputs": [
    {
     "data": {
      "text/plain": [
       "dtype('float32')"
      ]
     },
     "execution_count": 26,
     "metadata": {},
     "output_type": "execute_result"
    }
   ],
   "source": [
    "pred.dtype == np.float64\n",
    "pred.dtype"
   ]
  },
  {
   "cell_type": "code",
   "execution_count": 27,
   "id": "58982b45",
   "metadata": {},
   "outputs": [
    {
     "name": "stdout",
     "output_type": "stream",
     "text": [
      "0\n",
      "117.0\n",
      "1522.0\n",
      "4665\n"
     ]
    }
   ],
   "source": [
    "print(np.quantile(obj, 0))\n",
    "print(np.quantile(obj, 0.15))\n",
    "print(np.quantile(obj, 0.85))\n",
    "print(np.quantile(obj, 1))"
   ]
  },
  {
   "cell_type": "markdown",
   "id": "d555df61",
   "metadata": {},
   "source": [
    "We add and substract a small value in extreme values in order to avoid issues. We also transform the predictions lower than 0 in 0. "
   ]
  },
  {
   "cell_type": "code",
   "execution_count": 28,
   "id": "649392d4",
   "metadata": {},
   "outputs": [],
   "source": [
    "bins = [np.quantile(obj, 0)-0.001,np.quantile(obj, 0.15),np.quantile(obj, 0.85),np.quantile(obj, 1)+0.001]\n",
    "names = ['a','b','c']\n",
    "for i in range(len(pred)):\n",
    "    if pred[i]<0:\n",
    "        pred[i] = 0\n",
    "pred2=pd.cut(flatten(pred), bins, labels = names)\n",
    "ytest2=pd.cut(flatten(y_test), bins, labels = names)"
   ]
  },
  {
   "cell_type": "markdown",
   "id": "bfff6821",
   "metadata": {},
   "source": [
    "We obtain the accuracy metric and the confusion matrix corresponding. "
   ]
  },
  {
   "cell_type": "code",
   "execution_count": 29,
   "id": "fbde0271",
   "metadata": {},
   "outputs": [
    {
     "name": "stdout",
     "output_type": "stream",
     "text": [
      "0.8403751329401528\n",
      "[[1172  363    7]\n",
      " [ 185 6592  440]\n",
      " [   0  656  928]]\n"
     ]
    }
   ],
   "source": [
    "print(accuracy_score(ytest2,pred2))\n",
    "print(confusion_matrix(ytest2,pred2))"
   ]
  },
  {
   "cell_type": "markdown",
   "id": "d58c8161",
   "metadata": {},
   "source": [
    "###  Plotting the actual and predicted values. "
   ]
  },
  {
   "cell_type": "markdown",
   "id": "1692014e",
   "metadata": {},
   "source": [
    "We selelct randomly an observation of the entire dataset and we will analyse the 100 successive observations. We plot\n",
    "the actual and the predicted values of these observations. "
   ]
  },
  {
   "cell_type": "code",
   "execution_count": 30,
   "id": "5711b77d",
   "metadata": {},
   "outputs": [
    {
     "data": {
      "text/plain": [
       "array([[[0.2739943 , 0.3384568 , 0.32433012, ..., 0.21287128,\n",
       "         0.6666667 , 0.8695652 ],\n",
       "        [0.30962938, 0.22594528, 0.22936763, ..., 0.21287128,\n",
       "         0.6666667 , 0.9130435 ],\n",
       "        [0.23218246, 0.15308945, 0.16334406, ..., 0.21287128,\n",
       "         0.6666667 , 0.95652175],\n",
       "        [0.1911625 , 0.10175223, 0.14297964, ..., 0.21287128,\n",
       "         0.6666667 , 1.        ]],\n",
       "\n",
       "       [[0.30962938, 0.22594528, 0.22936763, ..., 0.21287128,\n",
       "         0.6666667 , 0.9130435 ],\n",
       "        [0.23218246, 0.15308945, 0.16334406, ..., 0.21287128,\n",
       "         0.6666667 , 0.95652175],\n",
       "        [0.1911625 , 0.10175223, 0.14297964, ..., 0.21287128,\n",
       "         0.6666667 , 1.        ],\n",
       "        [0.15806144, 0.08177067, 0.13204716, ..., 0.22029702,\n",
       "         0.6666667 , 0.        ]],\n",
       "\n",
       "       [[0.23218246, 0.15308945, 0.16334406, ..., 0.21287128,\n",
       "         0.6666667 , 0.95652175],\n",
       "        [0.1911625 , 0.10175223, 0.14297964, ..., 0.21287128,\n",
       "         0.6666667 , 1.        ],\n",
       "        [0.15806144, 0.08177067, 0.13204716, ..., 0.22029702,\n",
       "         0.6666667 , 0.        ],\n",
       "        [0.09391828, 0.03719644, 0.0733119 , ..., 0.22029702,\n",
       "         0.6666667 , 0.04347826]],\n",
       "\n",
       "       ...,\n",
       "\n",
       "       [[0.2752613 , 0.1869044 , 0.185209  , ..., 0.31683168,\n",
       "         0.6666667 , 0.9130435 ],\n",
       "        [0.17849223, 0.10728558, 0.11725616, ..., 0.31683168,\n",
       "         0.6666667 , 0.95652175],\n",
       "        [0.13351282, 0.07070397, 0.09753484, ..., 0.31683168,\n",
       "         0.6666667 , 1.        ],\n",
       "        [0.09043396, 0.03996311, 0.06881029, ..., 0.3019802 ,\n",
       "         0.6666667 , 0.        ]],\n",
       "\n",
       "       [[0.17849223, 0.10728558, 0.11725616, ..., 0.31683168,\n",
       "         0.6666667 , 0.95652175],\n",
       "        [0.13351282, 0.07070397, 0.09753484, ..., 0.31683168,\n",
       "         0.6666667 , 1.        ],\n",
       "        [0.09043396, 0.03996311, 0.06881029, ..., 0.3019802 ,\n",
       "         0.6666667 , 0.        ],\n",
       "        [0.04830536, 0.02981863, 0.03129689, ..., 0.3019802 ,\n",
       "         0.6666667 , 0.04347826]],\n",
       "\n",
       "       [[0.13351282, 0.07070397, 0.09753484, ..., 0.31683168,\n",
       "         0.6666667 , 1.        ],\n",
       "        [0.09043396, 0.03996311, 0.06881029, ..., 0.3019802 ,\n",
       "         0.6666667 , 0.        ],\n",
       "        [0.04830536, 0.02981863, 0.03129689, ..., 0.3019802 ,\n",
       "         0.6666667 , 0.04347826],\n",
       "        [0.03500158, 0.01321857, 0.02143623, ..., 0.3019802 ,\n",
       "         0.6666667 , 0.08695652]]], dtype=float32)"
      ]
     },
     "execution_count": 30,
     "metadata": {},
     "output_type": "execute_result"
    }
   ],
   "source": [
    "np.random.seed(23)\n",
    "rand = np.random.randint(0, 3000)\n",
    "rand\n",
    "\n",
    "# rand = randint(0, 30000, ran=1234)\n",
    "# rand\n",
    "X[rand:rand+100]"
   ]
  },
  {
   "cell_type": "code",
   "execution_count": 31,
   "id": "9dda491d",
   "metadata": {},
   "outputs": [
    {
     "name": "stdout",
     "output_type": "stream",
     "text": [
      "4/4 [==============================] - 0s 7ms/step\n"
     ]
    },
    {
     "data": {
      "image/png": "[encoded data removed]",
      "text/plain": [
       "<Figure size 640x480 with 1 Axes>"
      ]
     },
     "metadata": {},
     "output_type": "display_data"
    }
   ],
   "source": [
    "plt.plot(flatten(y[rand:rand+100]), label = \"Actual values\")\n",
    "plt.plot(flatten(model_with_attention.predict(X[rand:rand+100])), label = \"Predicted values\")\n",
    "plt.legend()\n",
    "plt.ylabel('Hourly traffic flow')\n",
    "plt.show()"
   ]
  },
  {
   "cell_type": "code",
   "execution_count": 32,
   "id": "7f389e46",
   "metadata": {},
   "outputs": [],
   "source": [
    "import math\n",
    "\n",
    "def calculate_rmse(actual_values, predicted_values):\n",
    "    \"\"\"\n",
    "    Calculates the Root Mean Square Error (RMSE) given actual and predicted values.\n",
    "    :param actual_values: List of actual observed values.\n",
    "    :param predicted_values: List of predicted values.\n",
    "    :return: RMSE value.\n",
    "    \"\"\"\n",
    "    if len(actual_values) != len(predicted_values):\n",
    "        raise ValueError(\"Lists must have the same length.\")\n",
    "\n",
    "    squared_errors = [(actual - predicted) ** 2 for actual, predicted in zip(actual_values, predicted_values)]\n",
    "    mean_squared_error = sum(squared_errors) / len(actual_values)\n",
    "    rmse = math.sqrt(mean_squared_error)\n",
    "    return rmse\n",
    "\n",
    "\n",
    "RMSE = calculate_rmse(flatten(pred),flatten(y_test))"
   ]
  },
  {
   "cell_type": "code",
   "execution_count": 33,
   "id": "d7165438-ca40-44b0-ada6-d9202c7d8948",
   "metadata": {},
   "outputs": [
    {
     "name": "stdout",
     "output_type": "stream",
     "text": [
      "MAE:  150.16044429184032\n",
      "RMSE:  255.33879036218815\n",
      "Accuracy:  0.8403751329401528\n",
      "confusion matrix:\n",
      "  [[1172  363    7]\n",
      " [ 185 6592  440]\n",
      " [   0  656  928]]\n"
     ]
    }
   ],
   "source": [
    "print(\"MAE: \", MAE)\n",
    "print(\"RMSE: \", RMSE)\n",
    "print(\"Accuracy: \", accuracy_score(ytest2,pred2))\n",
    "\n",
    "print(\"confusion matrix:\\n \", confusion_matrix(ytest2,pred2))"
   ]
  }
 ],
 "metadata": {
  "kernelspec": {
   "display_name": "Python 3 (ipykernel)",
   "language": "python",
   "name": "python3"
  },
  "language_info": {
   "codemirror_mode": {
    "name": "ipython",
    "version": 3
   },
   "file_extension": ".py",
   "mimetype": "text/x-python",
   "name": "python",
   "nbconvert_exporter": "python",
   "pygments_lexer": "ipython3",
   "version": "3.7.16"
  }
 },
 "nbformat": 4,
 "nbformat_minor": 5
}
