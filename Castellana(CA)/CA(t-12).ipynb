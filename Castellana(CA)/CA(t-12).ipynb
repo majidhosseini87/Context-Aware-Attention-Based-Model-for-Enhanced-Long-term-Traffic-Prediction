{
 "cells": [
  {
   "cell_type": "markdown",
   "id": "c69cb93b",
   "metadata": {},
   "source": [
    "### Import required libraries"
   ]
  },
  {
   "cell_type": "code",
   "execution_count": 1,
   "id": "0c2d189d-98be-4cd2-8b9e-3f6708ebb27c",
   "metadata": {},
   "outputs": [],
   "source": [
    "import tensorflow as tf\n",
    "\n",
    "# print(\"Num GPUs Available: \", tf.config.list_physical_devices('GPU'))"
   ]
  },
  {
   "cell_type": "code",
   "execution_count": 2,
   "id": "52cf218c",
   "metadata": {},
   "outputs": [
    {
     "name": "stdout",
     "output_type": "stream",
     "text": [
      "Requirement already satisfied: netron in c:\\users\\majid\\anaconda3\\envs\\oldestlearning\\lib\\site-packages (7.7.0)\n"
     ]
    }
   ],
   "source": [
    "import pandas as pd\n",
    "import numpy as np\n",
    "import matplotlib.pyplot as plt \n",
    "from numpy import array\n",
    "from tensorflow.keras.models import Sequential\n",
    "from tensorflow.keras.layers import LSTM, GRU\n",
    "from tensorflow.keras.layers import Bidirectional\n",
    "from tensorflow.keras.layers import Dense\n",
    "from tensorflow.keras.layers import Flatten\n",
    "from tensorflow.keras.layers import TimeDistributed\n",
    "from tensorflow.keras.layers import Dropout\n",
    "from tensorflow.keras.layers import Conv1D\n",
    "from tensorflow.keras.layers import MaxPooling1D\n",
    "from sklearn.preprocessing import LabelEncoder\n",
    "from sklearn.preprocessing import MinMaxScaler\n",
    "from numpy import array\n",
    "from sklearn.model_selection import train_test_split\n",
    "from sklearn.metrics import mean_absolute_error as MAE\n",
    "# from sklearn.metrics import root_mean_squared_error as RMSE\n",
    "import random\n",
    "from sklearn.metrics import accuracy_score\n",
    "from sklearn.metrics import confusion_matrix\n",
    "!pip install netron\n",
    "import netron\n",
    "from random import randint"
   ]
  },
  {
   "cell_type": "markdown",
   "id": "6dbc9dff",
   "metadata": {},
   "source": [
    "First of all, we define this function which split a given sequence into multiple samples where each sample has a specified number of time steps and a specifieded number of outputs."
   ]
  },
  {
   "cell_type": "code",
   "execution_count": 3,
   "id": "fd8cb216",
   "metadata": {},
   "outputs": [],
   "source": [
    "def split_sequences(sequences, n_steps_in, n_steps_out):\n",
    "\tX, y = list(), list()\n",
    "\tfor i in range(len(sequences)):\n",
    "\t\t# find the end of this pattern\n",
    "\t\tend_ix = i + n_steps_in\n",
    "\t\tout_end_ix = end_ix + n_steps_out-1\n",
    "\t\t# check if we are beyond the dataset\n",
    "\t\tif out_end_ix > len(sequences):\n",
    "\t\t\tbreak\n",
    "\t\t# gather input and output parts of the pattern\n",
    "\t\tseq_x, seq_y = sequences[i:end_ix, :-1], sequences[end_ix-1:out_end_ix, -1]\n",
    "\t\tX.append(seq_x)\n",
    "\t\ty.append(seq_y)\n",
    "\treturn array(X), array(y)"
   ]
  },
  {
   "cell_type": "markdown",
   "id": "d52b9133",
   "metadata": {},
   "source": [
    "## Data preprocessing"
   ]
  },
  {
   "cell_type": "markdown",
   "id": "8795a8c9",
   "metadata": {},
   "source": [
    "We import data and remove the index. "
   ]
  },
  {
   "cell_type": "code",
   "execution_count": 4,
   "id": "16b38763",
   "metadata": {},
   "outputs": [
    {
     "name": "stdout",
     "output_type": "stream",
     "text": [
      "       var1(t-12)  var2(t-12)  var3(t-12)  var4(t-12)  var5(t-12)  var6(t-12)  \\\n",
      "0          1778.0      1129.0      1182.0        76.0         0.0        36.0   \n",
      "1          1534.0       795.0      1071.0        76.0         0.0        36.0   \n",
      "2          1134.0       298.0       472.0        76.0         0.0        36.0   \n",
      "3           775.0       208.0       320.0        76.0         0.0        36.0   \n",
      "4           661.0       170.0       335.0        76.0         0.0        36.0   \n",
      "...           ...         ...         ...         ...         ...         ...   \n",
      "31374       508.0        92.0       174.0       218.0         0.0       170.0   \n",
      "31375       709.0       183.0       307.0       218.0         0.0       170.0   \n",
      "31376      1119.0       242.0       522.0       218.0         0.0       170.0   \n",
      "31377      1327.0       328.0       717.0       218.0         0.0       170.0   \n",
      "31378      1497.0       392.0       879.0       218.0         0.0       170.0   \n",
      "\n",
      "       var7(t-12) var8(t-12)   obj  \n",
      "0           116.0    festivo   693  \n",
      "1           116.0    festivo   495  \n",
      "2           116.0    festivo   583  \n",
      "3           116.0    festivo   815  \n",
      "4           116.0    festivo  1089  \n",
      "...           ...        ...   ...  \n",
      "31374       265.0     sábado  1062  \n",
      "31375       265.0     sábado   975  \n",
      "31376       265.0     sábado   739  \n",
      "31377       265.0     sábado   607  \n",
      "31378       265.0     sábado   594  \n",
      "\n",
      "[31379 rows x 9 columns]\n",
      "0        2018-01-01 13:00:00\n",
      "1        2018-01-01 14:00:00\n",
      "2        2018-01-01 15:00:00\n",
      "3        2018-01-01 16:00:00\n",
      "4        2018-01-01 17:00:00\n",
      "                ...         \n",
      "31374    2021-07-31 19:00:00\n",
      "31375    2021-07-31 20:00:00\n",
      "31376    2021-07-31 21:00:00\n",
      "31377    2021-07-31 22:00:00\n",
      "31378    2021-07-31 23:00:00\n",
      "Name: clave, Length: 31379, dtype: object\n"
     ]
    }
   ],
   "source": [
    "data=pd.read_csv('../../Datasets/CA(t-12).csv')\n",
    "index = data['clave']\n",
    "data=data.drop(['clave'], axis=1)\n",
    "print(data)\n",
    "print(index)"
   ]
  },
  {
   "cell_type": "markdown",
   "id": "38adc20a",
   "metadata": {},
   "source": [
    "We encode the categorical variable 'type of day'."
   ]
  },
  {
   "cell_type": "code",
   "execution_count": 5,
   "id": "0d72d3ae",
   "metadata": {},
   "outputs": [],
   "source": [
    "encoder = LabelEncoder()\n",
    "data[data.columns[7]] = encoder.fit_transform(data[data.columns[7]])\n"
   ]
  },
  {
   "cell_type": "markdown",
   "id": "0a148c96",
   "metadata": {},
   "source": [
    "We add the variable 'hour'. "
   ]
  },
  {
   "cell_type": "code",
   "execution_count": 6,
   "id": "add8bd5d",
   "metadata": {},
   "outputs": [
    {
     "data": {
      "text/html": [
       "<div>\n",
       "<style scoped>\n",
       "    .dataframe tbody tr th:only-of-type {\n",
       "        vertical-align: middle;\n",
       "    }\n",
       "\n",
       "    .dataframe tbody tr th {\n",
       "        vertical-align: top;\n",
       "    }\n",
       "\n",
       "    .dataframe thead th {\n",
       "        text-align: right;\n",
       "    }\n",
       "</style>\n",
       "<table border=\"1\" class=\"dataframe\">\n",
       "  <thead>\n",
       "    <tr style=\"text-align: right;\">\n",
       "      <th></th>\n",
       "      <th>var1(t-12)</th>\n",
       "      <th>var2(t-12)</th>\n",
       "      <th>var3(t-12)</th>\n",
       "      <th>var4(t-12)</th>\n",
       "      <th>var5(t-12)</th>\n",
       "      <th>var6(t-12)</th>\n",
       "      <th>var7(t-12)</th>\n",
       "      <th>var8(t-12)</th>\n",
       "      <th>hour</th>\n",
       "      <th>obj</th>\n",
       "    </tr>\n",
       "  </thead>\n",
       "  <tbody>\n",
       "    <tr>\n",
       "      <th>0</th>\n",
       "      <td>1778.0</td>\n",
       "      <td>1129.0</td>\n",
       "      <td>1182.0</td>\n",
       "      <td>76.0</td>\n",
       "      <td>0.0</td>\n",
       "      <td>36.0</td>\n",
       "      <td>116.0</td>\n",
       "      <td>1</td>\n",
       "      <td>13</td>\n",
       "      <td>693</td>\n",
       "    </tr>\n",
       "    <tr>\n",
       "      <th>1</th>\n",
       "      <td>1534.0</td>\n",
       "      <td>795.0</td>\n",
       "      <td>1071.0</td>\n",
       "      <td>76.0</td>\n",
       "      <td>0.0</td>\n",
       "      <td>36.0</td>\n",
       "      <td>116.0</td>\n",
       "      <td>1</td>\n",
       "      <td>14</td>\n",
       "      <td>495</td>\n",
       "    </tr>\n",
       "    <tr>\n",
       "      <th>2</th>\n",
       "      <td>1134.0</td>\n",
       "      <td>298.0</td>\n",
       "      <td>472.0</td>\n",
       "      <td>76.0</td>\n",
       "      <td>0.0</td>\n",
       "      <td>36.0</td>\n",
       "      <td>116.0</td>\n",
       "      <td>1</td>\n",
       "      <td>15</td>\n",
       "      <td>583</td>\n",
       "    </tr>\n",
       "    <tr>\n",
       "      <th>3</th>\n",
       "      <td>775.0</td>\n",
       "      <td>208.0</td>\n",
       "      <td>320.0</td>\n",
       "      <td>76.0</td>\n",
       "      <td>0.0</td>\n",
       "      <td>36.0</td>\n",
       "      <td>116.0</td>\n",
       "      <td>1</td>\n",
       "      <td>16</td>\n",
       "      <td>815</td>\n",
       "    </tr>\n",
       "    <tr>\n",
       "      <th>4</th>\n",
       "      <td>661.0</td>\n",
       "      <td>170.0</td>\n",
       "      <td>335.0</td>\n",
       "      <td>76.0</td>\n",
       "      <td>0.0</td>\n",
       "      <td>36.0</td>\n",
       "      <td>116.0</td>\n",
       "      <td>1</td>\n",
       "      <td>17</td>\n",
       "      <td>1089</td>\n",
       "    </tr>\n",
       "    <tr>\n",
       "      <th>...</th>\n",
       "      <td>...</td>\n",
       "      <td>...</td>\n",
       "      <td>...</td>\n",
       "      <td>...</td>\n",
       "      <td>...</td>\n",
       "      <td>...</td>\n",
       "      <td>...</td>\n",
       "      <td>...</td>\n",
       "      <td>...</td>\n",
       "      <td>...</td>\n",
       "    </tr>\n",
       "    <tr>\n",
       "      <th>31374</th>\n",
       "      <td>508.0</td>\n",
       "      <td>92.0</td>\n",
       "      <td>174.0</td>\n",
       "      <td>218.0</td>\n",
       "      <td>0.0</td>\n",
       "      <td>170.0</td>\n",
       "      <td>265.0</td>\n",
       "      <td>3</td>\n",
       "      <td>19</td>\n",
       "      <td>1062</td>\n",
       "    </tr>\n",
       "    <tr>\n",
       "      <th>31375</th>\n",
       "      <td>709.0</td>\n",
       "      <td>183.0</td>\n",
       "      <td>307.0</td>\n",
       "      <td>218.0</td>\n",
       "      <td>0.0</td>\n",
       "      <td>170.0</td>\n",
       "      <td>265.0</td>\n",
       "      <td>3</td>\n",
       "      <td>20</td>\n",
       "      <td>975</td>\n",
       "    </tr>\n",
       "    <tr>\n",
       "      <th>31376</th>\n",
       "      <td>1119.0</td>\n",
       "      <td>242.0</td>\n",
       "      <td>522.0</td>\n",
       "      <td>218.0</td>\n",
       "      <td>0.0</td>\n",
       "      <td>170.0</td>\n",
       "      <td>265.0</td>\n",
       "      <td>3</td>\n",
       "      <td>21</td>\n",
       "      <td>739</td>\n",
       "    </tr>\n",
       "    <tr>\n",
       "      <th>31377</th>\n",
       "      <td>1327.0</td>\n",
       "      <td>328.0</td>\n",
       "      <td>717.0</td>\n",
       "      <td>218.0</td>\n",
       "      <td>0.0</td>\n",
       "      <td>170.0</td>\n",
       "      <td>265.0</td>\n",
       "      <td>3</td>\n",
       "      <td>22</td>\n",
       "      <td>607</td>\n",
       "    </tr>\n",
       "    <tr>\n",
       "      <th>31378</th>\n",
       "      <td>1497.0</td>\n",
       "      <td>392.0</td>\n",
       "      <td>879.0</td>\n",
       "      <td>218.0</td>\n",
       "      <td>0.0</td>\n",
       "      <td>170.0</td>\n",
       "      <td>265.0</td>\n",
       "      <td>3</td>\n",
       "      <td>23</td>\n",
       "      <td>594</td>\n",
       "    </tr>\n",
       "  </tbody>\n",
       "</table>\n",
       "<p>31379 rows × 10 columns</p>\n",
       "</div>"
      ],
      "text/plain": [
       "       var1(t-12)  var2(t-12)  var3(t-12)  var4(t-12)  var5(t-12)  var6(t-12)  \\\n",
       "0          1778.0      1129.0      1182.0        76.0         0.0        36.0   \n",
       "1          1534.0       795.0      1071.0        76.0         0.0        36.0   \n",
       "2          1134.0       298.0       472.0        76.0         0.0        36.0   \n",
       "3           775.0       208.0       320.0        76.0         0.0        36.0   \n",
       "4           661.0       170.0       335.0        76.0         0.0        36.0   \n",
       "...           ...         ...         ...         ...         ...         ...   \n",
       "31374       508.0        92.0       174.0       218.0         0.0       170.0   \n",
       "31375       709.0       183.0       307.0       218.0         0.0       170.0   \n",
       "31376      1119.0       242.0       522.0       218.0         0.0       170.0   \n",
       "31377      1327.0       328.0       717.0       218.0         0.0       170.0   \n",
       "31378      1497.0       392.0       879.0       218.0         0.0       170.0   \n",
       "\n",
       "       var7(t-12)  var8(t-12)  hour   obj  \n",
       "0           116.0           1    13   693  \n",
       "1           116.0           1    14   495  \n",
       "2           116.0           1    15   583  \n",
       "3           116.0           1    16   815  \n",
       "4           116.0           1    17  1089  \n",
       "...           ...         ...   ...   ...  \n",
       "31374       265.0           3    19  1062  \n",
       "31375       265.0           3    20   975  \n",
       "31376       265.0           3    21   739  \n",
       "31377       265.0           3    22   607  \n",
       "31378       265.0           3    23   594  \n",
       "\n",
       "[31379 rows x 10 columns]"
      ]
     },
     "execution_count": 6,
     "metadata": {},
     "output_type": "execute_result"
    }
   ],
   "source": [
    "a1=list(range(13,24))\n",
    "a2=list(range(0,24))*1306\n",
    "a3=list(range(0,24))\n",
    "a4=a1+a2+a3\n",
    "data['hour'] = a4\n",
    "data = data.reindex(columns=[data.columns[0],data.columns[1],data.columns[2],data.columns[3],data.columns[4],\n",
    "                             data.columns[5],data.columns[6],data.columns[7],'hour','obj'])\n",
    "data"
   ]
  },
  {
   "cell_type": "markdown",
   "id": "954e93b9",
   "metadata": {},
   "source": [
    "We normalise all input variables. "
   ]
  },
  {
   "cell_type": "code",
   "execution_count": 7,
   "id": "65f8df7e",
   "metadata": {},
   "outputs": [],
   "source": [
    "scaler = MinMaxScaler(feature_range=(0, 1))\n",
    "data[data.columns.difference(['obj'])] = scaler.fit_transform(data[data.columns.difference(['obj'])])"
   ]
  },
  {
   "cell_type": "markdown",
   "id": "9363230c",
   "metadata": {},
   "source": [
    "We apply the previously defined function. We split the original sequence data. Each sample has six time steps as predictor variables (from timestep t-15 to timestep t-12) and one target variable (timestep t). "
   ]
  },
  {
   "cell_type": "code",
   "execution_count": 8,
   "id": "6f6e2681",
   "metadata": {},
   "outputs": [
    {
     "name": "stdout",
     "output_type": "stream",
     "text": [
      "(31376, 4, 9)\n",
      "(31376, 1)\n"
     ]
    }
   ],
   "source": [
    "data1=data.values\n",
    "X, y = split_sequences(data1,4,1)\n",
    "print(X.shape)\n",
    "print(y.shape)"
   ]
  },
  {
   "cell_type": "markdown",
   "id": "c5bae631",
   "metadata": {},
   "source": [
    "## Data analyse"
   ]
  },
  {
   "cell_type": "markdown",
   "id": "1bd47ac5",
   "metadata": {},
   "source": [
    "We make a simple statistical analysis of the target variable. "
   ]
  },
  {
   "cell_type": "code",
   "execution_count": 9,
   "id": "13c6a1fb",
   "metadata": {},
   "outputs": [
    {
     "data": {
      "text/plain": [
       "count    31379.000000\n",
       "mean       793.417413\n",
       "std        576.828442\n",
       "min          0.000000\n",
       "25%        236.000000\n",
       "50%        739.000000\n",
       "75%       1357.000000\n",
       "max       4665.000000\n",
       "Name: obj, dtype: float64"
      ]
     },
     "execution_count": 9,
     "metadata": {},
     "output_type": "execute_result"
    }
   ],
   "source": [
    "dataplot = data\n",
    "dataplot['obj'].describe()"
   ]
  },
  {
   "cell_type": "markdown",
   "id": "caff81d0",
   "metadata": {},
   "source": [
    "We plot linechart of the evolution of traffic flow in the first week of 2018 (first available data). "
   ]
  },
  {
   "cell_type": "code",
   "execution_count": 10,
   "id": "778710c6",
   "metadata": {},
   "outputs": [
    {
     "data": {
      "image/png": "[encoded data removed]",
      "text/plain": [
       "<Figure size 640x480 with 1 Axes>"
      ]
     },
     "metadata": {},
     "output_type": "display_data"
    }
   ],
   "source": [
    "plt.plot(list(dataplot['obj'][0:24*7]),\n",
    "        label=index, linewidth=3)\n",
    "plt.title('First week of 2018. Arturo Soria Station')\n",
    "plt.ylabel('Hourly traffic flow')\n",
    "plt.show()"
   ]
  },
  {
   "cell_type": "markdown",
   "id": "4458ab4e",
   "metadata": {},
   "source": [
    "## Model development. "
   ]
  },
  {
   "cell_type": "markdown",
   "id": "08723d86",
   "metadata": {},
   "source": [
    "We reshape our data to have the structure required by the neural network. "
   ]
  },
  {
   "cell_type": "code",
   "execution_count": 11,
   "id": "420d1847",
   "metadata": {},
   "outputs": [],
   "source": [
    "X = X.reshape((X.shape[0], X.shape[1], X.shape[2])).astype('float32')\n"
   ]
  },
  {
   "cell_type": "markdown",
   "id": "ad0849d0",
   "metadata": {},
   "source": [
    "We divide randomly our data in the train and test sets. "
   ]
  },
  {
   "cell_type": "code",
   "execution_count": 12,
   "id": "eb984b95",
   "metadata": {},
   "outputs": [],
   "source": [
    "X_train, X_test, y_train, y_test = train_test_split(\n",
    "X, y, test_size=0.33, random_state=42)"
   ]
  },
  {
   "cell_type": "markdown",
   "id": "95522ffc",
   "metadata": {},
   "source": [
    "We develop our model by using keras and tensorflow. First, we apply a convolutional neural network with 256 kernels which is followed by a max pooling. Then, we flatten data. \n",
    "\n",
    "Subsequently, we use the flatten data as input in the Bidirectional long short term memory network, with 500 units. It is followed by a dropout layer and, finally, we apply a dense layer to obtain the required prediction. "
   ]
  },
  {
   "cell_type": "code",
   "execution_count": 13,
   "id": "f0a6e714",
   "metadata": {},
   "outputs": [
    {
     "name": "stdout",
     "output_type": "stream",
     "text": [
      "Model: \"model\"\n",
      "__________________________________________________________________________________________________\n",
      " Layer (type)                   Output Shape         Param #     Connected to                     \n",
      "==================================================================================================\n",
      " input_1 (InputLayer)           [(None, 4, 9, 1)]    0           []                               \n",
      "                                                                                                  \n",
      " time_distributed (TimeDistribu  (None, 4, 8, 256)   768         ['input_1[0][0]']                \n",
      " ted)                                                                                             \n",
      "                                                                                                  \n",
      " time_distributed_1 (TimeDistri  (None, 4, 4, 256)   0           ['time_distributed[0][0]']       \n",
      " buted)                                                                                           \n",
      "                                                                                                  \n",
      " time_distributed_2 (TimeDistri  (None, 4, 1024)     0           ['time_distributed_1[0][0]']     \n",
      " buted)                                                                                           \n",
      "                                                                                                  \n",
      " gru (GRU)                      (None, 4, 500)       2289000     ['time_distributed_2[0][0]']     \n",
      "                                                                                                  \n",
      " dense (Dense)                  (None, 4, 1000)      501000      ['gru[0][0]']                    \n",
      "                                                                                                  \n",
      " dense_1 (Dense)                (None, 4, 1000)      1001000     ['dense[0][0]']                  \n",
      "                                                                                                  \n",
      " softmax (Softmax)              (None, 4, 1000)      0           ['dense_1[0][0]']                \n",
      "                                                                                                  \n",
      " tf.math.multiply (TFOpLambda)  (None, 4, 1000)      0           ['dense_1[0][0]',                \n",
      "                                                                  'softmax[0][0]']                \n",
      "                                                                                                  \n",
      " average_pooling1d (AveragePool  (None, 1, 1000)     0           ['tf.math.multiply[0][0]']       \n",
      " ing1D)                                                                                           \n",
      "                                                                                                  \n",
      " reshape (Reshape)              (None, 1000)         0           ['average_pooling1d[0][0]']      \n",
      "                                                                                                  \n",
      " dense_2 (Dense)                (None, 1)            1001        ['reshape[0][0]']                \n",
      "                                                                                                  \n",
      "==================================================================================================\n",
      "Total params: 3,792,769\n",
      "Trainable params: 3,792,769\n",
      "Non-trainable params: 0\n",
      "__________________________________________________________________________________________________\n"
     ]
    }
   ],
   "source": [
    "from keras.layers import Input, Layer, Conv1D, MaxPooling1D, Flatten, Bidirectional, GRU\n",
    "from keras.layers import Dropout, Dense, Softmax, AveragePooling1D, Reshape\n",
    "from keras.models import Model\n",
    "\n",
    "\n",
    "\n",
    "\n",
    "import tensorflow as tf\n",
    "from tensorflow.keras.layers import Input, Conv1D, MaxPooling1D, Flatten, Bidirectional, GRU, Softmax, Dense, TimeDistributed\n",
    "\n",
    "# Define your input shape\n",
    "input_shape = (4, 9, 1)\n",
    "\n",
    "import tensorflow as tf\n",
    "from tensorflow.keras.layers import Input, Conv1D, MaxPooling1D, Flatten, Bidirectional, GRU, Softmax, Dense, TimeDistributed, AveragePooling1D\n",
    "\n",
    "# Define your input shape\n",
    "input_shape = (4, 9, 1)\n",
    "\n",
    "# Create the input layer\n",
    "input_layer = Input(shape=input_shape)\n",
    "\n",
    "# Apply Conv1D with soft attention\n",
    "conv_layer = TimeDistributed(Conv1D(filters=256, kernel_size=2, activation='relu'))(input_layer)\n",
    "\n",
    "# Apply MaxPooling1D\n",
    "pooling_layer = TimeDistributed(MaxPooling1D(pool_size=2, padding='same'))(conv_layer)\n",
    "\n",
    "# Flatten the output\n",
    "flatten_layer = TimeDistributed(Flatten())(pooling_layer)\n",
    "\n",
    "# Bidirectional GRU layer\n",
    "gru_layer = GRU(500, activation='relu', return_sequences=True)(flatten_layer)\n",
    "\n",
    "# dropout_layer = Dropout(0.5)(gru_layer)\n",
    "# Dense layers\n",
    "denselayer1 = Dense(1000)(gru_layer)\n",
    "denselayer2 = Dense(1000)(denselayer1)\n",
    "\n",
    "# Apply soft attention mechanism\n",
    "attention_weights = Softmax(axis=1)(denselayer2)\n",
    "attended_output = denselayer2 * attention_weights\n",
    "\n",
    "# Apply AveragePooling1D\n",
    "pooled_output = AveragePooling1D(pool_size=4)(attended_output)\n",
    "\n",
    "# Reshape the pooled tensor to (None, 1000)\n",
    "reshaped_output = tf.keras.layers.Reshape(target_shape=(1000,))(pooled_output)\n",
    "\n",
    "# Output layer\n",
    "output_layer = Dense(1)(reshaped_output)\n",
    "\n",
    "# Compile the model\n",
    "model_with_attention = tf.keras.Model(inputs=input_layer, outputs=output_layer)\n",
    "model_with_attention.compile(optimizer='adam', loss='mae')\n",
    "\n",
    "# Summary of the modified model\n",
    "model_with_attention.summary()\n",
    "\n"
   ]
  },
  {
   "cell_type": "code",
   "execution_count": 14,
   "id": "bd867a10-8bc8-466d-9be2-e34a7de2f5cd",
   "metadata": {},
   "outputs": [],
   "source": [
    "# model3.summary()"
   ]
  },
  {
   "cell_type": "code",
   "execution_count": 15,
   "id": "7c4c19ab-196e-4345-a7fb-8fe6d1431c70",
   "metadata": {},
   "outputs": [
    {
     "name": "stdout",
     "output_type": "stream",
     "text": [
      "(21021, 1)\n"
     ]
    }
   ],
   "source": [
    "print(y_train.shape)"
   ]
  },
  {
   "cell_type": "markdown",
   "id": "e07e6b25",
   "metadata": {},
   "source": [
    "We provide a graphical representation of the model by using Netron. Reader can deeply analyse each layer of the model. "
   ]
  },
  {
   "cell_type": "code",
   "execution_count": 16,
   "id": "f999d515",
   "metadata": {
    "scrolled": true
   },
   "outputs": [],
   "source": [
    "\n",
    "# model_with_attention.save('model_with_attention.keras')\n",
    "# netron.start('model_with_attention.h5')"
   ]
  },
  {
   "cell_type": "markdown",
   "id": "6ce5e668",
   "metadata": {},
   "source": [
    "We train the model."
   ]
  },
  {
   "cell_type": "code",
   "execution_count": 17,
   "id": "84c63f1c",
   "metadata": {},
   "outputs": [
    {
     "name": "stdout",
     "output_type": "stream",
     "text": [
      "Epoch 1/100\n",
      "657/657 [==============================] - 26s 39ms/step - loss: 409.2201 - val_loss: 315.8526\n",
      "Epoch 2/100\n",
      "657/657 [==============================] - 27s 42ms/step - loss: 271.1923 - val_loss: 221.6667\n",
      "Epoch 3/100\n",
      "657/657 [==============================] - 28s 42ms/step - loss: 223.7965 - val_loss: 227.4480\n",
      "Epoch 4/100\n",
      "657/657 [==============================] - 27s 41ms/step - loss: 205.4038 - val_loss: 192.2523\n",
      "Epoch 5/100\n",
      "657/657 [==============================] - 27s 42ms/step - loss: 192.7330 - val_loss: 180.2350\n",
      "Epoch 6/100\n",
      "657/657 [==============================] - 27s 42ms/step - loss: 184.9439 - val_loss: 196.6593\n",
      "Epoch 7/100\n",
      "657/657 [==============================] - 27s 41ms/step - loss: 176.3590 - val_loss: 171.6333\n",
      "Epoch 8/100\n",
      "657/657 [==============================] - 27s 41ms/step - loss: 176.1132 - val_loss: 166.3426\n",
      "Epoch 9/100\n",
      "657/657 [==============================] - 27s 42ms/step - loss: 170.1359 - val_loss: 163.4118\n",
      "Epoch 10/100\n",
      "657/657 [==============================] - 27s 42ms/step - loss: 164.4754 - val_loss: 165.0385\n",
      "Epoch 11/100\n",
      "657/657 [==============================] - 28s 42ms/step - loss: 163.2986 - val_loss: 151.5392\n",
      "Epoch 12/100\n",
      "657/657 [==============================] - 27s 42ms/step - loss: 159.4519 - val_loss: 151.1170\n",
      "Epoch 13/100\n",
      "657/657 [==============================] - 27s 41ms/step - loss: 155.4107 - val_loss: 149.8069\n",
      "Epoch 14/100\n",
      "657/657 [==============================] - 27s 42ms/step - loss: 153.2841 - val_loss: 145.2722\n",
      "Epoch 15/100\n",
      "657/657 [==============================] - 27s 42ms/step - loss: 154.9947 - val_loss: 164.9911\n",
      "Epoch 16/100\n",
      "657/657 [==============================] - 27s 42ms/step - loss: 151.0343 - val_loss: 149.3045\n",
      "Epoch 17/100\n",
      "657/657 [==============================] - 27s 41ms/step - loss: 151.1793 - val_loss: 144.3111\n",
      "Epoch 18/100\n",
      "657/657 [==============================] - 27s 42ms/step - loss: 147.2782 - val_loss: 150.0128\n",
      "Epoch 19/100\n",
      "657/657 [==============================] - 28s 42ms/step - loss: 146.2233 - val_loss: 146.2876\n",
      "Epoch 20/100\n",
      "657/657 [==============================] - 27s 42ms/step - loss: 143.6893 - val_loss: 141.8957\n",
      "Epoch 21/100\n",
      "657/657 [==============================] - 27s 41ms/step - loss: 142.4719 - val_loss: 159.8258\n",
      "Epoch 22/100\n",
      "657/657 [==============================] - 27s 41ms/step - loss: 142.3767 - val_loss: 138.5466\n",
      "Epoch 23/100\n",
      "657/657 [==============================] - 27s 42ms/step - loss: 138.9389 - val_loss: 145.1872\n",
      "Epoch 24/100\n",
      "657/657 [==============================] - 27s 42ms/step - loss: 137.6111 - val_loss: 158.0160\n",
      "Epoch 25/100\n",
      "657/657 [==============================] - 27s 42ms/step - loss: 136.5928 - val_loss: 158.3135\n",
      "Epoch 26/100\n",
      "657/657 [==============================] - 27s 42ms/step - loss: 136.1969 - val_loss: 134.1674\n",
      "Epoch 27/100\n",
      "657/657 [==============================] - 27s 42ms/step - loss: 133.7941 - val_loss: 140.5906\n",
      "Epoch 28/100\n",
      "657/657 [==============================] - 27s 42ms/step - loss: 133.2111 - val_loss: 135.9228\n",
      "Epoch 29/100\n",
      "657/657 [==============================] - 27s 42ms/step - loss: 133.2341 - val_loss: 134.7276\n",
      "Epoch 30/100\n",
      "657/657 [==============================] - 27s 41ms/step - loss: 131.4726 - val_loss: 129.1577\n",
      "Epoch 31/100\n",
      "657/657 [==============================] - 27s 42ms/step - loss: 130.2967 - val_loss: 129.8816\n",
      "Epoch 32/100\n",
      "657/657 [==============================] - 27s 42ms/step - loss: 128.9718 - val_loss: 150.9395\n",
      "Epoch 33/100\n",
      "657/657 [==============================] - 27s 42ms/step - loss: 127.1915 - val_loss: 130.8678\n",
      "Epoch 34/100\n",
      "657/657 [==============================] - 27s 42ms/step - loss: 126.7127 - val_loss: 131.0326\n",
      "Epoch 35/100\n",
      "657/657 [==============================] - 28s 42ms/step - loss: 126.4091 - val_loss: 134.6402\n",
      "Epoch 36/100\n",
      "657/657 [==============================] - 28s 42ms/step - loss: 124.4993 - val_loss: 136.1844\n",
      "Epoch 37/100\n",
      "657/657 [==============================] - 28s 42ms/step - loss: 124.2265 - val_loss: 130.4154\n",
      "Epoch 38/100\n",
      "657/657 [==============================] - 28s 42ms/step - loss: 123.3051 - val_loss: 125.4370\n",
      "Epoch 39/100\n",
      "657/657 [==============================] - 27s 42ms/step - loss: 122.7930 - val_loss: 129.9263\n",
      "Epoch 40/100\n",
      "657/657 [==============================] - 27s 42ms/step - loss: 121.2453 - val_loss: 128.9647\n",
      "Epoch 41/100\n",
      "657/657 [==============================] - 27s 42ms/step - loss: 120.1745 - val_loss: 127.5022\n",
      "Epoch 42/100\n",
      "657/657 [==============================] - 27s 42ms/step - loss: 119.4718 - val_loss: 143.0776\n",
      "Epoch 43/100\n",
      "657/657 [==============================] - 27s 41ms/step - loss: 120.0349 - val_loss: 130.5322\n",
      "Epoch 44/100\n",
      "657/657 [==============================] - 27s 42ms/step - loss: 117.9995 - val_loss: 125.3413\n",
      "Epoch 45/100\n",
      "657/657 [==============================] - 27s 42ms/step - loss: 117.5635 - val_loss: 127.2036\n",
      "Epoch 46/100\n",
      "657/657 [==============================] - 27s 41ms/step - loss: 117.2028 - val_loss: 123.4921\n",
      "Epoch 47/100\n",
      "657/657 [==============================] - 28s 42ms/step - loss: 115.1419 - val_loss: 119.6919\n",
      "Epoch 48/100\n",
      "657/657 [==============================] - 28s 42ms/step - loss: 114.1859 - val_loss: 125.7500\n",
      "Epoch 49/100\n",
      "657/657 [==============================] - 28s 42ms/step - loss: 115.8443 - val_loss: 132.0008\n",
      "Epoch 50/100\n",
      "657/657 [==============================] - 28s 42ms/step - loss: 114.7469 - val_loss: 121.2956\n",
      "Epoch 51/100\n",
      "657/657 [==============================] - 28s 42ms/step - loss: 112.6760 - val_loss: 120.3467\n",
      "Epoch 52/100\n",
      "657/657 [==============================] - 27s 42ms/step - loss: 112.8130 - val_loss: 122.8934\n",
      "Epoch 53/100\n",
      "657/657 [==============================] - 27s 41ms/step - loss: 112.5965 - val_loss: 119.2919\n",
      "Epoch 54/100\n",
      "657/657 [==============================] - 28s 42ms/step - loss: 111.9725 - val_loss: 120.6126\n",
      "Epoch 55/100\n",
      "657/657 [==============================] - 28s 42ms/step - loss: 111.2661 - val_loss: 121.1254\n",
      "Epoch 56/100\n",
      "657/657 [==============================] - 27s 41ms/step - loss: 110.4093 - val_loss: 119.7566\n",
      "Epoch 57/100\n",
      "657/657 [==============================] - 27s 42ms/step - loss: 110.1111 - val_loss: 118.1607\n",
      "Epoch 58/100\n",
      "657/657 [==============================] - 27s 42ms/step - loss: 108.8945 - val_loss: 124.2843\n",
      "Epoch 59/100\n",
      "657/657 [==============================] - 27s 41ms/step - loss: 108.4576 - val_loss: 118.0751\n",
      "Epoch 60/100\n",
      "657/657 [==============================] - 27s 42ms/step - loss: 107.9211 - val_loss: 122.5342\n",
      "Epoch 61/100\n",
      "657/657 [==============================] - 28s 42ms/step - loss: 107.2138 - val_loss: 123.7514\n",
      "Epoch 62/100\n",
      "657/657 [==============================] - 28s 42ms/step - loss: 107.5531 - val_loss: 119.5486\n",
      "Epoch 63/100\n",
      "657/657 [==============================] - 28s 42ms/step - loss: 107.2800 - val_loss: 119.7225\n",
      "Epoch 64/100\n",
      "657/657 [==============================] - 27s 42ms/step - loss: 104.9909 - val_loss: 121.4324\n",
      "Epoch 65/100\n",
      "657/657 [==============================] - 27s 42ms/step - loss: 106.6951 - val_loss: 120.1246\n",
      "Epoch 66/100\n",
      "657/657 [==============================] - 28s 42ms/step - loss: 104.3974 - val_loss: 123.8692\n",
      "Epoch 67/100\n",
      "657/657 [==============================] - 28s 42ms/step - loss: 103.3899 - val_loss: 113.7579\n",
      "Epoch 68/100\n",
      "657/657 [==============================] - 27s 42ms/step - loss: 101.9448 - val_loss: 114.4281\n",
      "Epoch 69/100\n",
      "657/657 [==============================] - 27s 42ms/step - loss: 102.6999 - val_loss: 119.4810\n",
      "Epoch 70/100\n",
      "657/657 [==============================] - 27s 42ms/step - loss: 101.6335 - val_loss: 120.4300\n",
      "Epoch 71/100\n",
      "657/657 [==============================] - 27s 42ms/step - loss: 102.9055 - val_loss: 115.2073\n",
      "Epoch 72/100\n",
      "657/657 [==============================] - 27s 42ms/step - loss: 100.2677 - val_loss: 117.6459\n",
      "Epoch 73/100\n",
      "657/657 [==============================] - 28s 42ms/step - loss: 100.7403 - val_loss: 128.4427\n",
      "Epoch 74/100\n",
      "657/657 [==============================] - 28s 42ms/step - loss: 100.7552 - val_loss: 116.1402\n",
      "Epoch 75/100\n",
      "657/657 [==============================] - 28s 42ms/step - loss: 101.5347 - val_loss: 115.5730\n",
      "Epoch 76/100\n",
      "657/657 [==============================] - 28s 42ms/step - loss: 99.3448 - val_loss: 120.6832\n"
     ]
    },
    {
     "name": "stdout",
     "output_type": "stream",
     "text": [
      "Epoch 77/100\n",
      "657/657 [==============================] - 28s 42ms/step - loss: 98.4473 - val_loss: 113.2353\n",
      "Epoch 78/100\n",
      "657/657 [==============================] - 28s 42ms/step - loss: 97.3071 - val_loss: 121.0546\n",
      "Epoch 79/100\n",
      "657/657 [==============================] - 28s 42ms/step - loss: 97.8286 - val_loss: 114.2808\n",
      "Epoch 80/100\n",
      "657/657 [==============================] - 28s 42ms/step - loss: 96.4796 - val_loss: 120.9954\n",
      "Epoch 81/100\n",
      "657/657 [==============================] - 28s 42ms/step - loss: 96.7001 - val_loss: 117.9959\n",
      "Epoch 82/100\n",
      "657/657 [==============================] - 28s 42ms/step - loss: 96.3578 - val_loss: 118.0971\n",
      "Epoch 83/100\n",
      "657/657 [==============================] - 28s 42ms/step - loss: 96.5338 - val_loss: 116.0458\n",
      "Epoch 84/100\n",
      "657/657 [==============================] - 28s 42ms/step - loss: 94.9264 - val_loss: 114.0767\n",
      "Epoch 85/100\n",
      "657/657 [==============================] - 27s 42ms/step - loss: 93.9165 - val_loss: 112.7053\n",
      "Epoch 86/100\n",
      "657/657 [==============================] - 28s 42ms/step - loss: 94.0153 - val_loss: 115.7903\n",
      "Epoch 87/100\n",
      "657/657 [==============================] - 28s 42ms/step - loss: 94.3453 - val_loss: 114.9448\n",
      "Epoch 88/100\n",
      "657/657 [==============================] - 28s 42ms/step - loss: 93.2848 - val_loss: 112.1994\n",
      "Epoch 89/100\n",
      "657/657 [==============================] - 28s 42ms/step - loss: 92.7711 - val_loss: 116.8471\n",
      "Epoch 90/100\n",
      "657/657 [==============================] - 28s 42ms/step - loss: 92.0659 - val_loss: 113.2121\n",
      "Epoch 91/100\n",
      "657/657 [==============================] - 27s 42ms/step - loss: 92.1697 - val_loss: 115.1898\n",
      "Epoch 92/100\n",
      "657/657 [==============================] - 28s 42ms/step - loss: 91.9306 - val_loss: 112.6571\n",
      "Epoch 93/100\n",
      "657/657 [==============================] - 28s 43ms/step - loss: 90.2913 - val_loss: 116.1909\n",
      "Epoch 94/100\n",
      "657/657 [==============================] - 28s 42ms/step - loss: 90.0605 - val_loss: 114.0722\n",
      "Epoch 95/100\n",
      "657/657 [==============================] - 27s 42ms/step - loss: 89.6739 - val_loss: 114.9566\n",
      "Epoch 96/100\n",
      "657/657 [==============================] - 28s 42ms/step - loss: 90.4613 - val_loss: 114.0419\n",
      "Epoch 97/100\n",
      "657/657 [==============================] - 28s 42ms/step - loss: 89.6973 - val_loss: 111.5519\n",
      "Epoch 98/100\n",
      "657/657 [==============================] - 28s 42ms/step - loss: 88.9506 - val_loss: 114.2560\n",
      "Epoch 99/100\n",
      "657/657 [==============================] - 28s 42ms/step - loss: 88.5883 - val_loss: 114.7131\n",
      "Epoch 100/100\n",
      "657/657 [==============================] - 28s 42ms/step - loss: 88.2624 - val_loss: 113.5679\n",
      "Wall time: 45min 46s\n"
     ]
    }
   ],
   "source": [
    "%%time\n",
    "\n",
    "history3=model_with_attention.fit(X_train,y_train,epochs=100,batch_size = 32, shuffle=True,validation_data=(X_test,y_test))"
   ]
  },
  {
   "cell_type": "code",
   "execution_count": 18,
   "id": "abba0b87-9118-4cc6-9653-6de20c9a1872",
   "metadata": {},
   "outputs": [],
   "source": [
    "# import keras\n",
    "# tf.keras.s(model_with_attention, 'model_with_attention_AS2(t-12).keras')\n",
    "model_with_attention.save('model_with_attention_CA(t-12).keras')\n",
    "\n",
    "train_loss_pd = pd.DataFrame(history3.history['loss'])\n",
    "val_loss_pd = pd.DataFrame(history3.history['loss'])\n",
    "train_loss_pd.to_csv('train_loss_CA(t-12)')\n",
    "val_loss_pd.to_csv('val_loss_CA(t-12)')"
   ]
  },
  {
   "cell_type": "code",
   "execution_count": 19,
   "id": "6a350564",
   "metadata": {},
   "outputs": [
    {
     "data": {
      "text/plain": [
       "{'loss': [409.2201232910156,\n",
       "  271.1922607421875,\n",
       "  223.7964630126953,\n",
       "  205.4037628173828,\n",
       "  192.73297119140625,\n",
       "  184.9438934326172,\n",
       "  176.3590087890625,\n",
       "  176.1132354736328,\n",
       "  170.13589477539062,\n",
       "  164.4754180908203,\n",
       "  163.29855346679688,\n",
       "  159.45193481445312,\n",
       "  155.41067504882812,\n",
       "  153.28414916992188,\n",
       "  154.9946746826172,\n",
       "  151.0342559814453,\n",
       "  151.17930603027344,\n",
       "  147.27816772460938,\n",
       "  146.22328186035156,\n",
       "  143.68930053710938,\n",
       "  142.47186279296875,\n",
       "  142.376708984375,\n",
       "  138.93887329101562,\n",
       "  137.611083984375,\n",
       "  136.5928192138672,\n",
       "  136.19686889648438,\n",
       "  133.79405212402344,\n",
       "  133.2111053466797,\n",
       "  133.234130859375,\n",
       "  131.4725799560547,\n",
       "  130.29666137695312,\n",
       "  128.97181701660156,\n",
       "  127.19151306152344,\n",
       "  126.71269226074219,\n",
       "  126.4090576171875,\n",
       "  124.49933624267578,\n",
       "  124.22652435302734,\n",
       "  123.3050537109375,\n",
       "  122.79300689697266,\n",
       "  121.24531555175781,\n",
       "  120.17445373535156,\n",
       "  119.47175598144531,\n",
       "  120.03491973876953,\n",
       "  117.99950408935547,\n",
       "  117.56352233886719,\n",
       "  117.2027816772461,\n",
       "  115.14188385009766,\n",
       "  114.18592071533203,\n",
       "  115.84434509277344,\n",
       "  114.74687194824219,\n",
       "  112.6760025024414,\n",
       "  112.81301879882812,\n",
       "  112.59646606445312,\n",
       "  111.97246551513672,\n",
       "  111.26611328125,\n",
       "  110.40927124023438,\n",
       "  110.11109161376953,\n",
       "  108.8945083618164,\n",
       "  108.45758819580078,\n",
       "  107.92111206054688,\n",
       "  107.2138442993164,\n",
       "  107.55314636230469,\n",
       "  107.28004455566406,\n",
       "  104.99089050292969,\n",
       "  106.69512939453125,\n",
       "  104.39741516113281,\n",
       "  103.38993072509766,\n",
       "  101.94477081298828,\n",
       "  102.69990539550781,\n",
       "  101.63350677490234,\n",
       "  102.90552520751953,\n",
       "  100.26774597167969,\n",
       "  100.7403335571289,\n",
       "  100.75517272949219,\n",
       "  101.53466796875,\n",
       "  99.3448486328125,\n",
       "  98.44729614257812,\n",
       "  97.30709838867188,\n",
       "  97.82856750488281,\n",
       "  96.47964477539062,\n",
       "  96.70014190673828,\n",
       "  96.35784912109375,\n",
       "  96.53384399414062,\n",
       "  94.92642211914062,\n",
       "  93.91651916503906,\n",
       "  94.01527404785156,\n",
       "  94.34534454345703,\n",
       "  93.2847900390625,\n",
       "  92.77108001708984,\n",
       "  92.06586456298828,\n",
       "  92.1696548461914,\n",
       "  91.93062591552734,\n",
       "  90.2912826538086,\n",
       "  90.06051635742188,\n",
       "  89.67391204833984,\n",
       "  90.46133422851562,\n",
       "  89.69730377197266,\n",
       "  88.9505615234375,\n",
       "  88.58830261230469,\n",
       "  88.26241302490234],\n",
       " 'val_loss': [315.8525695800781,\n",
       "  221.66665649414062,\n",
       "  227.4480438232422,\n",
       "  192.25230407714844,\n",
       "  180.23504638671875,\n",
       "  196.6593475341797,\n",
       "  171.6333465576172,\n",
       "  166.34255981445312,\n",
       "  163.4118194580078,\n",
       "  165.03851318359375,\n",
       "  151.53915405273438,\n",
       "  151.11695861816406,\n",
       "  149.80691528320312,\n",
       "  145.2721710205078,\n",
       "  164.99105834960938,\n",
       "  149.30447387695312,\n",
       "  144.3110809326172,\n",
       "  150.01284790039062,\n",
       "  146.2876434326172,\n",
       "  141.8956756591797,\n",
       "  159.82582092285156,\n",
       "  138.54660034179688,\n",
       "  145.1872100830078,\n",
       "  158.0160369873047,\n",
       "  158.31350708007812,\n",
       "  134.16744995117188,\n",
       "  140.5906219482422,\n",
       "  135.92282104492188,\n",
       "  134.72755432128906,\n",
       "  129.1576690673828,\n",
       "  129.88162231445312,\n",
       "  150.939453125,\n",
       "  130.8677978515625,\n",
       "  131.03256225585938,\n",
       "  134.64022827148438,\n",
       "  136.1844482421875,\n",
       "  130.41542053222656,\n",
       "  125.43695068359375,\n",
       "  129.92626953125,\n",
       "  128.96470642089844,\n",
       "  127.5022201538086,\n",
       "  143.0775604248047,\n",
       "  130.5321502685547,\n",
       "  125.34130859375,\n",
       "  127.20364379882812,\n",
       "  123.49208068847656,\n",
       "  119.69190979003906,\n",
       "  125.7500228881836,\n",
       "  132.0008087158203,\n",
       "  121.29558563232422,\n",
       "  120.3466796875,\n",
       "  122.89338684082031,\n",
       "  119.29190063476562,\n",
       "  120.61255645751953,\n",
       "  121.1253890991211,\n",
       "  119.75662994384766,\n",
       "  118.16070556640625,\n",
       "  124.28427124023438,\n",
       "  118.07505798339844,\n",
       "  122.53422546386719,\n",
       "  123.75140380859375,\n",
       "  119.54863739013672,\n",
       "  119.72246551513672,\n",
       "  121.432373046875,\n",
       "  120.12462615966797,\n",
       "  123.86920928955078,\n",
       "  113.75787353515625,\n",
       "  114.4281234741211,\n",
       "  119.48101043701172,\n",
       "  120.43000030517578,\n",
       "  115.2072525024414,\n",
       "  117.64594268798828,\n",
       "  128.4427490234375,\n",
       "  116.1401596069336,\n",
       "  115.57295989990234,\n",
       "  120.68324279785156,\n",
       "  113.23526000976562,\n",
       "  121.0545883178711,\n",
       "  114.28081512451172,\n",
       "  120.99539947509766,\n",
       "  117.99585723876953,\n",
       "  118.0970687866211,\n",
       "  116.04576110839844,\n",
       "  114.07669067382812,\n",
       "  112.7053451538086,\n",
       "  115.79029083251953,\n",
       "  114.94478607177734,\n",
       "  112.19939422607422,\n",
       "  116.84709930419922,\n",
       "  113.21207427978516,\n",
       "  115.18982696533203,\n",
       "  112.65713500976562,\n",
       "  116.1908950805664,\n",
       "  114.07221221923828,\n",
       "  114.95662689208984,\n",
       "  114.04185485839844,\n",
       "  111.55187225341797,\n",
       "  114.25595092773438,\n",
       "  114.71314239501953,\n",
       "  113.56786346435547]}"
      ]
     },
     "execution_count": 19,
     "metadata": {},
     "output_type": "execute_result"
    }
   ],
   "source": [
    "# print(history3.items())\n",
    "history3.history"
   ]
  },
  {
   "cell_type": "code",
   "execution_count": 20,
   "id": "b3eaaafe",
   "metadata": {},
   "outputs": [
    {
     "data": {
      "text/plain": [
       "<matplotlib.legend.Legend at 0x2176788b988>"
      ]
     },
     "execution_count": 20,
     "metadata": {},
     "output_type": "execute_result"
    },
    {
     "data": {
      "image/png": "[encoded data removed]",
      "text/plain": [
       "<Figure size 1000x500 with 1 Axes>"
      ]
     },
     "metadata": {},
     "output_type": "display_data"
    }
   ],
   "source": [
    "plt.figure(figsize=(10, 5))\n",
    "plt.plot(train_loss_pd, label='train')\n",
    "plt.plot(val_loss_pd, label='val')\n",
    "plt.legend()"
   ]
  },
  {
   "cell_type": "markdown",
   "id": "9c54db72",
   "metadata": {},
   "source": [
    "## Model evaluation"
   ]
  },
  {
   "cell_type": "markdown",
   "id": "b2ea78bf",
   "metadata": {},
   "source": [
    "We define this function, which will be useful to evaluate the model."
   ]
  },
  {
   "cell_type": "code",
   "execution_count": 21,
   "id": "8c0e5a3b",
   "metadata": {},
   "outputs": [],
   "source": [
    "def flatten(t):\n",
    "    return [item for sublist in t for item in sublist]"
   ]
  },
  {
   "cell_type": "markdown",
   "id": "e9674031",
   "metadata": {},
   "source": [
    "We evaluate the model by using the first metric (mean absolute error). "
   ]
  },
  {
   "cell_type": "code",
   "execution_count": 22,
   "id": "5ecf3c33",
   "metadata": {},
   "outputs": [
    {
     "name": "stdout",
     "output_type": "stream",
     "text": [
      "324/324 [==============================] - 4s 12ms/step\n",
      "(10355, 1)\n",
      "10355\n",
      "(10355, 1)\n",
      "10355\n",
      "113.567840158358\n"
     ]
    }
   ],
   "source": [
    "from sklearn.metrics import mean_absolute_error \n",
    "# from sklearn.metrics import root_mean_squared_error \n",
    "\n",
    "pred = model_with_attention.predict(X_test)\n",
    "print(pred.shape)\n",
    "print(len(flatten(pred)))\n",
    "print(y_test.shape)\n",
    "print(len(flatten(y_test)))\n",
    "\n",
    "MAE = mean_absolute_error(flatten(pred),flatten(y_test))\n",
    "print(MAE)\n",
    "# RMSE = root_mean_squared_error(flatten(pred),flatten(y_test))\n",
    "# print(RMSE)"
   ]
  },
  {
   "cell_type": "markdown",
   "id": "12982dd9",
   "metadata": {},
   "source": [
    "We will evaluate the model with the second metric (accuracy). For this, we divide target variable in three categories: first, data between percentil 0 and 15; second, data between percentil 15 and 85 and thrid, data between percentil 85 and 100. "
   ]
  },
  {
   "cell_type": "code",
   "execution_count": 23,
   "id": "10369faa-d540-4ccd-a24b-4fe206c3d53f",
   "metadata": {},
   "outputs": [
    {
     "name": "stdout",
     "output_type": "stream",
     "text": [
      "324/324 [==============================] - 4s 11ms/step\n",
      "[[ 109.80949]\n",
      " [ 197.50171]\n",
      " [1018.2925 ]\n",
      " ...\n",
      " [ 334.55298]\n",
      " [ 383.49832]\n",
      " [ 654.5546 ]]\n"
     ]
    }
   ],
   "source": [
    "pred = model_with_attention.predict(X_test)\n",
    "print(pred)"
   ]
  },
  {
   "cell_type": "code",
   "execution_count": 24,
   "id": "17ad32ac-3aff-4ecf-b8b9-e496b63f9301",
   "metadata": {},
   "outputs": [
    {
     "data": {
      "text/plain": [
       "array([[ 99.],\n",
       "       [196.],\n",
       "       [993.],\n",
       "       ...,\n",
       "       [371.],\n",
       "       [330.],\n",
       "       [569.]])"
      ]
     },
     "execution_count": 24,
     "metadata": {},
     "output_type": "execute_result"
    }
   ],
   "source": [
    "y_test"
   ]
  },
  {
   "cell_type": "code",
   "execution_count": 25,
   "id": "d944ccff",
   "metadata": {},
   "outputs": [],
   "source": [
    "obj = list(data['obj'].values)"
   ]
  },
  {
   "cell_type": "code",
   "execution_count": 26,
   "id": "36466028-ed5d-423b-ac17-9ad0b8463604",
   "metadata": {},
   "outputs": [
    {
     "data": {
      "text/plain": [
       "dtype('float32')"
      ]
     },
     "execution_count": 26,
     "metadata": {},
     "output_type": "execute_result"
    }
   ],
   "source": [
    "pred.dtype == np.float64\n",
    "pred.dtype"
   ]
  },
  {
   "cell_type": "code",
   "execution_count": 27,
   "id": "58982b45",
   "metadata": {},
   "outputs": [
    {
     "name": "stdout",
     "output_type": "stream",
     "text": [
      "0\n",
      "117.0\n",
      "1522.0\n",
      "4665\n"
     ]
    }
   ],
   "source": [
    "print(np.quantile(obj, 0))\n",
    "print(np.quantile(obj, 0.15))\n",
    "print(np.quantile(obj, 0.85))\n",
    "print(np.quantile(obj, 1))"
   ]
  },
  {
   "cell_type": "markdown",
   "id": "d555df61",
   "metadata": {},
   "source": [
    "We add and substract a small value in extreme values in order to avoid issues. We also transform the predictions lower than 0 in 0. "
   ]
  },
  {
   "cell_type": "code",
   "execution_count": 28,
   "id": "649392d4",
   "metadata": {},
   "outputs": [],
   "source": [
    "bins = [np.quantile(obj, 0)-0.001,np.quantile(obj, 0.15),np.quantile(obj, 0.85),np.quantile(obj, 1)+0.001]\n",
    "names = ['a','b','c']\n",
    "for i in range(len(pred)):\n",
    "    if pred[i]<0:\n",
    "        pred[i] = 0\n",
    "pred2=pd.cut(flatten(pred), bins, labels = names)\n",
    "ytest2=pd.cut(flatten(y_test), bins, labels = names)"
   ]
  },
  {
   "cell_type": "markdown",
   "id": "bfff6821",
   "metadata": {},
   "source": [
    "We obtain the accuracy metric and the confusion matrix corresponding. "
   ]
  },
  {
   "cell_type": "code",
   "execution_count": 29,
   "id": "fbde0271",
   "metadata": {},
   "outputs": [
    {
     "name": "stdout",
     "output_type": "stream",
     "text": [
      "0.8638338966682761\n",
      "[[1135  413    2]\n",
      " [ 164 6752  373]\n",
      " [   0  458 1058]]\n"
     ]
    }
   ],
   "source": [
    "print(accuracy_score(ytest2,pred2))\n",
    "print(confusion_matrix(ytest2,pred2))"
   ]
  },
  {
   "cell_type": "markdown",
   "id": "d58c8161",
   "metadata": {},
   "source": [
    "###  Plotting the actual and predicted values. "
   ]
  },
  {
   "cell_type": "markdown",
   "id": "1692014e",
   "metadata": {},
   "source": [
    "We selelct randomly an observation of the entire dataset and we will analyse the 100 successive observations. We plot\n",
    "the actual and the predicted values of these observations. "
   ]
  },
  {
   "cell_type": "code",
   "execution_count": 30,
   "id": "5711b77d",
   "metadata": {},
   "outputs": [
    {
     "data": {
      "text/plain": [
       "array([[[0.2739943 , 0.3384568 , 0.32433012, ..., 0.21287128,\n",
       "         0.6666667 , 0.3478261 ],\n",
       "        [0.30962938, 0.22594528, 0.22936763, ..., 0.21287128,\n",
       "         0.6666667 , 0.39130434],\n",
       "        [0.23218246, 0.15308945, 0.16334406, ..., 0.21287128,\n",
       "         0.6666667 , 0.4347826 ],\n",
       "        [0.1911625 , 0.10175223, 0.14297964, ..., 0.21287128,\n",
       "         0.6666667 , 0.47826087]],\n",
       "\n",
       "       [[0.30962938, 0.22594528, 0.22936763, ..., 0.21287128,\n",
       "         0.6666667 , 0.39130434],\n",
       "        [0.23218246, 0.15308945, 0.16334406, ..., 0.21287128,\n",
       "         0.6666667 , 0.4347826 ],\n",
       "        [0.1911625 , 0.10175223, 0.14297964, ..., 0.21287128,\n",
       "         0.6666667 , 0.47826087],\n",
       "        [0.15806144, 0.08177067, 0.13204716, ..., 0.22029702,\n",
       "         0.6666667 , 0.5217391 ]],\n",
       "\n",
       "       [[0.23218246, 0.15308945, 0.16334406, ..., 0.21287128,\n",
       "         0.6666667 , 0.4347826 ],\n",
       "        [0.1911625 , 0.10175223, 0.14297964, ..., 0.21287128,\n",
       "         0.6666667 , 0.47826087],\n",
       "        [0.15806144, 0.08177067, 0.13204716, ..., 0.22029702,\n",
       "         0.6666667 , 0.5217391 ],\n",
       "        [0.09391828, 0.03719644, 0.0733119 , ..., 0.22029702,\n",
       "         0.6666667 , 0.5652174 ]],\n",
       "\n",
       "       ...,\n",
       "\n",
       "       [[0.2752613 , 0.1869044 , 0.185209  , ..., 0.31683168,\n",
       "         0.6666667 , 0.39130434],\n",
       "        [0.17849223, 0.10728558, 0.11725616, ..., 0.31683168,\n",
       "         0.6666667 , 0.4347826 ],\n",
       "        [0.13351282, 0.07070397, 0.09753484, ..., 0.31683168,\n",
       "         0.6666667 , 0.47826087],\n",
       "        [0.09043396, 0.03996311, 0.06881029, ..., 0.3019802 ,\n",
       "         0.6666667 , 0.5217391 ]],\n",
       "\n",
       "       [[0.17849223, 0.10728558, 0.11725616, ..., 0.31683168,\n",
       "         0.6666667 , 0.4347826 ],\n",
       "        [0.13351282, 0.07070397, 0.09753484, ..., 0.31683168,\n",
       "         0.6666667 , 0.47826087],\n",
       "        [0.09043396, 0.03996311, 0.06881029, ..., 0.3019802 ,\n",
       "         0.6666667 , 0.5217391 ],\n",
       "        [0.04830536, 0.02981863, 0.03129689, ..., 0.3019802 ,\n",
       "         0.6666667 , 0.5652174 ]],\n",
       "\n",
       "       [[0.13351282, 0.07070397, 0.09753484, ..., 0.31683168,\n",
       "         0.6666667 , 0.47826087],\n",
       "        [0.09043396, 0.03996311, 0.06881029, ..., 0.3019802 ,\n",
       "         0.6666667 , 0.5217391 ],\n",
       "        [0.04830536, 0.02981863, 0.03129689, ..., 0.3019802 ,\n",
       "         0.6666667 , 0.5652174 ],\n",
       "        [0.03500158, 0.01321857, 0.02143623, ..., 0.3019802 ,\n",
       "         0.6666667 , 0.6086956 ]]], dtype=float32)"
      ]
     },
     "execution_count": 30,
     "metadata": {},
     "output_type": "execute_result"
    }
   ],
   "source": [
    "np.random.seed(23)\n",
    "rand = np.random.randint(0, 3000)\n",
    "rand\n",
    "\n",
    "# rand = randint(0, 30000, ran=1234)\n",
    "# rand\n",
    "X[rand:rand+100]"
   ]
  },
  {
   "cell_type": "code",
   "execution_count": 31,
   "id": "9dda491d",
   "metadata": {},
   "outputs": [
    {
     "name": "stdout",
     "output_type": "stream",
     "text": [
      "4/4 [==============================] - 0s 10ms/step\n"
     ]
    },
    {
     "data": {
      "image/png": "[encoded data removed]",
      "text/plain": [
       "<Figure size 640x480 with 1 Axes>"
      ]
     },
     "metadata": {},
     "output_type": "display_data"
    }
   ],
   "source": [
    "plt.plot(flatten(y[rand:rand+100]), label = \"Actual values\")\n",
    "plt.plot(flatten(model_with_attention.predict(X[rand:rand+100])), label = \"Predicted values\")\n",
    "plt.legend()\n",
    "plt.ylabel('Hourly traffic flow')\n",
    "plt.show()"
   ]
  },
  {
   "cell_type": "code",
   "execution_count": 32,
   "id": "7f389e46",
   "metadata": {},
   "outputs": [],
   "source": [
    "import math\n",
    "\n",
    "def calculate_rmse(actual_values, predicted_values):\n",
    "    \"\"\"\n",
    "    Calculates the Root Mean Square Error (RMSE) given actual and predicted values.\n",
    "    :param actual_values: List of actual observed values.\n",
    "    :param predicted_values: List of predicted values.\n",
    "    :return: RMSE value.\n",
    "    \"\"\"\n",
    "    if len(actual_values) != len(predicted_values):\n",
    "        raise ValueError(\"Lists must have the same length.\")\n",
    "\n",
    "    squared_errors = [(actual - predicted) ** 2 for actual, predicted in zip(actual_values, predicted_values)]\n",
    "    mean_squared_error = sum(squared_errors) / len(actual_values)\n",
    "    rmse = math.sqrt(mean_squared_error)\n",
    "    return rmse\n",
    "\n",
    "\n",
    "RMSE = calculate_rmse(flatten(pred),flatten(y_test))"
   ]
  },
  {
   "cell_type": "code",
   "execution_count": 33,
   "id": "d7165438-ca40-44b0-ada6-d9202c7d8948",
   "metadata": {},
   "outputs": [
    {
     "name": "stdout",
     "output_type": "stream",
     "text": [
      "MAE:  113.567840158358\n",
      "RMSE:  188.2793271782466\n",
      "Accuracy:  0.8638338966682761\n",
      "confusion matrix:\n",
      "  [[1135  413    2]\n",
      " [ 164 6752  373]\n",
      " [   0  458 1058]]\n"
     ]
    }
   ],
   "source": [
    "print(\"MAE: \", MAE)\n",
    "print(\"RMSE: \", RMSE)\n",
    "print(\"Accuracy: \", accuracy_score(ytest2,pred2))\n",
    "\n",
    "print(\"confusion matrix:\\n \", confusion_matrix(ytest2,pred2))"
   ]
  }
 ],
 "metadata": {
  "kernelspec": {
   "display_name": "Python 3 (ipykernel)",
   "language": "python",
   "name": "python3"
  },
  "language_info": {
   "codemirror_mode": {
    "name": "ipython",
    "version": 3
   },
   "file_extension": ".py",
   "mimetype": "text/x-python",
   "name": "python",
   "nbconvert_exporter": "python",
   "pygments_lexer": "ipython3",
   "version": "3.7.16"
  }
 },
 "nbformat": 4,
 "nbformat_minor": 5
}
