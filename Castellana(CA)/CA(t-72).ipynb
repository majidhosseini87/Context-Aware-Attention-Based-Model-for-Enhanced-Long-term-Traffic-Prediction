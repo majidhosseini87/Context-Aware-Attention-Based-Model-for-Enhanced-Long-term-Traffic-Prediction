{
 "cells": [
  {
   "cell_type": "markdown",
   "id": "c69cb93b",
   "metadata": {},
   "source": [
    "### Import required libraries"
   ]
  },
  {
   "cell_type": "code",
   "execution_count": 1,
   "id": "0c2d189d-98be-4cd2-8b9e-3f6708ebb27c",
   "metadata": {},
   "outputs": [],
   "source": [
    "import tensorflow as tf\n",
    "\n",
    "# print(\"Num GPUs Available: \", tf.config.list_physical_devices('GPU'))"
   ]
  },
  {
   "cell_type": "code",
   "execution_count": 2,
   "id": "52cf218c",
   "metadata": {},
   "outputs": [
    {
     "name": "stdout",
     "output_type": "stream",
     "text": [
      "Requirement already satisfied: netron in c:\\users\\majid\\anaconda3\\envs\\oldestlearning\\lib\\site-packages (7.7.0)\n"
     ]
    }
   ],
   "source": [
    "import pandas as pd\n",
    "import numpy as np\n",
    "import matplotlib.pyplot as plt \n",
    "from numpy import array\n",
    "from tensorflow.keras.models import Sequential\n",
    "from tensorflow.keras.layers import LSTM, GRU\n",
    "from tensorflow.keras.layers import Bidirectional\n",
    "from tensorflow.keras.layers import Dense\n",
    "from tensorflow.keras.layers import Flatten\n",
    "from tensorflow.keras.layers import TimeDistributed\n",
    "from tensorflow.keras.layers import Dropout\n",
    "from tensorflow.keras.layers import Conv1D\n",
    "from tensorflow.keras.layers import MaxPooling1D\n",
    "from sklearn.preprocessing import LabelEncoder\n",
    "from sklearn.preprocessing import MinMaxScaler\n",
    "from numpy import array\n",
    "from sklearn.model_selection import train_test_split\n",
    "from sklearn.metrics import mean_absolute_error as MAE\n",
    "# from sklearn.metrics import root_mean_squared_error as RMSE\n",
    "import random\n",
    "from sklearn.metrics import accuracy_score\n",
    "from sklearn.metrics import confusion_matrix\n",
    "!pip install netron\n",
    "import netron\n",
    "from random import randint"
   ]
  },
  {
   "cell_type": "markdown",
   "id": "6dbc9dff",
   "metadata": {},
   "source": [
    "First of all, we define this function which split a given sequence into multiple samples where each sample has a specified number of time steps and a specifieded number of outputs."
   ]
  },
  {
   "cell_type": "code",
   "execution_count": 3,
   "id": "fd8cb216",
   "metadata": {},
   "outputs": [],
   "source": [
    "def split_sequences(sequences, n_steps_in, n_steps_out):\n",
    "\tX, y = list(), list()\n",
    "\tfor i in range(len(sequences)):\n",
    "\t\t# find the end of this pattern\n",
    "\t\tend_ix = i + n_steps_in\n",
    "\t\tout_end_ix = end_ix + n_steps_out-1\n",
    "\t\t# check if we are beyond the dataset\n",
    "\t\tif out_end_ix > len(sequences):\n",
    "\t\t\tbreak\n",
    "\t\t# gather input and output parts of the pattern\n",
    "\t\tseq_x, seq_y = sequences[i:end_ix, :-1], sequences[end_ix-1:out_end_ix, -1]\n",
    "\t\tX.append(seq_x)\n",
    "\t\ty.append(seq_y)\n",
    "\treturn array(X), array(y)"
   ]
  },
  {
   "cell_type": "markdown",
   "id": "d52b9133",
   "metadata": {},
   "source": [
    "## Data preprocessing"
   ]
  },
  {
   "cell_type": "markdown",
   "id": "8795a8c9",
   "metadata": {},
   "source": [
    "We import data and remove the index. "
   ]
  },
  {
   "cell_type": "code",
   "execution_count": 4,
   "id": "16b38763",
   "metadata": {},
   "outputs": [
    {
     "name": "stdout",
     "output_type": "stream",
     "text": [
      "       var1(t-72)  var2(t-72)  var3(t-72)  var4(t-72)  var5(t-72)  var6(t-72)  \\\n",
      "0          1778.0      1129.0      1182.0        76.0         0.0        36.0   \n",
      "1          1534.0       795.0      1071.0        76.0         0.0        36.0   \n",
      "2          1134.0       298.0       472.0        76.0         0.0        36.0   \n",
      "3           775.0       208.0       320.0        76.0         0.0        36.0   \n",
      "4           661.0       170.0       335.0        76.0         0.0        36.0   \n",
      "...           ...         ...         ...         ...         ...         ...   \n",
      "31314      1869.0       672.0      1298.0       282.0         0.0       207.0   \n",
      "31315      1866.0       662.0      1249.0       282.0         0.0       207.0   \n",
      "31316      1709.0       429.0       956.0       282.0         0.0       207.0   \n",
      "31317      1273.0       299.0       674.0       282.0         0.0       207.0   \n",
      "31318      1100.0       245.0       588.0       282.0         0.0       207.0   \n",
      "\n",
      "       var7(t-72) var8(t-72)   obj  \n",
      "0           116.0    festivo   220  \n",
      "1           116.0    festivo   219  \n",
      "2           116.0    festivo   179  \n",
      "3           116.0    festivo   218  \n",
      "4           116.0    festivo   420  \n",
      "...           ...        ...   ...  \n",
      "31314       356.0  laborable  1062  \n",
      "31315       356.0  laborable   975  \n",
      "31316       356.0  laborable   739  \n",
      "31317       356.0  laborable   607  \n",
      "31318       356.0  laborable   594  \n",
      "\n",
      "[31319 rows x 9 columns]\n",
      "0        2018-01-04 01:00:00\n",
      "1        2018-01-04 02:00:00\n",
      "2        2018-01-04 03:00:00\n",
      "3        2018-01-04 04:00:00\n",
      "4        2018-01-04 05:00:00\n",
      "                ...         \n",
      "31314    2021-07-31 19:00:00\n",
      "31315    2021-07-31 20:00:00\n",
      "31316    2021-07-31 21:00:00\n",
      "31317    2021-07-31 22:00:00\n",
      "31318    2021-07-31 23:00:00\n",
      "Name: clave, Length: 31319, dtype: object\n"
     ]
    }
   ],
   "source": [
    "data=pd.read_csv('../../Datasets/CA(t-72).csv')\n",
    "index = data['clave']\n",
    "data=data.drop(['clave'], axis=1)\n",
    "print(data)\n",
    "print(index)"
   ]
  },
  {
   "cell_type": "markdown",
   "id": "38adc20a",
   "metadata": {},
   "source": [
    "We encode the categorical variable 'type of day'."
   ]
  },
  {
   "cell_type": "code",
   "execution_count": 5,
   "id": "0d72d3ae",
   "metadata": {},
   "outputs": [],
   "source": [
    "encoder = LabelEncoder()\n",
    "data[data.columns[7]] = encoder.fit_transform(data[data.columns[7]])\n"
   ]
  },
  {
   "cell_type": "markdown",
   "id": "0a148c96",
   "metadata": {},
   "source": [
    "We add the variable 'hour'. "
   ]
  },
  {
   "cell_type": "code",
   "execution_count": 6,
   "id": "add8bd5d",
   "metadata": {},
   "outputs": [
    {
     "data": {
      "text/html": [
       "<div>\n",
       "<style scoped>\n",
       "    .dataframe tbody tr th:only-of-type {\n",
       "        vertical-align: middle;\n",
       "    }\n",
       "\n",
       "    .dataframe tbody tr th {\n",
       "        vertical-align: top;\n",
       "    }\n",
       "\n",
       "    .dataframe thead th {\n",
       "        text-align: right;\n",
       "    }\n",
       "</style>\n",
       "<table border=\"1\" class=\"dataframe\">\n",
       "  <thead>\n",
       "    <tr style=\"text-align: right;\">\n",
       "      <th></th>\n",
       "      <th>var1(t-72)</th>\n",
       "      <th>var2(t-72)</th>\n",
       "      <th>var3(t-72)</th>\n",
       "      <th>var4(t-72)</th>\n",
       "      <th>var5(t-72)</th>\n",
       "      <th>var6(t-72)</th>\n",
       "      <th>var7(t-72)</th>\n",
       "      <th>var8(t-72)</th>\n",
       "      <th>hour</th>\n",
       "      <th>obj</th>\n",
       "    </tr>\n",
       "  </thead>\n",
       "  <tbody>\n",
       "    <tr>\n",
       "      <th>0</th>\n",
       "      <td>1778.0</td>\n",
       "      <td>1129.0</td>\n",
       "      <td>1182.0</td>\n",
       "      <td>76.0</td>\n",
       "      <td>0.0</td>\n",
       "      <td>36.0</td>\n",
       "      <td>116.0</td>\n",
       "      <td>1</td>\n",
       "      <td>1</td>\n",
       "      <td>220</td>\n",
       "    </tr>\n",
       "    <tr>\n",
       "      <th>1</th>\n",
       "      <td>1534.0</td>\n",
       "      <td>795.0</td>\n",
       "      <td>1071.0</td>\n",
       "      <td>76.0</td>\n",
       "      <td>0.0</td>\n",
       "      <td>36.0</td>\n",
       "      <td>116.0</td>\n",
       "      <td>1</td>\n",
       "      <td>2</td>\n",
       "      <td>219</td>\n",
       "    </tr>\n",
       "    <tr>\n",
       "      <th>2</th>\n",
       "      <td>1134.0</td>\n",
       "      <td>298.0</td>\n",
       "      <td>472.0</td>\n",
       "      <td>76.0</td>\n",
       "      <td>0.0</td>\n",
       "      <td>36.0</td>\n",
       "      <td>116.0</td>\n",
       "      <td>1</td>\n",
       "      <td>3</td>\n",
       "      <td>179</td>\n",
       "    </tr>\n",
       "    <tr>\n",
       "      <th>3</th>\n",
       "      <td>775.0</td>\n",
       "      <td>208.0</td>\n",
       "      <td>320.0</td>\n",
       "      <td>76.0</td>\n",
       "      <td>0.0</td>\n",
       "      <td>36.0</td>\n",
       "      <td>116.0</td>\n",
       "      <td>1</td>\n",
       "      <td>4</td>\n",
       "      <td>218</td>\n",
       "    </tr>\n",
       "    <tr>\n",
       "      <th>4</th>\n",
       "      <td>661.0</td>\n",
       "      <td>170.0</td>\n",
       "      <td>335.0</td>\n",
       "      <td>76.0</td>\n",
       "      <td>0.0</td>\n",
       "      <td>36.0</td>\n",
       "      <td>116.0</td>\n",
       "      <td>1</td>\n",
       "      <td>5</td>\n",
       "      <td>420</td>\n",
       "    </tr>\n",
       "    <tr>\n",
       "      <th>...</th>\n",
       "      <td>...</td>\n",
       "      <td>...</td>\n",
       "      <td>...</td>\n",
       "      <td>...</td>\n",
       "      <td>...</td>\n",
       "      <td>...</td>\n",
       "      <td>...</td>\n",
       "      <td>...</td>\n",
       "      <td>...</td>\n",
       "      <td>...</td>\n",
       "    </tr>\n",
       "    <tr>\n",
       "      <th>31314</th>\n",
       "      <td>1869.0</td>\n",
       "      <td>672.0</td>\n",
       "      <td>1298.0</td>\n",
       "      <td>282.0</td>\n",
       "      <td>0.0</td>\n",
       "      <td>207.0</td>\n",
       "      <td>356.0</td>\n",
       "      <td>2</td>\n",
       "      <td>19</td>\n",
       "      <td>1062</td>\n",
       "    </tr>\n",
       "    <tr>\n",
       "      <th>31315</th>\n",
       "      <td>1866.0</td>\n",
       "      <td>662.0</td>\n",
       "      <td>1249.0</td>\n",
       "      <td>282.0</td>\n",
       "      <td>0.0</td>\n",
       "      <td>207.0</td>\n",
       "      <td>356.0</td>\n",
       "      <td>2</td>\n",
       "      <td>20</td>\n",
       "      <td>975</td>\n",
       "    </tr>\n",
       "    <tr>\n",
       "      <th>31316</th>\n",
       "      <td>1709.0</td>\n",
       "      <td>429.0</td>\n",
       "      <td>956.0</td>\n",
       "      <td>282.0</td>\n",
       "      <td>0.0</td>\n",
       "      <td>207.0</td>\n",
       "      <td>356.0</td>\n",
       "      <td>2</td>\n",
       "      <td>21</td>\n",
       "      <td>739</td>\n",
       "    </tr>\n",
       "    <tr>\n",
       "      <th>31317</th>\n",
       "      <td>1273.0</td>\n",
       "      <td>299.0</td>\n",
       "      <td>674.0</td>\n",
       "      <td>282.0</td>\n",
       "      <td>0.0</td>\n",
       "      <td>207.0</td>\n",
       "      <td>356.0</td>\n",
       "      <td>2</td>\n",
       "      <td>22</td>\n",
       "      <td>607</td>\n",
       "    </tr>\n",
       "    <tr>\n",
       "      <th>31318</th>\n",
       "      <td>1100.0</td>\n",
       "      <td>245.0</td>\n",
       "      <td>588.0</td>\n",
       "      <td>282.0</td>\n",
       "      <td>0.0</td>\n",
       "      <td>207.0</td>\n",
       "      <td>356.0</td>\n",
       "      <td>2</td>\n",
       "      <td>23</td>\n",
       "      <td>594</td>\n",
       "    </tr>\n",
       "  </tbody>\n",
       "</table>\n",
       "<p>31319 rows × 10 columns</p>\n",
       "</div>"
      ],
      "text/plain": [
       "       var1(t-72)  var2(t-72)  var3(t-72)  var4(t-72)  var5(t-72)  var6(t-72)  \\\n",
       "0          1778.0      1129.0      1182.0        76.0         0.0        36.0   \n",
       "1          1534.0       795.0      1071.0        76.0         0.0        36.0   \n",
       "2          1134.0       298.0       472.0        76.0         0.0        36.0   \n",
       "3           775.0       208.0       320.0        76.0         0.0        36.0   \n",
       "4           661.0       170.0       335.0        76.0         0.0        36.0   \n",
       "...           ...         ...         ...         ...         ...         ...   \n",
       "31314      1869.0       672.0      1298.0       282.0         0.0       207.0   \n",
       "31315      1866.0       662.0      1249.0       282.0         0.0       207.0   \n",
       "31316      1709.0       429.0       956.0       282.0         0.0       207.0   \n",
       "31317      1273.0       299.0       674.0       282.0         0.0       207.0   \n",
       "31318      1100.0       245.0       588.0       282.0         0.0       207.0   \n",
       "\n",
       "       var7(t-72)  var8(t-72)  hour   obj  \n",
       "0           116.0           1     1   220  \n",
       "1           116.0           1     2   219  \n",
       "2           116.0           1     3   179  \n",
       "3           116.0           1     4   218  \n",
       "4           116.0           1     5   420  \n",
       "...           ...         ...   ...   ...  \n",
       "31314       356.0           2    19  1062  \n",
       "31315       356.0           2    20   975  \n",
       "31316       356.0           2    21   739  \n",
       "31317       356.0           2    22   607  \n",
       "31318       356.0           2    23   594  \n",
       "\n",
       "[31319 rows x 10 columns]"
      ]
     },
     "execution_count": 6,
     "metadata": {},
     "output_type": "execute_result"
    }
   ],
   "source": [
    "a1=list(range(1,24))\n",
    "a2=list(range(0,24))*1303\n",
    "a3=list(range(0,24))\n",
    "a4=a1+a2+a3\n",
    "data['hour'] = a4\n",
    "data = data.reindex(columns=[data.columns[0],data.columns[1],data.columns[2],data.columns[3],data.columns[4],\n",
    "                             data.columns[5],data.columns[6],data.columns[7],'hour','obj'])\n",
    "data"
   ]
  },
  {
   "cell_type": "markdown",
   "id": "954e93b9",
   "metadata": {},
   "source": [
    "We normalise all input variables. "
   ]
  },
  {
   "cell_type": "code",
   "execution_count": 7,
   "id": "65f8df7e",
   "metadata": {},
   "outputs": [],
   "source": [
    "scaler = MinMaxScaler(feature_range=(0, 1))\n",
    "data[data.columns.difference(['obj'])] = scaler.fit_transform(data[data.columns.difference(['obj'])])"
   ]
  },
  {
   "cell_type": "markdown",
   "id": "9363230c",
   "metadata": {},
   "source": [
    "We apply the previously defined function. We split the original sequence data. Each sample has six time steps as predictor variables (from timestep t-15 to timestep t-12) and one target variable (timestep t). "
   ]
  },
  {
   "cell_type": "code",
   "execution_count": 8,
   "id": "6f6e2681",
   "metadata": {},
   "outputs": [
    {
     "name": "stdout",
     "output_type": "stream",
     "text": [
      "(31316, 4, 9)\n",
      "(31316, 1)\n"
     ]
    }
   ],
   "source": [
    "data1=data.values\n",
    "X, y = split_sequences(data1,4,1)\n",
    "print(X.shape)\n",
    "print(y.shape)"
   ]
  },
  {
   "cell_type": "markdown",
   "id": "c5bae631",
   "metadata": {},
   "source": [
    "## Data analyse"
   ]
  },
  {
   "cell_type": "markdown",
   "id": "1bd47ac5",
   "metadata": {},
   "source": [
    "We make a simple statistical analysis of the target variable. "
   ]
  },
  {
   "cell_type": "code",
   "execution_count": 9,
   "id": "13c6a1fb",
   "metadata": {},
   "outputs": [
    {
     "data": {
      "text/plain": [
       "count    31319.000000\n",
       "mean       793.264791\n",
       "std        576.964592\n",
       "min          0.000000\n",
       "25%        236.000000\n",
       "50%        739.000000\n",
       "75%       1357.000000\n",
       "max       4665.000000\n",
       "Name: obj, dtype: float64"
      ]
     },
     "execution_count": 9,
     "metadata": {},
     "output_type": "execute_result"
    }
   ],
   "source": [
    "dataplot = data\n",
    "dataplot['obj'].describe()"
   ]
  },
  {
   "cell_type": "markdown",
   "id": "caff81d0",
   "metadata": {},
   "source": [
    "We plot linechart of the evolution of traffic flow in the first week of 2018 (first available data). "
   ]
  },
  {
   "cell_type": "code",
   "execution_count": 10,
   "id": "778710c6",
   "metadata": {},
   "outputs": [
    {
     "data": {
      "image/png": "[encoded data removed]",
      "text/plain": [
       "<Figure size 640x480 with 1 Axes>"
      ]
     },
     "metadata": {},
     "output_type": "display_data"
    }
   ],
   "source": [
    "plt.plot(list(dataplot['obj'][0:24*7]),\n",
    "        label=index, linewidth=3)\n",
    "plt.title('First week of 2018. Arturo Soria Station')\n",
    "plt.ylabel('Hourly traffic flow')\n",
    "plt.show()"
   ]
  },
  {
   "cell_type": "markdown",
   "id": "4458ab4e",
   "metadata": {},
   "source": [
    "## Model development. "
   ]
  },
  {
   "cell_type": "markdown",
   "id": "08723d86",
   "metadata": {},
   "source": [
    "We reshape our data to have the structure required by the neural network. "
   ]
  },
  {
   "cell_type": "code",
   "execution_count": 11,
   "id": "420d1847",
   "metadata": {},
   "outputs": [],
   "source": [
    "X = X.reshape((X.shape[0], X.shape[1], X.shape[2])).astype('float32')\n"
   ]
  },
  {
   "cell_type": "markdown",
   "id": "ad0849d0",
   "metadata": {},
   "source": [
    "We divide randomly our data in the train and test sets. "
   ]
  },
  {
   "cell_type": "code",
   "execution_count": 12,
   "id": "eb984b95",
   "metadata": {},
   "outputs": [],
   "source": [
    "X_train, X_test, y_train, y_test = train_test_split(\n",
    "X, y, test_size=0.33, random_state=42)"
   ]
  },
  {
   "cell_type": "markdown",
   "id": "95522ffc",
   "metadata": {},
   "source": [
    "We develop our model by using keras and tensorflow. First, we apply a convolutional neural network with 256 kernels which is followed by a max pooling. Then, we flatten data. \n",
    "\n",
    "Subsequently, we use the flatten data as input in the Bidirectional long short term memory network, with 500 units. It is followed by a dropout layer and, finally, we apply a dense layer to obtain the required prediction. "
   ]
  },
  {
   "cell_type": "code",
   "execution_count": 13,
   "id": "f0a6e714",
   "metadata": {},
   "outputs": [
    {
     "name": "stdout",
     "output_type": "stream",
     "text": [
      "Model: \"model\"\n",
      "__________________________________________________________________________________________________\n",
      " Layer (type)                   Output Shape         Param #     Connected to                     \n",
      "==================================================================================================\n",
      " input_1 (InputLayer)           [(None, 4, 9, 1)]    0           []                               \n",
      "                                                                                                  \n",
      " time_distributed (TimeDistribu  (None, 4, 8, 256)   768         ['input_1[0][0]']                \n",
      " ted)                                                                                             \n",
      "                                                                                                  \n",
      " time_distributed_1 (TimeDistri  (None, 4, 4, 256)   0           ['time_distributed[0][0]']       \n",
      " buted)                                                                                           \n",
      "                                                                                                  \n",
      " time_distributed_2 (TimeDistri  (None, 4, 1024)     0           ['time_distributed_1[0][0]']     \n",
      " buted)                                                                                           \n",
      "                                                                                                  \n",
      " gru (GRU)                      (None, 4, 500)       2289000     ['time_distributed_2[0][0]']     \n",
      "                                                                                                  \n",
      " dense (Dense)                  (None, 4, 1000)      501000      ['gru[0][0]']                    \n",
      "                                                                                                  \n",
      " dense_1 (Dense)                (None, 4, 1000)      1001000     ['dense[0][0]']                  \n",
      "                                                                                                  \n",
      " softmax (Softmax)              (None, 4, 1000)      0           ['dense_1[0][0]']                \n",
      "                                                                                                  \n",
      " tf.math.multiply (TFOpLambda)  (None, 4, 1000)      0           ['dense_1[0][0]',                \n",
      "                                                                  'softmax[0][0]']                \n",
      "                                                                                                  \n",
      " average_pooling1d (AveragePool  (None, 1, 1000)     0           ['tf.math.multiply[0][0]']       \n",
      " ing1D)                                                                                           \n",
      "                                                                                                  \n",
      " reshape (Reshape)              (None, 1000)         0           ['average_pooling1d[0][0]']      \n",
      "                                                                                                  \n",
      " dense_2 (Dense)                (None, 1)            1001        ['reshape[0][0]']                \n",
      "                                                                                                  \n",
      "==================================================================================================\n",
      "Total params: 3,792,769\n",
      "Trainable params: 3,792,769\n",
      "Non-trainable params: 0\n",
      "__________________________________________________________________________________________________\n"
     ]
    }
   ],
   "source": [
    "from keras.layers import Input, Layer, Conv1D, MaxPooling1D, Flatten, Bidirectional, GRU\n",
    "from keras.layers import Dropout, Dense, Softmax, AveragePooling1D, Reshape\n",
    "from keras.models import Model\n",
    "\n",
    "import tensorflow as tf\n",
    "from tensorflow.keras.layers import Input, Conv1D, MaxPooling1D, Flatten, Bidirectional, GRU, Softmax, Dense, TimeDistributed, AveragePooling1D\n",
    "\n",
    "# Define your input shape\n",
    "input_shape = (4, 9, 1)\n",
    "\n",
    "# Create the input layer\n",
    "input_layer = Input(shape=input_shape)\n",
    "\n",
    "# Apply Conv1D with soft attention\n",
    "conv_layer = TimeDistributed(Conv1D(filters=256, kernel_size=2, activation='relu'))(input_layer)\n",
    "\n",
    "# Apply MaxPooling1D\n",
    "pooling_layer = TimeDistributed(MaxPooling1D(pool_size=2, padding='same'))(conv_layer)\n",
    "\n",
    "# Flatten the output\n",
    "flatten_layer = TimeDistributed(Flatten())(pooling_layer)\n",
    "\n",
    "# Bidirectional GRU layer\n",
    "gru_layer = GRU(500, activation='relu', return_sequences=True)(flatten_layer)\n",
    "\n",
    "# dropout_layer = Dropout(0.5)(gru_layer)\n",
    "# Dense layers\n",
    "denselayer1 = Dense(1000)(gru_layer)\n",
    "denselayer2 = Dense(1000)(denselayer1)\n",
    "\n",
    "# Apply soft attention mechanism\n",
    "attention_weights = Softmax(axis=1)(denselayer2)\n",
    "attended_output = denselayer2 * attention_weights\n",
    "\n",
    "# Apply AveragePooling1D\n",
    "pooled_output = AveragePooling1D(pool_size=4)(attended_output)\n",
    "\n",
    "# Reshape the pooled tensor to (None, 1000)\n",
    "reshaped_output = tf.keras.layers.Reshape(target_shape=(1000,))(pooled_output)\n",
    "\n",
    "# Output layer\n",
    "output_layer = Dense(1)(reshaped_output)\n",
    "\n",
    "# Compile the model\n",
    "model_with_attention = tf.keras.Model(inputs=input_layer, outputs=output_layer)\n",
    "model_with_attention.compile(optimizer='adam', loss='mae')\n",
    "\n",
    "# Summary of the modified model\n",
    "model_with_attention.summary()\n",
    "\n"
   ]
  },
  {
   "cell_type": "code",
   "execution_count": 14,
   "id": "bd867a10-8bc8-466d-9be2-e34a7de2f5cd",
   "metadata": {},
   "outputs": [],
   "source": [
    "# model3.summary()"
   ]
  },
  {
   "cell_type": "code",
   "execution_count": 15,
   "id": "7c4c19ab-196e-4345-a7fb-8fe6d1431c70",
   "metadata": {},
   "outputs": [
    {
     "name": "stdout",
     "output_type": "stream",
     "text": [
      "(20981, 1)\n"
     ]
    }
   ],
   "source": [
    "print(y_train.shape)"
   ]
  },
  {
   "cell_type": "markdown",
   "id": "e07e6b25",
   "metadata": {},
   "source": [
    "We provide a graphical representation of the model by using Netron. Reader can deeply analyse each layer of the model. "
   ]
  },
  {
   "cell_type": "code",
   "execution_count": 16,
   "id": "f999d515",
   "metadata": {
    "scrolled": true
   },
   "outputs": [],
   "source": [
    "\n",
    "# model_with_attention.save('model_with_attention.keras')\n",
    "# netron.start('model_with_attention.h5')"
   ]
  },
  {
   "cell_type": "markdown",
   "id": "6ce5e668",
   "metadata": {},
   "source": [
    "We train the model."
   ]
  },
  {
   "cell_type": "code",
   "execution_count": 17,
   "id": "84c63f1c",
   "metadata": {
    "scrolled": false
   },
   "outputs": [
    {
     "name": "stdout",
     "output_type": "stream",
     "text": [
      "Epoch 1/100\n",
      "656/656 [==============================] - 17s 25ms/step - loss: 362.4029 - val_loss: 300.9039\n",
      "Epoch 2/100\n",
      "656/656 [==============================] - 16s 25ms/step - loss: 287.1100 - val_loss: 294.9893\n",
      "Epoch 3/100\n",
      "656/656 [==============================] - 16s 25ms/step - loss: 270.9682 - val_loss: 284.2572\n",
      "Epoch 4/100\n",
      "656/656 [==============================] - 16s 25ms/step - loss: 259.1362 - val_loss: 278.5027\n",
      "Epoch 5/100\n",
      "656/656 [==============================] - 17s 25ms/step - loss: 252.9862 - val_loss: 246.6642\n",
      "Epoch 6/100\n",
      "656/656 [==============================] - 19s 29ms/step - loss: 244.4425 - val_loss: 249.9186\n",
      "Epoch 7/100\n",
      "656/656 [==============================] - 17s 26ms/step - loss: 231.8735 - val_loss: 229.8637\n",
      "Epoch 8/100\n",
      "656/656 [==============================] - 17s 26ms/step - loss: 225.5686 - val_loss: 222.1192\n",
      "Epoch 9/100\n",
      "656/656 [==============================] - 17s 26ms/step - loss: 221.6022 - val_loss: 237.5569\n",
      "Epoch 10/100\n",
      "656/656 [==============================] - 17s 26ms/step - loss: 220.4736 - val_loss: 222.6587\n",
      "Epoch 11/100\n",
      "656/656 [==============================] - 17s 27ms/step - loss: 213.7639 - val_loss: 210.9065\n",
      "Epoch 12/100\n",
      "656/656 [==============================] - 17s 26ms/step - loss: 211.6404 - val_loss: 223.8481\n",
      "Epoch 13/100\n",
      "656/656 [==============================] - 17s 27ms/step - loss: 209.4484 - val_loss: 206.4561\n",
      "Epoch 14/100\n",
      "656/656 [==============================] - 17s 26ms/step - loss: 208.1270 - val_loss: 207.8312\n",
      "Epoch 15/100\n",
      "656/656 [==============================] - 18s 27ms/step - loss: 206.1799 - val_loss: 209.6829\n",
      "Epoch 16/100\n",
      "656/656 [==============================] - 17s 26ms/step - loss: 204.6438 - val_loss: 214.0062\n",
      "Epoch 17/100\n",
      "656/656 [==============================] - 17s 26ms/step - loss: 202.2126 - val_loss: 207.0295\n",
      "Epoch 18/100\n",
      "656/656 [==============================] - 17s 26ms/step - loss: 199.4585 - val_loss: 202.7169\n",
      "Epoch 19/100\n",
      "656/656 [==============================] - 17s 27ms/step - loss: 198.7882 - val_loss: 199.3455\n",
      "Epoch 20/100\n",
      "656/656 [==============================] - 17s 27ms/step - loss: 198.4499 - val_loss: 197.4387\n",
      "Epoch 21/100\n",
      "656/656 [==============================] - 17s 26ms/step - loss: 195.1816 - val_loss: 199.4132\n",
      "Epoch 22/100\n",
      "656/656 [==============================] - 17s 26ms/step - loss: 194.1693 - val_loss: 199.8284\n",
      "Epoch 23/100\n",
      "656/656 [==============================] - 17s 26ms/step - loss: 193.0732 - val_loss: 201.4566\n",
      "Epoch 24/100\n",
      "656/656 [==============================] - 17s 26ms/step - loss: 192.3942 - val_loss: 196.6102\n",
      "Epoch 25/100\n",
      "656/656 [==============================] - 17s 27ms/step - loss: 191.2900 - val_loss: 194.4292\n",
      "Epoch 26/100\n",
      "656/656 [==============================] - 17s 26ms/step - loss: 189.1646 - val_loss: 197.0720\n",
      "Epoch 27/100\n",
      "656/656 [==============================] - 18s 27ms/step - loss: 188.5308 - val_loss: 195.1637\n",
      "Epoch 28/100\n",
      "656/656 [==============================] - 17s 26ms/step - loss: 188.0976 - val_loss: 202.0275\n",
      "Epoch 29/100\n",
      "656/656 [==============================] - 17s 27ms/step - loss: 187.9038 - val_loss: 193.2033\n",
      "Epoch 30/100\n",
      "656/656 [==============================] - 17s 26ms/step - loss: 186.4618 - val_loss: 189.2189\n",
      "Epoch 31/100\n",
      "656/656 [==============================] - 17s 27ms/step - loss: 184.2102 - val_loss: 187.4591\n",
      "Epoch 32/100\n",
      "656/656 [==============================] - 17s 26ms/step - loss: 183.8724 - val_loss: 191.5614\n",
      "Epoch 33/100\n",
      "656/656 [==============================] - 17s 26ms/step - loss: 182.3384 - val_loss: 189.4709\n",
      "Epoch 34/100\n",
      "656/656 [==============================] - 17s 27ms/step - loss: 181.3069 - val_loss: 196.8033\n",
      "Epoch 35/100\n",
      "656/656 [==============================] - 17s 26ms/step - loss: 179.3406 - val_loss: 184.6905\n",
      "Epoch 36/100\n",
      "656/656 [==============================] - 17s 26ms/step - loss: 179.4780 - val_loss: 185.1741\n",
      "Epoch 37/100\n",
      "656/656 [==============================] - 17s 27ms/step - loss: 178.7935 - val_loss: 184.4766\n",
      "Epoch 38/100\n",
      "656/656 [==============================] - 17s 27ms/step - loss: 177.3164 - val_loss: 187.0900\n",
      "Epoch 39/100\n",
      "656/656 [==============================] - 17s 26ms/step - loss: 177.0857 - val_loss: 192.0722\n",
      "Epoch 40/100\n",
      "656/656 [==============================] - 18s 27ms/step - loss: 176.2123 - val_loss: 185.6252\n",
      "Epoch 41/100\n",
      "656/656 [==============================] - 17s 26ms/step - loss: 174.4543 - val_loss: 182.7975\n",
      "Epoch 42/100\n",
      "656/656 [==============================] - 17s 27ms/step - loss: 173.9471 - val_loss: 182.3321\n",
      "Epoch 43/100\n",
      "656/656 [==============================] - 17s 27ms/step - loss: 172.7338 - val_loss: 181.5557\n",
      "Epoch 44/100\n",
      "656/656 [==============================] - 18s 27ms/step - loss: 171.3390 - val_loss: 184.1768\n",
      "Epoch 45/100\n",
      "656/656 [==============================] - 17s 27ms/step - loss: 170.9473 - val_loss: 180.6835\n",
      "Epoch 46/100\n",
      "656/656 [==============================] - 17s 26ms/step - loss: 170.6455 - val_loss: 187.9933\n",
      "Epoch 47/100\n",
      "656/656 [==============================] - 17s 26ms/step - loss: 169.4720 - val_loss: 182.6496\n",
      "Epoch 48/100\n",
      "656/656 [==============================] - 17s 26ms/step - loss: 168.3237 - val_loss: 178.9342\n",
      "Epoch 49/100\n",
      "656/656 [==============================] - 17s 26ms/step - loss: 167.4321 - val_loss: 182.0148\n",
      "Epoch 50/100\n",
      "656/656 [==============================] - 17s 27ms/step - loss: 166.0557 - val_loss: 183.7070\n",
      "Epoch 51/100\n",
      "656/656 [==============================] - 17s 27ms/step - loss: 165.6007 - val_loss: 183.5917\n",
      "Epoch 52/100\n",
      "656/656 [==============================] - 17s 27ms/step - loss: 164.6938 - val_loss: 178.8621\n",
      "Epoch 53/100\n",
      "656/656 [==============================] - 17s 26ms/step - loss: 163.9868 - val_loss: 178.3356\n",
      "Epoch 54/100\n",
      "656/656 [==============================] - 17s 26ms/step - loss: 164.2997 - val_loss: 180.5413\n",
      "Epoch 55/100\n",
      "656/656 [==============================] - 17s 26ms/step - loss: 163.4206 - val_loss: 182.4896\n",
      "Epoch 56/100\n",
      "656/656 [==============================] - 17s 27ms/step - loss: 161.0818 - val_loss: 175.8557\n",
      "Epoch 57/100\n",
      "656/656 [==============================] - 17s 26ms/step - loss: 160.0439 - val_loss: 176.6275\n",
      "Epoch 58/100\n",
      "656/656 [==============================] - 17s 27ms/step - loss: 160.6941 - val_loss: 177.4791\n",
      "Epoch 59/100\n",
      "656/656 [==============================] - 17s 26ms/step - loss: 159.4692 - val_loss: 179.7704\n",
      "Epoch 60/100\n",
      "656/656 [==============================] - 17s 27ms/step - loss: 157.9895 - val_loss: 179.1197\n",
      "Epoch 61/100\n",
      "656/656 [==============================] - 17s 26ms/step - loss: 157.3479 - val_loss: 176.6886\n",
      "Epoch 62/100\n",
      "656/656 [==============================] - 17s 26ms/step - loss: 157.6216 - val_loss: 179.7114\n",
      "Epoch 63/100\n",
      "656/656 [==============================] - 17s 27ms/step - loss: 156.3722 - val_loss: 173.7246\n",
      "Epoch 64/100\n",
      "656/656 [==============================] - 17s 26ms/step - loss: 155.5959 - val_loss: 173.3925\n",
      "Epoch 65/100\n",
      "656/656 [==============================] - 17s 26ms/step - loss: 153.7993 - val_loss: 174.5604\n",
      "Epoch 66/100\n",
      "656/656 [==============================] - 17s 27ms/step - loss: 154.3461 - val_loss: 173.1072\n",
      "Epoch 67/100\n",
      "656/656 [==============================] - 17s 26ms/step - loss: 153.8067 - val_loss: 173.0016\n",
      "Epoch 68/100\n",
      "656/656 [==============================] - 17s 26ms/step - loss: 152.7507 - val_loss: 174.3839\n",
      "Epoch 69/100\n",
      "656/656 [==============================] - 17s 26ms/step - loss: 152.3932 - val_loss: 176.4279\n",
      "Epoch 70/100\n",
      "656/656 [==============================] - 17s 26ms/step - loss: 151.5155 - val_loss: 174.1284\n",
      "Epoch 71/100\n",
      "656/656 [==============================] - 17s 27ms/step - loss: 150.6596 - val_loss: 176.2708\n",
      "Epoch 72/100\n",
      "656/656 [==============================] - 17s 27ms/step - loss: 148.6349 - val_loss: 174.0735\n",
      "Epoch 73/100\n",
      "656/656 [==============================] - 17s 26ms/step - loss: 148.8433 - val_loss: 175.7274\n",
      "Epoch 74/100\n",
      "656/656 [==============================] - 17s 26ms/step - loss: 148.2721 - val_loss: 174.5969\n",
      "Epoch 75/100\n",
      "656/656 [==============================] - 17s 26ms/step - loss: 147.3574 - val_loss: 176.2634\n",
      "Epoch 76/100\n",
      "656/656 [==============================] - 17s 26ms/step - loss: 146.3747 - val_loss: 173.9709\n"
     ]
    },
    {
     "name": "stdout",
     "output_type": "stream",
     "text": [
      "Epoch 77/100\n",
      "656/656 [==============================] - 17s 26ms/step - loss: 145.8880 - val_loss: 171.6808\n",
      "Epoch 78/100\n",
      "656/656 [==============================] - 17s 26ms/step - loss: 144.9114 - val_loss: 172.0453\n",
      "Epoch 79/100\n",
      "656/656 [==============================] - 17s 26ms/step - loss: 143.9484 - val_loss: 170.9578\n",
      "Epoch 80/100\n",
      "656/656 [==============================] - 17s 26ms/step - loss: 142.9980 - val_loss: 174.1790\n",
      "Epoch 81/100\n",
      "656/656 [==============================] - 17s 26ms/step - loss: 143.6263 - val_loss: 171.8138\n",
      "Epoch 82/100\n",
      "656/656 [==============================] - 17s 27ms/step - loss: 142.0415 - val_loss: 176.6037\n",
      "Epoch 83/100\n",
      "656/656 [==============================] - 18s 27ms/step - loss: 141.4062 - val_loss: 173.9319\n",
      "Epoch 84/100\n",
      "656/656 [==============================] - 17s 27ms/step - loss: 140.1746 - val_loss: 172.0084\n",
      "Epoch 85/100\n",
      "656/656 [==============================] - 17s 27ms/step - loss: 140.0462 - val_loss: 176.9501\n",
      "Epoch 86/100\n",
      "656/656 [==============================] - 18s 27ms/step - loss: 139.3163 - val_loss: 170.4570\n",
      "Epoch 87/100\n",
      "656/656 [==============================] - 17s 26ms/step - loss: 137.2991 - val_loss: 172.7565\n",
      "Epoch 88/100\n",
      "656/656 [==============================] - 17s 26ms/step - loss: 137.1756 - val_loss: 174.7137\n",
      "Epoch 89/100\n",
      "656/656 [==============================] - 17s 26ms/step - loss: 137.2925 - val_loss: 172.2459\n",
      "Epoch 90/100\n",
      "656/656 [==============================] - 17s 26ms/step - loss: 136.4242 - val_loss: 171.6632\n",
      "Epoch 91/100\n",
      "656/656 [==============================] - 17s 26ms/step - loss: 135.5444 - val_loss: 171.1431\n",
      "Epoch 92/100\n",
      "656/656 [==============================] - 17s 26ms/step - loss: 135.2107 - val_loss: 177.9583\n",
      "Epoch 93/100\n",
      "656/656 [==============================] - 17s 26ms/step - loss: 134.6477 - val_loss: 171.1930\n",
      "Epoch 94/100\n",
      "656/656 [==============================] - 17s 26ms/step - loss: 133.0248 - val_loss: 177.2640\n",
      "Epoch 95/100\n",
      "656/656 [==============================] - 17s 26ms/step - loss: 133.0424 - val_loss: 169.8574\n",
      "Epoch 96/100\n",
      "656/656 [==============================] - 17s 26ms/step - loss: 132.0676 - val_loss: 173.2632\n",
      "Epoch 97/100\n",
      "656/656 [==============================] - 18s 27ms/step - loss: 131.6393 - val_loss: 172.3867\n",
      "Epoch 98/100\n",
      "656/656 [==============================] - 18s 27ms/step - loss: 129.7748 - val_loss: 171.2085\n",
      "Epoch 99/100\n",
      "656/656 [==============================] - 18s 27ms/step - loss: 129.9657 - val_loss: 173.5842\n",
      "Epoch 100/100\n",
      "656/656 [==============================] - 18s 27ms/step - loss: 129.7287 - val_loss: 170.4085\n",
      "Wall time: 28min 53s\n"
     ]
    }
   ],
   "source": [
    "%%time\n",
    "\n",
    "history3=model_with_attention.fit(X_train,y_train,epochs=100,batch_size = 32, shuffle=True,validation_data=(X_test,y_test))"
   ]
  },
  {
   "cell_type": "code",
   "execution_count": 18,
   "id": "abba0b87-9118-4cc6-9653-6de20c9a1872",
   "metadata": {},
   "outputs": [],
   "source": [
    "# import keras\n",
    "# tf.keras.s(model_with_attention, 'model_with_attention_AS2(t-12).keras')\n",
    "model_with_attention.save('model_with_attention_CA(t-72).keras')\n",
    "\n",
    "train_loss_pd = pd.DataFrame(history3.history['loss'])\n",
    "val_loss_pd = pd.DataFrame(history3.history['loss'])\n",
    "train_loss_pd.to_csv('train_loss_CA(t-72)')\n",
    "val_loss_pd.to_csv('val_loss_CA(t-72)')"
   ]
  },
  {
   "cell_type": "code",
   "execution_count": 19,
   "id": "6a350564",
   "metadata": {},
   "outputs": [
    {
     "data": {
      "text/plain": [
       "{'loss': [362.4028625488281,\n",
       "  287.11004638671875,\n",
       "  270.96820068359375,\n",
       "  259.13623046875,\n",
       "  252.9861602783203,\n",
       "  244.44248962402344,\n",
       "  231.87347412109375,\n",
       "  225.5685577392578,\n",
       "  221.60218811035156,\n",
       "  220.47360229492188,\n",
       "  213.76388549804688,\n",
       "  211.64041137695312,\n",
       "  209.44837951660156,\n",
       "  208.12704467773438,\n",
       "  206.179931640625,\n",
       "  204.64376831054688,\n",
       "  202.21255493164062,\n",
       "  199.45848083496094,\n",
       "  198.78822326660156,\n",
       "  198.44993591308594,\n",
       "  195.18157958984375,\n",
       "  194.16929626464844,\n",
       "  193.07321166992188,\n",
       "  192.39422607421875,\n",
       "  191.2900390625,\n",
       "  189.16455078125,\n",
       "  188.5308074951172,\n",
       "  188.0976104736328,\n",
       "  187.9037628173828,\n",
       "  186.46182250976562,\n",
       "  184.21017456054688,\n",
       "  183.8723907470703,\n",
       "  182.33837890625,\n",
       "  181.30691528320312,\n",
       "  179.340576171875,\n",
       "  179.4779510498047,\n",
       "  178.79351806640625,\n",
       "  177.31640625,\n",
       "  177.08572387695312,\n",
       "  176.2122802734375,\n",
       "  174.4542694091797,\n",
       "  173.94705200195312,\n",
       "  172.73379516601562,\n",
       "  171.33900451660156,\n",
       "  170.94728088378906,\n",
       "  170.64553833007812,\n",
       "  169.4719696044922,\n",
       "  168.32366943359375,\n",
       "  167.43212890625,\n",
       "  166.0557403564453,\n",
       "  165.60067749023438,\n",
       "  164.69384765625,\n",
       "  163.98675537109375,\n",
       "  164.29971313476562,\n",
       "  163.42059326171875,\n",
       "  161.08177185058594,\n",
       "  160.04391479492188,\n",
       "  160.6941375732422,\n",
       "  159.46920776367188,\n",
       "  157.98951721191406,\n",
       "  157.34791564941406,\n",
       "  157.62155151367188,\n",
       "  156.37216186523438,\n",
       "  155.5958709716797,\n",
       "  153.79934692382812,\n",
       "  154.34608459472656,\n",
       "  153.80670166015625,\n",
       "  152.75070190429688,\n",
       "  152.39321899414062,\n",
       "  151.5155029296875,\n",
       "  150.65963745117188,\n",
       "  148.63490295410156,\n",
       "  148.84326171875,\n",
       "  148.27207946777344,\n",
       "  147.357421875,\n",
       "  146.37474060058594,\n",
       "  145.88803100585938,\n",
       "  144.9114227294922,\n",
       "  143.9484100341797,\n",
       "  142.99795532226562,\n",
       "  143.62631225585938,\n",
       "  142.04153442382812,\n",
       "  141.40618896484375,\n",
       "  140.17459106445312,\n",
       "  140.04624938964844,\n",
       "  139.31634521484375,\n",
       "  137.2991180419922,\n",
       "  137.17559814453125,\n",
       "  137.29254150390625,\n",
       "  136.42416381835938,\n",
       "  135.54443359375,\n",
       "  135.2107391357422,\n",
       "  134.6476593017578,\n",
       "  133.02476501464844,\n",
       "  133.04238891601562,\n",
       "  132.067626953125,\n",
       "  131.63929748535156,\n",
       "  129.77479553222656,\n",
       "  129.96566772460938,\n",
       "  129.7286834716797],\n",
       " 'val_loss': [300.9039306640625,\n",
       "  294.98931884765625,\n",
       "  284.2571716308594,\n",
       "  278.50274658203125,\n",
       "  246.6642303466797,\n",
       "  249.9186248779297,\n",
       "  229.8636932373047,\n",
       "  222.11915588378906,\n",
       "  237.55691528320312,\n",
       "  222.65866088867188,\n",
       "  210.90652465820312,\n",
       "  223.84814453125,\n",
       "  206.45611572265625,\n",
       "  207.83120727539062,\n",
       "  209.68289184570312,\n",
       "  214.00616455078125,\n",
       "  207.0294647216797,\n",
       "  202.71688842773438,\n",
       "  199.345458984375,\n",
       "  197.43865966796875,\n",
       "  199.4131622314453,\n",
       "  199.8284149169922,\n",
       "  201.45664978027344,\n",
       "  196.61016845703125,\n",
       "  194.42921447753906,\n",
       "  197.07196044921875,\n",
       "  195.1636962890625,\n",
       "  202.0275115966797,\n",
       "  193.20326232910156,\n",
       "  189.2189483642578,\n",
       "  187.45907592773438,\n",
       "  191.5613555908203,\n",
       "  189.4708709716797,\n",
       "  196.80328369140625,\n",
       "  184.6905059814453,\n",
       "  185.17408752441406,\n",
       "  184.4766387939453,\n",
       "  187.09002685546875,\n",
       "  192.0722198486328,\n",
       "  185.62521362304688,\n",
       "  182.79745483398438,\n",
       "  182.33206176757812,\n",
       "  181.55572509765625,\n",
       "  184.1767578125,\n",
       "  180.68345642089844,\n",
       "  187.99327087402344,\n",
       "  182.64962768554688,\n",
       "  178.93417358398438,\n",
       "  182.01483154296875,\n",
       "  183.70704650878906,\n",
       "  183.5917205810547,\n",
       "  178.8621368408203,\n",
       "  178.3355712890625,\n",
       "  180.54132080078125,\n",
       "  182.48959350585938,\n",
       "  175.85574340820312,\n",
       "  176.62753295898438,\n",
       "  177.47909545898438,\n",
       "  179.7703857421875,\n",
       "  179.11968994140625,\n",
       "  176.68858337402344,\n",
       "  179.71144104003906,\n",
       "  173.72462463378906,\n",
       "  173.39248657226562,\n",
       "  174.5604248046875,\n",
       "  173.10719299316406,\n",
       "  173.0015869140625,\n",
       "  174.3839111328125,\n",
       "  176.42794799804688,\n",
       "  174.12838745117188,\n",
       "  176.27084350585938,\n",
       "  174.07347106933594,\n",
       "  175.72744750976562,\n",
       "  174.59686279296875,\n",
       "  176.26339721679688,\n",
       "  173.97085571289062,\n",
       "  171.6807861328125,\n",
       "  172.0452880859375,\n",
       "  170.95779418945312,\n",
       "  174.178955078125,\n",
       "  171.81378173828125,\n",
       "  176.60374450683594,\n",
       "  173.93185424804688,\n",
       "  172.00840759277344,\n",
       "  176.9501190185547,\n",
       "  170.45704650878906,\n",
       "  172.7564697265625,\n",
       "  174.7137451171875,\n",
       "  172.2459259033203,\n",
       "  171.6631622314453,\n",
       "  171.14308166503906,\n",
       "  177.95831298828125,\n",
       "  171.19297790527344,\n",
       "  177.26397705078125,\n",
       "  169.85743713378906,\n",
       "  173.26315307617188,\n",
       "  172.3866729736328,\n",
       "  171.20849609375,\n",
       "  173.5841827392578,\n",
       "  170.40850830078125]}"
      ]
     },
     "execution_count": 19,
     "metadata": {},
     "output_type": "execute_result"
    }
   ],
   "source": [
    "# print(history3.items())\n",
    "history3.history"
   ]
  },
  {
   "cell_type": "code",
   "execution_count": 20,
   "id": "b3eaaafe",
   "metadata": {},
   "outputs": [
    {
     "data": {
      "text/plain": [
       "<matplotlib.legend.Legend at 0x2223b1c72c8>"
      ]
     },
     "execution_count": 20,
     "metadata": {},
     "output_type": "execute_result"
    },
    {
     "data": {
      "image/png": "[encoded data removed]",
      "text/plain": [
       "<Figure size 1000x500 with 1 Axes>"
      ]
     },
     "metadata": {},
     "output_type": "display_data"
    }
   ],
   "source": [
    "plt.figure(figsize=(10, 5))\n",
    "plt.plot(train_loss_pd, label='train')\n",
    "plt.plot(val_loss_pd, label='val')\n",
    "plt.legend()"
   ]
  },
  {
   "cell_type": "markdown",
   "id": "9c54db72",
   "metadata": {},
   "source": [
    "## Model evaluation"
   ]
  },
  {
   "cell_type": "markdown",
   "id": "b2ea78bf",
   "metadata": {},
   "source": [
    "We define this function, which will be useful to evaluate the model."
   ]
  },
  {
   "cell_type": "code",
   "execution_count": 21,
   "id": "8c0e5a3b",
   "metadata": {},
   "outputs": [],
   "source": [
    "def flatten(t):\n",
    "    return [item for sublist in t for item in sublist]"
   ]
  },
  {
   "cell_type": "markdown",
   "id": "e9674031",
   "metadata": {},
   "source": [
    "We evaluate the model by using the first metric (mean absolute error). "
   ]
  },
  {
   "cell_type": "code",
   "execution_count": 22,
   "id": "5ecf3c33",
   "metadata": {},
   "outputs": [
    {
     "name": "stdout",
     "output_type": "stream",
     "text": [
      "323/323 [==============================] - 3s 8ms/step\n",
      "(10335, 1)\n",
      "10335\n",
      "(10335, 1)\n",
      "10335\n",
      "170.40850687257668\n"
     ]
    }
   ],
   "source": [
    "from sklearn.metrics import mean_absolute_error \n",
    "# from sklearn.metrics import root_mean_squared_error \n",
    "\n",
    "pred = model_with_attention.predict(X_test)\n",
    "print(pred.shape)\n",
    "print(len(flatten(pred)))\n",
    "print(y_test.shape)\n",
    "print(len(flatten(y_test)))\n",
    "\n",
    "MAE = mean_absolute_error(flatten(pred),flatten(y_test))\n",
    "print(MAE)\n",
    "# RMSE = root_mean_squared_error(flatten(pred),flatten(y_test))\n",
    "# print(RMSE)"
   ]
  },
  {
   "cell_type": "markdown",
   "id": "12982dd9",
   "metadata": {},
   "source": [
    "We will evaluate the model with the second metric (accuracy). For this, we divide target variable in three categories: first, data between percentil 0 and 15; second, data between percentil 15 and 85 and thrid, data between percentil 85 and 100. "
   ]
  },
  {
   "cell_type": "code",
   "execution_count": 23,
   "id": "10369faa-d540-4ccd-a24b-4fe206c3d53f",
   "metadata": {},
   "outputs": [
    {
     "name": "stdout",
     "output_type": "stream",
     "text": [
      "323/323 [==============================] - 3s 8ms/step\n",
      "[[ 275.01605]\n",
      " [ 263.46387]\n",
      " [ 359.07907]\n",
      " ...\n",
      " [1273.4507 ]\n",
      " [ 558.40234]\n",
      " [1378.6378 ]]\n"
     ]
    }
   ],
   "source": [
    "pred = model_with_attention.predict(X_test)\n",
    "print(pred)"
   ]
  },
  {
   "cell_type": "code",
   "execution_count": 24,
   "id": "17ad32ac-3aff-4ecf-b8b9-e496b63f9301",
   "metadata": {},
   "outputs": [
    {
     "data": {
      "text/plain": [
       "array([[ 589.],\n",
       "       [ 429.],\n",
       "       [ 594.],\n",
       "       ...,\n",
       "       [1638.],\n",
       "       [ 676.],\n",
       "       [1533.]])"
      ]
     },
     "execution_count": 24,
     "metadata": {},
     "output_type": "execute_result"
    }
   ],
   "source": [
    "y_test"
   ]
  },
  {
   "cell_type": "code",
   "execution_count": 25,
   "id": "d944ccff",
   "metadata": {},
   "outputs": [],
   "source": [
    "obj = list(data['obj'].values)"
   ]
  },
  {
   "cell_type": "code",
   "execution_count": 26,
   "id": "36466028-ed5d-423b-ac17-9ad0b8463604",
   "metadata": {},
   "outputs": [
    {
     "data": {
      "text/plain": [
       "dtype('float32')"
      ]
     },
     "execution_count": 26,
     "metadata": {},
     "output_type": "execute_result"
    }
   ],
   "source": [
    "pred.dtype == np.float64\n",
    "pred.dtype"
   ]
  },
  {
   "cell_type": "code",
   "execution_count": 27,
   "id": "58982b45",
   "metadata": {},
   "outputs": [
    {
     "name": "stdout",
     "output_type": "stream",
     "text": [
      "0\n",
      "116.0\n",
      "1522.0\n",
      "4665\n"
     ]
    }
   ],
   "source": [
    "print(np.quantile(obj, 0))\n",
    "print(np.quantile(obj, 0.15))\n",
    "print(np.quantile(obj, 0.85))\n",
    "print(np.quantile(obj, 1))"
   ]
  },
  {
   "cell_type": "markdown",
   "id": "d555df61",
   "metadata": {},
   "source": [
    "We add and substract a small value in extreme values in order to avoid issues. We also transform the predictions lower than 0 in 0. "
   ]
  },
  {
   "cell_type": "code",
   "execution_count": 28,
   "id": "649392d4",
   "metadata": {},
   "outputs": [],
   "source": [
    "bins = [np.quantile(obj, 0)-0.001,np.quantile(obj, 0.15),np.quantile(obj, 0.85),np.quantile(obj, 1)+0.001]\n",
    "names = ['a','b','c']\n",
    "for i in range(len(pred)):\n",
    "    if pred[i]<0:\n",
    "        pred[i] = 0\n",
    "pred2=pd.cut(flatten(pred), bins, labels = names)\n",
    "ytest2=pd.cut(flatten(y_test), bins, labels = names)"
   ]
  },
  {
   "cell_type": "markdown",
   "id": "bfff6821",
   "metadata": {},
   "source": [
    "We obtain the accuracy metric and the confusion matrix corresponding. "
   ]
  },
  {
   "cell_type": "code",
   "execution_count": 29,
   "id": "fbde0271",
   "metadata": {},
   "outputs": [
    {
     "name": "stdout",
     "output_type": "stream",
     "text": [
      "0.8246734397677794\n",
      "[[1039  519    5]\n",
      " [ 128 6663  421]\n",
      " [   0  739  821]]\n"
     ]
    }
   ],
   "source": [
    "print(accuracy_score(ytest2,pred2))\n",
    "print(confusion_matrix(ytest2,pred2))"
   ]
  },
  {
   "cell_type": "markdown",
   "id": "d58c8161",
   "metadata": {},
   "source": [
    "###  Plotting the actual and predicted values. "
   ]
  },
  {
   "cell_type": "markdown",
   "id": "1692014e",
   "metadata": {},
   "source": [
    "We selelct randomly an observation of the entire dataset and we will analyse the 100 successive observations. We plot\n",
    "the actual and the predicted values of these observations. "
   ]
  },
  {
   "cell_type": "code",
   "execution_count": 30,
   "id": "5711b77d",
   "metadata": {},
   "outputs": [
    {
     "data": {
      "text/plain": [
       "array([[[0.2739943 , 0.3384568 , 0.32433012, ..., 0.21287128,\n",
       "         0.6666667 , 0.8695652 ],\n",
       "        [0.30962938, 0.22594528, 0.22936763, ..., 0.21287128,\n",
       "         0.6666667 , 0.9130435 ],\n",
       "        [0.23218246, 0.15308945, 0.16334406, ..., 0.21287128,\n",
       "         0.6666667 , 0.95652175],\n",
       "        [0.1911625 , 0.10175223, 0.14297964, ..., 0.21287128,\n",
       "         0.6666667 , 1.        ]],\n",
       "\n",
       "       [[0.30962938, 0.22594528, 0.22936763, ..., 0.21287128,\n",
       "         0.6666667 , 0.9130435 ],\n",
       "        [0.23218246, 0.15308945, 0.16334406, ..., 0.21287128,\n",
       "         0.6666667 , 0.95652175],\n",
       "        [0.1911625 , 0.10175223, 0.14297964, ..., 0.21287128,\n",
       "         0.6666667 , 1.        ],\n",
       "        [0.15806144, 0.08177067, 0.13204716, ..., 0.22029702,\n",
       "         0.6666667 , 0.        ]],\n",
       "\n",
       "       [[0.23218246, 0.15308945, 0.16334406, ..., 0.21287128,\n",
       "         0.6666667 , 0.95652175],\n",
       "        [0.1911625 , 0.10175223, 0.14297964, ..., 0.21287128,\n",
       "         0.6666667 , 1.        ],\n",
       "        [0.15806144, 0.08177067, 0.13204716, ..., 0.22029702,\n",
       "         0.6666667 , 0.        ],\n",
       "        [0.09391828, 0.03719644, 0.0733119 , ..., 0.22029702,\n",
       "         0.6666667 , 0.04347826]],\n",
       "\n",
       "       ...,\n",
       "\n",
       "       [[0.2752613 , 0.1869044 , 0.185209  , ..., 0.31683168,\n",
       "         0.6666667 , 0.9130435 ],\n",
       "        [0.17849223, 0.10728558, 0.11725616, ..., 0.31683168,\n",
       "         0.6666667 , 0.95652175],\n",
       "        [0.13351282, 0.07070397, 0.09753484, ..., 0.31683168,\n",
       "         0.6666667 , 1.        ],\n",
       "        [0.09043396, 0.03996311, 0.06881029, ..., 0.3019802 ,\n",
       "         0.6666667 , 0.        ]],\n",
       "\n",
       "       [[0.17849223, 0.10728558, 0.11725616, ..., 0.31683168,\n",
       "         0.6666667 , 0.95652175],\n",
       "        [0.13351282, 0.07070397, 0.09753484, ..., 0.31683168,\n",
       "         0.6666667 , 1.        ],\n",
       "        [0.09043396, 0.03996311, 0.06881029, ..., 0.3019802 ,\n",
       "         0.6666667 , 0.        ],\n",
       "        [0.04830536, 0.02981863, 0.03129689, ..., 0.3019802 ,\n",
       "         0.6666667 , 0.04347826]],\n",
       "\n",
       "       [[0.13351282, 0.07070397, 0.09753484, ..., 0.31683168,\n",
       "         0.6666667 , 1.        ],\n",
       "        [0.09043396, 0.03996311, 0.06881029, ..., 0.3019802 ,\n",
       "         0.6666667 , 0.        ],\n",
       "        [0.04830536, 0.02981863, 0.03129689, ..., 0.3019802 ,\n",
       "         0.6666667 , 0.04347826],\n",
       "        [0.03500158, 0.01321857, 0.02143623, ..., 0.3019802 ,\n",
       "         0.6666667 , 0.08695652]]], dtype=float32)"
      ]
     },
     "execution_count": 30,
     "metadata": {},
     "output_type": "execute_result"
    }
   ],
   "source": [
    "np.random.seed(23)\n",
    "rand = np.random.randint(0, 3000)\n",
    "rand\n",
    "\n",
    "# rand = randint(0, 30000, ran=1234)\n",
    "# rand\n",
    "X[rand:rand+100]"
   ]
  },
  {
   "cell_type": "code",
   "execution_count": 31,
   "id": "9dda491d",
   "metadata": {},
   "outputs": [
    {
     "name": "stdout",
     "output_type": "stream",
     "text": [
      "4/4 [==============================] - 0s 7ms/step\n"
     ]
    },
    {
     "data": {
      "image/png": "[encoded data removed]",
      "text/plain": [
       "<Figure size 640x480 with 1 Axes>"
      ]
     },
     "metadata": {},
     "output_type": "display_data"
    }
   ],
   "source": [
    "plt.plot(flatten(y[rand:rand+100]), label = \"Actual values\")\n",
    "plt.plot(flatten(model_with_attention.predict(X[rand:rand+100])), label = \"Predicted values\")\n",
    "plt.legend()\n",
    "plt.ylabel('Hourly traffic flow')\n",
    "plt.show()"
   ]
  },
  {
   "cell_type": "code",
   "execution_count": 32,
   "id": "7f389e46",
   "metadata": {},
   "outputs": [],
   "source": [
    "import math\n",
    "\n",
    "def calculate_rmse(actual_values, predicted_values):\n",
    "    \"\"\"\n",
    "    Calculates the Root Mean Square Error (RMSE) given actual and predicted values.\n",
    "    :param actual_values: List of actual observed values.\n",
    "    :param predicted_values: List of predicted values.\n",
    "    :return: RMSE value.\n",
    "    \"\"\"\n",
    "    if len(actual_values) != len(predicted_values):\n",
    "        raise ValueError(\"Lists must have the same length.\")\n",
    "\n",
    "    squared_errors = [(actual - predicted) ** 2 for actual, predicted in zip(actual_values, predicted_values)]\n",
    "    mean_squared_error = sum(squared_errors) / len(actual_values)\n",
    "    rmse = math.sqrt(mean_squared_error)\n",
    "    return rmse\n",
    "\n",
    "\n",
    "RMSE = calculate_rmse(flatten(pred),flatten(y_test))"
   ]
  },
  {
   "cell_type": "code",
   "execution_count": 33,
   "id": "d7165438-ca40-44b0-ada6-d9202c7d8948",
   "metadata": {},
   "outputs": [
    {
     "name": "stdout",
     "output_type": "stream",
     "text": [
      "MAE:  170.40850687257668\n",
      "RMSE:  278.8575631853634\n",
      "Accuracy:  0.8246734397677794\n",
      "confusion matrix:\n",
      "  [[1039  519    5]\n",
      " [ 128 6663  421]\n",
      " [   0  739  821]]\n"
     ]
    }
   ],
   "source": [
    "print(\"MAE: \", MAE)\n",
    "print(\"RMSE: \", RMSE)\n",
    "print(\"Accuracy: \", accuracy_score(ytest2,pred2))\n",
    "\n",
    "print(\"confusion matrix:\\n \", confusion_matrix(ytest2,pred2))"
   ]
  }
 ],
 "metadata": {
  "kernelspec": {
   "display_name": "Python 3 (ipykernel)",
   "language": "python",
   "name": "python3"
  },
  "language_info": {
   "codemirror_mode": {
    "name": "ipython",
    "version": 3
   },
   "file_extension": ".py",
   "mimetype": "text/x-python",
   "name": "python",
   "nbconvert_exporter": "python",
   "pygments_lexer": "ipython3",
   "version": "3.7.16"
  }
 },
 "nbformat": 4,
 "nbformat_minor": 5
}
